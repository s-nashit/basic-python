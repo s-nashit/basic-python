{
 "cells": [
  {
   "cell_type": "code",
   "execution_count": 1,
   "id": "d9eeab5c-4dc9-4504-8826-b8d709561cf7",
   "metadata": {},
   "outputs": [],
   "source": [
    "import joblib\n",
    "import pickle\n",
    "from sklearn import linear_model"
   ]
  },
  {
   "cell_type": "code",
   "execution_count": 2,
   "id": "2b751fec-7500-4f94-bf03-99eaa748f060",
   "metadata": {},
   "outputs": [],
   "source": [
    "mj = joblib.load('m_joblib')"
   ]
  },
  {
   "cell_type": "code",
   "execution_count": 3,
   "id": "76f46664-9d12-4bbc-8b04-d60ca4d7a7bf",
   "metadata": {},
   "outputs": [
    {
     "name": "stderr",
     "output_type": "stream",
     "text": [
      "C:\\Users\\s_nas\\AppData\\Local\\Programs\\Python\\Python311\\Lib\\site-packages\\sklearn\\base.py:465: UserWarning: X does not have valid feature names, but LinearRegression was fitted with feature names\n",
      "  warnings.warn(\n"
     ]
    },
    {
     "data": {
      "text/plain": [
       "array([40244.50079239])"
      ]
     },
     "execution_count": 3,
     "metadata": {},
     "output_type": "execute_result"
    }
   ],
   "source": [
    "mj.predict([[6000,2,15]])"
   ]
  },
  {
   "cell_type": "code",
   "execution_count": 4,
   "id": "b3d1640b-3784-4dbf-8dd6-ec15156bd19c",
   "metadata": {},
   "outputs": [
    {
     "data": {
      "text/plain": [
       "array([   7.3866878 , -634.54833597,   12.89381933])"
      ]
     },
     "execution_count": 4,
     "metadata": {},
     "output_type": "execute_result"
    }
   ],
   "source": [
    "mj.coef_"
   ]
  },
  {
   "cell_type": "code",
   "execution_count": 5,
   "id": "f9ad2a89-ece2-4d75-8471-93a0d26b56c7",
   "metadata": {},
   "outputs": [
    {
     "data": {
      "text/plain": [
       "-2999.936608557843"
      ]
     },
     "execution_count": 5,
     "metadata": {},
     "output_type": "execute_result"
    }
   ],
   "source": [
    "mj.intercept_"
   ]
  },
  {
   "cell_type": "code",
   "execution_count": 6,
   "id": "1f3aabf8-c48b-4013-9460-9837f7569076",
   "metadata": {},
   "outputs": [],
   "source": [
    "with open('m_pickle', 'rb') as a:\n",
    "    mp = pickle.load(a)"
   ]
  },
  {
   "cell_type": "code",
   "execution_count": 7,
   "id": "f42379b7-c57f-44dc-adca-ec62b00af30f",
   "metadata": {},
   "outputs": [
    {
     "data": {
      "text/plain": [
       "array([   7.3866878 , -634.54833597,   12.89381933])"
      ]
     },
     "execution_count": 7,
     "metadata": {},
     "output_type": "execute_result"
    }
   ],
   "source": [
    "mp.coef_"
   ]
  },
  {
   "cell_type": "code",
   "execution_count": 8,
   "id": "7120b593-f554-4647-9a95-9598a2c6ecee",
   "metadata": {},
   "outputs": [
    {
     "data": {
      "text/plain": [
       "-2999.936608557843"
      ]
     },
     "execution_count": 8,
     "metadata": {},
     "output_type": "execute_result"
    }
   ],
   "source": [
    "mp.intercept_"
   ]
  },
  {
   "cell_type": "code",
   "execution_count": 9,
   "id": "9ea9c92c-1c1f-48b6-a5e3-5df3fe3afb81",
   "metadata": {},
   "outputs": [
    {
     "name": "stderr",
     "output_type": "stream",
     "text": [
      "C:\\Users\\s_nas\\AppData\\Local\\Programs\\Python\\Python311\\Lib\\site-packages\\sklearn\\base.py:465: UserWarning: X does not have valid feature names, but LinearRegression was fitted with feature names\n",
      "  warnings.warn(\n"
     ]
    },
    {
     "data": {
      "text/plain": [
       "array([40244.50079239])"
      ]
     },
     "execution_count": 9,
     "metadata": {},
     "output_type": "execute_result"
    }
   ],
   "source": [
    "mp.predict([[6000,2,15]])"
   ]
  },
  {
   "cell_type": "code",
   "execution_count": null,
   "id": "a64ce8c8-51f1-4a9a-8820-e87efe12659f",
   "metadata": {},
   "outputs": [],
   "source": []
  }
 ],
 "metadata": {
  "kernelspec": {
   "display_name": "Python 3 (ipykernel)",
   "language": "python",
   "name": "python3"
  },
  "language_info": {
   "codemirror_mode": {
    "name": "ipython",
    "version": 3
   },
   "file_extension": ".py",
   "mimetype": "text/x-python",
   "name": "python",
   "nbconvert_exporter": "python",
   "pygments_lexer": "ipython3",
   "version": "3.11.5"
  }
 },
 "nbformat": 4,
 "nbformat_minor": 5
}
