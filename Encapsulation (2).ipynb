{
 "cells": [
  {
   "cell_type": "code",
   "execution_count": 22,
   "id": "31fad7ec",
   "metadata": {},
   "outputs": [],
   "source": [
    "class ADIT:\n",
    "    def __init__(self, name, phone, company, salary):\n",
    "        self.name = name\n",
    "        self.phone = phone\n",
    "        self.company = company\n",
    "        self.salary = salary\n",
    "        self.tax = salary*0.14\n",
    "    def increment(self):\n",
    "        self.salary = self.salary*.15 + self.salary\n",
    "        \n",
    "    "
   ]
  },
  {
   "cell_type": "code",
   "execution_count": 23,
   "id": "ad876a1d",
   "metadata": {},
   "outputs": [],
   "source": [
    "Mukesh = ADIT('Mukesh', 9876543210, 'IBM', 25000)"
   ]
  },
  {
   "cell_type": "code",
   "execution_count": 24,
   "id": "813fc4ec",
   "metadata": {},
   "outputs": [],
   "source": [
    "Ranjit = ADIT('Ranjit', 9877654321, 'IBM', 25000)"
   ]
  },
  {
   "cell_type": "code",
   "execution_count": 25,
   "id": "ce6589ce",
   "metadata": {},
   "outputs": [],
   "source": [
    "Ranjit.increment()"
   ]
  },
  {
   "cell_type": "code",
   "execution_count": 27,
   "id": "7d74f3fd",
   "metadata": {},
   "outputs": [
    {
     "data": {
      "text/plain": [
       "28750.0"
      ]
     },
     "execution_count": 27,
     "metadata": {},
     "output_type": "execute_result"
    }
   ],
   "source": [
    "Ranjit.salary"
   ]
  },
  {
   "cell_type": "code",
   "execution_count": null,
   "id": "a6c44a53",
   "metadata": {},
   "outputs": [],
   "source": []
  }
 ],
 "metadata": {
  "kernelspec": {
   "display_name": "Python 3 (ipykernel)",
   "language": "python",
   "name": "python3"
  },
  "language_info": {
   "codemirror_mode": {
    "name": "ipython",
    "version": 3
   },
   "file_extension": ".py",
   "mimetype": "text/x-python",
   "name": "python",
   "nbconvert_exporter": "python",
   "pygments_lexer": "ipython3",
   "version": "3.10.11"
  }
 },
 "nbformat": 4,
 "nbformat_minor": 5
}
