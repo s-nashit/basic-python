{
 "cells": [
  {
   "cell_type": "code",
   "execution_count": 1,
   "id": "1c5155c0",
   "metadata": {},
   "outputs": [],
   "source": [
    "class Students:\n",
    "    pass"
   ]
  },
  {
   "cell_type": "code",
   "execution_count": 2,
   "id": "78af4261",
   "metadata": {},
   "outputs": [],
   "source": [
    "student_1 = Students"
   ]
  },
  {
   "cell_type": "code",
   "execution_count": 3,
   "id": "77ada902",
   "metadata": {},
   "outputs": [],
   "source": [
    "student_2 = Students"
   ]
  },
  {
   "cell_type": "code",
   "execution_count": 4,
   "id": "24ec436f",
   "metadata": {},
   "outputs": [],
   "source": [
    "a_1 = Students"
   ]
  },
  {
   "cell_type": "code",
   "execution_count": 8,
   "id": "15c20acf",
   "metadata": {},
   "outputs": [
    {
     "data": {
      "text/plain": [
       "__main__.Students"
      ]
     },
     "execution_count": 8,
     "metadata": {},
     "output_type": "execute_result"
    }
   ],
   "source": [
    "a_1"
   ]
  },
  {
   "cell_type": "code",
   "execution_count": 6,
   "id": "2a64d5f9",
   "metadata": {},
   "outputs": [
    {
     "name": "stdout",
     "output_type": "stream",
     "text": [
      "<class '__main__.Students'>\n"
     ]
    }
   ],
   "source": [
    "print(student_1)"
   ]
  },
  {
   "cell_type": "code",
   "execution_count": 7,
   "id": "184114f1",
   "metadata": {},
   "outputs": [
    {
     "name": "stdout",
     "output_type": "stream",
     "text": [
      "<class '__main__.Students'>\n"
     ]
    }
   ],
   "source": [
    "print(student_2)"
   ]
  },
  {
   "cell_type": "code",
   "execution_count": null,
   "id": "1d30183c",
   "metadata": {},
   "outputs": [],
   "source": []
  }
 ],
 "metadata": {
  "kernelspec": {
   "display_name": "Python 3 (ipykernel)",
   "language": "python",
   "name": "python3"
  },
  "language_info": {
   "codemirror_mode": {
    "name": "ipython",
    "version": 3
   },
   "file_extension": ".py",
   "mimetype": "text/x-python",
   "name": "python",
   "nbconvert_exporter": "python",
   "pygments_lexer": "ipython3",
   "version": "3.10.11"
  }
 },
 "nbformat": 4,
 "nbformat_minor": 5
}
