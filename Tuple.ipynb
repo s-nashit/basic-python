{
 "cells": [
  {
   "cell_type": "code",
   "execution_count": 1,
   "id": "17fa76f4",
   "metadata": {},
   "outputs": [
    {
     "name": "stdout",
     "output_type": "stream",
     "text": [
      "('hello', 1, 'hello', 5, 3, False)\n"
     ]
    },
    {
     "data": {
      "text/plain": [
       "tuple"
      ]
     },
     "execution_count": 1,
     "metadata": {},
     "output_type": "execute_result"
    }
   ],
   "source": [
    "a = (\"hello\", 1, \"hello\", 5, 3, False)\n",
    "print(a)\n",
    "type(a)"
   ]
  },
  {
   "cell_type": "code",
   "execution_count": 3,
   "id": "8e92de02",
   "metadata": {},
   "outputs": [
    {
     "name": "stdout",
     "output_type": "stream",
     "text": [
      "('hello', 1, 'hello', 5, 3, False)\n"
     ]
    },
    {
     "data": {
      "text/plain": [
       "tuple"
      ]
     },
     "execution_count": 3,
     "metadata": {},
     "output_type": "execute_result"
    }
   ],
   "source": [
    "a = tuple((\"hello\", 1, \"hello\", 5, 3, False))\n",
    "print(a)\n",
    "type(a)"
   ]
  },
  {
   "cell_type": "code",
   "execution_count": 4,
   "id": "62d3c674",
   "metadata": {},
   "outputs": [
    {
     "data": {
      "text/plain": [
       "6"
      ]
     },
     "execution_count": 4,
     "metadata": {},
     "output_type": "execute_result"
    }
   ],
   "source": [
    "len(a)"
   ]
  },
  {
   "cell_type": "code",
   "execution_count": 5,
   "id": "a686710a",
   "metadata": {},
   "outputs": [
    {
     "name": "stdout",
     "output_type": "stream",
     "text": [
      "('hello', 1, 'hello', 5, 3, False, 'hello', 1, 'hello', 5, 3, False)\n"
     ]
    }
   ],
   "source": [
    "print(a+a)"
   ]
  },
  {
   "cell_type": "code",
   "execution_count": 8,
   "id": "979516df",
   "metadata": {},
   "outputs": [
    {
     "name": "stdout",
     "output_type": "stream",
     "text": [
      "('hello', 1, 'hello', 5, 3, False, 'Python', 'India')\n"
     ]
    }
   ],
   "source": [
    "b = (\"Python\", \"India\")\n",
    "print(a+b)"
   ]
  },
  {
   "cell_type": "code",
   "execution_count": 9,
   "id": "318edcd2",
   "metadata": {},
   "outputs": [
    {
     "name": "stdout",
     "output_type": "stream",
     "text": [
      "hello\n"
     ]
    }
   ],
   "source": [
    "print(a[0])"
   ]
  },
  {
   "cell_type": "code",
   "execution_count": 10,
   "id": "56e7b60f",
   "metadata": {},
   "outputs": [
    {
     "name": "stdout",
     "output_type": "stream",
     "text": [
      "1\n",
      "Mango\n",
      "True\n"
     ]
    }
   ],
   "source": [
    "t = (1, \"Mango\", \"India\", True, 5)\n",
    "print(t[0])\n",
    "print(t[1])\n",
    "print(t[3])"
   ]
  },
  {
   "cell_type": "code",
   "execution_count": 11,
   "id": "ab909afb",
   "metadata": {},
   "outputs": [
    {
     "name": "stdout",
     "output_type": "stream",
     "text": [
      "5\n",
      "India\n",
      "Mango\n"
     ]
    }
   ],
   "source": [
    "t = (1, \"Mango\", \"India\", True, 5)\n",
    "print(t[-1])\n",
    "print(t[-3])\n",
    "print(t[-4])"
   ]
  },
  {
   "cell_type": "code",
   "execution_count": 12,
   "id": "d21e11df",
   "metadata": {},
   "outputs": [
    {
     "name": "stdout",
     "output_type": "stream",
     "text": [
      "('India', True, 5)\n"
     ]
    }
   ],
   "source": [
    "t = (1, \"Mango\", \"India\", True, 5)\n",
    "print(t[2:])"
   ]
  },
  {
   "cell_type": "code",
   "execution_count": 15,
   "id": "e4232e7c",
   "metadata": {},
   "outputs": [
    {
     "name": "stdout",
     "output_type": "stream",
     "text": [
      "(1, 'Mango', 'India')\n"
     ]
    }
   ],
   "source": [
    "t = (1, \"Mango\", \"India\", True, 5)\n",
    "print(t[0:3])"
   ]
  },
  {
   "cell_type": "code",
   "execution_count": null,
   "id": "8f33a55e",
   "metadata": {},
   "outputs": [],
   "source": []
  }
 ],
 "metadata": {
  "kernelspec": {
   "display_name": "Python 3",
   "language": "python",
   "name": "python3"
  },
  "language_info": {
   "codemirror_mode": {
    "name": "ipython",
    "version": 3
   },
   "file_extension": ".py",
   "mimetype": "text/x-python",
   "name": "python",
   "nbconvert_exporter": "python",
   "pygments_lexer": "ipython3",
   "version": "3.8.8"
  }
 },
 "nbformat": 4,
 "nbformat_minor": 5
}
