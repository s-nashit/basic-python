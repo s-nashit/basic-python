{
 "cells": [
  {
   "cell_type": "code",
   "execution_count": 15,
   "id": "62c94594",
   "metadata": {},
   "outputs": [
    {
     "ename": "FileExistsError",
     "evalue": "[Errno 17] File exists: 'patna.txt'",
     "output_type": "error",
     "traceback": [
      "\u001b[1;31m---------------------------------------------------------------------------\u001b[0m",
      "\u001b[1;31mFileExistsError\u001b[0m                           Traceback (most recent call last)",
      "Cell \u001b[1;32mIn[15], line 1\u001b[0m\n\u001b[1;32m----> 1\u001b[0m a \u001b[38;5;241m=\u001b[39m \u001b[38;5;28;43mopen\u001b[39;49m\u001b[43m(\u001b[49m\u001b[38;5;124;43m'\u001b[39;49m\u001b[38;5;124;43mpatna.txt\u001b[39;49m\u001b[38;5;124;43m'\u001b[39;49m\u001b[43m,\u001b[49m\u001b[43m \u001b[49m\u001b[38;5;124;43m'\u001b[39;49m\u001b[38;5;124;43mx\u001b[39;49m\u001b[38;5;124;43m'\u001b[39;49m\u001b[43m)\u001b[49m\n",
      "File \u001b[1;32m~\\AppData\\Local\\Programs\\Python\\Python310\\lib\\site-packages\\IPython\\core\\interactiveshell.py:284\u001b[0m, in \u001b[0;36m_modified_open\u001b[1;34m(file, *args, **kwargs)\u001b[0m\n\u001b[0;32m    277\u001b[0m \u001b[38;5;28;01mif\u001b[39;00m file \u001b[38;5;129;01min\u001b[39;00m {\u001b[38;5;241m0\u001b[39m, \u001b[38;5;241m1\u001b[39m, \u001b[38;5;241m2\u001b[39m}:\n\u001b[0;32m    278\u001b[0m     \u001b[38;5;28;01mraise\u001b[39;00m \u001b[38;5;167;01mValueError\u001b[39;00m(\n\u001b[0;32m    279\u001b[0m         \u001b[38;5;124mf\u001b[39m\u001b[38;5;124m\"\u001b[39m\u001b[38;5;124mIPython won\u001b[39m\u001b[38;5;124m'\u001b[39m\u001b[38;5;124mt let you open fd=\u001b[39m\u001b[38;5;132;01m{\u001b[39;00mfile\u001b[38;5;132;01m}\u001b[39;00m\u001b[38;5;124m by default \u001b[39m\u001b[38;5;124m\"\u001b[39m\n\u001b[0;32m    280\u001b[0m         \u001b[38;5;124m\"\u001b[39m\u001b[38;5;124mas it is likely to crash IPython. If you know what you are doing, \u001b[39m\u001b[38;5;124m\"\u001b[39m\n\u001b[0;32m    281\u001b[0m         \u001b[38;5;124m\"\u001b[39m\u001b[38;5;124myou can use builtins\u001b[39m\u001b[38;5;124m'\u001b[39m\u001b[38;5;124m open.\u001b[39m\u001b[38;5;124m\"\u001b[39m\n\u001b[0;32m    282\u001b[0m     )\n\u001b[1;32m--> 284\u001b[0m \u001b[38;5;28;01mreturn\u001b[39;00m io_open(file, \u001b[38;5;241m*\u001b[39margs, \u001b[38;5;241m*\u001b[39m\u001b[38;5;241m*\u001b[39mkwargs)\n",
      "\u001b[1;31mFileExistsError\u001b[0m: [Errno 17] File exists: 'patna.txt'"
     ]
    }
   ],
   "source": [
    "a = open('patna.txt', 'x')"
   ]
  },
  {
   "cell_type": "code",
   "execution_count": 2,
   "id": "eda1e896",
   "metadata": {},
   "outputs": [],
   "source": [
    "b = open('nashit.pptx', 'x')"
   ]
  },
  {
   "cell_type": "code",
   "execution_count": 3,
   "id": "160bacba",
   "metadata": {},
   "outputs": [],
   "source": [
    "c = open('mukesh.pdf', 'x')"
   ]
  },
  {
   "cell_type": "code",
   "execution_count": 4,
   "id": "feda5628",
   "metadata": {},
   "outputs": [],
   "source": [
    "b.close()"
   ]
  },
  {
   "cell_type": "code",
   "execution_count": 5,
   "id": "e78c089f",
   "metadata": {},
   "outputs": [],
   "source": [
    "a.close()"
   ]
  },
  {
   "cell_type": "markdown",
   "id": "afb301eb",
   "metadata": {},
   "source": [
    "x - create;\n",
    "r - read;\n",
    "w - write;\n",
    "a - append"
   ]
  },
  {
   "cell_type": "code",
   "execution_count": 7,
   "id": "bf4650fd",
   "metadata": {},
   "outputs": [],
   "source": [
    "d = open('patna.txt', 'r')"
   ]
  },
  {
   "cell_type": "code",
   "execution_count": 8,
   "id": "50ac7c14",
   "metadata": {},
   "outputs": [],
   "source": [
    "d.close()"
   ]
  },
  {
   "cell_type": "code",
   "execution_count": 13,
   "id": "1dd9f472",
   "metadata": {},
   "outputs": [],
   "source": [
    "e = open('patna.txt', 'w')"
   ]
  },
  {
   "cell_type": "code",
   "execution_count": 16,
   "id": "7232af11",
   "metadata": {},
   "outputs": [],
   "source": [
    "e.close()"
   ]
  },
  {
   "cell_type": "code",
   "execution_count": 17,
   "id": "52e7935b",
   "metadata": {},
   "outputs": [],
   "source": [
    "c.close()"
   ]
  },
  {
   "cell_type": "code",
   "execution_count": 18,
   "id": "963c6fa4",
   "metadata": {},
   "outputs": [],
   "source": [
    "a = open('shivam.txt', 'x')"
   ]
  },
  {
   "cell_type": "code",
   "execution_count": 19,
   "id": "096cdefa",
   "metadata": {},
   "outputs": [
    {
     "ename": "FileExistsError",
     "evalue": "[Errno 17] File exists: 'shivam.txt'",
     "output_type": "error",
     "traceback": [
      "\u001b[1;31m---------------------------------------------------------------------------\u001b[0m",
      "\u001b[1;31mFileExistsError\u001b[0m                           Traceback (most recent call last)",
      "Cell \u001b[1;32mIn[19], line 1\u001b[0m\n\u001b[1;32m----> 1\u001b[0m b \u001b[38;5;241m=\u001b[39m \u001b[38;5;28;43mopen\u001b[39;49m\u001b[43m(\u001b[49m\u001b[38;5;124;43m'\u001b[39;49m\u001b[38;5;124;43mshivam.txt\u001b[39;49m\u001b[38;5;124;43m'\u001b[39;49m\u001b[43m,\u001b[49m\u001b[43m \u001b[49m\u001b[38;5;124;43m'\u001b[39;49m\u001b[38;5;124;43mx\u001b[39;49m\u001b[38;5;124;43m'\u001b[39;49m\u001b[43m)\u001b[49m\n",
      "File \u001b[1;32m~\\AppData\\Local\\Programs\\Python\\Python310\\lib\\site-packages\\IPython\\core\\interactiveshell.py:284\u001b[0m, in \u001b[0;36m_modified_open\u001b[1;34m(file, *args, **kwargs)\u001b[0m\n\u001b[0;32m    277\u001b[0m \u001b[38;5;28;01mif\u001b[39;00m file \u001b[38;5;129;01min\u001b[39;00m {\u001b[38;5;241m0\u001b[39m, \u001b[38;5;241m1\u001b[39m, \u001b[38;5;241m2\u001b[39m}:\n\u001b[0;32m    278\u001b[0m     \u001b[38;5;28;01mraise\u001b[39;00m \u001b[38;5;167;01mValueError\u001b[39;00m(\n\u001b[0;32m    279\u001b[0m         \u001b[38;5;124mf\u001b[39m\u001b[38;5;124m\"\u001b[39m\u001b[38;5;124mIPython won\u001b[39m\u001b[38;5;124m'\u001b[39m\u001b[38;5;124mt let you open fd=\u001b[39m\u001b[38;5;132;01m{\u001b[39;00mfile\u001b[38;5;132;01m}\u001b[39;00m\u001b[38;5;124m by default \u001b[39m\u001b[38;5;124m\"\u001b[39m\n\u001b[0;32m    280\u001b[0m         \u001b[38;5;124m\"\u001b[39m\u001b[38;5;124mas it is likely to crash IPython. If you know what you are doing, \u001b[39m\u001b[38;5;124m\"\u001b[39m\n\u001b[0;32m    281\u001b[0m         \u001b[38;5;124m\"\u001b[39m\u001b[38;5;124myou can use builtins\u001b[39m\u001b[38;5;124m'\u001b[39m\u001b[38;5;124m open.\u001b[39m\u001b[38;5;124m\"\u001b[39m\n\u001b[0;32m    282\u001b[0m     )\n\u001b[1;32m--> 284\u001b[0m \u001b[38;5;28;01mreturn\u001b[39;00m io_open(file, \u001b[38;5;241m*\u001b[39margs, \u001b[38;5;241m*\u001b[39m\u001b[38;5;241m*\u001b[39mkwargs)\n",
      "\u001b[1;31mFileExistsError\u001b[0m: [Errno 17] File exists: 'shivam.txt'"
     ]
    }
   ],
   "source": [
    "b = open('shivam.txt', 'x')"
   ]
  },
  {
   "cell_type": "code",
   "execution_count": 20,
   "id": "9fd50991",
   "metadata": {},
   "outputs": [],
   "source": [
    "a.close()"
   ]
  },
  {
   "cell_type": "code",
   "execution_count": 21,
   "id": "2e7063c2",
   "metadata": {},
   "outputs": [],
   "source": [
    "c = open('shivam.txt', 'w')"
   ]
  },
  {
   "cell_type": "code",
   "execution_count": 22,
   "id": "5e6188a8",
   "metadata": {},
   "outputs": [
    {
     "data": {
      "text/plain": [
       "39"
      ]
     },
     "execution_count": 22,
     "metadata": {},
     "output_type": "execute_result"
    }
   ],
   "source": [
    "c.write('Thiiiissss issss Mukesh reporting Sir!!')"
   ]
  },
  {
   "cell_type": "code",
   "execution_count": 23,
   "id": "ffb78b4a",
   "metadata": {},
   "outputs": [],
   "source": [
    "c.close()"
   ]
  },
  {
   "cell_type": "code",
   "execution_count": 25,
   "id": "4ec0a518",
   "metadata": {},
   "outputs": [
    {
     "data": {
      "text/plain": [
       "'Thiiiissss issss Mukesh reporting Sir!!'"
      ]
     },
     "execution_count": 25,
     "metadata": {},
     "output_type": "execute_result"
    }
   ],
   "source": [
    "d = open('shivam.txt', 'r')\n",
    "d.read()"
   ]
  },
  {
   "cell_type": "code",
   "execution_count": 26,
   "id": "d648403c",
   "metadata": {},
   "outputs": [],
   "source": [
    "d.close()"
   ]
  },
  {
   "cell_type": "code",
   "execution_count": 27,
   "id": "cf2686a6",
   "metadata": {},
   "outputs": [
    {
     "data": {
      "text/plain": [
       "20"
      ]
     },
     "execution_count": 27,
     "metadata": {},
     "output_type": "execute_result"
    }
   ],
   "source": [
    "e = open('shivam.txt', 'w')\n",
    "e.write('thisss is nashiiiit.')"
   ]
  },
  {
   "cell_type": "code",
   "execution_count": 28,
   "id": "5387f064",
   "metadata": {},
   "outputs": [],
   "source": [
    "e.close()"
   ]
  },
  {
   "cell_type": "code",
   "execution_count": 29,
   "id": "47eb4425",
   "metadata": {},
   "outputs": [
    {
     "data": {
      "text/plain": [
       "'thisss is nashiiiit.'"
      ]
     },
     "execution_count": 29,
     "metadata": {},
     "output_type": "execute_result"
    }
   ],
   "source": [
    "f = open('shivam.txt', 'r')\n",
    "f.read()"
   ]
  },
  {
   "cell_type": "code",
   "execution_count": 30,
   "id": "d824fcb5",
   "metadata": {},
   "outputs": [],
   "source": [
    "f.close()"
   ]
  },
  {
   "cell_type": "code",
   "execution_count": 32,
   "id": "e2349bc2",
   "metadata": {},
   "outputs": [
    {
     "data": {
      "text/plain": [
       "21"
      ]
     },
     "execution_count": 32,
     "metadata": {},
     "output_type": "execute_result"
    }
   ],
   "source": [
    "g = open('shivam.txt', 'a')\n",
    "g.write('hello from mmmmumbai!')"
   ]
  },
  {
   "cell_type": "code",
   "execution_count": 33,
   "id": "9e1182e5",
   "metadata": {},
   "outputs": [],
   "source": [
    "g.close()"
   ]
  },
  {
   "cell_type": "code",
   "execution_count": 34,
   "id": "e26beb66",
   "metadata": {},
   "outputs": [
    {
     "data": {
      "text/plain": [
       "'thisss is nashiiiit.hello from mmmmumbai!'"
      ]
     },
     "execution_count": 34,
     "metadata": {},
     "output_type": "execute_result"
    }
   ],
   "source": [
    "h = open('shivam.txt', 'r')\n",
    "h.read()"
   ]
  },
  {
   "cell_type": "code",
   "execution_count": 39,
   "id": "147b2671",
   "metadata": {},
   "outputs": [],
   "source": [
    "h.close()"
   ]
  },
  {
   "cell_type": "code",
   "execution_count": 41,
   "id": "7c7f5cb2",
   "metadata": {},
   "outputs": [
    {
     "data": {
      "text/plain": [
       "'this'"
      ]
     },
     "execution_count": 41,
     "metadata": {},
     "output_type": "execute_result"
    }
   ],
   "source": [
    "i = open('shivam.txt', 'r')\n",
    "i.read(4)"
   ]
  },
  {
   "cell_type": "code",
   "execution_count": 42,
   "id": "cbb2373f",
   "metadata": {},
   "outputs": [],
   "source": [
    "i.close()"
   ]
  },
  {
   "cell_type": "code",
   "execution_count": 45,
   "id": "572c6192",
   "metadata": {},
   "outputs": [
    {
     "name": "stdout",
     "output_type": "stream",
     "text": [
      "Collecting os-sysNote: you may need to restart the kernel to use updated packages.\n",
      "\n",
      "  Using cached os_sys-2.1.4-py3-none-any.whl (15.6 MB)\n",
      "Collecting pygubu (from os-sys)\n",
      "  Using cached pygubu-0.31-py3-none-any.whl (118 kB)\n",
      "Requirement already satisfied: pytz in c:\\users\\s_nas\\appdata\\roaming\\python\\python310\\site-packages (from os-sys) (2023.3)\n",
      "Collecting sqlparse (from os-sys)\n",
      "  Using cached sqlparse-0.4.4-py3-none-any.whl (41 kB)\n",
      "Collecting progress (from os-sys)\n",
      "  Using cached progress-1.6.tar.gz (7.8 kB)\n",
      "  Installing build dependencies: started\n",
      "  Installing build dependencies: finished with status 'done'\n",
      "  Getting requirements to build wheel: started\n",
      "  Getting requirements to build wheel: finished with status 'done'\n",
      "  Preparing metadata (pyproject.toml): started\n",
      "  Preparing metadata (pyproject.toml): finished with status 'done'\n",
      "Requirement already satisfied: tqdm in c:\\users\\s_nas\\appdata\\local\\programs\\python\\python310\\lib\\site-packages (from os-sys) (4.65.0)\n",
      "Collecting progressbar (from os-sys)\n",
      "  Using cached progressbar-2.5.tar.gz (10 kB)\n",
      "  Installing build dependencies: started\n",
      "  Installing build dependencies: finished with status 'done'\n",
      "  Getting requirements to build wheel: started\n",
      "  Getting requirements to build wheel: finished with status 'done'\n",
      "  Preparing metadata (pyproject.toml): started\n",
      "  Preparing metadata (pyproject.toml): finished with status 'done'\n",
      "Collecting matplotlib (from os-sys)\n",
      "  Using cached matplotlib-3.7.2-cp310-cp310-win_amd64.whl (7.5 MB)\n",
      "Requirement already satisfied: numpy in c:\\users\\s_nas\\appdata\\local\\programs\\python\\python310\\lib\\site-packages (from os-sys) (1.25.1)\n",
      "Requirement already satisfied: six in c:\\users\\s_nas\\appdata\\local\\programs\\python\\python310\\lib\\site-packages (from os-sys) (1.16.0)\n",
      "Requirement already satisfied: jupyter in c:\\users\\s_nas\\appdata\\local\\programs\\python\\python310\\lib\\site-packages (from os-sys) (1.0.0)\n",
      "Requirement already satisfied: pandas in c:\\users\\s_nas\\appdata\\local\\programs\\python\\python310\\lib\\site-packages (from os-sys) (2.0.3)\n",
      "Requirement already satisfied: beautifulsoup4 in c:\\users\\s_nas\\appdata\\local\\programs\\python\\python310\\lib\\site-packages (from os-sys) (4.12.2)\n",
      "Collecting Eel (from os-sys)\n",
      "  Using cached Eel-0.16.0.tar.gz (24 kB)\n",
      "  Installing build dependencies: started\n",
      "  Installing build dependencies: finished with status 'done'\n",
      "  Getting requirements to build wheel: started\n",
      "  Getting requirements to build wheel: finished with status 'done'\n",
      "  Preparing metadata (pyproject.toml): started\n",
      "  Preparing metadata (pyproject.toml): finished with status 'done'\n",
      "Collecting extract-zip (from os-sys)\n",
      "  Using cached extract_zip-1.0.0-py3-none-any.whl (2.6 kB)\n",
      "INFO: pip is looking at multiple versions of os-sys to determine which version is compatible with other requirements. This could take a while.\n",
      "Collecting os-sys\n",
      "  Using cached os_sys-2.1.3-py3-none-any.whl (15.5 MB)\n",
      "  Using cached os_sys-2.1.2-py3-none-any.whl (15.4 MB)\n",
      "  Using cached os_sys-2.1.1-py3-none-any.whl (15.4 MB)\n",
      "  Using cached os_sys-2.1.0-py3-none-any.whl (15.9 MB)\n",
      "  Using cached os_sys-2.0.9-py3-none-any.whl (15.4 MB)\n",
      "  Using cached os_sys-2.0.8-py3-none-any.whl (15.4 MB)\n",
      "  Using cached os_sys-2.0.7-py3-none-any.whl (14.2 MB)\n",
      "INFO: pip is looking at multiple versions of os-sys to determine which version is compatible with other requirements. This could take a while.\n",
      "  Using cached os_sys-2.0.6-py3-none-any.whl (14.2 MB)\n",
      "  Using cached os_sys-2.0.5-py3-none-any.whl (12.2 MB)\n",
      "  Using cached os_sys-2.0.4-py3-none-any.whl (50.9 MB)\n",
      "Collecting webview (from os-sys)\n",
      "  Using cached webview-0.1.5.tar.gz (18 kB)\n",
      "  Installing build dependencies: started\n",
      "  Installing build dependencies: finished with status 'done'\n",
      "  Getting requirements to build wheel: started\n",
      "  Getting requirements to build wheel: finished with status 'done'\n",
      "  Preparing metadata (pyproject.toml): started\n",
      "  Preparing metadata (pyproject.toml): finished with status 'done'\n",
      "Collecting os-sys\n",
      "  Using cached os_sys-2.0.3-py3-none-any.whl (51.8 MB)\n",
      "  Using cached os_sys-2.0.2-py3-none-any.whl (54.1 MB)\n",
      "INFO: This is taking longer than usual. You might need to provide the dependency resolver with stricter constraints to reduce runtime. See https://pip.pypa.io/warnings/backtracking for guidance. If you want to abort this run, press Ctrl + C.\n",
      "  Using cached os_sys-2.0.1-py3-none-any.whl (54.1 MB)\n",
      "  Using cached os_sys-2.0.0-py3-none-any.whl (54.1 MB)\n",
      "  Using cached os_sys-1.9.9-py3-none-any.whl (54.1 MB)\n",
      "  Using cached os_sys-1.9.8-py3-none-any.whl (54.1 MB)\n",
      "  Using cached os_sys-1.9.7-py3-none-any.whl (54.1 MB)\n",
      "  Using cached os_sys-1.9.6-py3-none-any.whl (54.1 MB)\n",
      "  Using cached os_sys-1.9.5-py3-none-any.whl (54.1 MB)\n",
      "  Using cached os_sys-1.9.4-py3-none-any.whl (54.1 MB)\n",
      "  Using cached os_sys-1.9.3-py3-none-any.whl (60.4 MB)\n"
     ]
    },
    {
     "name": "stderr",
     "output_type": "stream",
     "text": [
      "ERROR: os-sys has an invalid wheel, os-sys has an invalid wheel, could not read 'os_sys-1.9.3.dist-info/WHEEL' file: KeyError(\"There is no item named 'os_sys-1.9.3.dist-info/WHEEL' in the archive\")\n"
     ]
    }
   ],
   "source": [
    "pip install os-sys"
   ]
  },
  {
   "cell_type": "code",
   "execution_count": 46,
   "id": "1f2d63c4",
   "metadata": {},
   "outputs": [
    {
     "ename": "PermissionError",
     "evalue": "[WinError 32] The process cannot access the file because it is being used by another process: 'shivam.txt'",
     "output_type": "error",
     "traceback": [
      "\u001b[1;31m---------------------------------------------------------------------------\u001b[0m",
      "\u001b[1;31mPermissionError\u001b[0m                           Traceback (most recent call last)",
      "Cell \u001b[1;32mIn[46], line 2\u001b[0m\n\u001b[0;32m      1\u001b[0m \u001b[38;5;28;01mimport\u001b[39;00m \u001b[38;5;21;01mos\u001b[39;00m\n\u001b[1;32m----> 2\u001b[0m \u001b[43mos\u001b[49m\u001b[38;5;241;43m.\u001b[39;49m\u001b[43mremove\u001b[49m\u001b[43m(\u001b[49m\u001b[38;5;124;43m'\u001b[39;49m\u001b[38;5;124;43mshivam.txt\u001b[39;49m\u001b[38;5;124;43m'\u001b[39;49m\u001b[43m)\u001b[49m\n",
      "\u001b[1;31mPermissionError\u001b[0m: [WinError 32] The process cannot access the file because it is being used by another process: 'shivam.txt'"
     ]
    }
   ],
   "source": [
    "import os\n",
    "os.remove('shivam.txt')"
   ]
  },
  {
   "cell_type": "code",
   "execution_count": 47,
   "id": "8ea2a582",
   "metadata": {},
   "outputs": [],
   "source": [
    "import os\n",
    "os.mkdir('py')"
   ]
  },
  {
   "cell_type": "code",
   "execution_count": 48,
   "id": "a8f3afe5",
   "metadata": {},
   "outputs": [],
   "source": [
    "os.mkdir('shamshad')"
   ]
  },
  {
   "cell_type": "code",
   "execution_count": 49,
   "id": "881885db",
   "metadata": {},
   "outputs": [],
   "source": [
    "os.rmdir('py')"
   ]
  },
  {
   "cell_type": "code",
   "execution_count": 50,
   "id": "d3742d94",
   "metadata": {},
   "outputs": [],
   "source": [
    "os.remove('pratibha.txt')"
   ]
  },
  {
   "cell_type": "code",
   "execution_count": 51,
   "id": "b5b08f7b",
   "metadata": {},
   "outputs": [],
   "source": [
    "j = open('shivam.txt', 'a')"
   ]
  },
  {
   "cell_type": "code",
   "execution_count": 52,
   "id": "5f6cb35b",
   "metadata": {},
   "outputs": [
    {
     "data": {
      "text/plain": [
       "8"
      ]
     },
     "execution_count": 52,
     "metadata": {},
     "output_type": "execute_result"
    }
   ],
   "source": [
    "j.write('MuKeShhg')"
   ]
  },
  {
   "cell_type": "code",
   "execution_count": 53,
   "id": "44195a4e",
   "metadata": {},
   "outputs": [],
   "source": [
    "j.close()"
   ]
  },
  {
   "cell_type": "code",
   "execution_count": 54,
   "id": "d10b446d",
   "metadata": {},
   "outputs": [],
   "source": [
    "k = open('shivam.txt', 'w')\n",
    "k.write('RaNjIt')\n",
    "k.close()"
   ]
  },
  {
   "cell_type": "code",
   "execution_count": 55,
   "id": "efeaa0ba",
   "metadata": {},
   "outputs": [],
   "source": [
    "os.mkdir('anjali')"
   ]
  },
  {
   "cell_type": "code",
   "execution_count": 57,
   "id": "5cb9d0e2",
   "metadata": {},
   "outputs": [
    {
     "ename": "FileNotFoundError",
     "evalue": "[WinError 2] The system cannot find the file specified: 'anjali'",
     "output_type": "error",
     "traceback": [
      "\u001b[1;31m---------------------------------------------------------------------------\u001b[0m",
      "\u001b[1;31mFileNotFoundError\u001b[0m                         Traceback (most recent call last)",
      "Cell \u001b[1;32mIn[57], line 1\u001b[0m\n\u001b[1;32m----> 1\u001b[0m \u001b[43mos\u001b[49m\u001b[38;5;241;43m.\u001b[39;49m\u001b[43mrmdir\u001b[49m\u001b[43m(\u001b[49m\u001b[38;5;124;43m'\u001b[39;49m\u001b[38;5;124;43manjali\u001b[39;49m\u001b[38;5;124;43m'\u001b[39;49m\u001b[43m)\u001b[49m\n",
      "\u001b[1;31mFileNotFoundError\u001b[0m: [WinError 2] The system cannot find the file specified: 'anjali'"
     ]
    }
   ],
   "source": [
    "os.rmdir('anjali')"
   ]
  },
  {
   "cell_type": "code",
   "execution_count": null,
   "id": "92d001b0",
   "metadata": {},
   "outputs": [],
   "source": []
  }
 ],
 "metadata": {
  "kernelspec": {
   "display_name": "Python 3 (ipykernel)",
   "language": "python",
   "name": "python3"
  },
  "language_info": {
   "codemirror_mode": {
    "name": "ipython",
    "version": 3
   },
   "file_extension": ".py",
   "mimetype": "text/x-python",
   "name": "python",
   "nbconvert_exporter": "python",
   "pygments_lexer": "ipython3",
   "version": "3.10.11"
  }
 },
 "nbformat": 4,
 "nbformat_minor": 5
}
