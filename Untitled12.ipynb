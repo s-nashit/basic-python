{
 "cells": [
  {
   "cell_type": "code",
   "execution_count": 1,
   "id": "6f4c2089",
   "metadata": {},
   "outputs": [
    {
     "name": "stdout",
     "output_type": "stream",
     "text": [
      "no. of rows: 2\n",
      "no. of columns: 2\n",
      "element of matrix: \n",
      "3\n",
      "3\n",
      "3\n",
      "3\n",
      "3\n",
      "3\n",
      "\n",
      "3\n",
      "3\n",
      "\n"
     ]
    }
   ],
   "source": [
    "r = int(input(\"no. of rows: \"))\n",
    "c = int(input(\"no. of columns: \"))\n",
    "\n",
    "matrix = []\n",
    "print(\"element of matrix: \")\n",
    "for i in range(r):\n",
    "    a=[]\n",
    "    for j in range(c):\n",
    "        a.append(int(input()))\n",
    "    matrix.append(a)\n",
    "        \n",
    "for i in range(r):\n",
    "    for j in range(c):\n",
    "        print(matrix[i][j])\n",
    "        \n",
    "    print()"
   ]
  },
  {
   "cell_type": "code",
   "execution_count": 3,
   "id": "ecdec0f5",
   "metadata": {},
   "outputs": [
    {
     "name": "stdout",
     "output_type": "stream",
     "text": [
      "no. of rows: 3\n",
      "no. of columns: 3\n",
      "element of matrix: \n",
      "2 3 4 5 6 7 1 4 6\n",
      "[[2 3 4]\n",
      " [5 6 7]\n",
      " [1 4 6]]\n"
     ]
    }
   ],
   "source": [
    "import numpy as np\n",
    "\n",
    "r = int(input(\"no. of rows: \"))\n",
    "c = int(input(\"no. of columns: \"))\n",
    "\n",
    "print(\"element of matrix: \")\n",
    "\n",
    "enteries = list(map(int, input().split()))\n",
    "matrix = np.array(enteries).reshape(r, c)\n",
    "\n",
    "print(matrix)"
   ]
  },
  {
   "cell_type": "code",
   "execution_count": 15,
   "id": "2d895c0f",
   "metadata": {},
   "outputs": [
    {
     "name": "stdout",
     "output_type": "stream",
     "text": [
      "[[ 5 11  4]\n",
      " [ 6  9 10]\n",
      " [ 3  6 10]]\n",
      "[[38 62 50]\n",
      " [32 53 56]\n",
      " [19 31 25]]\n",
      "[[-1 -3  8]\n",
      " [-4 -3  4]\n",
      " [-1 -2 -4]]\n"
     ]
    }
   ],
   "source": [
    "import numpy as np\n",
    "\n",
    "m1 = np.array([[2,4,6], [1, 3, 7], [1,2,3]])\n",
    "m2 = np.array([[3, 7, -2], [5, 6, 3],[2,4,7]])\n",
    "\n",
    "add = m1+m2\n",
    "print(add)\n",
    "\n",
    "print(m1.dot(m2))\n",
    "\n",
    "print(m1-m2)"
   ]
  },
  {
   "cell_type": "code",
   "execution_count": 9,
   "id": "b0bbd730",
   "metadata": {},
   "outputs": [
    {
     "name": "stdout",
     "output_type": "stream",
     "text": [
      "[[ 2  5  8]\n",
      " [ 6  1  2]\n",
      " [-5  7  3]]\n",
      "[[ 2  6 -5]\n",
      " [ 5  1  7]\n",
      " [ 8  2  3]]\n"
     ]
    }
   ],
   "source": [
    "import numpy as np\n",
    "\n",
    "m1 = np.array([[2,5,8], [6,1,2], [-5,7,3]])\n",
    "\n",
    "print(m1)\n",
    "m2 = m1.transpose()\n",
    "\n",
    "print(m2)"
   ]
  },
  {
   "cell_type": "code",
   "execution_count": 65,
   "id": "87fcc7e1",
   "metadata": {},
   "outputs": [
    {
     "name": "stdout",
     "output_type": "stream",
     "text": [
      "2\n"
     ]
    }
   ],
   "source": [
    "import numpy\n",
    "import random\n",
    "\n",
    "print(random.randrange(2, 8, 6))  #start, stop, step"
   ]
  },
  {
   "cell_type": "code",
   "execution_count": 66,
   "id": "8b618923",
   "metadata": {},
   "outputs": [
    {
     "name": "stdout",
     "output_type": "stream",
     "text": [
      "[3 3 4 4 3 2 3 4 3]\n"
     ]
    }
   ],
   "source": [
    "from numpy import random\n",
    "print(random.randint(2,5,9))  #start, stop, no of elements"
   ]
  },
  {
   "cell_type": "code",
   "execution_count": 67,
   "id": "c3a387c3",
   "metadata": {},
   "outputs": [
    {
     "name": "stdout",
     "output_type": "stream",
     "text": [
      "[0.72870291 0.83500152 0.32142815 0.95870048 0.36748465]\n"
     ]
    }
   ],
   "source": [
    "from numpy import random\n",
    "print(random.rand(5))  # 0<element value>1, number of elements"
   ]
  },
  {
   "cell_type": "code",
   "execution_count": 71,
   "id": "6a41dc48",
   "metadata": {},
   "outputs": [
    {
     "name": "stdout",
     "output_type": "stream",
     "text": [
      "[[9 4 7]\n",
      " [0 6 8]\n",
      " [1 6 7]]\n"
     ]
    }
   ],
   "source": [
    "from numpy import random\n",
    "print(random.randint(10, size=(3, 3)))  #array with the size defined"
   ]
  },
  {
   "cell_type": "code",
   "execution_count": 87,
   "id": "7ddbc050",
   "metadata": {},
   "outputs": [
    {
     "name": "stdout",
     "output_type": "stream",
     "text": [
      "[[5 1 1 2 2 4 4 2 5 1]\n",
      " [2 5 2 4 2 5 1 1 5 2]\n",
      " [5 5 4 2 2 4 2 2 4 5]\n",
      " [5 4 1 1 2 5 4 2 4 4]\n",
      " [5 4 1 4 4 1 2 5 2 4]\n",
      " [2 1 4 4 5 1 5 4 1 4]\n",
      " [1 4 2 2 1 1 5 4 1 4]\n",
      " [1 5 5 5 4 4 1 4 2 4]\n",
      " [1 1 5 2 2 4 2 4 2 5]\n",
      " [2 1 1 1 5 4 4 5 5 5]]\n"
     ]
    }
   ],
   "source": [
    "from numpy import random\n",
    "print(random.choice([2, 4, 1, 5], size=(10,10)))   #5, 4, 1, 2\n",
    "\n",
    "# 4 elements - 100 elements - 25 times each value should repeat\n",
    "#Data distribution, random distribution, normal/binomial distribution - poisson's formula - uniform/logistic "
   ]
  },
  {
   "cell_type": "code",
   "execution_count": null,
   "id": "ee11b405",
   "metadata": {},
   "outputs": [],
   "source": [
    "sine wave/formula - cosine wave/cosine formula"
   ]
  }
 ],
 "metadata": {
  "kernelspec": {
   "display_name": "Python 3 (ipykernel)",
   "language": "python",
   "name": "python3"
  },
  "language_info": {
   "codemirror_mode": {
    "name": "ipython",
    "version": 3
   },
   "file_extension": ".py",
   "mimetype": "text/x-python",
   "name": "python",
   "nbconvert_exporter": "python",
   "pygments_lexer": "ipython3",
   "version": "3.9.5"
  }
 },
 "nbformat": 4,
 "nbformat_minor": 5
}
