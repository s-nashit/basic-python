{
 "cells": [
  {
   "cell_type": "code",
   "execution_count": 1,
   "id": "800d1aa6",
   "metadata": {},
   "outputs": [],
   "source": [
    "import pymongo\n",
    "\n",
    "myclient = pymongo.MongoClient(\"mongodb://localhost:27017/\")\n",
    "mydb = myclient[\"mydatabase\"]\n",
    "mycol = mydb[\"customers\"]\n",
    "\n",
    "mydict = { \"name\": \"John\", \"address\": \"Highway 37\" }\n",
    "\n",
    "x = mycol.insert_one(mydict)"
   ]
  },
  {
   "cell_type": "code",
   "execution_count": 2,
   "id": "aa38a50f",
   "metadata": {},
   "outputs": [],
   "source": [
    "import pymongo"
   ]
  },
  {
   "cell_type": "code",
   "execution_count": 4,
   "id": "4142c013",
   "metadata": {},
   "outputs": [],
   "source": [
    "conn = pymongo.MongoClient('mongodb://localhost:27017/')"
   ]
  },
  {
   "cell_type": "code",
   "execution_count": 5,
   "id": "2964cc4c",
   "metadata": {},
   "outputs": [],
   "source": [
    "dbs = conn['ibm']\n",
    "coll = dbs['adit']"
   ]
  },
  {
   "cell_type": "code",
   "execution_count": 7,
   "id": "c0b9a1e1",
   "metadata": {},
   "outputs": [],
   "source": [
    "doc = coll.insert_one({'name':'Nashit'})"
   ]
  },
  {
   "cell_type": "code",
   "execution_count": 8,
   "id": "022e2b8b",
   "metadata": {},
   "outputs": [
    {
     "name": "stdout",
     "output_type": "stream",
     "text": [
      "<pymongo.results.InsertOneResult object at 0x0000025875DA6F80>\n"
     ]
    }
   ],
   "source": [
    "print(doc)"
   ]
  },
  {
   "cell_type": "code",
   "execution_count": 16,
   "id": "255155a3",
   "metadata": {},
   "outputs": [
    {
     "name": "stdout",
     "output_type": "stream",
     "text": [
      "64b259525d12dde399171736\n"
     ]
    }
   ],
   "source": [
    "print(doc.inserted_id)"
   ]
  },
  {
   "cell_type": "code",
   "execution_count": 18,
   "id": "24fbeb53",
   "metadata": {},
   "outputs": [],
   "source": [
    "doc1 = coll.insert_many([{'name':'ANil', 'phone':8797514075}, {'name':'Damodar', 'phone':51548}])"
   ]
  },
  {
   "cell_type": "code",
   "execution_count": 19,
   "id": "f7491d9c",
   "metadata": {},
   "outputs": [],
   "source": [
    "doc1 = coll.insert_many([{'_id':2,'name':'ANil', 'phone':8797514075}, {'name':'Damodar', 'phone':51548}])"
   ]
  },
  {
   "cell_type": "code",
   "execution_count": 1,
   "id": "ce389e44",
   "metadata": {},
   "outputs": [],
   "source": [
    "import csv"
   ]
  },
  {
   "cell_type": "code",
   "execution_count": null,
   "id": "5bd44a7b",
   "metadata": {},
   "outputs": [],
   "source": [
    "import csv\n",
    "import pymongo\n",
    "import pandas as pd\n",
    "df = pd.read_excel(\"T1.xls\")\n",
    "read_file.to_csv(\"Test.csv\",\n",
    "                  index=None,\n",
    "                  header=True)\n",
    "df = pd.DataFrame(pd.read_csv(\"Test.csv\"))\n",
    "\n",
    "connection = pymongo.MongoClient('127.0.0.1:27017')\n",
    "db = connection.test\n",
    "collection = db.table1\n",
    "table = open('Test.csv', 'r')\n",
    "reader = csv.DictReader(table)\n",
    "collection.drop()\n",
    "header = df.head()\n",
    "\n",
    "for each in reader:\n",
    "    row = {}\n",
    "    for field in header:\n",
    "        row[field] = each[field]\n",
    "    collection.insert_one(row)"
   ]
  },
  {
   "cell_type": "code",
   "execution_count": 2,
   "id": "9d2f34fe",
   "metadata": {},
   "outputs": [],
   "source": [
    "import csv\n",
    "from pymongo import MongoClient\n",
    "\n",
    "# Establish a connection to MongoDB\n",
    "client = MongoClient('mongodb://localhost:27017')\n",
    "\n",
    "# Select the database and collection\n",
    "db = client['csv']\n",
    "collection = db['daata']\n",
    "header = [ \"enrol\", 'name', \"phone\", 'adit', 'mail']\n",
    "# Read and insert CSV data into MongoDB\n",
    "with open('test.csv', 'r') as file:\n",
    "    csv_data = csv.DictReader(file)\n",
    "    for row in csv_data:\n",
    "        collection.insert_one(row)\n",
    "\n",
    "# Close the connection\n",
    "client.close()"
   ]
  },
  {
   "cell_type": "code",
   "execution_count": null,
   "id": "9c75a858",
   "metadata": {},
   "outputs": [],
   "source": []
  }
 ],
 "metadata": {
  "kernelspec": {
   "display_name": "Python 3 (ipykernel)",
   "language": "python",
   "name": "python3"
  },
  "language_info": {
   "codemirror_mode": {
    "name": "ipython",
    "version": 3
   },
   "file_extension": ".py",
   "mimetype": "text/x-python",
   "name": "python",
   "nbconvert_exporter": "python",
   "pygments_lexer": "ipython3",
   "version": "3.10.11"
  }
 },
 "nbformat": 4,
 "nbformat_minor": 5
}
