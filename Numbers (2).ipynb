{
 "cells": [
  {
   "cell_type": "code",
   "execution_count": 5,
   "id": "15dec564",
   "metadata": {},
   "outputs": [
    {
     "name": "stdout",
     "output_type": "stream",
     "text": [
      "enter first number5\n",
      "second number6\n",
      "concatenated number: 56\n"
     ]
    }
   ],
   "source": [
    "a = input('enter first number')\n",
    "b = input('second number')\n",
    "print('concatenated number: '+a+b)"
   ]
  },
  {
   "cell_type": "code",
   "execution_count": 1,
   "id": "16d38336",
   "metadata": {},
   "outputs": [
    {
     "data": {
      "text/plain": [
       "complex"
      ]
     },
     "execution_count": 1,
     "metadata": {},
     "output_type": "execute_result"
    }
   ],
   "source": [
    "type(3j)"
   ]
  },
  {
   "cell_type": "code",
   "execution_count": 2,
   "id": "7570894e",
   "metadata": {},
   "outputs": [
    {
     "data": {
      "text/plain": [
       "tuple"
      ]
     },
     "execution_count": 2,
     "metadata": {},
     "output_type": "execute_result"
    }
   ],
   "source": [
    "a=5, 6, 8\n",
    "type(a)"
   ]
  },
  {
   "cell_type": "code",
   "execution_count": 3,
   "id": "925a2e29",
   "metadata": {},
   "outputs": [
    {
     "name": "stdout",
     "output_type": "stream",
     "text": [
      "['hit', 'INDIA', 55, 45, 1, 'red']\n"
     ]
    }
   ],
   "source": [
    "color=['red',1,45,55,'INDIA','hit']\n",
    "color.reverse()\n",
    "print(color)"
   ]
  },
  {
   "cell_type": "code",
   "execution_count": 6,
   "id": "4db91783",
   "metadata": {},
   "outputs": [
    {
     "name": "stdout",
     "output_type": "stream",
     "text": [
      "None\n"
     ]
    }
   ],
   "source": [
    "print(['red',1,45,55,'INDIA','hit'].reverse())"
   ]
  },
  {
   "cell_type": "code",
   "execution_count": 7,
   "id": "58437395",
   "metadata": {},
   "outputs": [
    {
     "name": "stdout",
     "output_type": "stream",
     "text": [
      "235\n",
      "547\n",
      "235547\n"
     ]
    }
   ],
   "source": [
    "a = input()\n",
    "b = input()\n",
    "print(a+b)"
   ]
  },
  {
   "cell_type": "code",
   "execution_count": 10,
   "id": "de8df58f",
   "metadata": {},
   "outputs": [
    {
     "data": {
      "text/plain": [
       "255"
      ]
     },
     "execution_count": 10,
     "metadata": {},
     "output_type": "execute_result"
    }
   ],
   "source": [
    "(int('11111111',2))"
   ]
  },
  {
   "cell_type": "markdown",
   "id": "fc6f5af1",
   "metadata": {},
   "source": [
    "Integer -> 1,2,-895\n",
    "Float -> 2.5, -0.1\n",
    "Complex -> 1+2j, 0+3j\n",
    "\n",
    "Real number + imaginary number\n",
    "square root(-x) = j\n",
    "\n",
    "\n"
   ]
  },
  {
   "cell_type": "code",
   "execution_count": 1,
   "id": "189f288d",
   "metadata": {},
   "outputs": [
    {
     "data": {
      "text/plain": [
       "complex"
      ]
     },
     "execution_count": 1,
     "metadata": {},
     "output_type": "execute_result"
    }
   ],
   "source": [
    "type(-5j)"
   ]
  },
  {
   "cell_type": "code",
   "execution_count": 2,
   "id": "781bc516",
   "metadata": {},
   "outputs": [
    {
     "data": {
      "text/plain": [
       "complex"
      ]
     },
     "execution_count": 2,
     "metadata": {},
     "output_type": "execute_result"
    }
   ],
   "source": [
    "type(2j)"
   ]
  },
  {
   "cell_type": "code",
   "execution_count": 3,
   "id": "b191221b",
   "metadata": {},
   "outputs": [
    {
     "data": {
      "text/plain": [
       "complex"
      ]
     },
     "execution_count": 3,
     "metadata": {},
     "output_type": "execute_result"
    }
   ],
   "source": [
    "type(5-2j)"
   ]
  },
  {
   "cell_type": "code",
   "execution_count": 4,
   "id": "933acecf",
   "metadata": {},
   "outputs": [
    {
     "data": {
      "text/plain": [
       "14"
      ]
     },
     "execution_count": 4,
     "metadata": {},
     "output_type": "execute_result"
    }
   ],
   "source": [
    "5+9"
   ]
  },
  {
   "cell_type": "code",
   "execution_count": 5,
   "id": "fbb196a1",
   "metadata": {},
   "outputs": [
    {
     "data": {
      "text/plain": [
       "2"
      ]
     },
     "execution_count": 5,
     "metadata": {},
     "output_type": "execute_result"
    }
   ],
   "source": [
    "8-6"
   ]
  },
  {
   "cell_type": "code",
   "execution_count": 6,
   "id": "3e29d861",
   "metadata": {},
   "outputs": [
    {
     "data": {
      "text/plain": [
       "45"
      ]
     },
     "execution_count": 6,
     "metadata": {},
     "output_type": "execute_result"
    }
   ],
   "source": [
    "9*5"
   ]
  },
  {
   "cell_type": "code",
   "execution_count": 7,
   "id": "278a2c4a",
   "metadata": {},
   "outputs": [
    {
     "data": {
      "text/plain": [
       "32"
      ]
     },
     "execution_count": 7,
     "metadata": {},
     "output_type": "execute_result"
    }
   ],
   "source": [
    "2**5\n"
   ]
  },
  {
   "cell_type": "code",
   "execution_count": 8,
   "id": "5b690d9c",
   "metadata": {},
   "outputs": [
    {
     "data": {
      "text/plain": [
       "4.0"
      ]
     },
     "execution_count": 8,
     "metadata": {},
     "output_type": "execute_result"
    }
   ],
   "source": [
    "8/2"
   ]
  },
  {
   "cell_type": "code",
   "execution_count": 9,
   "id": "2265553a",
   "metadata": {},
   "outputs": [
    {
     "data": {
      "text/plain": [
       "0"
      ]
     },
     "execution_count": 9,
     "metadata": {},
     "output_type": "execute_result"
    }
   ],
   "source": [
    "8%2 #modulus (remainder)"
   ]
  },
  {
   "cell_type": "code",
   "execution_count": 10,
   "id": "61633c0b",
   "metadata": {},
   "outputs": [
    {
     "data": {
      "text/plain": [
       "4"
      ]
     },
     "execution_count": 10,
     "metadata": {},
     "output_type": "execute_result"
    }
   ],
   "source": [
    "8//2 #quotient)"
   ]
  },
  {
   "cell_type": "code",
   "execution_count": 11,
   "id": "c0823550",
   "metadata": {},
   "outputs": [
    {
     "data": {
      "text/plain": [
       "13.5"
      ]
     },
     "execution_count": 11,
     "metadata": {},
     "output_type": "execute_result"
    }
   ],
   "source": [
    "27/2"
   ]
  },
  {
   "cell_type": "code",
   "execution_count": 12,
   "id": "ca4f05c2",
   "metadata": {},
   "outputs": [
    {
     "data": {
      "text/plain": [
       "1"
      ]
     },
     "execution_count": 12,
     "metadata": {},
     "output_type": "execute_result"
    }
   ],
   "source": [
    "27%2"
   ]
  },
  {
   "cell_type": "code",
   "execution_count": 13,
   "id": "44c6b3a0",
   "metadata": {},
   "outputs": [
    {
     "data": {
      "text/plain": [
       "13"
      ]
     },
     "execution_count": 13,
     "metadata": {},
     "output_type": "execute_result"
    }
   ],
   "source": [
    "27//2 #(floor division - quotient)"
   ]
  },
  {
   "cell_type": "markdown",
   "id": "0ad7970c",
   "metadata": {},
   "source": [
    "# Assignment Operation"
   ]
  },
  {
   "cell_type": "code",
   "execution_count": 14,
   "id": "4cfd0ebe",
   "metadata": {},
   "outputs": [],
   "source": [
    "a = 8"
   ]
  },
  {
   "cell_type": "code",
   "execution_count": 15,
   "id": "252fb07e",
   "metadata": {},
   "outputs": [],
   "source": [
    "b = 3"
   ]
  },
  {
   "cell_type": "code",
   "execution_count": 16,
   "id": "d6f7682c",
   "metadata": {},
   "outputs": [],
   "source": [
    "a +=1 #increment"
   ]
  },
  {
   "cell_type": "code",
   "execution_count": 17,
   "id": "a66dafa6",
   "metadata": {},
   "outputs": [
    {
     "data": {
      "text/plain": [
       "9"
      ]
     },
     "execution_count": 17,
     "metadata": {},
     "output_type": "execute_result"
    }
   ],
   "source": [
    "a"
   ]
  },
  {
   "cell_type": "code",
   "execution_count": 18,
   "id": "d18dd59e",
   "metadata": {},
   "outputs": [],
   "source": [
    "b += 5  # b = b+5"
   ]
  },
  {
   "cell_type": "code",
   "execution_count": 19,
   "id": "bca111ba",
   "metadata": {},
   "outputs": [
    {
     "data": {
      "text/plain": [
       "8"
      ]
     },
     "execution_count": 19,
     "metadata": {},
     "output_type": "execute_result"
    }
   ],
   "source": [
    "b"
   ]
  },
  {
   "cell_type": "code",
   "execution_count": 20,
   "id": "f2e00392",
   "metadata": {},
   "outputs": [],
   "source": [
    "c = 15 "
   ]
  },
  {
   "cell_type": "code",
   "execution_count": 21,
   "id": "a8efc5ac",
   "metadata": {},
   "outputs": [
    {
     "data": {
      "text/plain": [
       "15"
      ]
     },
     "execution_count": 21,
     "metadata": {},
     "output_type": "execute_result"
    }
   ],
   "source": [
    "c"
   ]
  },
  {
   "cell_type": "code",
   "execution_count": 22,
   "id": "0fa919fa",
   "metadata": {},
   "outputs": [],
   "source": [
    "c-=5 #decrement operation; c = c-5"
   ]
  },
  {
   "cell_type": "code",
   "execution_count": 23,
   "id": "145ff4e5",
   "metadata": {},
   "outputs": [
    {
     "data": {
      "text/plain": [
       "10"
      ]
     },
     "execution_count": 23,
     "metadata": {},
     "output_type": "execute_result"
    }
   ],
   "source": [
    "c "
   ]
  },
  {
   "cell_type": "code",
   "execution_count": 24,
   "id": "a7f177f0",
   "metadata": {},
   "outputs": [],
   "source": [
    "d = 2"
   ]
  },
  {
   "cell_type": "code",
   "execution_count": 25,
   "id": "facbe5fb",
   "metadata": {},
   "outputs": [],
   "source": [
    "d *= 2 #d=d*2"
   ]
  },
  {
   "cell_type": "code",
   "execution_count": 26,
   "id": "027ff33c",
   "metadata": {},
   "outputs": [
    {
     "data": {
      "text/plain": [
       "4"
      ]
     },
     "execution_count": 26,
     "metadata": {},
     "output_type": "execute_result"
    }
   ],
   "source": [
    "d"
   ]
  },
  {
   "cell_type": "code",
   "execution_count": 27,
   "id": "937ef9fd",
   "metadata": {},
   "outputs": [],
   "source": [
    "d *= 2"
   ]
  },
  {
   "cell_type": "code",
   "execution_count": 28,
   "id": "8dda366a",
   "metadata": {},
   "outputs": [
    {
     "data": {
      "text/plain": [
       "8"
      ]
     },
     "execution_count": 28,
     "metadata": {},
     "output_type": "execute_result"
    }
   ],
   "source": [
    "d"
   ]
  },
  {
   "cell_type": "code",
   "execution_count": 29,
   "id": "16f9be12",
   "metadata": {},
   "outputs": [],
   "source": [
    "d*=2"
   ]
  },
  {
   "cell_type": "code",
   "execution_count": 30,
   "id": "8ab3f2f5",
   "metadata": {},
   "outputs": [
    {
     "data": {
      "text/plain": [
       "16"
      ]
     },
     "execution_count": 30,
     "metadata": {},
     "output_type": "execute_result"
    }
   ],
   "source": [
    "d"
   ]
  },
  {
   "cell_type": "code",
   "execution_count": 32,
   "id": "9e2cb1d0",
   "metadata": {},
   "outputs": [
    {
     "data": {
      "text/plain": [
       "32"
      ]
     },
     "execution_count": 32,
     "metadata": {},
     "output_type": "execute_result"
    }
   ],
   "source": [
    "e = 64\n",
    "e /= 2   # e = e/2\n",
    "int(e)"
   ]
  },
  {
   "cell_type": "code",
   "execution_count": 33,
   "id": "f3a4e028",
   "metadata": {},
   "outputs": [
    {
     "data": {
      "text/plain": [
       "16"
      ]
     },
     "execution_count": 33,
     "metadata": {},
     "output_type": "execute_result"
    }
   ],
   "source": [
    "e /= 2\n",
    "int(e)"
   ]
  },
  {
   "cell_type": "code",
   "execution_count": 36,
   "id": "bd437651",
   "metadata": {},
   "outputs": [
    {
     "data": {
      "text/plain": [
       "7"
      ]
     },
     "execution_count": 36,
     "metadata": {},
     "output_type": "execute_result"
    }
   ],
   "source": [
    "f = 16\n",
    "f %= 9 #(16/9 = remainder(7); quotient(1)); f = f%9 \n",
    "f"
   ]
  },
  {
   "cell_type": "code",
   "execution_count": 40,
   "id": "77dfd9e1",
   "metadata": {},
   "outputs": [
    {
     "data": {
      "text/plain": [
       "3"
      ]
     },
     "execution_count": 40,
     "metadata": {},
     "output_type": "execute_result"
    }
   ],
   "source": [
    "g = 20\n",
    "g //= 6 #(20/2 = 10); g = g//2\n",
    "g"
   ]
  },
  {
   "cell_type": "code",
   "execution_count": 41,
   "id": "23e73c44",
   "metadata": {},
   "outputs": [
    {
     "data": {
      "text/plain": [
       "2"
      ]
     },
     "execution_count": 41,
     "metadata": {},
     "output_type": "execute_result"
    }
   ],
   "source": [
    "h = 20\n",
    "h %= 6\n",
    "h"
   ]
  },
  {
   "cell_type": "markdown",
   "id": "e0c14a3a",
   "metadata": {},
   "source": [
    "// -> floor division (value returned is the QUOTIENT)\n",
    "% ->  Modulus (value returned is the REMAINDER)\n"
   ]
  },
  {
   "cell_type": "code",
   "execution_count": 43,
   "id": "a72794cd",
   "metadata": {},
   "outputs": [
    {
     "data": {
      "text/plain": [
       "7.5"
      ]
     },
     "execution_count": 43,
     "metadata": {},
     "output_type": "execute_result"
    }
   ],
   "source": [
    "i = 15\n",
    "j = i/2 #(15/2 = 7 1/2)\n",
    "j"
   ]
  },
  {
   "cell_type": "code",
   "execution_count": 44,
   "id": "a194c88d",
   "metadata": {},
   "outputs": [
    {
     "data": {
      "text/plain": [
       "1"
      ]
     },
     "execution_count": 44,
     "metadata": {},
     "output_type": "execute_result"
    }
   ],
   "source": [
    "k = 15\n",
    "l = k%2 #(15/2; remainder=1)\n",
    "l"
   ]
  },
  {
   "cell_type": "code",
   "execution_count": 45,
   "id": "d0b805bc",
   "metadata": {},
   "outputs": [
    {
     "data": {
      "text/plain": [
       "7"
      ]
     },
     "execution_count": 45,
     "metadata": {},
     "output_type": "execute_result"
    }
   ],
   "source": [
    "m = 15\n",
    "n = m//2 #(15/2; quotient = 7)\n",
    "n"
   ]
  },
  {
   "cell_type": "code",
   "execution_count": 46,
   "id": "2a51d996",
   "metadata": {},
   "outputs": [
    {
     "data": {
      "text/plain": [
       "1"
      ]
     },
     "execution_count": 46,
     "metadata": {},
     "output_type": "execute_result"
    }
   ],
   "source": [
    "o = 15\n",
    "o %= 2\n",
    "o"
   ]
  },
  {
   "cell_type": "code",
   "execution_count": 47,
   "id": "32980c5a",
   "metadata": {},
   "outputs": [
    {
     "data": {
      "text/plain": [
       "7"
      ]
     },
     "execution_count": 47,
     "metadata": {},
     "output_type": "execute_result"
    }
   ],
   "source": [
    "p = 15\n",
    "p //= 2\n",
    "p"
   ]
  },
  {
   "cell_type": "code",
   "execution_count": 49,
   "id": "8a66621e",
   "metadata": {},
   "outputs": [
    {
     "data": {
      "text/plain": [
       "64"
      ]
     },
     "execution_count": 49,
     "metadata": {},
     "output_type": "execute_result"
    }
   ],
   "source": [
    "q = 2\n",
    "q **= 6 # exponential increment\n",
    "q"
   ]
  },
  {
   "cell_type": "code",
   "execution_count": 52,
   "id": "0a261bb5",
   "metadata": {},
   "outputs": [
    {
     "data": {
      "text/plain": [
       "625"
      ]
     },
     "execution_count": 52,
     "metadata": {},
     "output_type": "execute_result"
    }
   ],
   "source": [
    "r = 5\n",
    "r **= 4   # r = r**4\n",
    "r"
   ]
  },
  {
   "cell_type": "raw",
   "id": "3c032adf",
   "metadata": {},
   "source": [
    "Assignment operation\n",
    "&=\n",
    "!=\n",
    "^=\n",
    ">>=\n",
    "<<=\n"
   ]
  },
  {
   "cell_type": "markdown",
   "id": "504498f4",
   "metadata": {},
   "source": [
    "Comparision Operation"
   ]
  },
  {
   "cell_type": "code",
   "execution_count": 59,
   "id": "1d7aac97",
   "metadata": {},
   "outputs": [
    {
     "data": {
      "text/plain": [
       "True"
      ]
     },
     "execution_count": 59,
     "metadata": {},
     "output_type": "execute_result"
    }
   ],
   "source": [
    "a = 10\n",
    "a == 10\n",
    "# value & datatype both"
   ]
  },
  {
   "cell_type": "code",
   "execution_count": 60,
   "id": "4b137095",
   "metadata": {},
   "outputs": [
    {
     "data": {
      "text/plain": [
       "True"
      ]
     },
     "execution_count": 60,
     "metadata": {},
     "output_type": "execute_result"
    }
   ],
   "source": [
    "a>=8 #correct"
   ]
  },
  {
   "cell_type": "code",
   "execution_count": 61,
   "id": "258db1ee",
   "metadata": {},
   "outputs": [
    {
     "data": {
      "text/plain": [
       "False"
      ]
     },
     "execution_count": 61,
     "metadata": {},
     "output_type": "execute_result"
    }
   ],
   "source": [
    "a<=8 #incorrect"
   ]
  },
  {
   "cell_type": "code",
   "execution_count": 63,
   "id": "d211c328",
   "metadata": {},
   "outputs": [
    {
     "data": {
      "text/plain": [
       "True"
      ]
     },
     "execution_count": 63,
     "metadata": {},
     "output_type": "execute_result"
    }
   ],
   "source": [
    "a != 5"
   ]
  },
  {
   "cell_type": "code",
   "execution_count": 65,
   "id": "a51a7f24",
   "metadata": {},
   "outputs": [
    {
     "data": {
      "text/plain": [
       "True"
      ]
     },
     "execution_count": 65,
     "metadata": {},
     "output_type": "execute_result"
    }
   ],
   "source": [
    "8!=10 #(!= is not equal to)"
   ]
  },
  {
   "cell_type": "code",
   "execution_count": null,
   "id": "45fc1b53",
   "metadata": {},
   "outputs": [],
   "source": []
  }
 ],
 "metadata": {
  "kernelspec": {
   "display_name": "Python 3 (ipykernel)",
   "language": "python",
   "name": "python3"
  },
  "language_info": {
   "codemirror_mode": {
    "name": "ipython",
    "version": 3
   },
   "file_extension": ".py",
   "mimetype": "text/x-python",
   "name": "python",
   "nbconvert_exporter": "python",
   "pygments_lexer": "ipython3",
   "version": "3.10.11"
  }
 },
 "nbformat": 4,
 "nbformat_minor": 5
}
