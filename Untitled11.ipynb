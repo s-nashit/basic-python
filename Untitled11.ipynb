{
 "cells": [
  {
   "cell_type": "code",
   "execution_count": 36,
   "id": "8e8bbfc1",
   "metadata": {},
   "outputs": [
    {
     "name": "stdout",
     "output_type": "stream",
     "text": [
      "6\n"
     ]
    }
   ],
   "source": [
    "import numpy as np\n",
    "\n",
    "a = np.array([1, 8, 6, 4])\n",
    "\n",
    "print(a[2])"
   ]
  },
  {
   "cell_type": "code",
   "execution_count": 27,
   "id": "92e93115",
   "metadata": {},
   "outputs": [
    {
     "name": "stdout",
     "output_type": "stream",
     "text": [
      "array('i', [1, 2, 5])\n"
     ]
    }
   ],
   "source": [
    "import array as arr\n",
    "\n",
    "a = arr.array(\"i\",[1, 2, 5])\n",
    "print(a)\n"
   ]
  },
  {
   "cell_type": "code",
   "execution_count": 30,
   "id": "81c69a0d",
   "metadata": {},
   "outputs": [
    {
     "name": "stdout",
     "output_type": "stream",
     "text": [
      "[[[[[ 87  54]\n",
      "    [  4   8]\n",
      "    [ 98  45]\n",
      "    [  5   4]\n",
      "    [  7 547]]]]]\n",
      "5\n"
     ]
    }
   ],
   "source": [
    "import numpy as np\n",
    "a=np.array([[[[[87, 54], [4, 8],[98, 45], [5,4], [7,547]]]]])\n",
    "print(a)\n",
    "print(a.ndim)"
   ]
  },
  {
   "cell_type": "code",
   "execution_count": 35,
   "id": "5110a3fa",
   "metadata": {},
   "outputs": [
    {
     "name": "stdout",
     "output_type": "stream",
     "text": [
      "[[[[[ 87  54]\n",
      "    [  4   8]\n",
      "    [ 98  45]\n",
      "    [  5   4]\n",
      "    [  7 547]]]]]\n",
      "8\n"
     ]
    }
   ],
   "source": [
    "import numpy as np\n",
    "b = np.array([1, 2, 3, 4], ndmin=8)\n",
    "\n",
    "print(a)\n",
    "print(b.ndim)"
   ]
  },
  {
   "cell_type": "code",
   "execution_count": 43,
   "id": "e7eab6b8",
   "metadata": {},
   "outputs": [
    {
     "name": "stdout",
     "output_type": "stream",
     "text": [
      "[[1 4 7]\n",
      " [5 3 2]]\n",
      "3\n"
     ]
    }
   ],
   "source": [
    "c = np.array([[1, 4, 7], [5, 3, 2]])\n",
    "print(c)\n",
    "print(c[1, 1])"
   ]
  },
  {
   "cell_type": "code",
   "execution_count": 46,
   "id": "82b66b1d",
   "metadata": {},
   "outputs": [
    {
     "name": "stdout",
     "output_type": "stream",
     "text": [
      "2\n"
     ]
    }
   ],
   "source": [
    "print(c[1, -1])"
   ]
  },
  {
   "cell_type": "code",
   "execution_count": 47,
   "id": "179e2b78",
   "metadata": {},
   "outputs": [
    {
     "name": "stdout",
     "output_type": "stream",
     "text": [
      "4\n"
     ]
    }
   ],
   "source": [
    "print(c[-2, -2])"
   ]
  },
  {
   "cell_type": "code",
   "execution_count": 48,
   "id": "8b8bd3cc",
   "metadata": {},
   "outputs": [
    {
     "ename": "NameError",
     "evalue": "name 'integer' is not defined",
     "output_type": "error",
     "traceback": [
      "\u001b[1;31m---------------------------------------------------------------------------\u001b[0m",
      "\u001b[1;31mNameError\u001b[0m                                 Traceback (most recent call last)",
      "\u001b[1;32m<ipython-input-48-01996b34f58f>\u001b[0m in \u001b[0;36m<module>\u001b[1;34m\u001b[0m\n\u001b[1;32m----> 1\u001b[1;33m \u001b[0minteger\u001b[0m\u001b[1;33m,\u001b[0m \u001b[0mfloats\u001b[0m\u001b[1;33m,\u001b[0m \u001b[0mcomplex\u001b[0m\u001b[1;33m,\u001b[0m \u001b[0mbool\u001b[0m\u001b[1;33m,\u001b[0m \u001b[0mstring\u001b[0m\u001b[1;33m\u001b[0m\u001b[1;33m\u001b[0m\u001b[0m\n\u001b[0m",
      "\u001b[1;31mNameError\u001b[0m: name 'integer' is not defined"
     ]
    }
   ],
   "source": [
    "integer, floats, complex, bool, string"
   ]
  },
  {
   "cell_type": "code",
   "execution_count": 49,
   "id": "7341f8cd",
   "metadata": {},
   "outputs": [
    {
     "name": "stdout",
     "output_type": "stream",
     "text": [
      "int32\n"
     ]
    }
   ],
   "source": [
    "import numpy as np\n",
    "\n",
    "a = np.array([1, 8, 6, 4])\n",
    "print(a.dtype)"
   ]
  },
  {
   "cell_type": "code",
   "execution_count": 52,
   "id": "da8e776e",
   "metadata": {},
   "outputs": [
    {
     "name": "stdout",
     "output_type": "stream",
     "text": [
      "<U7\n"
     ]
    }
   ],
   "source": [
    "import numpy as np\n",
    "\n",
    "a = np.array([\"apple\", \"nsti\", \"lucknow\"])\n",
    "print(a.dtype)"
   ]
  },
  {
   "cell_type": "code",
   "execution_count": null,
   "id": "a4e9b1f7",
   "metadata": {},
   "outputs": [],
   "source": [
    "U - UNICODE"
   ]
  }
 ],
 "metadata": {
  "kernelspec": {
   "display_name": "Python 3 (ipykernel)",
   "language": "python",
   "name": "python3"
  },
  "language_info": {
   "codemirror_mode": {
    "name": "ipython",
    "version": 3
   },
   "file_extension": ".py",
   "mimetype": "text/x-python",
   "name": "python",
   "nbconvert_exporter": "python",
   "pygments_lexer": "ipython3",
   "version": "3.9.5"
  }
 },
 "nbformat": 4,
 "nbformat_minor": 5
}
