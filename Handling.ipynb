{
 "cells": [
  {
   "cell_type": "code",
   "execution_count": 10,
   "id": "8d8049b6",
   "metadata": {
    "scrolled": true
   },
   "outputs": [
    {
     "name": "stdout",
     "output_type": "stream",
     "text": [
      "enter a numbern\n",
      "Error is:  invalid literal for int() with base 10: 'n'\n",
      "hello\n"
     ]
    }
   ],
   "source": [
    "a = 10\n",
    "b = 2\n",
    "\n",
    "try:\n",
    "    c = int(input('enter a number'))\n",
    "    print(c)\n",
    "\n",
    "\n",
    "    \n",
    "    print(a/c)\n",
    "    \n",
    "except ZeroDivisionError as e:\n",
    "    print('Error is: ', e)\n",
    "    \n",
    "except ValueError as e:\n",
    "    print('Error is: ', e)\n",
    "\n",
    "except Exception as e:\n",
    "    print('Error is: ', e)\n",
    "    \n",
    "finally:\n",
    "    print('hello')\n",
    "    file1 = open('a.txt', 'r')\n",
    "    file1.read()\n",
    "    file1.close()"
   ]
  },
  {
   "cell_type": "code",
   "execution_count": 13,
   "id": "d08d6872",
   "metadata": {},
   "outputs": [
    {
     "name": "stdout",
     "output_type": "stream",
     "text": [
      "H \n",
      "ELll\n"
     ]
    }
   ],
   "source": [
    "print('H \\nELll')"
   ]
  },
  {
   "cell_type": "code",
   "execution_count": 15,
   "id": "b636fd5c",
   "metadata": {},
   "outputs": [
    {
     "name": "stdout",
     "output_type": "stream",
     "text": [
      "HEllo world\n"
     ]
    }
   ],
   "source": [
    "print('H'\n",
    "      'Ell'\n",
    "      'o w'\n",
    "      'orld')"
   ]
  },
  {
   "cell_type": "code",
   "execution_count": 16,
   "id": "228ae33a",
   "metadata": {},
   "outputs": [
    {
     "name": "stdout",
     "output_type": "stream",
     "text": [
      "trfdcrdgctf\n"
     ]
    },
    {
     "data": {
      "text/plain": [
       "'gctf'"
      ]
     },
     "execution_count": 16,
     "metadata": {},
     "output_type": "execute_result"
    }
   ],
   "source": [
    " input('trfdcrd')"
   ]
  },
  {
   "cell_type": "code",
   "execution_count": 18,
   "id": "28637d6e",
   "metadata": {},
   "outputs": [
    {
     "name": "stdout",
     "output_type": "stream",
     "text": [
      "64\n",
      "hello\n"
     ]
    }
   ],
   "source": [
    "print(8*8);print('hello')"
   ]
  },
  {
   "cell_type": "code",
   "execution_count": 19,
   "id": "9fab5916",
   "metadata": {},
   "outputs": [
    {
     "name": "stdout",
     "output_type": "stream",
     "text": [
      "56\n",
      "nashit\n"
     ]
    }
   ],
   "source": [
    "print(7*8);\n",
    "print('nashit');"
   ]
  },
  {
   "cell_type": "code",
   "execution_count": 22,
   "id": "05393f00",
   "metadata": {},
   "outputs": [],
   "source": [
    "##uhnrfbne3r\n",
    "#ihjnjngtr"
   ]
  },
  {
   "cell_type": "markdown",
   "id": "af8a1265",
   "metadata": {},
   "source": [
    "jiewnfubw2ehyf\n",
    "w8eyfbehyrb\n",
    "y7wgbedhybweyh"
   ]
  },
  {
   "cell_type": "code",
   "execution_count": 23,
   "id": "234578b2",
   "metadata": {},
   "outputs": [
    {
     "data": {
      "text/plain": [
       "0"
      ]
     },
     "execution_count": 23,
     "metadata": {},
     "output_type": "execute_result"
    }
   ],
   "source": [
    "#bitwise and (&)\n",
    "0 & 1"
   ]
  },
  {
   "cell_type": "code",
   "execution_count": 24,
   "id": "85773483",
   "metadata": {},
   "outputs": [
    {
     "data": {
      "text/plain": [
       "0"
      ]
     },
     "execution_count": 24,
     "metadata": {},
     "output_type": "execute_result"
    }
   ],
   "source": [
    "1 & 0"
   ]
  },
  {
   "cell_type": "code",
   "execution_count": 25,
   "id": "93d228d9",
   "metadata": {},
   "outputs": [
    {
     "data": {
      "text/plain": [
       "1"
      ]
     },
     "execution_count": 25,
     "metadata": {},
     "output_type": "execute_result"
    }
   ],
   "source": [
    "1 & 1"
   ]
  },
  {
   "cell_type": "code",
   "execution_count": 26,
   "id": "2e15d2c0",
   "metadata": {},
   "outputs": [
    {
     "data": {
      "text/plain": [
       "0"
      ]
     },
     "execution_count": 26,
     "metadata": {},
     "output_type": "execute_result"
    }
   ],
   "source": [
    "0 & 0"
   ]
  },
  {
   "cell_type": "code",
   "execution_count": 33,
   "id": "b34e5eb8",
   "metadata": {},
   "outputs": [
    {
     "data": {
      "text/plain": [
       "4"
      ]
     },
     "execution_count": 33,
     "metadata": {},
     "output_type": "execute_result"
    }
   ],
   "source": [
    "5 & 6"
   ]
  },
  {
   "cell_type": "code",
   "execution_count": 31,
   "id": "c81e02ca",
   "metadata": {},
   "outputs": [
    {
     "data": {
      "text/plain": [
       "1"
      ]
     },
     "execution_count": 31,
     "metadata": {},
     "output_type": "execute_result"
    }
   ],
   "source": [
    "#bitwise OR (|)\n",
    "1|0"
   ]
  },
  {
   "cell_type": "code",
   "execution_count": 32,
   "id": "f869abdf",
   "metadata": {},
   "outputs": [
    {
     "data": {
      "text/plain": [
       "7"
      ]
     },
     "execution_count": 32,
     "metadata": {},
     "output_type": "execute_result"
    }
   ],
   "source": [
    "5 | 6"
   ]
  },
  {
   "cell_type": "code",
   "execution_count": 35,
   "id": "fa61ab01",
   "metadata": {},
   "outputs": [
    {
     "data": {
      "text/plain": [
       "-11"
      ]
     },
     "execution_count": 35,
     "metadata": {},
     "output_type": "execute_result"
    }
   ],
   "source": [
    "#bitwise NOT (~)\n",
    "~10"
   ]
  },
  {
   "cell_type": "code",
   "execution_count": 36,
   "id": "b9213e21",
   "metadata": {},
   "outputs": [
    {
     "data": {
      "text/plain": [
       "14"
      ]
     },
     "execution_count": 36,
     "metadata": {},
     "output_type": "execute_result"
    }
   ],
   "source": [
    "#bitwise XOR (^)\n",
    "10^4"
   ]
  },
  {
   "cell_type": "code",
   "execution_count": 37,
   "id": "b25898c5",
   "metadata": {},
   "outputs": [
    {
     "data": {
      "text/plain": [
       "3"
      ]
     },
     "execution_count": 37,
     "metadata": {},
     "output_type": "execute_result"
    }
   ],
   "source": [
    "5^6"
   ]
  },
  {
   "cell_type": "code",
   "execution_count": 38,
   "id": "a880f196",
   "metadata": {},
   "outputs": [
    {
     "data": {
      "text/plain": [
       "5"
      ]
     },
     "execution_count": 38,
     "metadata": {},
     "output_type": "execute_result"
    }
   ],
   "source": [
    "#bitwise shift right(>>)\n",
    "10>>1"
   ]
  },
  {
   "cell_type": "code",
   "execution_count": 39,
   "id": "98f2cae4",
   "metadata": {},
   "outputs": [
    {
     "data": {
      "text/plain": [
       "20"
      ]
     },
     "execution_count": 39,
     "metadata": {},
     "output_type": "execute_result"
    }
   ],
   "source": [
    "#bitwise left shift(<<)\n",
    "10<<1"
   ]
  },
  {
   "cell_type": "code",
   "execution_count": 53,
   "id": "77223864",
   "metadata": {},
   "outputs": [
    {
     "name": "stdout",
     "output_type": "stream",
     "text": [
      "similar elements\n",
      "similar elements\n",
      "dissimilar\n",
      "dissimilar\n"
     ]
    }
   ],
   "source": [
    "a = 5, 5, 6, 78\n",
    "b = 5, 5\n",
    "\n",
    "for x in a:\n",
    "    if x in b:\n",
    "        print('similar elements')\n",
    "    else:\n",
    "        print('dissimilar')"
   ]
  },
  {
   "cell_type": "code",
   "execution_count": 51,
   "id": "3ec134ae",
   "metadata": {},
   "outputs": [
    {
     "name": "stdout",
     "output_type": "stream",
     "text": [
      "False\n",
      "True\n"
     ]
    }
   ],
   "source": [
    "a = [5, 8, 9]\n",
    "b = [4, 6, 9]\n",
    "\n",
    "c = a\n",
    "print(c is not a)\n",
    "print(c is not b)"
   ]
  },
  {
   "cell_type": "code",
   "execution_count": 4,
   "id": "ffe73e9c",
   "metadata": {},
   "outputs": [
    {
     "name": "stdout",
     "output_type": "stream",
     "text": [
      "5\n",
      "8\n",
      "7\n",
      "12\n"
     ]
    }
   ],
   "source": [
    "a = 5, 8, 7, 12\n",
    "for x in a: print(x)"
   ]
  },
  {
   "cell_type": "code",
   "execution_count": 5,
   "id": "c77ad57e",
   "metadata": {},
   "outputs": [],
   "source": [
    "#pass statement\n",
    "\n",
    "for x in a:pass"
   ]
  },
  {
   "cell_type": "code",
   "execution_count": 6,
   "id": "427c0d38",
   "metadata": {},
   "outputs": [],
   "source": [
    "if(5>2):pass"
   ]
  },
  {
   "cell_type": "code",
   "execution_count": 13,
   "id": "5f8bdd9c",
   "metadata": {},
   "outputs": [
    {
     "name": "stdout",
     "output_type": "stream",
     "text": [
      "H\n",
      "e\n",
      "l\n",
      "l\n",
      "o\n"
     ]
    }
   ],
   "source": [
    "a = 'Hello'\n",
    "for x in a:print(x)"
   ]
  },
  {
   "cell_type": "code",
   "execution_count": 15,
   "id": "334821ab",
   "metadata": {},
   "outputs": [
    {
     "data": {
      "text/plain": [
       "'l'"
      ]
     },
     "execution_count": 15,
     "metadata": {},
     "output_type": "execute_result"
    }
   ],
   "source": [
    "a[-2]"
   ]
  },
  {
   "cell_type": "code",
   "execution_count": 9,
   "id": "edb1e1cb",
   "metadata": {},
   "outputs": [
    {
     "data": {
      "text/plain": [
       "'e'"
      ]
     },
     "execution_count": 9,
     "metadata": {},
     "output_type": "execute_result"
    }
   ],
   "source": [
    "a[1]"
   ]
  },
  {
   "cell_type": "code",
   "execution_count": 10,
   "id": "03a9049b",
   "metadata": {},
   "outputs": [
    {
     "data": {
      "text/plain": [
       "'ello'"
      ]
     },
     "execution_count": 10,
     "metadata": {},
     "output_type": "execute_result"
    }
   ],
   "source": [
    "a[1:]"
   ]
  },
  {
   "cell_type": "code",
   "execution_count": 11,
   "id": "61480eaa",
   "metadata": {},
   "outputs": [
    {
     "data": {
      "text/plain": [
       "'el'"
      ]
     },
     "execution_count": 11,
     "metadata": {},
     "output_type": "execute_result"
    }
   ],
   "source": [
    "a[1:3]"
   ]
  },
  {
   "cell_type": "code",
   "execution_count": 12,
   "id": "cb3ea35a",
   "metadata": {},
   "outputs": [
    {
     "data": {
      "text/plain": [
       "'Hel'"
      ]
     },
     "execution_count": 12,
     "metadata": {},
     "output_type": "execute_result"
    }
   ],
   "source": [
    "a[:3]"
   ]
  },
  {
   "cell_type": "code",
   "execution_count": 16,
   "id": "92c4ca64",
   "metadata": {},
   "outputs": [],
   "source": [
    "#modules\n",
    "#global, local "
   ]
  },
  {
   "cell_type": "code",
   "execution_count": 21,
   "id": "8b84937a",
   "metadata": {},
   "outputs": [],
   "source": [
    "# raw string\n",
    "a = 'My \\n name \\t is Nashit'\n",
    "b = R'My \\n name \\t is Nashit'"
   ]
  },
  {
   "cell_type": "code",
   "execution_count": 22,
   "id": "ab9159ba",
   "metadata": {},
   "outputs": [
    {
     "name": "stdout",
     "output_type": "stream",
     "text": [
      "My \n",
      " name \t is Nashit\n"
     ]
    }
   ],
   "source": [
    "print(a)"
   ]
  },
  {
   "cell_type": "code",
   "execution_count": 23,
   "id": "294f3256",
   "metadata": {},
   "outputs": [
    {
     "name": "stdout",
     "output_type": "stream",
     "text": [
      "My \\n name \\t is Nashit\n"
     ]
    }
   ],
   "source": [
    "print(b)"
   ]
  },
  {
   "cell_type": "code",
   "execution_count": 28,
   "id": "9864de42",
   "metadata": {},
   "outputs": [
    {
     "name": "stdout",
     "output_type": "stream",
     "text": [
      "This is nashit from Patna\n"
     ]
    }
   ],
   "source": [
    "import nashit\n",
    "\n",
    "nashit.hello()"
   ]
  },
  {
   "cell_type": "code",
   "execution_count": 32,
   "id": "f1d3b233",
   "metadata": {},
   "outputs": [
    {
     "ename": "AttributeError",
     "evalue": "module 'nashit' has no attribute 'th'",
     "output_type": "error",
     "traceback": [
      "\u001b[1;31m---------------------------------------------------------------------------\u001b[0m",
      "\u001b[1;31mAttributeError\u001b[0m                            Traceback (most recent call last)",
      "Cell \u001b[1;32mIn[32], line 2\u001b[0m\n\u001b[0;32m      1\u001b[0m \u001b[38;5;28;01mimport\u001b[39;00m \u001b[38;5;21;01mnashit\u001b[39;00m\n\u001b[1;32m----> 2\u001b[0m \u001b[43mnashit\u001b[49m\u001b[38;5;241;43m.\u001b[39;49m\u001b[43mth\u001b[49m(\u001b[38;5;124m'\u001b[39m\u001b[38;5;124mDamodar\u001b[39m\u001b[38;5;124m'\u001b[39m)\n",
      "\u001b[1;31mAttributeError\u001b[0m: module 'nashit' has no attribute 'th'"
     ]
    }
   ],
   "source": [
    "import nashit\n",
    "nashit.th('Damodar')"
   ]
  },
  {
   "cell_type": "code",
   "execution_count": 33,
   "id": "61fc2d03",
   "metadata": {},
   "outputs": [
    {
     "name": "stdout",
     "output_type": "stream",
     "text": [
      "Welcome to the teamnashit\n"
     ]
    }
   ],
   "source": [
    "import damo\n",
    "\n",
    "damo.th('nashit')"
   ]
  },
  {
   "cell_type": "code",
   "execution_count": 34,
   "id": "bd781e2c",
   "metadata": {},
   "outputs": [
    {
     "name": "stdout",
     "output_type": "stream",
     "text": [
      "hello from patna\n"
     ]
    }
   ],
   "source": [
    "damo.hee()"
   ]
  },
  {
   "cell_type": "code",
   "execution_count": 36,
   "id": "6c71532e",
   "metadata": {},
   "outputs": [],
   "source": [
    "import mattt"
   ]
  },
  {
   "cell_type": "code",
   "execution_count": 39,
   "id": "ad194690",
   "metadata": {},
   "outputs": [
    {
     "name": "stdout",
     "output_type": "stream",
     "text": [
      "17\n"
     ]
    }
   ],
   "source": [
    "mattt.sum(9,8)"
   ]
  },
  {
   "cell_type": "code",
   "execution_count": 40,
   "id": "d7538a43",
   "metadata": {},
   "outputs": [
    {
     "name": "stdout",
     "output_type": "stream",
     "text": [
      "32.0\n"
     ]
    }
   ],
   "source": [
    "mattt.div(64,2)"
   ]
  },
  {
   "cell_type": "code",
   "execution_count": 42,
   "id": "4e212f3e",
   "metadata": {},
   "outputs": [
    {
     "name": "stdout",
     "output_type": "stream",
     "text": [
      "12\n"
     ]
    }
   ],
   "source": [
    "mattt.pro(2,6)"
   ]
  },
  {
   "cell_type": "code",
   "execution_count": 43,
   "id": "971e7737",
   "metadata": {},
   "outputs": [
    {
     "name": "stdout",
     "output_type": "stream",
     "text": [
      "4\n"
     ]
    }
   ],
   "source": [
    "mattt.diff(9,5)"
   ]
  },
  {
   "cell_type": "code",
   "execution_count": 44,
   "id": "2adcbec0",
   "metadata": {},
   "outputs": [],
   "source": [
    "import mattt"
   ]
  },
  {
   "cell_type": "code",
   "execution_count": 45,
   "id": "47235b8a",
   "metadata": {},
   "outputs": [
    {
     "ename": "AttributeError",
     "evalue": "module 'mattt' has no attribute 'po'",
     "output_type": "error",
     "traceback": [
      "\u001b[1;31m---------------------------------------------------------------------------\u001b[0m",
      "\u001b[1;31mAttributeError\u001b[0m                            Traceback (most recent call last)",
      "Cell \u001b[1;32mIn[45], line 1\u001b[0m\n\u001b[1;32m----> 1\u001b[0m \u001b[43mmattt\u001b[49m\u001b[38;5;241;43m.\u001b[39;49m\u001b[43mpo\u001b[49m(\u001b[38;5;241m8\u001b[39m,\u001b[38;5;241m2\u001b[39m)\n",
      "\u001b[1;31mAttributeError\u001b[0m: module 'mattt' has no attribute 'po'"
     ]
    }
   ],
   "source": [
    "mattt.po(8,2)"
   ]
  },
  {
   "cell_type": "code",
   "execution_count": 48,
   "id": "b24ab92d",
   "metadata": {},
   "outputs": [
    {
     "name": "stdout",
     "output_type": "stream",
     "text": [
      "thank you\n"
     ]
    }
   ],
   "source": [
    "print('{}{}'.format('thank', ' you'))"
   ]
  },
  {
   "cell_type": "code",
   "execution_count": 49,
   "id": "7ecca75f",
   "metadata": {},
   "outputs": [
    {
     "name": "stdout",
     "output_type": "stream",
     "text": [
      "thank you\n"
     ]
    }
   ],
   "source": [
    "print('thank you')"
   ]
  },
  {
   "cell_type": "code",
   "execution_count": 50,
   "id": "64f441b7",
   "metadata": {},
   "outputs": [],
   "source": [
    "#polymorphism"
   ]
  },
  {
   "cell_type": "code",
   "execution_count": 56,
   "id": "777b0cf6",
   "metadata": {},
   "outputs": [],
   "source": [
    "a = open('a.txt', 'r+')\n",
    "\n",
    "a.write('hello')\n",
    "a.close()"
   ]
  },
  {
   "cell_type": "code",
   "execution_count": 57,
   "id": "3ee37b11",
   "metadata": {},
   "outputs": [
    {
     "data": {
      "text/plain": [
       "'hello name is Nashit...hello'"
      ]
     },
     "execution_count": 57,
     "metadata": {},
     "output_type": "execute_result"
    }
   ],
   "source": [
    "a = open('a.txt', 'r+')\n",
    "a.read()"
   ]
  },
  {
   "cell_type": "code",
   "execution_count": 58,
   "id": "5a293d9f",
   "metadata": {},
   "outputs": [],
   "source": [
    "a.close() "
   ]
  },
  {
   "cell_type": "code",
   "execution_count": 62,
   "id": "3f0da5d1",
   "metadata": {},
   "outputs": [],
   "source": [
    "b = open('a.txt', 'w+')"
   ]
  },
  {
   "cell_type": "code",
   "execution_count": 63,
   "id": "ad3c87b1",
   "metadata": {},
   "outputs": [
    {
     "data": {
      "text/plain": [
       "''"
      ]
     },
     "execution_count": 63,
     "metadata": {},
     "output_type": "execute_result"
    }
   ],
   "source": [
    "b.read()"
   ]
  },
  {
   "cell_type": "code",
   "execution_count": 64,
   "id": "cea83e38",
   "metadata": {},
   "outputs": [
    {
     "name": "stdout",
     "output_type": "stream",
     "text": [
      "welcomepythonwelcomepythonwelcomepythonwelcomepythonwelcomepython\n"
     ]
    }
   ],
   "source": [
    "print(('welcome' + 'python')*5)"
   ]
  },
  {
   "cell_type": "code",
   "execution_count": 66,
   "id": "f0463801",
   "metadata": {},
   "outputs": [
    {
     "data": {
      "text/plain": [
       "8"
      ]
     },
     "execution_count": 66,
     "metadata": {},
     "output_type": "execute_result"
    }
   ],
   "source": [
    "a = [5, 8, 2, 7]\n",
    "max(a)"
   ]
  },
  {
   "cell_type": "code",
   "execution_count": 69,
   "id": "d99ceccf",
   "metadata": {},
   "outputs": [
    {
     "data": {
      "text/plain": [
       "'Ambika'"
      ]
     },
     "execution_count": 69,
     "metadata": {},
     "output_type": "execute_result"
    }
   ],
   "source": [
    "a = ['Mukesh', 'Damodar', 'Ambika', 'Smriti']\n",
    "min(a)"
   ]
  },
  {
   "cell_type": "code",
   "execution_count": 71,
   "id": "28da7140",
   "metadata": {},
   "outputs": [
    {
     "name": "stdout",
     "output_type": "stream",
     "text": [
      "enter a number22\n",
      "even\n"
     ]
    }
   ],
   "source": [
    "a = int(input('enter a number'))\n",
    "\n",
    "if(a%2==0):print('even')\n",
    "else:print('odd')"
   ]
  },
  {
   "cell_type": "code",
   "execution_count": 107,
   "id": "b95043d0",
   "metadata": {},
   "outputs": [],
   "source": [
    "def hist( items ): # create function\n",
    "    for n in items: # for loop through values of n \n",
    "        output = ''\n",
    "        times = n\n",
    "        while( times > 0 ): # check condition of counter \n",
    "            output += '*'\n",
    "            times -= 1 # decrement the counter print(output)\n",
    "        print(output)"
   ]
  },
  {
   "cell_type": "code",
   "execution_count": 108,
   "id": "a8918f59",
   "metadata": {},
   "outputs": [
    {
     "name": "stdout",
     "output_type": "stream",
     "text": [
      "*****\n",
      "****\n"
     ]
    }
   ],
   "source": [
    "hist([5, 4])"
   ]
  },
  {
   "cell_type": "code",
   "execution_count": 94,
   "id": "5ed9b787",
   "metadata": {},
   "outputs": [
    {
     "data": {
      "text/plain": [
       "5"
      ]
     },
     "execution_count": 94,
     "metadata": {},
     "output_type": "execute_result"
    }
   ],
   "source": [
    "import math\n",
    "math.gcd(75, 5)"
   ]
  },
  {
   "cell_type": "code",
   "execution_count": 87,
   "id": "b813f783",
   "metadata": {},
   "outputs": [],
   "source": [
    "def gcd(a,b):\n",
    "    if(a>b):c=b\n",
    "    else:c=a\n",
    "        \n",
    "    for i in range(1, c+1):\n",
    "        if((a%i == 0 and b%i==0)):gcd_n=i\n",
    "            \n",
    "    return gcd_n"
   ]
  },
  {
   "cell_type": "code",
   "execution_count": 93,
   "id": "484d9baa",
   "metadata": {},
   "outputs": [
    {
     "data": {
      "text/plain": [
       "25"
      ]
     },
     "execution_count": 93,
     "metadata": {},
     "output_type": "execute_result"
    }
   ],
   "source": [
    "gcd(125, 25)"
   ]
  },
  {
   "cell_type": "code",
   "execution_count": 103,
   "id": "15a6151d",
   "metadata": {},
   "outputs": [],
   "source": [
    "def lcm(a,b):\n",
    "    if a>b: c=a\n",
    "    else: c=b\n",
    "    \n",
    "    if(c%a == 0 and c%b == 0):\n",
    "        lcm_n=c\n",
    "        \n",
    "        c+=1\n",
    "        return lcm_n\n"
   ]
  },
  {
   "cell_type": "markdown",
   "id": "bca8717e",
   "metadata": {},
   "source": [
    "lcm(5,3)"
   ]
  },
  {
   "cell_type": "code",
   "execution_count": 105,
   "id": "03c9f9f5",
   "metadata": {},
   "outputs": [],
   "source": [
    "lcm(5,3)"
   ]
  },
  {
   "cell_type": "code",
   "execution_count": 5,
   "id": "a6e72c73",
   "metadata": {},
   "outputs": [
    {
     "name": "stdout",
     "output_type": "stream",
     "text": [
      "***\n",
      "***\n",
      "***\n"
     ]
    }
   ],
   "source": [
    "def histogram( items ):\n",
    "    for n in items:\n",
    "        output=''\n",
    "        times = len(items)\n",
    "        while(times>0):\n",
    "            output += '*'\n",
    "            times -= 1\n",
    "        print(output)\n",
    "            \n",
    "histogram([1,5, 5])"
   ]
  },
  {
   "cell_type": "code",
   "execution_count": 1,
   "id": "a9a21c01",
   "metadata": {},
   "outputs": [],
   "source": [
    "import numpy as np\n",
    "import matplotlib.pyplot as plt"
   ]
  },
  {
   "cell_type": "code",
   "execution_count": 9,
   "id": "abaf20ae",
   "metadata": {},
   "outputs": [
    {
     "data": {
      "image/png": "[encoded data removed]",
      "text/plain": [
       "<Figure size 800x800 with 1 Axes>"
      ]
     },
     "metadata": {},
     "output_type": "display_data"
    }
   ],
   "source": [
    "a = np.array([1, 5, 6, 4])\n",
    "\n",
    "\n",
    "figure, axis = plt.subplots(figsize=(8,8))\n",
    "axis.hist(a, bins=[1,2,3,4])\n",
    "plt.show()"
   ]
  },
  {
   "cell_type": "code",
   "execution_count": 10,
   "id": "9d8737eb",
   "metadata": {},
   "outputs": [
    {
     "name": "stdout",
     "output_type": "stream",
     "text": [
      "3\n"
     ]
    }
   ],
   "source": [
    "print(1+2)"
   ]
  },
  {
   "cell_type": "code",
   "execution_count": 11,
   "id": "94e45d77",
   "metadata": {},
   "outputs": [
    {
     "name": "stdout",
     "output_type": "stream",
     "text": [
      "12\n"
     ]
    }
   ],
   "source": [
    "print('1'+'2')"
   ]
  },
  {
   "cell_type": "code",
   "execution_count": 12,
   "id": "1ba263d5",
   "metadata": {},
   "outputs": [
    {
     "name": "stdout",
     "output_type": "stream",
     "text": [
      "100\n"
     ]
    }
   ],
   "source": [
    "print(5*20)"
   ]
  },
  {
   "cell_type": "code",
   "execution_count": 13,
   "id": "ad05eb05",
   "metadata": {},
   "outputs": [
    {
     "name": "stdout",
     "output_type": "stream",
     "text": [
      "55555555555555555555\n"
     ]
    }
   ],
   "source": [
    "print('5'*20)"
   ]
  },
  {
   "cell_type": "code",
   "execution_count": 14,
   "id": "2d5292f4",
   "metadata": {},
   "outputs": [
    {
     "data": {
      "text/plain": [
       "6"
      ]
     },
     "execution_count": 14,
     "metadata": {},
     "output_type": "execute_result"
    }
   ],
   "source": [
    "len('Nashit')"
   ]
  },
  {
   "cell_type": "code",
   "execution_count": 15,
   "id": "e8cb93bc",
   "metadata": {},
   "outputs": [
    {
     "data": {
      "text/plain": [
       "5"
      ]
     },
     "execution_count": 15,
     "metadata": {},
     "output_type": "execute_result"
    }
   ],
   "source": [
    "len([5,4,True, 5, 'jg'])"
   ]
  },
  {
   "cell_type": "code",
   "execution_count": 16,
   "id": "382e841b",
   "metadata": {},
   "outputs": [
    {
     "data": {
      "text/plain": [
       "4"
      ]
     },
     "execution_count": 16,
     "metadata": {},
     "output_type": "execute_result"
    }
   ],
   "source": [
    "len({8, True, 'UHYV', 4})"
   ]
  },
  {
   "cell_type": "code",
   "execution_count": 17,
   "id": "7e348cc0",
   "metadata": {},
   "outputs": [
    {
     "data": {
      "text/plain": [
       "3"
      ]
     },
     "execution_count": 17,
     "metadata": {},
     "output_type": "execute_result"
    }
   ],
   "source": [
    "len((4,6,7))"
   ]
  },
  {
   "cell_type": "code",
   "execution_count": 57,
   "id": "315199ce",
   "metadata": {},
   "outputs": [],
   "source": [
    "class NSTI:\n",
    "    def hello(self, name):\n",
    "        print('Welcome to the team: ' +  name)\n",
    "        \n",
    "class ADIT(NSTI):\n",
    "    def hello(self, name):\n",
    "        super().hello(name)\n",
    "        print('This is ADIT Batch 2022-2023' + name) #overriding"
   ]
  },
  {
   "cell_type": "code",
   "execution_count": 58,
   "id": "7ab0c741",
   "metadata": {},
   "outputs": [],
   "source": [
    "Jitendar = NSTI()"
   ]
  },
  {
   "cell_type": "code",
   "execution_count": 59,
   "id": "14bd9567",
   "metadata": {},
   "outputs": [
    {
     "name": "stdout",
     "output_type": "stream",
     "text": [
      "Welcome to the team: Jitendar\n"
     ]
    }
   ],
   "source": [
    "Jitendar.hello('Jitendar')"
   ]
  },
  {
   "cell_type": "code",
   "execution_count": 60,
   "id": "60b7306d",
   "metadata": {},
   "outputs": [],
   "source": [
    "Damodar = ADIT()"
   ]
  },
  {
   "cell_type": "code",
   "execution_count": 62,
   "id": "b835f74a",
   "metadata": {},
   "outputs": [
    {
     "name": "stdout",
     "output_type": "stream",
     "text": [
      "Welcome to the team: Damodar\n",
      "This is ADIT Batch 2022-2023Damodar\n"
     ]
    }
   ],
   "source": [
    "Damodar.hello('Damodar')"
   ]
  },
  {
   "cell_type": "code",
   "execution_count": 69,
   "id": "d324f24f",
   "metadata": {},
   "outputs": [
    {
     "name": "stdout",
     "output_type": "stream",
     "text": [
      "enter temp in celsius-40\n",
      "-40.0 °F, in fahrenheit\n"
     ]
    }
   ],
   "source": [
    "celsius = float(input('enter temp in celsius'))\n",
    "fahre = ((celsius*9/5)+32)\n",
    "print('{} °F, in fahrenheit'.format(fahre))\n"
   ]
  },
  {
   "cell_type": "code",
   "execution_count": 70,
   "id": "d33398da",
   "metadata": {},
   "outputs": [
    {
     "name": "stdout",
     "output_type": "stream",
     "text": [
      "enter temp in fahrenheit98.6\n",
      "37.0 °C, in celsius\n"
     ]
    }
   ],
   "source": [
    "fah = float(input('enter temp in fahrenheit'))\n",
    "cel = 5/9*(fah-32)\n",
    "print('{} °C, in celsius'.format(cel))"
   ]
  },
  {
   "cell_type": "code",
   "execution_count": 75,
   "id": "45930d9d",
   "metadata": {
    "scrolled": true
   },
   "outputs": [
    {
     "name": "stdout",
     "output_type": "stream",
     "text": [
      "how many10\n",
      "Fibonacci Series is: \n",
      "0\n",
      "1\n",
      "1\n",
      "2\n",
      "3\n",
      "5\n",
      "8\n",
      "13\n",
      "21\n",
      "34\n"
     ]
    }
   ],
   "source": [
    "a = int(input('how many'))\n",
    "n1, n2 = 0, 1\n",
    "count = 0\n",
    "\n",
    "if a<=0:\n",
    "    print('Fibonacci series wont exist for 0 or negative')\n",
    "    \n",
    "elif a==1:\n",
    "    print('Fibonacci series: ', n1)\n",
    "else:\n",
    "    print('Fibonacci Series is: ')\n",
    "    while count<a:\n",
    "        print(n1)\n",
    "        nth = n1+n2\n",
    "        n1=n2\n",
    "        n2=nth\n",
    "        count+=1"
   ]
  },
  {
   "cell_type": "code",
   "execution_count": 80,
   "id": "554919e6",
   "metadata": {},
   "outputs": [
    {
     "name": "stdout",
     "output_type": "stream",
     "text": [
      "enter the number: 5\n",
      "factorial of 5 is 120\n"
     ]
    }
   ],
   "source": [
    "a = int(input('enter the number: '))\n",
    "b = 1\n",
    "for i in range(1, a+1):\n",
    "    b = b * i\n",
    "print('factorial of {} is'.format(a), b)"
   ]
  },
  {
   "cell_type": "code",
   "execution_count": 84,
   "id": "4e4698ff",
   "metadata": {},
   "outputs": [
    {
     "name": "stdout",
     "output_type": "stream",
     "text": [
      "enter the number: 5\n",
      "factorial of 5 is:  120 \n"
     ]
    }
   ],
   "source": [
    "import math\n",
    "a = int(input('enter the number: '))\n",
    "\n",
    "b = math.factorial(a)\n",
    "print('factorial of {} is:  {} '.format(a, b))"
   ]
  },
  {
   "cell_type": "code",
   "execution_count": 92,
   "id": "5d2d9389",
   "metadata": {},
   "outputs": [
    {
     "name": "stdout",
     "output_type": "stream",
     "text": [
      "Dad\n",
      "the text is palindrome\n"
     ]
    }
   ],
   "source": [
    "a = input()\n",
    "c = a.casefold()\n",
    "b = reversed(c)\n",
    "\n",
    "if list(c)==list(b):\n",
    "    print('the text is palindrome')\n",
    "else:\n",
    "    print('not a palindrome')"
   ]
  },
  {
   "cell_type": "code",
   "execution_count": 94,
   "id": "6e81e7f8",
   "metadata": {},
   "outputs": [
    {
     "name": "stdout",
     "output_type": "stream",
     "text": [
      "enter the radius: 5\n"
     ]
    }
   ],
   "source": [
    "import math\n",
    "class Circle():\n",
    "    def __init__(self, radius):\n",
    "        self.radius=radius\n",
    "    def area(self):\n",
    "        return math.pi*self.radius**2\n",
    "    def perimeter(self):\n",
    "        return 2*math.pi*self.radius\n",
    "    \n",
    "a = float(input('enter the radius: '))\n",
    "\n",
    "first = Circle(a)"
   ]
  },
  {
   "cell_type": "code",
   "execution_count": 98,
   "id": "5a520604",
   "metadata": {},
   "outputs": [
    {
     "name": "stdout",
     "output_type": "stream",
     "text": [
      "area of the circle with radius 5.0 is 78.53981633974483\n"
     ]
    }
   ],
   "source": [
    "print('area of the circle with radius {} is {}'.format(a,first.area()))"
   ]
  },
  {
   "cell_type": "code",
   "execution_count": 96,
   "id": "0af4c90d",
   "metadata": {},
   "outputs": [
    {
     "data": {
      "text/plain": [
       "31.41592653589793"
      ]
     },
     "execution_count": 96,
     "metadata": {},
     "output_type": "execute_result"
    }
   ],
   "source": [
    "first.perimeter()"
   ]
  },
  {
   "cell_type": "code",
   "execution_count": 105,
   "id": "d4c95e74",
   "metadata": {},
   "outputs": [],
   "source": [
    "def bubblesort(a):\n",
    "    n = len(a)\n",
    "    c =False\n",
    "    for i in range(n-1):\n",
    "        for j in (0, n-i-1):\n",
    "            if a[j]>a[j+1]:\n",
    "                c = True\n",
    "                a[j],a[j+1]=a[j+1],a[j]\n",
    "                print(a[j])\n",
    "            if not c:\n",
    "                print (a[i])\n",
    "        \n",
    "a = [12, 24, 32, 24, 26, 54]\n",
    "\n",
    "#for i in range(len(a)):\n",
    "    #print(a[i])\n"
   ]
  },
  {
   "cell_type": "code",
   "execution_count": 109,
   "id": "e9b44dbd",
   "metadata": {},
   "outputs": [
    {
     "ename": "ValueError",
     "evalue": "I/O operation on closed file.",
     "output_type": "error",
     "traceback": [
      "\u001b[1;31m---------------------------------------------------------------------------\u001b[0m",
      "\u001b[1;31mValueError\u001b[0m                                Traceback (most recent call last)",
      "Cell \u001b[1;32mIn[109], line 2\u001b[0m\n\u001b[0;32m      1\u001b[0m \u001b[38;5;28;01mwith\u001b[39;00m \u001b[38;5;28mopen\u001b[39m(\u001b[38;5;124m'\u001b[39m\u001b[38;5;124mabc.txt\u001b[39m\u001b[38;5;124m'\u001b[39m, \u001b[38;5;124m'\u001b[39m\u001b[38;5;124mr\u001b[39m\u001b[38;5;124m'\u001b[39m) \u001b[38;5;28;01mas\u001b[39;00m a, \u001b[38;5;28mopen\u001b[39m(\u001b[38;5;124m'\u001b[39m\u001b[38;5;124mbcd.txt\u001b[39m\u001b[38;5;124m'\u001b[39m, \u001b[38;5;124m'\u001b[39m\u001b[38;5;124ma+\u001b[39m\u001b[38;5;124m'\u001b[39m) \u001b[38;5;28;01mas\u001b[39;00m b:\n\u001b[1;32m----> 2\u001b[0m     \u001b[38;5;28;01mfor\u001b[39;00m line \u001b[38;5;129;01min\u001b[39;00m first:\n\u001b[0;32m      3\u001b[0m         second\u001b[38;5;241m.\u001b[39mwrite(line)\n\u001b[0;32m      4\u001b[0m a\u001b[38;5;241m.\u001b[39mclose()\n",
      "\u001b[1;31mValueError\u001b[0m: I/O operation on closed file."
     ]
    }
   ],
   "source": [
    "with open('abc.txt', 'r') as a, open('bcd.txt', 'a+') as b:\n",
    "    for line in first:\n",
    "        second.write(line)\n"
   ]
  },
  {
   "cell_type": "code",
   "execution_count": null,
   "id": "26071741",
   "metadata": {},
   "outputs": [],
   "source": [
    "a = "
   ]
  }
 ],
 "metadata": {
  "kernelspec": {
   "display_name": "Python 3 (ipykernel)",
   "language": "python",
   "name": "python3"
  },
  "language_info": {
   "codemirror_mode": {
    "name": "ipython",
    "version": 3
   },
   "file_extension": ".py",
   "mimetype": "text/x-python",
   "name": "python",
   "nbconvert_exporter": "python",
   "pygments_lexer": "ipython3",
   "version": "3.10.11"
  }
 },
 "nbformat": 4,
 "nbformat_minor": 5
}
