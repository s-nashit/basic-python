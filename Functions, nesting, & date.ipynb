{
 "cells": [
  {
   "cell_type": "code",
   "execution_count": 14,
   "id": "8fa6dac4",
   "metadata": {},
   "outputs": [
    {
     "name": "stdout",
     "output_type": "stream",
     "text": [
      "\n",
      "0\n",
      "01\n",
      "012\n",
      "0123\n",
      "01234\n"
     ]
    }
   ],
   "source": [
    "for a in range(6):\n",
    "    for b in range(a):\n",
    "        print(b, end='')\n",
    "    print('')"
   ]
  },
  {
   "cell_type": "code",
   "execution_count": 12,
   "id": "92b36e8b",
   "metadata": {},
   "outputs": [
    {
     "name": "stdout",
     "output_type": "stream",
     "text": [
      "a\n",
      "b\n"
     ]
    }
   ],
   "source": [
    "print('a')\n",
    "print('b')"
   ]
  },
  {
   "cell_type": "code",
   "execution_count": 17,
   "id": "2fef7a0c",
   "metadata": {},
   "outputs": [
    {
     "name": "stdout",
     "output_type": "stream",
     "text": [
      "\n",
      "*\n",
      "**\n",
      "***\n",
      "****\n",
      "*****\n",
      "******\n",
      "*******\n",
      "********\n",
      "*********\n",
      "**********\n"
     ]
    }
   ],
   "source": [
    "for a in range(11):\n",
    "    for b in range(a):\n",
    "        print('*', end='')\n",
    "    print('')"
   ]
  },
  {
   "cell_type": "code",
   "execution_count": 18,
   "id": "ea6f223f",
   "metadata": {},
   "outputs": [
    {
     "name": "stdout",
     "output_type": "stream",
     "text": [
      "54321\n",
      "5432\n",
      "543\n",
      "54\n",
      "5\n"
     ]
    }
   ],
   "source": [
    "a = 1\n",
    "\n",
    "while(a<=5):\n",
    "    b=5\n",
    "    while(b>=a):\n",
    "        print(b, end='')\n",
    "        b-=1\n",
    "    a+=1\n",
    "    print('')"
   ]
  },
  {
   "cell_type": "markdown",
   "id": "cd052208",
   "metadata": {},
   "source": [
    "import module/library as var\n",
    "import class from module/library"
   ]
  },
  {
   "cell_type": "code",
   "execution_count": 25,
   "id": "8d78b264",
   "metadata": {},
   "outputs": [],
   "source": [
    "import datetime as x"
   ]
  },
  {
   "cell_type": "code",
   "execution_count": 26,
   "id": "80bc7902",
   "metadata": {},
   "outputs": [
    {
     "name": "stdout",
     "output_type": "stream",
     "text": [
      "2023-07-11 14:46:10.406263\n"
     ]
    }
   ],
   "source": [
    "a = x.datetime.now()\n",
    "print(a)"
   ]
  },
  {
   "cell_type": "code",
   "execution_count": 29,
   "id": "b9e4906f",
   "metadata": {},
   "outputs": [
    {
     "name": "stdout",
     "output_type": "stream",
     "text": [
      "2023-07-11\n"
     ]
    }
   ],
   "source": [
    "b = x.date.today()\n",
    "print(b)"
   ]
  },
  {
   "cell_type": "code",
   "execution_count": 30,
   "id": "31f516c7",
   "metadata": {},
   "outputs": [
    {
     "name": "stdout",
     "output_type": "stream",
     "text": [
      "['MAXYEAR', 'MINYEAR', '__all__', '__builtins__', '__cached__', '__doc__', '__file__', '__loader__', '__name__', '__package__', '__spec__', 'date', 'datetime', 'datetime_CAPI', 'sys', 'time', 'timedelta', 'timezone', 'tzinfo']\n"
     ]
    }
   ],
   "source": [
    "print(dir(x))"
   ]
  },
  {
   "cell_type": "code",
   "execution_count": 41,
   "id": "5df04852",
   "metadata": {},
   "outputs": [
    {
     "name": "stdout",
     "output_type": "stream",
     "text": [
      "2023-04-30\n",
      "2023-07-11\n",
      "2023-07-11\n"
     ]
    }
   ],
   "source": [
    "from datetime import date\n",
    "a = date(2023, 4, 30)\n",
    "print(a)\n",
    "print(date.today())\n",
    "b = date.fromtimestamp(1689067563)\n",
    "print(b)"
   ]
  },
  {
   "cell_type": "code",
   "execution_count": 43,
   "id": "00af52ad",
   "metadata": {},
   "outputs": [
    {
     "name": "stdout",
     "output_type": "stream",
     "text": [
      "2023-07-11\n"
     ]
    }
   ],
   "source": [
    "from datetime import date\n",
    "print(date.fromtimestamp(1689067563))"
   ]
  },
  {
   "cell_type": "code",
   "execution_count": 46,
   "id": "3008def2",
   "metadata": {},
   "outputs": [
    {
     "name": "stdout",
     "output_type": "stream",
     "text": [
      "11\n"
     ]
    }
   ],
   "source": [
    "a = date.today()\n",
    "print(a.day)"
   ]
  },
  {
   "cell_type": "code",
   "execution_count": 52,
   "id": "e00b0bd9",
   "metadata": {},
   "outputs": [],
   "source": [
    "from datetime import datetime\n",
    "a = datetime(year=2003, month=4, day=19, hour=22, minute=8, second=12)"
   ]
  },
  {
   "cell_type": "code",
   "execution_count": 53,
   "id": "6989084d",
   "metadata": {},
   "outputs": [
    {
     "data": {
      "text/plain": [
       "2003"
      ]
     },
     "execution_count": 53,
     "metadata": {},
     "output_type": "execute_result"
    }
   ],
   "source": [
    "a.year"
   ]
  },
  {
   "cell_type": "code",
   "execution_count": 54,
   "id": "899934fa",
   "metadata": {},
   "outputs": [
    {
     "data": {
      "text/plain": [
       "1050770292.0"
      ]
     },
     "execution_count": 54,
     "metadata": {},
     "output_type": "execute_result"
    }
   ],
   "source": [
    "a.timestamp()"
   ]
  },
  {
   "cell_type": "code",
   "execution_count": 62,
   "id": "9b7309c5",
   "metadata": {},
   "outputs": [
    {
     "data": {
      "text/plain": [
       "'Tuesday'"
      ]
     },
     "execution_count": 62,
     "metadata": {},
     "output_type": "execute_result"
    }
   ],
   "source": [
    "from datetime import datetime\n",
    "a = datetime.now()\n",
    "a.isoweekday()\n",
    "a.strftime('%A')"
   ]
  },
  {
   "cell_type": "markdown",
   "id": "4e45780f",
   "metadata": {},
   "source": [
    "Functions"
   ]
  },
  {
   "cell_type": "code",
   "execution_count": 55,
   "id": "c13a7d5d",
   "metadata": {},
   "outputs": [],
   "source": [
    "def a():\n",
    "    print('Hello')"
   ]
  },
  {
   "cell_type": "code",
   "execution_count": 56,
   "id": "c21b9c1b",
   "metadata": {},
   "outputs": [
    {
     "name": "stdout",
     "output_type": "stream",
     "text": [
      "Hello\n"
     ]
    }
   ],
   "source": [
    "a()"
   ]
  },
  {
   "cell_type": "code",
   "execution_count": 57,
   "id": "e82aaf0e",
   "metadata": {},
   "outputs": [],
   "source": [
    "def b():print(5*2)"
   ]
  },
  {
   "cell_type": "code",
   "execution_count": 58,
   "id": "49d72369",
   "metadata": {},
   "outputs": [
    {
     "name": "stdout",
     "output_type": "stream",
     "text": [
      "10\n"
     ]
    }
   ],
   "source": [
    "b()"
   ]
  },
  {
   "cell_type": "code",
   "execution_count": 63,
   "id": "4495782c",
   "metadata": {},
   "outputs": [],
   "source": [
    "def addi(a,b):print(a+b)"
   ]
  },
  {
   "cell_type": "code",
   "execution_count": 64,
   "id": "58681f79",
   "metadata": {},
   "outputs": [
    {
     "name": "stdout",
     "output_type": "stream",
     "text": [
      "64\n"
     ]
    }
   ],
   "source": [
    "addi(8,56)"
   ]
  },
  {
   "cell_type": "code",
   "execution_count": 65,
   "id": "945a5573",
   "metadata": {},
   "outputs": [],
   "source": [
    "def subs(a,b):print(a-b)"
   ]
  },
  {
   "cell_type": "code",
   "execution_count": 66,
   "id": "6f675b36",
   "metadata": {},
   "outputs": [
    {
     "name": "stdout",
     "output_type": "stream",
     "text": [
      "44\n"
     ]
    }
   ],
   "source": [
    "subs(68, 24)"
   ]
  },
  {
   "cell_type": "code",
   "execution_count": 67,
   "id": "3ac7a8a0",
   "metadata": {},
   "outputs": [],
   "source": [
    "def calc(a,b):\n",
    "    print(a+b)\n",
    "    print(a-b)\n",
    "    print(a*b)\n",
    "    print(a/b)\n",
    "    print(a**b)\n",
    "    print(a%b)"
   ]
  },
  {
   "cell_type": "code",
   "execution_count": 68,
   "id": "6f817b09",
   "metadata": {},
   "outputs": [
    {
     "name": "stdout",
     "output_type": "stream",
     "text": [
      "11\n",
      "5\n",
      "24\n",
      "2.6666666666666665\n",
      "512\n",
      "2\n"
     ]
    }
   ],
   "source": [
    "calc(8, 3)"
   ]
  },
  {
   "cell_type": "code",
   "execution_count": 1,
   "id": "abd03746",
   "metadata": {},
   "outputs": [],
   "source": [
    "def sum(a,b):\n",
    "    print(a+b)"
   ]
  },
  {
   "cell_type": "code",
   "execution_count": 2,
   "id": "b43b56ae",
   "metadata": {},
   "outputs": [
    {
     "name": "stdout",
     "output_type": "stream",
     "text": [
      "17\n"
     ]
    }
   ],
   "source": [
    "sum(8,9)"
   ]
  },
  {
   "cell_type": "code",
   "execution_count": 11,
   "id": "c78671db",
   "metadata": {},
   "outputs": [],
   "source": [
    "aadd = lambda a,b:print((a+b),(a-b),(a*b))"
   ]
  },
  {
   "cell_type": "code",
   "execution_count": 12,
   "id": "e5414995",
   "metadata": {},
   "outputs": [
    {
     "name": "stdout",
     "output_type": "stream",
     "text": [
      "14 2 48\n"
     ]
    }
   ],
   "source": [
    "aadd(8,6)"
   ]
  },
  {
   "cell_type": "code",
   "execution_count": 6,
   "id": "15287837",
   "metadata": {},
   "outputs": [
    {
     "name": "stdout",
     "output_type": "stream",
     "text": [
      "128\n"
     ]
    }
   ],
   "source": [
    "print((lambda a,b: a+b)(5,123))"
   ]
  },
  {
   "cell_type": "code",
   "execution_count": 13,
   "id": "4f263c06",
   "metadata": {},
   "outputs": [
    {
     "name": "stdout",
     "output_type": "stream",
     "text": [
      "64\n"
     ]
    }
   ],
   "source": [
    "def pow(a,b):\n",
    "    print(a**b)\n",
    "    \n",
    "pow(4,3)"
   ]
  },
  {
   "cell_type": "code",
   "execution_count": 15,
   "id": "623ebcce",
   "metadata": {},
   "outputs": [
    {
     "name": "stdout",
     "output_type": "stream",
     "text": [
      "64\n"
     ]
    }
   ],
   "source": [
    "print((lambda a,b:a**b)(4,3))"
   ]
  },
  {
   "cell_type": "code",
   "execution_count": 16,
   "id": "e2997267",
   "metadata": {},
   "outputs": [],
   "source": [
    "sum = lambda a, b, c, d, e:print(a+b-c*d/e)"
   ]
  },
  {
   "cell_type": "code",
   "execution_count": 17,
   "id": "06c568b5",
   "metadata": {},
   "outputs": [
    {
     "name": "stdout",
     "output_type": "stream",
     "text": [
      "10.2\n"
     ]
    }
   ],
   "source": [
    "sum(8, 7, 6, 4, 5)"
   ]
  },
  {
   "cell_type": "code",
   "execution_count": 18,
   "id": "db44fb37",
   "metadata": {},
   "outputs": [],
   "source": [
    "def sum(a,b,c,d,e):\n",
    "    print(a+b-c*d/e)"
   ]
  },
  {
   "cell_type": "code",
   "execution_count": 19,
   "id": "f80c6faa",
   "metadata": {},
   "outputs": [
    {
     "name": "stdout",
     "output_type": "stream",
     "text": [
      "10.2\n"
     ]
    }
   ],
   "source": [
    "sum(8, 7, 6, 4, 5)"
   ]
  },
  {
   "cell_type": "code",
   "execution_count": 20,
   "id": "158a63e0",
   "metadata": {},
   "outputs": [
    {
     "name": "stdout",
     "output_type": "stream",
     "text": [
      "64\n"
     ]
    }
   ],
   "source": [
    "def calc(a):print(a**2)\n",
    "\n",
    "calc(8)"
   ]
  },
  {
   "cell_type": "code",
   "execution_count": 21,
   "id": "dcbdafe6",
   "metadata": {},
   "outputs": [
    {
     "name": "stdout",
     "output_type": "stream",
     "text": [
      "64\n"
     ]
    }
   ],
   "source": [
    "print((lambda a:a**2)(8))"
   ]
  },
  {
   "cell_type": "code",
   "execution_count": 46,
   "id": "3d5e963d",
   "metadata": {},
   "outputs": [
    {
     "name": "stdout",
     "output_type": "stream",
     "text": [
      "87\n",
      "56\n",
      "45\n",
      "27\n"
     ]
    }
   ],
   "source": [
    "age = [6, 87, 12, 56, 45, 27, 17, 10]\n",
    "\n",
    "def voter(a):\n",
    "    if a>=18:\n",
    "        return True\n",
    "    else:\n",
    "        return False\n",
    "        \n",
    "voters = list(filter(voter, age))\n",
    "\n",
    "for x in voters:print(x)"
   ]
  },
  {
   "cell_type": "code",
   "execution_count": 48,
   "id": "00142bfe",
   "metadata": {},
   "outputs": [
    {
     "name": "stdout",
     "output_type": "stream",
     "text": [
      "<filter object at 0x0000025531F53010>\n"
     ]
    }
   ],
   "source": [
    "age = [6, 87, 12, 56, 45, 27, 17, 10]\n",
    "voters = filter(lambda a: a>=18, age)\n",
    "print(voters)"
   ]
  },
  {
   "cell_type": "code",
   "execution_count": 49,
   "id": "ae8312c7",
   "metadata": {},
   "outputs": [
    {
     "name": "stdout",
     "output_type": "stream",
     "text": [
      "87\n",
      "56\n",
      "45\n",
      "27\n"
     ]
    }
   ],
   "source": [
    "for x in voters:print(x)"
   ]
  },
  {
   "cell_type": "code",
   "execution_count": 56,
   "id": "a03d4719",
   "metadata": {},
   "outputs": [],
   "source": [
    "nsti = ['ALD', 'ALD', 'MUM', 'KOL', 'PAT', 'KNP', 'DDN', 'KNP']\n",
    "\n",
    "def mukesh(a):\n",
    "    if a == 'ALD' or a=='PAT' or a=='KNP' or a=='DDN':\n",
    "        return True\n",
    "    else:\n",
    "        return False\n",
    "    \n",
    "allowed = filter(mukesh, nsti)"
   ]
  },
  {
   "cell_type": "code",
   "execution_count": 57,
   "id": "45efac5c",
   "metadata": {},
   "outputs": [
    {
     "name": "stdout",
     "output_type": "stream",
     "text": [
      "ALD\n",
      "ALD\n",
      "PAT\n",
      "KNP\n",
      "DDN\n",
      "KNP\n"
     ]
    }
   ],
   "source": [
    "for x in allowed:print(x)"
   ]
  },
  {
   "cell_type": "code",
   "execution_count": 65,
   "id": "631e6957",
   "metadata": {},
   "outputs": [
    {
     "name": "stdout",
     "output_type": "stream",
     "text": [
      "ALD\n",
      "ALD\n",
      "MUM\n",
      "MUM\n",
      "KNP\n",
      "DDN\n",
      "KNP\n"
     ]
    }
   ],
   "source": [
    "nsti = ['ALD', 'ALD', 'MUM', 'MUM', 'PAT', 'KNP', 'DDN', 'KNP']\n",
    "\n",
    "allowed = filter(lambda a: a!='PAT', nsti)\n",
    "for x in allowed:print(x)"
   ]
  },
  {
   "cell_type": "code",
   "execution_count": 68,
   "id": "0522c593",
   "metadata": {},
   "outputs": [
    {
     "name": "stdout",
     "output_type": "stream",
     "text": [
      "87\n",
      "74\n",
      "79\n"
     ]
    }
   ],
   "source": [
    "marks = [52, 87, 32,74, 79, 59, 25, 102]\n",
    "\n",
    "def firstclass(a):\n",
    "    if a>=60 and a<=100:\n",
    "        return True\n",
    "    else: return False\n",
    "    \n",
    "firstc = filter(firstclass, marks)\n",
    "\n",
    "for x in firstc:print(x)"
   ]
  },
  {
   "cell_type": "code",
   "execution_count": 69,
   "id": "2398c30c",
   "metadata": {},
   "outputs": [
    {
     "name": "stdout",
     "output_type": "stream",
     "text": [
      "87\n",
      "74\n",
      "79\n"
     ]
    }
   ],
   "source": [
    "marks = [52, 87, 32,74, 79, 59, 25, 102]\n",
    "firstclass = filter(lambda a:a>=60 and a<=100, marks)\n",
    "for x in firstclass:print(x)"
   ]
  },
  {
   "cell_type": "code",
   "execution_count": 72,
   "id": "39756a15",
   "metadata": {},
   "outputs": [
    {
     "name": "stdout",
     "output_type": "stream",
     "text": [
      "2\n",
      "6\n",
      "8\n",
      "20\n",
      "28\n",
      "34\n",
      "36\n"
     ]
    }
   ],
   "source": [
    "a = [1, 2, 5, 6, 8, 9, 11, 15, 20, 28, 29, 34, 36, 39]\n",
    "even = list(filter(lambda b:b%2==0, a))\n",
    "for c in even:print(c)"
   ]
  },
  {
   "cell_type": "code",
   "execution_count": 73,
   "id": "a8e21112",
   "metadata": {},
   "outputs": [
    {
     "name": "stdout",
     "output_type": "stream",
     "text": [
      "1\n",
      "5\n",
      "9\n",
      "11\n",
      "15\n",
      "29\n",
      "39\n"
     ]
    }
   ],
   "source": [
    "a = [1, 2, 5, 6, 8, 9, 11, 15, 20, 28, 29, 34, 36, 39]\n",
    "odd = list(filter(lambda b:b%2!=0, a))\n",
    "for c in odd:print(c)"
   ]
  },
  {
   "cell_type": "code",
   "execution_count": 74,
   "id": "db668686",
   "metadata": {},
   "outputs": [
    {
     "name": "stdout",
     "output_type": "stream",
     "text": [
      "2\n",
      "10\n",
      "18\n",
      "22\n",
      "30\n",
      "58\n",
      "78\n"
     ]
    }
   ],
   "source": [
    "a = [1, 2, 5, 6, 8, 9, 11, 15, 20, 28, 29, 34, 36, 39]\n",
    "odd = list(filter(lambda b:b%2!=0, a))\n",
    "double = list(map(lambda c: c*2, odd))\n",
    "for x in double:print(x)"
   ]
  },
  {
   "cell_type": "code",
   "execution_count": 88,
   "id": "36c9fcc6",
   "metadata": {},
   "outputs": [
    {
     "name": "stdout",
     "output_type": "stream",
     "text": [
      "First Class\n",
      "First Class\n",
      "First Class\n",
      "[None, None, None]\n"
     ]
    }
   ],
   "source": [
    "marks = [52, 87, 32,74, 79, 59, 25, 102]\n",
    "firstclass = list(filter(lambda a:a>=60 and a<=100, marks))\n",
    "remarks = list(map(lambda f: print('First Class'), firstclass))\n",
    "print(remarks)"
   ]
  },
  {
   "cell_type": "code",
   "execution_count": 86,
   "id": "5ddaafc1",
   "metadata": {},
   "outputs": [
    {
     "name": "stdout",
     "output_type": "stream",
     "text": [
      "You are a voter\n",
      "You are a voter\n",
      "You are a voter\n",
      "[None, None, None]\n"
     ]
    }
   ],
   "source": [
    "age = [7, 19, 14, 26, 75, 13]\n",
    "voter = filter(lambda a: a>=18, age)\n",
    "remarks = list(map(lambda b : print('You are a voter'), voter))\n",
    "print(remarks)"
   ]
  },
  {
   "cell_type": "code",
   "execution_count": 89,
   "id": "f32ad98d",
   "metadata": {},
   "outputs": [
    {
     "data": {
      "text/plain": [
       "[5, 6, 45, 2, 65, 52, 6, 5, 45, 6, 8, 5]"
      ]
     },
     "execution_count": 89,
     "metadata": {},
     "output_type": "execute_result"
    }
   ],
   "source": [
    "a=[5,6,45,2,65,52,6,5,45,6,8,5]\n",
    "\n",
    "a"
   ]
  },
  {
   "cell_type": "code",
   "execution_count": 102,
   "id": "814ecce4",
   "metadata": {},
   "outputs": [
    {
     "data": {
      "text/plain": [
       "<filter at 0x25531dd3f10>"
      ]
     },
     "execution_count": 102,
     "metadata": {},
     "output_type": "execute_result"
    }
   ],
   "source": [
    "odd=filter(lambda b:b%2!=0, a)\n",
    "odd"
   ]
  },
  {
   "cell_type": "code",
   "execution_count": 103,
   "id": "2a33b3d2",
   "metadata": {},
   "outputs": [
    {
     "name": "stdout",
     "output_type": "stream",
     "text": [
      "5\n",
      "45\n",
      "65\n",
      "5\n",
      "45\n",
      "5\n"
     ]
    }
   ],
   "source": [
    "for x in odd:print(x)"
   ]
  },
  {
   "cell_type": "code",
   "execution_count": 93,
   "id": "c1f15f3f",
   "metadata": {},
   "outputs": [
    {
     "data": {
      "text/plain": [
       "[10, 90, 130, 10, 90, 10]"
      ]
     },
     "execution_count": 93,
     "metadata": {},
     "output_type": "execute_result"
    }
   ],
   "source": [
    "double = list(map(lambda c:c*2,odd))\n",
    "double"
   ]
  },
  {
   "cell_type": "code",
   "execution_count": 100,
   "id": "ba149a42",
   "metadata": {},
   "outputs": [
    {
     "name": "stdout",
     "output_type": "stream",
     "text": [
      "2\n"
     ]
    }
   ],
   "source": [
    "def sq(num1):\n",
    "    return num1*num1\n",
    "\n",
    "numb = [1, 2, 3, 4]\n",
    "\n",
    "result = (numb[0]*2)\n",
    "print(result)"
   ]
  },
  {
   "cell_type": "code",
   "execution_count": 114,
   "id": "6d4fe076",
   "metadata": {},
   "outputs": [
    {
     "data": {
      "text/plain": [
       "<filter at 0x25531f54fd0>"
      ]
     },
     "execution_count": 114,
     "metadata": {},
     "output_type": "execute_result"
    }
   ],
   "source": [
    "age = 35, 12, 18, 20, 16, 27, 30\n",
    "voter = filter(lambda a: a>=18, age)\n",
    "voter"
   ]
  },
  {
   "cell_type": "code",
   "execution_count": 115,
   "id": "5d94b452",
   "metadata": {},
   "outputs": [
    {
     "name": "stdout",
     "output_type": "stream",
     "text": [
      "you can vote\n",
      "None\n",
      "you can vote\n",
      "None\n",
      "you can vote\n",
      "None\n",
      "you can vote\n",
      "None\n",
      "you can vote\n",
      "None\n"
     ]
    }
   ],
   "source": [
    "remarks = map(lambda b: print('you can vote'), voter)\n",
    "for x in remarks:print(x)"
   ]
  },
  {
   "cell_type": "code",
   "execution_count": null,
   "id": "bff12f57",
   "metadata": {},
   "outputs": [],
   "source": []
  }
 ],
 "metadata": {
  "kernelspec": {
   "display_name": "Python 3 (ipykernel)",
   "language": "python",
   "name": "python3"
  },
  "language_info": {
   "codemirror_mode": {
    "name": "ipython",
    "version": 3
   },
   "file_extension": ".py",
   "mimetype": "text/x-python",
   "name": "python",
   "nbconvert_exporter": "python",
   "pygments_lexer": "ipython3",
   "version": "3.10.11"
  }
 },
 "nbformat": 4,
 "nbformat_minor": 5
}
