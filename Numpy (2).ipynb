{
 "cells": [
  {
   "cell_type": "markdown",
   "id": "e3161af4-9357-4fc0-9865-bde51e522795",
   "metadata": {},
   "source": [
    "Numpy Arrays - Introduction"
   ]
  },
  {
   "cell_type": "code",
   "execution_count": 2,
   "id": "f1d53374-1cdb-47e9-a5b9-eef5295d8c1b",
   "metadata": {},
   "outputs": [
    {
     "name": "stdout",
     "output_type": "stream",
     "text": [
      "<class 'list'>\n",
      "[1, 3, 5, 7, 23, 2]\n"
     ]
    }
   ],
   "source": [
    "#This is how lists are\n",
    "a = [1,3,5,7,23,2]\n",
    "print(type(a))\n",
    "print(a)"
   ]
  },
  {
   "cell_type": "code",
   "execution_count": 22,
   "id": "cf99bf36-b301-4ed4-8675-1a8b0428312c",
   "metadata": {},
   "outputs": [
    {
     "name": "stdout",
     "output_type": "stream",
     "text": [
      "[1, 3, 5, True, (2, 5), 'nashit', {3, 5}]\n"
     ]
    },
    {
     "data": {
      "text/plain": [
       "list"
      ]
     },
     "execution_count": 22,
     "metadata": {},
     "output_type": "execute_result"
    }
   ],
   "source": [
    "#every elements maintains its identity\n",
    "b = [1,3,5, True, (2,5), \"nashit\", {3,5}]\n",
    "print(b)\n",
    "type(b)"
   ]
  },
  {
   "cell_type": "code",
   "execution_count": 4,
   "id": "67680d40-0d20-4bdd-9f1c-b75b5bf30a20",
   "metadata": {},
   "outputs": [],
   "source": [
    "import numpy"
   ]
  },
  {
   "cell_type": "code",
   "execution_count": 5,
   "id": "5ff6c6ac-73f9-4fd2-8a87-95f2e7355330",
   "metadata": {},
   "outputs": [
    {
     "data": {
      "text/plain": [
       "'1.26.0'"
      ]
     },
     "execution_count": 5,
     "metadata": {},
     "output_type": "execute_result"
    }
   ],
   "source": [
    "numpy.__version__"
   ]
  },
  {
   "cell_type": "code",
   "execution_count": 4,
   "id": "a6c70636-3655-4c00-b5ef-c3626be228a1",
   "metadata": {},
   "outputs": [
    {
     "data": {
      "text/plain": [
       "'1.23.5'"
      ]
     },
     "execution_count": 4,
     "metadata": {},
     "output_type": "execute_result"
    }
   ],
   "source": [
    "#np -> standard\n",
    "\n",
    "import numpy as np\n",
    "np.__version__"
   ]
  },
  {
   "cell_type": "code",
   "execution_count": 11,
   "id": "d327ce2a-cd1d-4065-bde7-4d4149a5da9c",
   "metadata": {},
   "outputs": [],
   "source": [
    "# np.array -> array constructor\n",
    "arr0 = np.array(5)"
   ]
  },
  {
   "cell_type": "code",
   "execution_count": 12,
   "id": "7416ce2b-5479-4025-9959-132171641fa6",
   "metadata": {},
   "outputs": [
    {
     "name": "stdout",
     "output_type": "stream",
     "text": [
      "5\n"
     ]
    }
   ],
   "source": [
    "print(arr0)"
   ]
  },
  {
   "cell_type": "code",
   "execution_count": 13,
   "id": "0f2ccb87-e743-4da1-bdb8-3b657db7f164",
   "metadata": {},
   "outputs": [
    {
     "data": {
      "text/plain": [
       "numpy.ndarray"
      ]
     },
     "execution_count": 13,
     "metadata": {},
     "output_type": "execute_result"
    }
   ],
   "source": [
    "type(arr0)"
   ]
  },
  {
   "cell_type": "code",
   "execution_count": 14,
   "id": "2e80f80e-e9b8-4a46-bebf-e60b9ba6c99f",
   "metadata": {},
   "outputs": [
    {
     "data": {
      "text/plain": [
       "0"
      ]
     },
     "execution_count": 14,
     "metadata": {},
     "output_type": "execute_result"
    }
   ],
   "source": [
    "#ndim -> no of dimension\n",
    "arr0.ndim"
   ]
  },
  {
   "cell_type": "code",
   "execution_count": 15,
   "id": "be3b1145-0b84-4a8e-9c92-259fdec123ce",
   "metadata": {},
   "outputs": [],
   "source": [
    "arr1 = np.array([5, 5, 2, 3.4])"
   ]
  },
  {
   "cell_type": "code",
   "execution_count": 18,
   "id": "2c6ba466-bebe-413d-83c0-60af57032f68",
   "metadata": {},
   "outputs": [
    {
     "data": {
      "text/plain": [
       "numpy.ndarray"
      ]
     },
     "execution_count": 18,
     "metadata": {},
     "output_type": "execute_result"
    }
   ],
   "source": [
    "type(arr1)"
   ]
  },
  {
   "cell_type": "code",
   "execution_count": 17,
   "id": "12d14dc7-f59d-42a0-9a69-cd7842ae9dab",
   "metadata": {},
   "outputs": [
    {
     "data": {
      "text/plain": [
       "1"
      ]
     },
     "execution_count": 17,
     "metadata": {},
     "output_type": "execute_result"
    }
   ],
   "source": [
    "arr1.ndim"
   ]
  },
  {
   "cell_type": "code",
   "execution_count": 19,
   "id": "dcf31ccf-e53a-4098-ab54-98f7c166ac06",
   "metadata": {},
   "outputs": [
    {
     "name": "stdout",
     "output_type": "stream",
     "text": [
      "[5.  5.  2.  3.4]\n"
     ]
    }
   ],
   "source": [
    "print(arr1)"
   ]
  },
  {
   "cell_type": "code",
   "execution_count": 60,
   "id": "2cde890a-2d23-40f6-8c1a-1a8d665f222d",
   "metadata": {},
   "outputs": [
    {
     "name": "stdout",
     "output_type": "stream",
     "text": [
      "['3' '6' '4' 'vinod' '7' '4' '2']\n",
      "<class 'numpy.ndarray'>\n",
      "1\n"
     ]
    },
    {
     "data": {
      "text/plain": [
       "dtype('<U11')"
      ]
     },
     "execution_count": 60,
     "metadata": {},
     "output_type": "execute_result"
    }
   ],
   "source": [
    "a1 = np.array([3, 6, 4, \"vinod\", 7, 4, 2])\n",
    "print(a1)\n",
    "print(type(a1))\n",
    "print(a1.ndim)\n",
    "a1.dtype"
   ]
  },
  {
   "cell_type": "code",
   "execution_count": 26,
   "id": "19a9d926-4f9d-4b53-a144-53f4a6fe514c",
   "metadata": {},
   "outputs": [
    {
     "name": "stdout",
     "output_type": "stream",
     "text": [
      "[5.+9.j 2.+0.j 3.+0.j]\n"
     ]
    }
   ],
   "source": [
    "arr4 = np.array([5+9j,2,3])\n",
    "print(arr4)"
   ]
  },
  {
   "cell_type": "code",
   "execution_count": 29,
   "id": "ed54c600-dc25-4d82-9735-53ffd4d36a53",
   "metadata": {},
   "outputs": [
    {
     "name": "stdout",
     "output_type": "stream",
     "text": [
      "['c' 'd' 't' '8']\n"
     ]
    }
   ],
   "source": [
    "a2 = np.array(['c', 'd', 't', 8])\n",
    "print(a2)"
   ]
  },
  {
   "cell_type": "code",
   "execution_count": 30,
   "id": "6a8f978f-4df4-4e3d-aa81-fefd30bcf2b9",
   "metadata": {},
   "outputs": [
    {
     "name": "stdout",
     "output_type": "stream",
     "text": [
      "[  9.    4.    0.    6.3   9.  700. ]\n"
     ]
    }
   ],
   "source": [
    "a3 = np.array([9, 4, 0, 6.3, 9, 700])\n",
    "print(a3)"
   ]
  },
  {
   "cell_type": "code",
   "execution_count": 37,
   "id": "44a151a5-f694-4f52-8eb1-567049333359",
   "metadata": {},
   "outputs": [
    {
     "data": {
      "text/plain": [
       "2"
      ]
     },
     "execution_count": 37,
     "metadata": {},
     "output_type": "execute_result"
    }
   ],
   "source": [
    "arr2 = np.array([ \n",
    "    [8, 2, 8, 5, 1, 0, 5],\n",
    "    [0, 9, 0, 8, 1, 0, 9] \n",
    "])\n",
    "arr2.ndim"
   ]
  },
  {
   "cell_type": "code",
   "execution_count": 39,
   "id": "9620de85-3300-48b8-8fd8-e30e4785b03f",
   "metadata": {},
   "outputs": [
    {
     "data": {
      "text/plain": [
       "2"
      ]
     },
     "execution_count": 39,
     "metadata": {},
     "output_type": "execute_result"
    }
   ],
   "source": [
    "arr3 = np.array(\n",
    "    [\n",
    "    [9, 8]\n",
    "]\n",
    ")\n",
    "arr2.ndim"
   ]
  },
  {
   "cell_type": "code",
   "execution_count": 48,
   "id": "4e6c8ea1-014c-44d9-9e31-90fb0225b579",
   "metadata": {},
   "outputs": [
    {
     "data": {
      "text/plain": [
       "3"
      ]
     },
     "execution_count": 48,
     "metadata": {},
     "output_type": "execute_result"
    }
   ],
   "source": [
    "arr3 = np.array (\n",
    "    [\n",
    "        [\n",
    "            [6,3,4], [4,2,7],[3,2,5],[2,4,5], ['b', 'r', 3]\n",
    "        ]\n",
    "    ]\n",
    ")\n",
    "arr3.ndim"
   ]
  },
  {
   "cell_type": "code",
   "execution_count": 2,
   "id": "bb6ea891-bca0-4153-b7c8-d9f7a7e3abf8",
   "metadata": {},
   "outputs": [
    {
     "name": "stdout",
     "output_type": "stream",
     "text": [
      "7\n",
      "<class 'numpy.ndarray'>\n",
      "0\n"
     ]
    }
   ],
   "source": [
    "import numpy as np\n",
    "\n",
    "a = np.array(7)\n",
    "print(a)\n",
    "print(type(a))\n",
    "print(a.ndim)"
   ]
  },
  {
   "cell_type": "code",
   "execution_count": 3,
   "id": "6dfd9374-9ada-4b29-8d90-975a384e8695",
   "metadata": {},
   "outputs": [
    {
     "name": "stdout",
     "output_type": "stream",
     "text": [
      "[5 3 6 8]\n",
      "<class 'numpy.ndarray'>\n",
      "1\n"
     ]
    }
   ],
   "source": [
    "b = np.array([5,3,6,8])\n",
    "print(b)\n",
    "print(type(b))\n",
    "print(b.ndim)"
   ]
  },
  {
   "cell_type": "code",
   "execution_count": 5,
   "id": "58009b35-2899-4afb-90d6-897750f7bb3a",
   "metadata": {},
   "outputs": [
    {
     "name": "stdout",
     "output_type": "stream",
     "text": [
      "<class 'list'>\n",
      "<class 'numpy.ndarray'>\n"
     ]
    }
   ],
   "source": [
    "my_list = []\n",
    "c = np.array(my_list)\n",
    "print(type(my_list))\n",
    "print(type(c))"
   ]
  },
  {
   "cell_type": "code",
   "execution_count": 6,
   "id": "3b5aa231-f9cf-4eb8-9a9d-1030f70067af",
   "metadata": {},
   "outputs": [
    {
     "name": "stdin",
     "output_type": "stream",
     "text": [
      "elements:  7\n",
      "elements:  6\n",
      "elements:  9\n",
      "elements:  3\n"
     ]
    },
    {
     "name": "stdout",
     "output_type": "stream",
     "text": [
      "[7 6 9 3]\n"
     ]
    }
   ],
   "source": [
    "for i in range(1,5):\n",
    "    x = int(input('elements: '))\n",
    "    my_list.append(x)\n",
    "d = np.array(my_list)\n",
    "print(d)"
   ]
  },
  {
   "cell_type": "code",
   "execution_count": 7,
   "id": "112f7056-df43-433f-bf32-667bc2330683",
   "metadata": {},
   "outputs": [
    {
     "data": {
      "text/plain": [
       "numpy.ndarray"
      ]
     },
     "execution_count": 7,
     "metadata": {},
     "output_type": "execute_result"
    }
   ],
   "source": [
    "type(d)"
   ]
  },
  {
   "cell_type": "code",
   "execution_count": 9,
   "id": "dfce0220-8f18-4f67-9cfe-d17d0d27bd2e",
   "metadata": {},
   "outputs": [
    {
     "data": {
      "text/plain": [
       "list"
      ]
     },
     "execution_count": 9,
     "metadata": {},
     "output_type": "execute_result"
    }
   ],
   "source": [
    "my_list\n",
    "type(my_list)"
   ]
  },
  {
   "cell_type": "code",
   "execution_count": 10,
   "id": "ad2bee37-7e56-4d75-8c5e-5df616de5101",
   "metadata": {},
   "outputs": [
    {
     "name": "stdout",
     "output_type": "stream",
     "text": [
      "[0. 0. 0. 0.]\n"
     ]
    }
   ],
   "source": [
    "e = np.zeros(4)\n",
    "print(e)"
   ]
  },
  {
   "cell_type": "code",
   "execution_count": 11,
   "id": "8410d3f8-d330-4123-81bf-a7b177f339aa",
   "metadata": {},
   "outputs": [
    {
     "name": "stdout",
     "output_type": "stream",
     "text": [
      "[1. 1. 1. 1. 1.]\n"
     ]
    }
   ],
   "source": [
    "f = np.ones(5)\n",
    "print(f)"
   ]
  },
  {
   "cell_type": "code",
   "execution_count": 13,
   "id": "08e25b83-d78a-4aa9-bde2-1a2e9d39eb26",
   "metadata": {},
   "outputs": [
    {
     "name": "stdout",
     "output_type": "stream",
     "text": [
      "[0 1 2 3 4 5 6 7]\n"
     ]
    }
   ],
   "source": [
    "g = np.arange(8)\n",
    "print(g)"
   ]
  },
  {
   "cell_type": "code",
   "execution_count": 16,
   "id": "a5f4dbfd-f78c-4e72-8f02-4a829e1cea7b",
   "metadata": {},
   "outputs": [
    {
     "data": {
      "text/plain": [
       "array([15, 16, 17, 18, 19, 20, 21, 22, 23, 24])"
      ]
     },
     "execution_count": 16,
     "metadata": {},
     "output_type": "execute_result"
    }
   ],
   "source": [
    "#np.arange(start, stop, steps, dtype)\n",
    "h = np.arange(15,25)\n",
    "h"
   ]
  },
  {
   "cell_type": "code",
   "execution_count": 20,
   "id": "b6929abe-2693-477a-b471-500caa67a46a",
   "metadata": {},
   "outputs": [
    {
     "data": {
      "text/plain": [
       "array([0, 4, 8])"
      ]
     },
     "execution_count": 20,
     "metadata": {},
     "output_type": "execute_result"
    }
   ],
   "source": [
    "i = np.arange(0,10,4)\n",
    "i"
   ]
  },
  {
   "cell_type": "code",
   "execution_count": 24,
   "id": "8e871255-fe29-467d-a75e-1e5b4ad1bd83",
   "metadata": {},
   "outputs": [
    {
     "data": {
      "text/plain": [
       "array([ 0.,  2.,  4.,  6.,  8., 10.])"
      ]
     },
     "execution_count": 24,
     "metadata": {},
     "output_type": "execute_result"
    }
   ],
   "source": [
    "#Spacial\n",
    "#linespace\n",
    "#IQR (25%), 75%\n",
    "\n",
    "j = np.linspace(0,10, num= 6)\n",
    "j"
   ]
  },
  {
   "cell_type": "code",
   "execution_count": 28,
   "id": "e10acd45-22c3-49b0-96d1-360f33c008e8",
   "metadata": {},
   "outputs": [
    {
     "data": {
      "text/plain": [
       "array([0.77183424, 0.1713954 , 0.38003446, 0.0844904 , 0.01040372,\n",
       "       0.9500932 , 0.62600577, 0.4305369 ])"
      ]
     },
     "execution_count": 28,
     "metadata": {},
     "output_type": "execute_result"
    }
   ],
   "source": [
    "k = np.random.rand(8)\n",
    "k\n",
    "#(0-1)"
   ]
  },
  {
   "cell_type": "code",
   "execution_count": 59,
   "id": "18f1a46d-2e51-4fb3-971f-f1dd4f9dbb21",
   "metadata": {},
   "outputs": [
    {
     "data": {
      "text/plain": [
       "dtype('float64')"
      ]
     },
     "execution_count": 59,
     "metadata": {},
     "output_type": "execute_result"
    }
   ],
   "source": [
    "#(- -> +)\n",
    "#array elements\n",
    "l = np.random.randn(6)\n",
    "l.dtype\n"
   ]
  },
  {
   "cell_type": "code",
   "execution_count": 56,
   "id": "27884f6e-00bc-4b4f-b7c8-22657cd70a22",
   "metadata": {},
   "outputs": [
    {
     "name": "stdout",
     "output_type": "stream",
     "text": [
      "[0.66749996 0.74014606 0.50495735 0.04612815 0.48442563 0.1444388 ]\n",
      "float64\n"
     ]
    }
   ],
   "source": [
    "m = np.random.ranf(6)\n",
    "print(m)\n",
    "print(m.dtype)"
   ]
  },
  {
   "cell_type": "code",
   "execution_count": 55,
   "id": "84bc5ab4-990e-41dc-a8cf-06d1a02cc493",
   "metadata": {},
   "outputs": [
    {
     "name": "stdout",
     "output_type": "stream",
     "text": [
      "[ 7 17 17 12  8]\n",
      "int32\n"
     ]
    }
   ],
   "source": [
    "#(start, stop, count)\n",
    "n = np.random.randint(4, 20, 5)\n",
    "print(n)\n",
    "print(n.dtype)"
   ]
  },
  {
   "cell_type": "code",
   "execution_count": 53,
   "id": "9e8824c9-0725-40be-80f6-54c1d771c0a9",
   "metadata": {},
   "outputs": [
    {
     "data": {
      "text/plain": [
       "array([ 100.,  400.,  700., 1000.])"
      ]
     },
     "execution_count": 53,
     "metadata": {},
     "output_type": "execute_result"
    }
   ],
   "source": [
    "#(min, max, count)\n",
    "o = np.linspace(100, 1000, num=5)\n",
    "o"
   ]
  },
  {
   "cell_type": "code",
   "execution_count": 54,
   "id": "2f374166-9e7f-4fe3-9978-7434d255f747",
   "metadata": {},
   "outputs": [
    {
     "data": {
      "text/plain": [
       "dtype('float64')"
      ]
     },
     "execution_count": 54,
     "metadata": {},
     "output_type": "execute_result"
    }
   ],
   "source": [
    "o.dtype"
   ]
  },
  {
   "cell_type": "code",
   "execution_count": 65,
   "id": "0c25080a-e907-4c58-a1e6-91d9463ec70f",
   "metadata": {},
   "outputs": [
    {
     "data": {
      "text/plain": [
       "dtype('<U4')"
      ]
     },
     "execution_count": 65,
     "metadata": {},
     "output_type": "execute_result"
    }
   ],
   "source": [
    "p = np.array(['vino', 'mu', 'ra'])\n",
    "p.dtype"
   ]
  },
  {
   "cell_type": "code",
   "execution_count": 62,
   "id": "60802adc-286c-456c-8349-a905b99195dd",
   "metadata": {},
   "outputs": [
    {
     "data": {
      "text/plain": [
       "dtype('<U1')"
      ]
     },
     "execution_count": 62,
     "metadata": {},
     "output_type": "execute_result"
    }
   ],
   "source": [
    "q = np.array(['a', 'b'])\n",
    "q.dtype"
   ]
  },
  {
   "cell_type": "code",
   "execution_count": 89,
   "id": "70a6886d-7ce8-413f-89fc-72e2612c0720",
   "metadata": {},
   "outputs": [
    {
     "data": {
      "text/plain": [
       "dtype('int32')"
      ]
     },
     "execution_count": 89,
     "metadata": {},
     "output_type": "execute_result"
    }
   ],
   "source": [
    "r = np.array([545456354])\n",
    "r.dtype\n",
    "\n",
    "#23e2 = 2.3 *10^3"
   ]
  },
  {
   "cell_type": "code",
   "execution_count": 70,
   "id": "eb8a1741-2c8d-4c8f-8805-5bf9620c4326",
   "metadata": {},
   "outputs": [
    {
     "data": {
      "text/plain": [
       "dtype('bool')"
      ]
     },
     "execution_count": 70,
     "metadata": {},
     "output_type": "execute_result"
    }
   ],
   "source": [
    "s = np.array([True])\n",
    "s.dtype"
   ]
  },
  {
   "cell_type": "code",
   "execution_count": 91,
   "id": "fdd657f9-fc1d-4ff2-b244-ebe5463a5b24",
   "metadata": {},
   "outputs": [
    {
     "data": {
      "text/plain": [
       "dtype('complex128')"
      ]
     },
     "execution_count": 91,
     "metadata": {},
     "output_type": "execute_result"
    }
   ],
   "source": [
    "t = np.array([0+1j])\n",
    "t.dtype"
   ]
  },
  {
   "cell_type": "code",
   "execution_count": 93,
   "id": "fac155e3-79aa-4229-9f99-9a83b288727a",
   "metadata": {},
   "outputs": [
    {
     "data": {
      "text/plain": [
       "dtype('<U11')"
      ]
     },
     "execution_count": 93,
     "metadata": {},
     "output_type": "execute_result"
    }
   ],
   "source": [
    "v = np.array(['a', 'S', 'w', 'x', 3,5,6,7, False])\n",
    "v.dtype"
   ]
  },
  {
   "cell_type": "code",
   "execution_count": 107,
   "id": "5228e7a6-8306-4bf2-9281-336f89d5faa2",
   "metadata": {},
   "outputs": [
    {
     "name": "stdout",
     "output_type": "stream",
     "text": [
      "[2. 5. 7. 8.]\n",
      "float64\n"
     ]
    }
   ],
   "source": [
    "w = np.array([2,5,7,8], dtype = np.float_)\n",
    "print(w)\n",
    "print(w.dtype)"
   ]
  },
  {
   "cell_type": "code",
   "execution_count": 109,
   "id": "b05bf49c-fe24-48b9-bb98-c491e190fae5",
   "metadata": {},
   "outputs": [
    {
     "name": "stdout",
     "output_type": "stream",
     "text": [
      "[2 5 6 8 9]\n",
      "int32\n"
     ]
    }
   ],
   "source": [
    "x = np.array([2,5,6,8,9.2], dtype=np.int_)\n",
    "print(x)\n",
    "print(x.dtype)"
   ]
  },
  {
   "cell_type": "code",
   "execution_count": 110,
   "id": "e7635dbc-5269-4e27-a4df-cab5c08faf47",
   "metadata": {},
   "outputs": [
    {
     "name": "stdout",
     "output_type": "stream",
     "text": [
      "[6 3 8 9]\n",
      "int32\n"
     ]
    }
   ],
   "source": [
    "y = np.array([6,3,8,9])\n",
    "print(y)\n",
    "print(y.dtype)"
   ]
  },
  {
   "cell_type": "code",
   "execution_count": 115,
   "id": "c1a44d88-bfd4-4844-af98-40f7ceedc3bb",
   "metadata": {},
   "outputs": [
    {
     "name": "stdout",
     "output_type": "stream",
     "text": [
      "[6. 3. 8. 9.]\n",
      "float64\n"
     ]
    }
   ],
   "source": [
    "z = np.longfloat(y)\n",
    "print(z)\n",
    "print(z.dtype)"
   ]
  },
  {
   "cell_type": "code",
   "execution_count": 1,
   "id": "a6eaef77-3345-4779-8e12-a707026cea77",
   "metadata": {},
   "outputs": [],
   "source": [
    "# List & Arrays -> Datatype "
   ]
  },
  {
   "cell_type": "code",
   "execution_count": 2,
   "id": "9c35f173-12c1-4076-812b-71750924d60a",
   "metadata": {},
   "outputs": [
    {
     "data": {
      "text/plain": [
       "list"
      ]
     },
     "execution_count": 2,
     "metadata": {},
     "output_type": "execute_result"
    }
   ],
   "source": [
    "a = []\n",
    "type(a)"
   ]
  },
  {
   "cell_type": "code",
   "execution_count": 6,
   "id": "94fe524f-753d-4d12-ad5e-e64861c99fbe",
   "metadata": {},
   "outputs": [
    {
     "data": {
      "text/plain": [
       "[1, 4, 9, 16, 25, 36, 49, 64, 81, 100, 121, 144, 169, 196]"
      ]
     },
     "execution_count": 6,
     "metadata": {},
     "output_type": "execute_result"
    }
   ],
   "source": [
    "b = [i**2 for i in range(1,15)]\n",
    "b"
   ]
  },
  {
   "cell_type": "code",
   "execution_count": 1,
   "id": "71e3bb89-a5e5-4c56-b66f-c8acbde6f516",
   "metadata": {},
   "outputs": [
    {
     "name": "stdout",
     "output_type": "stream",
     "text": [
      "857 ns ± 5.79 ns per loop (mean ± std. dev. of 7 runs, 1,000,000 loops each)\n"
     ]
    }
   ],
   "source": [
    "%timeit [i**2 for i in range(1,15)]"
   ]
  },
  {
   "cell_type": "code",
   "execution_count": 2,
   "id": "6c2cf6b6-8f5d-4392-a896-0c4eb85e249b",
   "metadata": {},
   "outputs": [
    {
     "name": "stdout",
     "output_type": "stream",
     "text": [
      "1.24 µs ± 22.7 ns per loop (mean ± std. dev. of 7 runs, 1,000,000 loops each)\n"
     ]
    }
   ],
   "source": [
    "import numpy as np\n",
    "%timeit np.arange(1,15)**2"
   ]
  },
  {
   "cell_type": "code",
   "execution_count": 5,
   "id": "e4501c66-2f5a-4a76-8e83-71fd1d157103",
   "metadata": {},
   "outputs": [
    {
     "data": {
      "text/plain": [
       "2"
      ]
     },
     "execution_count": 5,
     "metadata": {},
     "output_type": "execute_result"
    }
   ],
   "source": [
    "a = np.array([\n",
    "    [7,3], [2,5], [3,5]\n",
    "])\n",
    "a.ndim"
   ]
  },
  {
   "cell_type": "code",
   "execution_count": 6,
   "id": "2d7b29e1-6fde-446d-8e79-a9a2caff24dd",
   "metadata": {},
   "outputs": [
    {
     "data": {
      "text/plain": [
       "3"
      ]
     },
     "execution_count": 6,
     "metadata": {},
     "output_type": "execute_result"
    }
   ],
   "source": [
    "b = np.array([[[]]])\n",
    "b.ndim"
   ]
  },
  {
   "cell_type": "code",
   "execution_count": 10,
   "id": "8801a3e7-153f-4a34-8550-1f4cd4925e31",
   "metadata": {},
   "outputs": [],
   "source": [
    "c = [\n",
    "    [5,8,9,'nashit']\n",
    "]"
   ]
  },
  {
   "cell_type": "code",
   "execution_count": 12,
   "id": "5c57ce86-d834-48c1-900e-39e7d43267a8",
   "metadata": {},
   "outputs": [
    {
     "data": {
      "text/plain": [
       "8"
      ]
     },
     "execution_count": 12,
     "metadata": {},
     "output_type": "execute_result"
    }
   ],
   "source": [
    "#2 dim\n",
    "c[0][1]"
   ]
  },
  {
   "cell_type": "code",
   "execution_count": 33,
   "id": "282a0568-7a7f-4917-a55d-e8da4d3b9c61",
   "metadata": {},
   "outputs": [],
   "source": [
    "d = [[[[7, 8, 9], ['a', 'b', 'c']]]]"
   ]
  },
  {
   "cell_type": "code",
   "execution_count": 34,
   "id": "e68c13c9-b24e-48b0-9bd4-bc270da87cc6",
   "metadata": {},
   "outputs": [
    {
     "data": {
      "text/plain": [
       "'a'"
      ]
     },
     "execution_count": 34,
     "metadata": {},
     "output_type": "execute_result"
    }
   ],
   "source": [
    "#4 dim\n",
    "d[0][0][1][0]"
   ]
  },
  {
   "cell_type": "code",
   "execution_count": 36,
   "id": "61d0e0dd-a7d3-4d18-baa5-b9da8f2b00f4",
   "metadata": {},
   "outputs": [
    {
     "data": {
      "text/plain": [
       "4"
      ]
     },
     "execution_count": 36,
     "metadata": {},
     "output_type": "execute_result"
    }
   ],
   "source": [
    "e = np.array([[[[5,7,8]]]])\n",
    "e.ndim"
   ]
  },
  {
   "cell_type": "code",
   "execution_count": 42,
   "id": "2bd4e3e8-44d0-4cac-b62b-0ebee2bccba7",
   "metadata": {},
   "outputs": [
    {
     "data": {
      "text/plain": [
       "array([[[[[[[8, 3, 5]]]]]]])"
      ]
     },
     "execution_count": 42,
     "metadata": {},
     "output_type": "execute_result"
    }
   ],
   "source": [
    "f = np.array([8,3,5], ndmin = 7 )\n",
    "f"
   ]
  },
  {
   "cell_type": "code",
   "execution_count": 43,
   "id": "c2a0a6e7-f532-48a9-bf84-60cf46a300e5",
   "metadata": {},
   "outputs": [
    {
     "data": {
      "text/plain": [
       "7"
      ]
     },
     "execution_count": 43,
     "metadata": {},
     "output_type": "execute_result"
    }
   ],
   "source": [
    "f.ndim"
   ]
  },
  {
   "cell_type": "code",
   "execution_count": 47,
   "id": "ef7fde87-9a0d-44aa-9667-a99b55ab6977",
   "metadata": {},
   "outputs": [
    {
     "data": {
      "text/plain": [
       "1"
      ]
     },
     "execution_count": 47,
     "metadata": {},
     "output_type": "execute_result"
    }
   ],
   "source": [
    "g = np.arange(3,3)\n",
    "g\n",
    "g.ndim"
   ]
  },
  {
   "cell_type": "code",
   "execution_count": 50,
   "id": "79f94042-77e6-4293-b3a4-6a5dd6d827b5",
   "metadata": {},
   "outputs": [
    {
     "data": {
      "text/plain": [
       "array([[0., 0., 0., 0.],\n",
       "       [0., 0., 0., 0.],\n",
       "       [0., 0., 0., 0.],\n",
       "       [0., 0., 0., 0.],\n",
       "       [0., 0., 0., 0.],\n",
       "       [0., 0., 0., 0.]])"
      ]
     },
     "execution_count": 50,
     "metadata": {},
     "output_type": "execute_result"
    }
   ],
   "source": [
    "h = np.zeros((6,4))\n",
    "h"
   ]
  },
  {
   "cell_type": "code",
   "execution_count": 51,
   "id": "f51463f9-96b3-4d45-b1d6-7cdd158cabe9",
   "metadata": {},
   "outputs": [
    {
     "data": {
      "text/plain": [
       "array([[1., 1., 1.],\n",
       "       [1., 1., 1.],\n",
       "       [1., 1., 1.]])"
      ]
     },
     "execution_count": 51,
     "metadata": {},
     "output_type": "execute_result"
    }
   ],
   "source": [
    "i = np.ones((3,3))\n",
    "i"
   ]
  },
  {
   "cell_type": "code",
   "execution_count": 54,
   "id": "a2588aef-0948-4bac-b0b6-cb22d52d8e6a",
   "metadata": {},
   "outputs": [
    {
     "data": {
      "text/plain": [
       "array([[1., 0., 0., 0., 0.],\n",
       "       [0., 1., 0., 0., 0.],\n",
       "       [0., 0., 1., 0., 0.],\n",
       "       [0., 0., 0., 1., 0.],\n",
       "       [0., 0., 0., 0., 1.]])"
      ]
     },
     "execution_count": 54,
     "metadata": {},
     "output_type": "execute_result"
    }
   ],
   "source": [
    "j = np.eye(5)\n",
    "j"
   ]
  },
  {
   "cell_type": "code",
   "execution_count": 56,
   "id": "f3c13ad7-0537-44b9-9c62-4477fe60c5bb",
   "metadata": {},
   "outputs": [
    {
     "data": {
      "text/plain": [
       "2"
      ]
     },
     "execution_count": 56,
     "metadata": {},
     "output_type": "execute_result"
    }
   ],
   "source": [
    "k = np.eye(4, 6)\n",
    "print(k)\n",
    "k.ndim"
   ]
  },
  {
   "cell_type": "code",
   "execution_count": 59,
   "id": "90ad6df1-d8b0-4f6b-80d7-bc20428415fb",
   "metadata": {},
   "outputs": [
    {
     "data": {
      "text/plain": [
       "array([[0.88516878, 0.38034326, 0.90293961, 0.57966898],\n",
       "       [0.47213206, 0.86662551, 0.45617375, 0.62931541],\n",
       "       [0.19196953, 0.55813934, 0.02176424, 0.07667066]])"
      ]
     },
     "execution_count": 59,
     "metadata": {},
     "output_type": "execute_result"
    }
   ],
   "source": [
    "l = np.random.rand(3,4)\n",
    "l"
   ]
  },
  {
   "cell_type": "code",
   "execution_count": 73,
   "id": "b7d50c53-b730-45a8-ba73-54c860ebf492",
   "metadata": {},
   "outputs": [
    {
     "data": {
      "text/plain": [
       "3"
      ]
     },
     "execution_count": 73,
     "metadata": {},
     "output_type": "execute_result"
    }
   ],
   "source": [
    "a = [[[np.random.randint(2,5)]]]\n",
    "b = np.array(a)\n",
    "b.ndim"
   ]
  },
  {
   "cell_type": "code",
   "execution_count": 12,
   "id": "f33c94c7-cbd4-4270-b159-74a0cbb3fa85",
   "metadata": {},
   "outputs": [
    {
     "name": "stdout",
     "output_type": "stream",
     "text": [
      "[[6 3 2 9]]\n",
      "\n",
      "(1, 4)\n",
      "\n",
      "[5 2 7 8 9 0 1]\n",
      "\n",
      "(7,)\n"
     ]
    }
   ],
   "source": [
    "import numpy\n",
    "a = numpy.array([[6,3,2,9]])\n",
    "#                 1,2,3,4\n",
    "print(a)\n",
    "print()\n",
    "print(a.shape)\n",
    "print()\n",
    "b = numpy.array([5,2,7,8,9,0,1])\n",
    "print(b)\n",
    "print()\n",
    "print(b.shape)"
   ]
  },
  {
   "cell_type": "code",
   "execution_count": 7,
   "id": "e5b8f827-15c7-4653-a826-02d20af7a7c6",
   "metadata": {},
   "outputs": [
    {
     "data": {
      "text/plain": [
       "(1, 1, 6)"
      ]
     },
     "execution_count": 7,
     "metadata": {},
     "output_type": "execute_result"
    }
   ],
   "source": [
    "c = numpy.array([[[5,2,6,8,9,0]]])\n",
    "c.shape"
   ]
  },
  {
   "cell_type": "code",
   "execution_count": 86,
   "id": "185fd1fe-2aa2-4dc2-8a4d-8e856832a29a",
   "metadata": {},
   "outputs": [
    {
     "name": "stdout",
     "output_type": "stream",
     "text": [
      "1\n",
      "[[3 5 7]\n",
      " [1 6 4]\n",
      " [1 2 2]]\n",
      "2\n"
     ]
    }
   ],
   "source": [
    "a = np.array([3,5,7,1,6,4,1,2,2])\n",
    "print(a.ndim)\n",
    "# dimensions 2d(x*y), 3d(x*y*z)\n",
    "b = a.reshape(3,3)\n",
    "print(b)\n",
    "print(b.ndim)"
   ]
  },
  {
   "cell_type": "code",
   "execution_count": 88,
   "id": "e98fb3ea-6b6a-4445-af03-f9854f7ec85e",
   "metadata": {},
   "outputs": [
    {
     "name": "stdout",
     "output_type": "stream",
     "text": [
      "original dimensions: 1\n",
      "[[[3 5]\n",
      "  [7 1]\n",
      "  [6 4]]\n",
      "\n",
      " [[1 2]\n",
      "  [2 4]\n",
      "  [2 8]]]\n",
      "reshaped dimensions:  3\n"
     ]
    }
   ],
   "source": [
    "a = np.array([3,5,7,1,6,4,1,2,2,4,2,8])\n",
    "print(\"original dimensions:\" ,a.ndim)\n",
    "b = a.reshape(2,3,2)\n",
    "print(b)\n",
    "print(\"reshaped dimensions: \", b.ndim)"
   ]
  },
  {
   "cell_type": "code",
   "execution_count": 21,
   "id": "7e2d6c70-ba72-493c-b484-f8104993cf4b",
   "metadata": {},
   "outputs": [
    {
     "data": {
      "text/plain": [
       "(2, 3)"
      ]
     },
     "execution_count": 21,
     "metadata": {},
     "output_type": "execute_result"
    }
   ],
   "source": [
    "d = numpy.array([[3,7,7],[7,9,7]])\n",
    "d.shape\n",
    "#d.ndim"
   ]
  },
  {
   "cell_type": "code",
   "execution_count": 22,
   "id": "a7369213-1d18-401c-bb58-c58bbe39a733",
   "metadata": {},
   "outputs": [],
   "source": [
    "e = numpy.array([\n",
    "    [[2,5,9],[5,8,9],[7,0,2],[5,4,9]]\n",
    "])"
   ]
  },
  {
   "cell_type": "code",
   "execution_count": 23,
   "id": "5b092201-a343-4454-9bff-a3077fe9766c",
   "metadata": {},
   "outputs": [
    {
     "data": {
      "text/plain": [
       "(1, 4, 3)"
      ]
     },
     "execution_count": 23,
     "metadata": {},
     "output_type": "execute_result"
    }
   ],
   "source": [
    "e.shape"
   ]
  },
  {
   "cell_type": "code",
   "execution_count": 24,
   "id": "911dfff9-fa9a-410c-8e4e-fee3373ba902",
   "metadata": {},
   "outputs": [
    {
     "data": {
      "text/plain": [
       "3"
      ]
     },
     "execution_count": 24,
     "metadata": {},
     "output_type": "execute_result"
    }
   ],
   "source": [
    "e.ndim"
   ]
  },
  {
   "cell_type": "code",
   "execution_count": 25,
   "id": "beb99560-20dd-4a4c-bb6c-5ac4cd6c4850",
   "metadata": {},
   "outputs": [
    {
     "data": {
      "text/plain": [
       "7"
      ]
     },
     "execution_count": 25,
     "metadata": {},
     "output_type": "execute_result"
    }
   ],
   "source": [
    "f = numpy.array([3,7,9,2,4])\n",
    "#                0,1,2,3,4\n",
    "#               -5, -4, -3, -2, -1\n",
    "f[1]"
   ]
  },
  {
   "cell_type": "code",
   "execution_count": 26,
   "id": "ff9c6a46-426a-4808-8d4a-eda61c0229ed",
   "metadata": {},
   "outputs": [
    {
     "data": {
      "text/plain": [
       "2"
      ]
     },
     "execution_count": 26,
     "metadata": {},
     "output_type": "execute_result"
    }
   ],
   "source": [
    "f[-2]"
   ]
  },
  {
   "cell_type": "code",
   "execution_count": 30,
   "id": "b6ead838-01c8-4fb0-b54f-434e49a61fca",
   "metadata": {},
   "outputs": [
    {
     "data": {
      "text/plain": [
       "9"
      ]
     },
     "execution_count": 30,
     "metadata": {},
     "output_type": "execute_result"
    }
   ],
   "source": [
    "g = numpy.array([\n",
    "    [7, 3, 8], \n",
    "    [6, 2, 9]\n",
    "])\n",
    "\n",
    "g[1,2]"
   ]
  },
  {
   "cell_type": "code",
   "execution_count": 31,
   "id": "07a0b771-1b15-454f-a925-11cf25d24964",
   "metadata": {},
   "outputs": [
    {
     "data": {
      "text/plain": [
       "7"
      ]
     },
     "execution_count": 31,
     "metadata": {},
     "output_type": "execute_result"
    }
   ],
   "source": [
    "g[-2,-3]"
   ]
  },
  {
   "cell_type": "code",
   "execution_count": 34,
   "id": "13bb5ea4-0752-437c-bf03-e5cc1de790fc",
   "metadata": {},
   "outputs": [
    {
     "data": {
      "text/plain": [
       "(1, 2, 3)"
      ]
     },
     "execution_count": 34,
     "metadata": {},
     "output_type": "execute_result"
    }
   ],
   "source": [
    "h = numpy.array([\n",
    "    [\n",
    "        [8,3,5],\n",
    "        [7,2,4]]\n",
    "])\n",
    "h.shape"
   ]
  },
  {
   "cell_type": "code",
   "execution_count": 35,
   "id": "49b7a119-0636-42d8-b3d0-e57aaf7cfa29",
   "metadata": {},
   "outputs": [
    {
     "data": {
      "text/plain": [
       "array([[8, 3, 5],\n",
       "       [7, 2, 4]])"
      ]
     },
     "execution_count": 35,
     "metadata": {},
     "output_type": "execute_result"
    }
   ],
   "source": [
    "h[0]"
   ]
  },
  {
   "cell_type": "code",
   "execution_count": 40,
   "id": "2f23d34f-2fbb-4338-8d8f-afaa10736184",
   "metadata": {},
   "outputs": [
    {
     "data": {
      "text/plain": [
       "4"
      ]
     },
     "execution_count": 40,
     "metadata": {},
     "output_type": "execute_result"
    }
   ],
   "source": [
    "h[0, 1, 2]"
   ]
  },
  {
   "cell_type": "code",
   "execution_count": 42,
   "id": "4f0b04b7-7494-4ee6-a789-71bf90a10661",
   "metadata": {},
   "outputs": [
    {
     "data": {
      "text/plain": [
       "array([12,  5, 10,  9])"
      ]
     },
     "execution_count": 42,
     "metadata": {},
     "output_type": "execute_result"
    }
   ],
   "source": [
    "a = numpy.array([4, 2, 6,3])\n",
    "b = numpy.array([8,3,4, 6])\n",
    "#1/4 =0.25 =0; 2/3 = 0.66 = 0; 6/4= 1; \n",
    "# 4/8 = .5, 2/3 = .66, 6/4 = 1.5, 3/6 = ,.5\n",
    "# -4, -1, 2, -3\n",
    "a+b"
   ]
  },
  {
   "cell_type": "code",
   "execution_count": 43,
   "id": "df3925a5-422f-4b78-8caf-d8549c277768",
   "metadata": {},
   "outputs": [
    {
     "data": {
      "text/plain": [
       "array([12,  5, 10,  9])"
      ]
     },
     "execution_count": 43,
     "metadata": {},
     "output_type": "execute_result"
    }
   ],
   "source": [
    "numpy.add(a,b)"
   ]
  },
  {
   "cell_type": "code",
   "execution_count": 45,
   "id": "83cfd363-f2f9-4a2d-95b4-5f4478ea658c",
   "metadata": {},
   "outputs": [
    {
     "data": {
      "text/plain": [
       "array([[ 5,  8,  8, 11],\n",
       "       [ 7,  2,  8,  9]])"
      ]
     },
     "execution_count": 45,
     "metadata": {},
     "output_type": "execute_result"
    }
   ],
   "source": [
    "c = numpy.array([[4, 3, 6, 2], [4, 2, 5, 7]])\n",
    "d = numpy.array([[1, 5, 2, 9], [3, 0, 3, 2]])\n",
    "c+d"
   ]
  },
  {
   "cell_type": "code",
   "execution_count": 46,
   "id": "678694bb-7c14-4114-b6b7-1f3d51ba78ee",
   "metadata": {},
   "outputs": [
    {
     "data": {
      "text/plain": [
       "array([-4, -1,  2, -3])"
      ]
     },
     "execution_count": 46,
     "metadata": {},
     "output_type": "execute_result"
    }
   ],
   "source": [
    "a-b"
   ]
  },
  {
   "cell_type": "code",
   "execution_count": 47,
   "id": "19d81393-520b-43db-b8ff-52021724b518",
   "metadata": {},
   "outputs": [
    {
     "data": {
      "text/plain": [
       "array([-4, -1,  2, -3])"
      ]
     },
     "execution_count": 47,
     "metadata": {},
     "output_type": "execute_result"
    }
   ],
   "source": [
    "numpy.subtract(a,b)"
   ]
  },
  {
   "cell_type": "code",
   "execution_count": 48,
   "id": "238dfb2d-e813-4392-aa23-bd7ea1451a6e",
   "metadata": {},
   "outputs": [
    {
     "data": {
      "text/plain": [
       "array([ 4,  1, -2,  3])"
      ]
     },
     "execution_count": 48,
     "metadata": {},
     "output_type": "execute_result"
    }
   ],
   "source": [
    "b-a"
   ]
  },
  {
   "cell_type": "code",
   "execution_count": 49,
   "id": "fa8fa609-46c7-40ec-b5ea-144fe0b97bd9",
   "metadata": {},
   "outputs": [
    {
     "data": {
      "text/plain": [
       "array([ 4,  1, -2,  3])"
      ]
     },
     "execution_count": 49,
     "metadata": {},
     "output_type": "execute_result"
    }
   ],
   "source": [
    "numpy.subtract(b,a)"
   ]
  },
  {
   "cell_type": "code",
   "execution_count": 50,
   "id": "4c26320a-f8aa-4859-a34e-f35f78c14e7c",
   "metadata": {},
   "outputs": [
    {
     "data": {
      "text/plain": [
       "array([32,  6, 24, 18])"
      ]
     },
     "execution_count": 50,
     "metadata": {},
     "output_type": "execute_result"
    }
   ],
   "source": [
    "a*b"
   ]
  },
  {
   "cell_type": "code",
   "execution_count": 51,
   "id": "0a64e990-1b59-415c-94bf-fe619b2630db",
   "metadata": {},
   "outputs": [
    {
     "data": {
      "text/plain": [
       "array([[ 4, 15, 12, 18],\n",
       "       [12,  0, 15, 14]])"
      ]
     },
     "execution_count": 51,
     "metadata": {},
     "output_type": "execute_result"
    }
   ],
   "source": [
    "c*d"
   ]
  },
  {
   "cell_type": "code",
   "execution_count": 52,
   "id": "03241c4f-59e6-4a4b-9bb0-422ee7afdbee",
   "metadata": {},
   "outputs": [
    {
     "data": {
      "text/plain": [
       "array([32,  6, 24, 18])"
      ]
     },
     "execution_count": 52,
     "metadata": {},
     "output_type": "execute_result"
    }
   ],
   "source": [
    "numpy.multiply(a,b)"
   ]
  },
  {
   "cell_type": "code",
   "execution_count": 53,
   "id": "9f16b194-4262-48f3-8401-5c7e10feb1bb",
   "metadata": {},
   "outputs": [
    {
     "data": {
      "text/plain": [
       "array([0.5       , 0.66666667, 1.5       , 0.5       ])"
      ]
     },
     "execution_count": 53,
     "metadata": {},
     "output_type": "execute_result"
    }
   ],
   "source": [
    "a/b"
   ]
  },
  {
   "cell_type": "code",
   "execution_count": 54,
   "id": "f2aae8a0-ea2b-444e-b5be-5788adcb9311",
   "metadata": {},
   "outputs": [
    {
     "data": {
      "text/plain": [
       "array([0.5       , 0.66666667, 1.5       , 0.5       ])"
      ]
     },
     "execution_count": 54,
     "metadata": {},
     "output_type": "execute_result"
    }
   ],
   "source": [
    "numpy.divide(a,b)"
   ]
  },
  {
   "cell_type": "code",
   "execution_count": 55,
   "id": "03cf4b25-8a3f-4d50-b276-bfca3dd31e4d",
   "metadata": {},
   "outputs": [
    {
     "data": {
      "text/plain": [
       "array([4, 2, 2, 3])"
      ]
     },
     "execution_count": 55,
     "metadata": {},
     "output_type": "execute_result"
    }
   ],
   "source": [
    "numpy.mod(a,b)"
   ]
  },
  {
   "cell_type": "code",
   "execution_count": 56,
   "id": "774b9c1b-125e-4217-b8f4-771bed2b2c12",
   "metadata": {},
   "outputs": [
    {
     "data": {
      "text/plain": [
       "array([4, 2, 2, 3])"
      ]
     },
     "execution_count": 56,
     "metadata": {},
     "output_type": "execute_result"
    }
   ],
   "source": [
    "a%b"
   ]
  },
  {
   "cell_type": "code",
   "execution_count": 58,
   "id": "7095e0a7-bd3c-4d10-b718-7df6cc5248a3",
   "metadata": {},
   "outputs": [
    {
     "data": {
      "text/plain": [
       "array([0, 0, 0, 0])"
      ]
     },
     "execution_count": 58,
     "metadata": {},
     "output_type": "execute_result"
    }
   ],
   "source": [
    "numpy.reciprocal(a)"
   ]
  },
  {
   "cell_type": "code",
   "execution_count": 59,
   "id": "41fe8301-3440-4b77-97c5-e433a540204d",
   "metadata": {},
   "outputs": [
    {
     "data": {
      "text/plain": [
       "2"
      ]
     },
     "execution_count": 59,
     "metadata": {},
     "output_type": "execute_result"
    }
   ],
   "source": [
    "#statistical methods\n",
    "numpy.min(a)"
   ]
  },
  {
   "cell_type": "code",
   "execution_count": 60,
   "id": "d3170dae-d95a-4e05-9c9c-b6777c4cae43",
   "metadata": {},
   "outputs": [
    {
     "data": {
      "text/plain": [
       "array([1, 0, 0, 0])"
      ]
     },
     "execution_count": 60,
     "metadata": {},
     "output_type": "execute_result"
    }
   ],
   "source": [
    "d = numpy.array([1,2,3,4])\n",
    "# 1/1 = 1; 1/2 = 0.5= 0; 1/3 = 0; 0.24 n= 0\n",
    "numpy.reciprocal(d)"
   ]
  },
  {
   "cell_type": "code",
   "execution_count": 66,
   "id": "d9812fc7-1d33-4b8c-b600-839915f2e17c",
   "metadata": {},
   "outputs": [
    {
     "data": {
      "text/plain": [
       "array([4.        , 1.42857143, 3.03030303, 0.00813008])"
      ]
     },
     "execution_count": 66,
     "metadata": {},
     "output_type": "execute_result"
    }
   ],
   "source": [
    "e = numpy.array([0.25, 0.7, 0.33, 123])\n",
    "1/e"
   ]
  },
  {
   "cell_type": "code",
   "execution_count": 67,
   "id": "30b38661-9b25-47e5-b5af-a552020eca0e",
   "metadata": {},
   "outputs": [
    {
     "data": {
      "text/plain": [
       "array([4.        , 1.42857143, 3.03030303, 0.00813008])"
      ]
     },
     "execution_count": 67,
     "metadata": {},
     "output_type": "execute_result"
    }
   ],
   "source": [
    "numpy.reciprocal(e)"
   ]
  },
  {
   "cell_type": "code",
   "execution_count": 68,
   "id": "fc0dbbe3-6ad3-4fe2-80c7-1a31105cb018",
   "metadata": {},
   "outputs": [
    {
     "data": {
      "text/plain": [
       "array([4, 2, 6, 3])"
      ]
     },
     "execution_count": 68,
     "metadata": {},
     "output_type": "execute_result"
    }
   ],
   "source": [
    "a"
   ]
  },
  {
   "cell_type": "code",
   "execution_count": 74,
   "id": "72b19ce4-1c15-41c0-a141-4a00c064a32f",
   "metadata": {},
   "outputs": [
    {
     "name": "stdout",
     "output_type": "stream",
     "text": [
      "6\n",
      "2\n"
     ]
    }
   ],
   "source": [
    "print(numpy.max(a))\n",
    "print(numpy.argmax(a)) #index position"
   ]
  },
  {
   "cell_type": "code",
   "execution_count": 70,
   "id": "ce15fe23-7040-4b75-abf9-ce8fac5e2642",
   "metadata": {},
   "outputs": [
    {
     "data": {
      "text/plain": [
       "array([2.        , 1.41421356, 2.44948974, 1.73205081])"
      ]
     },
     "execution_count": 70,
     "metadata": {},
     "output_type": "execute_result"
    }
   ],
   "source": [
    "numpy.sqrt(a)"
   ]
  },
  {
   "cell_type": "code",
   "execution_count": 71,
   "id": "ea4e9e13-f265-4f87-a775-920e9ef7ed74",
   "metadata": {},
   "outputs": [
    {
     "data": {
      "text/plain": [
       "array([-0.7568025 ,  0.90929743, -0.2794155 ,  0.14112001])"
      ]
     },
     "execution_count": 71,
     "metadata": {},
     "output_type": "execute_result"
    }
   ],
   "source": [
    "numpy.sin(a)"
   ]
  },
  {
   "cell_type": "code",
   "execution_count": 72,
   "id": "f643c80c-eafd-4afc-bdf6-95948c678362",
   "metadata": {},
   "outputs": [
    {
     "data": {
      "text/plain": [
       "array([-0.65364362, -0.41614684,  0.96017029, -0.9899925 ])"
      ]
     },
     "execution_count": 72,
     "metadata": {},
     "output_type": "execute_result"
    }
   ],
   "source": [
    "numpy.cos(a)"
   ]
  },
  {
   "cell_type": "code",
   "execution_count": 75,
   "id": "a383e972-2b6d-411f-9e77-fecebfe8564a",
   "metadata": {},
   "outputs": [
    {
     "name": "stdout",
     "output_type": "stream",
     "text": [
      "2\n",
      "1\n"
     ]
    }
   ],
   "source": [
    "print(numpy.min(a))\n",
    "print(numpy.argmin(a))"
   ]
  },
  {
   "cell_type": "code",
   "execution_count": 77,
   "id": "7af23472-cb3e-44c6-b128-d5838ff4ff07",
   "metadata": {},
   "outputs": [
    {
     "data": {
      "text/plain": [
       "8"
      ]
     },
     "execution_count": 77,
     "metadata": {},
     "output_type": "execute_result"
    }
   ],
   "source": [
    "#Location of the minimum\n",
    "b = numpy.array([9, 3, 1, 4, 5, 6, 3, 7, -1])\n",
    "numpy.argmin(b)"
   ]
  },
  {
   "cell_type": "code",
   "execution_count": 80,
   "id": "93c5370b-2e9f-491e-8efb-1ece8ee86057",
   "metadata": {},
   "outputs": [
    {
     "name": "stdout",
     "output_type": "stream",
     "text": [
      "org narray:  [4 2 6 3]\n",
      "\n",
      "processed array:  [ 4  6 12 15]\n"
     ]
    }
   ],
   "source": [
    "\n",
    "print(\"org narray: \", a)\n",
    "print()\n",
    "print(\"processed array: \", numpy.cumsum(a))"
   ]
  },
  {
   "cell_type": "code",
   "execution_count": 81,
   "id": "76827f0f-1b03-4b69-89dc-a2a72ce97270",
   "metadata": {},
   "outputs": [
    {
     "data": {
      "text/plain": [
       "array([ 9, 12, 13, 17, 22, 28, 31, 38, 37])"
      ]
     },
     "execution_count": 81,
     "metadata": {},
     "output_type": "execute_result"
    }
   ],
   "source": [
    "#Cumulative sum of the array: the elements are added to the previous element\n",
    "numpy.cumsum(b)"
   ]
  },
  {
   "cell_type": "code",
   "execution_count": 2,
   "id": "7ca3ab23-82df-433c-a876-3dcc9357c1f3",
   "metadata": {},
   "outputs": [
    {
     "data": {
      "text/plain": [
       "4"
      ]
     },
     "execution_count": 2,
     "metadata": {},
     "output_type": "execute_result"
    }
   ],
   "source": [
    "import numpy\n",
    "a = numpy.array([4, 2, 6,3])\n",
    "a.itemsize"
   ]
  },
  {
   "cell_type": "code",
   "execution_count": 3,
   "id": "63598839-8477-4cb4-95c0-375b230ad362",
   "metadata": {},
   "outputs": [
    {
     "data": {
      "text/plain": [
       "4"
      ]
     },
     "execution_count": 3,
     "metadata": {},
     "output_type": "execute_result"
    }
   ],
   "source": [
    "a.size"
   ]
  },
  {
   "cell_type": "code",
   "execution_count": 4,
   "id": "7114a12c-3800-4726-91d3-ea76a8250320",
   "metadata": {},
   "outputs": [
    {
     "data": {
      "text/plain": [
       "16"
      ]
     },
     "execution_count": 4,
     "metadata": {},
     "output_type": "execute_result"
    }
   ],
   "source": [
    "a.nbytes"
   ]
  },
  {
   "cell_type": "code",
   "execution_count": 5,
   "id": "27599797-8894-4b45-af1b-96ba0ded590f",
   "metadata": {},
   "outputs": [
    {
     "data": {
      "text/plain": [
       "16"
      ]
     },
     "execution_count": 5,
     "metadata": {},
     "output_type": "execute_result"
    }
   ],
   "source": [
    "import numpy\n",
    "\n",
    "b = numpy.array([54,32,45,67])\n",
    "b.nbytes"
   ]
  },
  {
   "cell_type": "code",
   "execution_count": 7,
   "id": "5bb52426-b6ce-4879-960f-1ef7967e0ba9",
   "metadata": {},
   "outputs": [
    {
     "data": {
      "text/plain": [
       "16"
      ]
     },
     "execution_count": 7,
     "metadata": {},
     "output_type": "execute_result"
    }
   ],
   "source": [
    "c = numpy.array([[3, 5],[4, 1]])\n",
    "c.nbytes"
   ]
  },
  {
   "cell_type": "code",
   "execution_count": 9,
   "id": "2bcf16ee-6986-479a-8810-db097982a34a",
   "metadata": {},
   "outputs": [
    {
     "data": {
      "text/plain": [
       "1"
      ]
     },
     "execution_count": 9,
     "metadata": {},
     "output_type": "execute_result"
    }
   ],
   "source": [
    "b = numpy.array([54,32,45,67])\n",
    "b.ndim"
   ]
  },
  {
   "cell_type": "code",
   "execution_count": 10,
   "id": "2705b4a2-25c3-4068-b183-bd57c49cb5b8",
   "metadata": {},
   "outputs": [
    {
     "data": {
      "text/plain": [
       "array([[54, 32],\n",
       "       [45, 67]])"
      ]
     },
     "execution_count": 10,
     "metadata": {},
     "output_type": "execute_result"
    }
   ],
   "source": [
    "d = b.reshape(2,2)\n",
    "d"
   ]
  },
  {
   "cell_type": "code",
   "execution_count": 11,
   "id": "f2e54c54-f972-402c-891f-e8d3c82c6fc1",
   "metadata": {},
   "outputs": [
    {
     "data": {
      "text/plain": [
       "2"
      ]
     },
     "execution_count": 11,
     "metadata": {},
     "output_type": "execute_result"
    }
   ],
   "source": [
    "d.ndim"
   ]
  },
  {
   "cell_type": "code",
   "execution_count": 28,
   "id": "78de96cc-39b2-4345-ad44-5ebace0fcc6e",
   "metadata": {},
   "outputs": [],
   "source": [
    "e = numpy.array([6, 1, 2, 3, 4,5 ,6 ,7])\n",
    "f = e.reshape(1,4,2)"
   ]
  },
  {
   "cell_type": "code",
   "execution_count": 29,
   "id": "b428916e-c652-4271-814f-270d895a70e6",
   "metadata": {},
   "outputs": [
    {
     "data": {
      "text/plain": [
       "array([[[6, 1],\n",
       "        [2, 3],\n",
       "        [4, 5],\n",
       "        [6, 7]]])"
      ]
     },
     "execution_count": 29,
     "metadata": {},
     "output_type": "execute_result"
    }
   ],
   "source": [
    "f"
   ]
  },
  {
   "cell_type": "code",
   "execution_count": 27,
   "id": "41606fa9-e192-4ebb-b698-45db18f17393",
   "metadata": {},
   "outputs": [
    {
     "data": {
      "text/plain": [
       "3"
      ]
     },
     "execution_count": 27,
     "metadata": {},
     "output_type": "execute_result"
    }
   ],
   "source": [
    "f.ndim"
   ]
  },
  {
   "cell_type": "code",
   "execution_count": 30,
   "id": "e900c3c1-9c38-4686-871b-ff2e8424106d",
   "metadata": {},
   "outputs": [],
   "source": [
    "g = numpy.array([3, 5, 7, 8, 9, 3])"
   ]
  },
  {
   "cell_type": "code",
   "execution_count": 31,
   "id": "e3897c98-6829-44fe-9c34-eadfdc8b08b4",
   "metadata": {},
   "outputs": [
    {
     "data": {
      "text/plain": [
       "array([[3, 5, 7],\n",
       "       [8, 9, 3]])"
      ]
     },
     "execution_count": 31,
     "metadata": {},
     "output_type": "execute_result"
    }
   ],
   "source": [
    "h=g.reshape(2,3)\n",
    "h"
   ]
  },
  {
   "cell_type": "code",
   "execution_count": 32,
   "id": "3f7373fa-338b-40e6-820b-dca10b89bf52",
   "metadata": {},
   "outputs": [
    {
     "data": {
      "text/plain": [
       "2"
      ]
     },
     "execution_count": 32,
     "metadata": {},
     "output_type": "execute_result"
    }
   ],
   "source": [
    "h.ndim"
   ]
  },
  {
   "cell_type": "code",
   "execution_count": 33,
   "id": "895b13cf-d2f4-405e-999a-0e6150f5a9ae",
   "metadata": {},
   "outputs": [
    {
     "data": {
      "text/plain": [
       "array([[[3, 5, 7],\n",
       "        [8, 9, 3]]])"
      ]
     },
     "execution_count": 33,
     "metadata": {},
     "output_type": "execute_result"
    }
   ],
   "source": [
    "g.reshape(1,2,3)"
   ]
  },
  {
   "cell_type": "code",
   "execution_count": 35,
   "id": "fc6643c6-34e7-45d3-b08b-6b6dc6865176",
   "metadata": {},
   "outputs": [
    {
     "data": {
      "text/plain": [
       "array([[[3, 5, 7]],\n",
       "\n",
       "       [[8, 9, 3]]])"
      ]
     },
     "execution_count": 35,
     "metadata": {},
     "output_type": "execute_result"
    }
   ],
   "source": [
    "h=g.reshape(2,1,3)\n",
    "h"
   ]
  },
  {
   "cell_type": "code",
   "execution_count": 36,
   "id": "404f0f54-a0c2-4b68-8748-3d35f56606e9",
   "metadata": {},
   "outputs": [
    {
     "data": {
      "text/plain": [
       "3"
      ]
     },
     "execution_count": 36,
     "metadata": {},
     "output_type": "execute_result"
    }
   ],
   "source": [
    "h.ndim"
   ]
  },
  {
   "cell_type": "code",
   "execution_count": 39,
   "id": "8f8865ff-74fd-4788-a0ce-8d8d926d7ad1",
   "metadata": {},
   "outputs": [
    {
     "data": {
      "text/plain": [
       "array([8, 9, 3])"
      ]
     },
     "execution_count": 39,
     "metadata": {},
     "output_type": "execute_result"
    }
   ],
   "source": [
    "h[1,0]"
   ]
  },
  {
   "cell_type": "code",
   "execution_count": 5,
   "id": "21fea5bc-8eca-414c-921a-154aec20912a",
   "metadata": {},
   "outputs": [
    {
     "data": {
      "text/plain": [
       "array([ 9,  7, 10,  6])"
      ]
     },
     "execution_count": 5,
     "metadata": {},
     "output_type": "execute_result"
    }
   ],
   "source": [
    "#Broadcasting\n",
    "#Either both can have similar shape or either need to have a single element/shape\n",
    "import numpy as np\n",
    "a = np.array([4, 2, 5, 1]) # shape(4,)\n",
    "b = np.array([5]) # shape(1,)\n",
    "a+b"
   ]
  },
  {
   "cell_type": "code",
   "execution_count": 6,
   "id": "c06d24ed-17c7-4d42-be1d-727f7c5a4d00",
   "metadata": {},
   "outputs": [],
   "source": [
    "# Broadcast error -> dimension same + similar shape/shape"
   ]
  },
  {
   "cell_type": "code",
   "execution_count": 8,
   "id": "00f443d6-8d02-4244-9fb3-1970f46adaeb",
   "metadata": {},
   "outputs": [
    {
     "name": "stdout",
     "output_type": "stream",
     "text": [
      "(2, 2)\n",
      "(2,)\n"
     ]
    },
    {
     "name": "stderr",
     "output_type": "stream",
     "text": [
      "C:\\Users\\s_nas\\AppData\\Local\\Temp\\ipykernel_8128\\832421211.py:3: VisibleDeprecationWarning: Creating an ndarray from ragged nested sequences (which is a list-or-tuple of lists-or-tuples-or ndarrays with different lengths or shapes) is deprecated. If you meant to do this, you must specify 'dtype=object' when creating the ndarray.\n",
      "  b = np.array([[1,4,3], [3,2]])\n"
     ]
    }
   ],
   "source": [
    "\n",
    "a = np.array([[1,2], [3,2]])\n",
    "print(a.shape)\n",
    "b = np.array([[1,4,3], [3,2]])\n",
    "print(b.shape)\n",
    "#a+b"
   ]
  },
  {
   "cell_type": "code",
   "execution_count": 12,
   "id": "a588571b-13ca-4980-90bd-1b608782c564",
   "metadata": {},
   "outputs": [
    {
     "name": "stdout",
     "output_type": "stream",
     "text": [
      "(2, 3)\n"
     ]
    },
    {
     "data": {
      "text/plain": [
       "(2, 2)"
      ]
     },
     "execution_count": 12,
     "metadata": {},
     "output_type": "execute_result"
    }
   ],
   "source": [
    "a = np.array([[2,3], [4,2]])\n",
    "b = np.array([[1, 3, 4], [3,2,5]])\n",
    "print(b.shape)\n",
    "a.shape"
   ]
  },
  {
   "cell_type": "code",
   "execution_count": 10,
   "id": "ab6d08df-3b8b-4e00-8d52-e1db0a6b2314",
   "metadata": {},
   "outputs": [
    {
     "name": "stdout",
     "output_type": "stream",
     "text": [
      "(2, 3)\n"
     ]
    }
   ],
   "source": [
    "b = np.array([[1,3,4], [3,2,5]])\n",
    "print(b.shape)"
   ]
  },
  {
   "cell_type": "code",
   "execution_count": 14,
   "id": "363d8a4a-d910-40cd-ae05-6ed089017bbd",
   "metadata": {},
   "outputs": [
    {
     "ename": "ValueError",
     "evalue": "operands could not be broadcast together with shapes (2,2) (2,3) ",
     "output_type": "error",
     "traceback": [
      "\u001b[1;31m---------------------------------------------------------------------------\u001b[0m",
      "\u001b[1;31mValueError\u001b[0m                                Traceback (most recent call last)",
      "Cell \u001b[1;32mIn[14], line 2\u001b[0m\n\u001b[0;32m      1\u001b[0m \u001b[38;5;66;03m#Different shapes & a non-single shaped array creates the broadcast error\u001b[39;00m\n\u001b[1;32m----> 2\u001b[0m \u001b[43ma\u001b[49m\u001b[38;5;241;43m*\u001b[39;49m\u001b[43mb\u001b[49m\n",
      "\u001b[1;31mValueError\u001b[0m: operands could not be broadcast together with shapes (2,2) (2,3) "
     ]
    }
   ],
   "source": [
    "#Different shapes & a non-single shaped array creates the broadcast error\n",
    "a*b\n"
   ]
  },
  {
   "cell_type": "code",
   "execution_count": null,
   "id": "6ba19cc5-69c9-4ba8-b62b-3f4fbe15a1b2",
   "metadata": {},
   "outputs": [],
   "source": []
  }
 ],
 "metadata": {
  "kernelspec": {
   "display_name": "Python 3 (ipykernel)",
   "language": "python",
   "name": "python3"
  },
  "language_info": {
   "codemirror_mode": {
    "name": "ipython",
    "version": 3
   },
   "file_extension": ".py",
   "mimetype": "text/x-python",
   "name": "python",
   "nbconvert_exporter": "python",
   "pygments_lexer": "ipython3",
   "version": "3.11.5"
  }
 },
 "nbformat": 4,
 "nbformat_minor": 5
}
