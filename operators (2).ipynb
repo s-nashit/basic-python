{
 "cells": [
  {
   "cell_type": "markdown",
   "id": "52c3ded1",
   "metadata": {},
   "source": [
    "# operators"
   ]
  },
  {
   "cell_type": "code",
   "execution_count": 1,
   "id": "46e38fec",
   "metadata": {},
   "outputs": [
    {
     "data": {
      "text/plain": [
       "45"
      ]
     },
     "execution_count": 1,
     "metadata": {},
     "output_type": "execute_result"
    }
   ],
   "source": [
    "9*5"
   ]
  },
  {
   "cell_type": "code",
   "execution_count": 2,
   "id": "0e41cf7e",
   "metadata": {},
   "outputs": [
    {
     "data": {
      "text/plain": [
       "4.0"
      ]
     },
     "execution_count": 2,
     "metadata": {},
     "output_type": "execute_result"
    }
   ],
   "source": [
    "8/2"
   ]
  },
  {
   "cell_type": "code",
   "execution_count": 3,
   "id": "d173b722",
   "metadata": {},
   "outputs": [
    {
     "data": {
      "text/plain": [
       "0"
      ]
     },
     "execution_count": 3,
     "metadata": {},
     "output_type": "execute_result"
    }
   ],
   "source": [
    "8%2"
   ]
  },
  {
   "cell_type": "code",
   "execution_count": 4,
   "id": "95d8e300",
   "metadata": {},
   "outputs": [
    {
     "data": {
      "text/plain": [
       "13.5"
      ]
     },
     "execution_count": 4,
     "metadata": {},
     "output_type": "execute_result"
    }
   ],
   "source": [
    "27/2"
   ]
  },
  {
   "cell_type": "code",
   "execution_count": 5,
   "id": "aa5d663f",
   "metadata": {},
   "outputs": [
    {
     "data": {
      "text/plain": [
       "1"
      ]
     },
     "execution_count": 5,
     "metadata": {},
     "output_type": "execute_result"
    }
   ],
   "source": [
    "27%2     #(modulas - remender)"
   ]
  },
  {
   "cell_type": "code",
   "execution_count": 6,
   "id": "473ed9cb",
   "metadata": {},
   "outputs": [
    {
     "data": {
      "text/plain": [
       "13"
      ]
     },
     "execution_count": 6,
     "metadata": {},
     "output_type": "execute_result"
    }
   ],
   "source": [
    "27//2     #(floor division - quotient)"
   ]
  },
  {
   "cell_type": "markdown",
   "id": "a828fbfd",
   "metadata": {},
   "source": [
    "# Assignment Operator"
   ]
  },
  {
   "cell_type": "code",
   "execution_count": 7,
   "id": "96a903f5",
   "metadata": {},
   "outputs": [],
   "source": [
    "a=8"
   ]
  },
  {
   "cell_type": "code",
   "execution_count": 8,
   "id": "85e3c1c8",
   "metadata": {},
   "outputs": [],
   "source": [
    "b=3"
   ]
  },
  {
   "cell_type": "code",
   "execution_count": 9,
   "id": "39ed83ad",
   "metadata": {},
   "outputs": [],
   "source": [
    "a+=1   #increment"
   ]
  },
  {
   "cell_type": "code",
   "execution_count": 10,
   "id": "73a1eade",
   "metadata": {},
   "outputs": [
    {
     "data": {
      "text/plain": [
       "9"
      ]
     },
     "execution_count": 10,
     "metadata": {},
     "output_type": "execute_result"
    }
   ],
   "source": [
    "a"
   ]
  },
  {
   "cell_type": "code",
   "execution_count": 11,
   "id": "38d6fbbf",
   "metadata": {},
   "outputs": [],
   "source": [
    "b+=5 "
   ]
  },
  {
   "cell_type": "code",
   "execution_count": 12,
   "id": "e25138a3",
   "metadata": {},
   "outputs": [
    {
     "data": {
      "text/plain": [
       "8"
      ]
     },
     "execution_count": 12,
     "metadata": {},
     "output_type": "execute_result"
    }
   ],
   "source": [
    "b"
   ]
  },
  {
   "cell_type": "code",
   "execution_count": 13,
   "id": "6e23d59f",
   "metadata": {},
   "outputs": [],
   "source": [
    "c=15"
   ]
  },
  {
   "cell_type": "code",
   "execution_count": 14,
   "id": "d8ec0941",
   "metadata": {},
   "outputs": [
    {
     "data": {
      "text/plain": [
       "15"
      ]
     },
     "execution_count": 14,
     "metadata": {},
     "output_type": "execute_result"
    }
   ],
   "source": [
    "c"
   ]
  },
  {
   "cell_type": "code",
   "execution_count": 15,
   "id": "154566a7",
   "metadata": {},
   "outputs": [],
   "source": [
    "c-=5  #decrement operation;  c= c-5"
   ]
  },
  {
   "cell_type": "code",
   "execution_count": 16,
   "id": "408b5fd6",
   "metadata": {},
   "outputs": [
    {
     "data": {
      "text/plain": [
       "10"
      ]
     },
     "execution_count": 16,
     "metadata": {},
     "output_type": "execute_result"
    }
   ],
   "source": [
    "c"
   ]
  },
  {
   "cell_type": "code",
   "execution_count": 17,
   "id": "c994312e",
   "metadata": {},
   "outputs": [],
   "source": [
    "d=2"
   ]
  },
  {
   "cell_type": "code",
   "execution_count": 18,
   "id": "3575c3fc",
   "metadata": {},
   "outputs": [],
   "source": [
    "d*=2   #d = d*2"
   ]
  },
  {
   "cell_type": "code",
   "execution_count": 19,
   "id": "0cb56c0e",
   "metadata": {},
   "outputs": [
    {
     "data": {
      "text/plain": [
       "4"
      ]
     },
     "execution_count": 19,
     "metadata": {},
     "output_type": "execute_result"
    }
   ],
   "source": [
    "d"
   ]
  },
  {
   "cell_type": "code",
   "execution_count": 20,
   "id": "f44a82bc",
   "metadata": {},
   "outputs": [],
   "source": [
    "d*=2"
   ]
  },
  {
   "cell_type": "code",
   "execution_count": 21,
   "id": "5df2a333",
   "metadata": {},
   "outputs": [
    {
     "data": {
      "text/plain": [
       "8"
      ]
     },
     "execution_count": 21,
     "metadata": {},
     "output_type": "execute_result"
    }
   ],
   "source": [
    "d"
   ]
  },
  {
   "cell_type": "code",
   "execution_count": 22,
   "id": "b6d602a3",
   "metadata": {},
   "outputs": [],
   "source": [
    "d*=2"
   ]
  },
  {
   "cell_type": "code",
   "execution_count": 23,
   "id": "954a9f18",
   "metadata": {},
   "outputs": [
    {
     "data": {
      "text/plain": [
       "16"
      ]
     },
     "execution_count": 23,
     "metadata": {},
     "output_type": "execute_result"
    }
   ],
   "source": [
    "d"
   ]
  },
  {
   "cell_type": "code",
   "execution_count": 24,
   "id": "e6e32ec1",
   "metadata": {},
   "outputs": [
    {
     "data": {
      "text/plain": [
       "32"
      ]
     },
     "execution_count": 24,
     "metadata": {},
     "output_type": "execute_result"
    }
   ],
   "source": [
    "e=64\n",
    "e/=2  #(e = e/2)\n",
    "int(e)"
   ]
  },
  {
   "cell_type": "code",
   "execution_count": 25,
   "id": "11cb1b23",
   "metadata": {},
   "outputs": [
    {
     "data": {
      "text/plain": [
       "16"
      ]
     },
     "execution_count": 25,
     "metadata": {},
     "output_type": "execute_result"
    }
   ],
   "source": [
    "e/=2\n",
    "int(e)"
   ]
  },
  {
   "cell_type": "code",
   "execution_count": 26,
   "id": "60885352",
   "metadata": {},
   "outputs": [
    {
     "data": {
      "text/plain": [
       "7"
      ]
     },
     "execution_count": 26,
     "metadata": {},
     "output_type": "execute_result"
    }
   ],
   "source": [
    "f=16\n",
    "f%=9  #(quotient 16/9 = reminder(7); quotient(1))\n",
    "f"
   ]
  },
  {
   "cell_type": "code",
   "execution_count": 27,
   "id": "71322f6b",
   "metadata": {},
   "outputs": [
    {
     "data": {
      "text/plain": [
       "3"
      ]
     },
     "execution_count": 27,
     "metadata": {},
     "output_type": "execute_result"
    }
   ],
   "source": [
    "g=20\n",
    "g//=6  #(20/2 = 10); g // 6\n",
    "g\n"
   ]
  },
  {
   "cell_type": "code",
   "execution_count": 28,
   "id": "8ea02501",
   "metadata": {},
   "outputs": [
    {
     "data": {
      "text/plain": [
       "2"
      ]
     },
     "execution_count": 28,
     "metadata": {},
     "output_type": "execute_result"
    }
   ],
   "source": [
    "h=20\n",
    "h%=6\n",
    "h"
   ]
  },
  {
   "cell_type": "code",
   "execution_count": 29,
   "id": "235990e2",
   "metadata": {},
   "outputs": [
    {
     "data": {
      "text/plain": [
       "7.5"
      ]
     },
     "execution_count": 29,
     "metadata": {},
     "output_type": "execute_result"
    }
   ],
   "source": [
    "i=15\n",
    "j=i/2  #(15/2 = 7.5)\n",
    "j"
   ]
  },
  {
   "cell_type": "code",
   "execution_count": 30,
   "id": "f6365ea3",
   "metadata": {},
   "outputs": [
    {
     "data": {
      "text/plain": [
       "1"
      ]
     },
     "execution_count": 30,
     "metadata": {},
     "output_type": "execute_result"
    }
   ],
   "source": [
    "k=15\n",
    "l=k%2  #(15/2; reminder=1)\n",
    "l"
   ]
  },
  {
   "cell_type": "code",
   "execution_count": 31,
   "id": "9599526a",
   "metadata": {},
   "outputs": [
    {
     "data": {
      "text/plain": [
       "7"
      ]
     },
     "execution_count": 31,
     "metadata": {},
     "output_type": "execute_result"
    }
   ],
   "source": [
    "m=15\n",
    "n=m//2   #(15/2; qutient = 7)\n",
    "n"
   ]
  },
  {
   "cell_type": "code",
   "execution_count": 32,
   "id": "209a2584",
   "metadata": {},
   "outputs": [
    {
     "data": {
      "text/plain": [
       "1"
      ]
     },
     "execution_count": 32,
     "metadata": {},
     "output_type": "execute_result"
    }
   ],
   "source": [
    "o=15\n",
    "o%=2\n",
    "o"
   ]
  },
  {
   "cell_type": "code",
   "execution_count": 33,
   "id": "fce6bec8",
   "metadata": {},
   "outputs": [
    {
     "data": {
      "text/plain": [
       "7"
      ]
     },
     "execution_count": 33,
     "metadata": {},
     "output_type": "execute_result"
    }
   ],
   "source": [
    "p=15\n",
    "p//=2\n",
    "p"
   ]
  },
  {
   "cell_type": "code",
   "execution_count": 34,
   "id": "ba10e249",
   "metadata": {},
   "outputs": [
    {
     "data": {
      "text/plain": [
       "729"
      ]
     },
     "execution_count": 34,
     "metadata": {},
     "output_type": "execute_result"
    }
   ],
   "source": [
    "q=3\n",
    "q**=6  #(exponential increment)\n",
    "q"
   ]
  },
  {
   "cell_type": "code",
   "execution_count": 35,
   "id": "6ce3731f",
   "metadata": {},
   "outputs": [
    {
     "data": {
      "text/plain": [
       "25"
      ]
     },
     "execution_count": 35,
     "metadata": {},
     "output_type": "execute_result"
    }
   ],
   "source": [
    "r=5\n",
    "r**=2 \n",
    "r"
   ]
  },
  {
   "cell_type": "raw",
   "id": "1b064874",
   "metadata": {},
   "source": [
    "Assignment Operator\n",
    "&=\n",
    "!=\n",
    "^=\n",
    ">>=\n",
    "<<="
   ]
  },
  {
   "cell_type": "markdown",
   "id": "b1b052c3",
   "metadata": {},
   "source": [
    "# Comparison Operation"
   ]
  },
  {
   "cell_type": "code",
   "execution_count": 36,
   "id": "e79d18e3",
   "metadata": {},
   "outputs": [
    {
     "data": {
      "text/plain": [
       "True"
      ]
     },
     "execution_count": 36,
     "metadata": {},
     "output_type": "execute_result"
    }
   ],
   "source": [
    "a=10\n",
    "a==10"
   ]
  },
  {
   "cell_type": "code",
   "execution_count": 37,
   "id": "1e83246d",
   "metadata": {},
   "outputs": [
    {
     "data": {
      "text/plain": [
       "False"
      ]
     },
     "execution_count": 37,
     "metadata": {},
     "output_type": "execute_result"
    }
   ],
   "source": [
    "a=10\n",
    "a==11\n",
    "# value and datatypes both"
   ]
  },
  {
   "cell_type": "code",
   "execution_count": 38,
   "id": "fe4c4b82",
   "metadata": {},
   "outputs": [
    {
     "data": {
      "text/plain": [
       "True"
      ]
     },
     "execution_count": 38,
     "metadata": {},
     "output_type": "execute_result"
    }
   ],
   "source": [
    "a>=8  #correct"
   ]
  },
  {
   "cell_type": "code",
   "execution_count": 39,
   "id": "cee70a43",
   "metadata": {},
   "outputs": [
    {
     "data": {
      "text/plain": [
       "False"
      ]
     },
     "execution_count": 39,
     "metadata": {},
     "output_type": "execute_result"
    }
   ],
   "source": [
    "a<=8  #incorrect"
   ]
  },
  {
   "cell_type": "code",
   "execution_count": 40,
   "id": "34e51fe1",
   "metadata": {},
   "outputs": [
    {
     "data": {
      "text/plain": [
       "False"
      ]
     },
     "execution_count": 40,
     "metadata": {},
     "output_type": "execute_result"
    }
   ],
   "source": [
    "a !=10"
   ]
  },
  {
   "cell_type": "code",
   "execution_count": 41,
   "id": "f25d3735",
   "metadata": {},
   "outputs": [
    {
     "data": {
      "text/plain": [
       "True"
      ]
     },
     "execution_count": 41,
     "metadata": {},
     "output_type": "execute_result"
    }
   ],
   "source": [
    "a !=11  #(! = means is not equals)"
   ]
  },
  {
   "cell_type": "code",
   "execution_count": 42,
   "id": "165cdbfe",
   "metadata": {},
   "outputs": [
    {
     "data": {
      "text/plain": [
       "True"
      ]
     },
     "execution_count": 42,
     "metadata": {},
     "output_type": "execute_result"
    }
   ],
   "source": [
    "8!=10   #(! = is note equals to)"
   ]
  },
  {
   "cell_type": "code",
   "execution_count": 43,
   "id": "7116599d",
   "metadata": {},
   "outputs": [
    {
     "data": {
      "text/plain": [
       "36928199158312799766438480479704028517667582765626254209794515711414241459390"
      ]
     },
     "execution_count": 43,
     "metadata": {},
     "output_type": "execute_result"
    }
   ],
   "source": [
    "654563265974869511697498749865486*56416546845649867459886754896489654896549865"
   ]
  },
  {
   "cell_type": "code",
   "execution_count": 44,
   "id": "c86ea8f1",
   "metadata": {},
   "outputs": [
    {
     "data": {
      "text/plain": [
       "100.0"
      ]
     },
     "execution_count": 44,
     "metadata": {},
     "output_type": "execute_result"
    }
   ],
   "source": [
    "1e2"
   ]
  },
  {
   "cell_type": "code",
   "execution_count": 45,
   "id": "8bb1b0b4",
   "metadata": {},
   "outputs": [
    {
     "data": {
      "text/plain": [
       "10.0"
      ]
     },
     "execution_count": 45,
     "metadata": {},
     "output_type": "execute_result"
    }
   ],
   "source": [
    "1e1"
   ]
  },
  {
   "cell_type": "code",
   "execution_count": 46,
   "id": "f9887853",
   "metadata": {},
   "outputs": [
    {
     "data": {
      "text/plain": [
       "1.0"
      ]
     },
     "execution_count": 46,
     "metadata": {},
     "output_type": "execute_result"
    }
   ],
   "source": [
    "1e0"
   ]
  },
  {
   "cell_type": "code",
   "execution_count": 47,
   "id": "3ddd9ba1",
   "metadata": {},
   "outputs": [
    {
     "data": {
      "text/plain": [
       "1.79e+308"
      ]
     },
     "execution_count": 47,
     "metadata": {},
     "output_type": "execute_result"
    }
   ],
   "source": [
    "1.79e308   #(largest number supported in python)"
   ]
  },
  {
   "cell_type": "code",
   "execution_count": 48,
   "id": "2dfe44e4",
   "metadata": {},
   "outputs": [
    {
     "data": {
      "text/plain": [
       "inf"
      ]
     },
     "execution_count": 48,
     "metadata": {},
     "output_type": "execute_result"
    }
   ],
   "source": [
    "1.8e308"
   ]
  },
  {
   "cell_type": "code",
   "execution_count": 49,
   "id": "10067b55",
   "metadata": {},
   "outputs": [
    {
     "data": {
      "text/plain": [
       "5e-324"
      ]
     },
     "execution_count": 49,
     "metadata": {},
     "output_type": "execute_result"
    }
   ],
   "source": [
    "5e-324   #lowest number support in python"
   ]
  },
  {
   "cell_type": "code",
   "execution_count": 50,
   "id": "358cc41e",
   "metadata": {},
   "outputs": [
    {
     "data": {
      "text/plain": [
       "0.001"
      ]
     },
     "execution_count": 50,
     "metadata": {},
     "output_type": "execute_result"
    }
   ],
   "source": [
    "1e-3"
   ]
  },
  {
   "cell_type": "code",
   "execution_count": 51,
   "id": "aea98eba",
   "metadata": {},
   "outputs": [
    {
     "data": {
      "text/plain": [
       "5e-324"
      ]
     },
     "execution_count": 51,
     "metadata": {},
     "output_type": "execute_result"
    }
   ],
   "source": [
    "6e-324"
   ]
  },
  {
   "cell_type": "code",
   "execution_count": 41,
   "id": "164020e6",
   "metadata": {},
   "outputs": [
    {
     "data": {
      "text/plain": [
       "0.0"
      ]
     },
     "execution_count": 41,
     "metadata": {},
     "output_type": "execute_result"
    }
   ],
   "source": [
    "5.1e-328"
   ]
  },
  {
   "cell_type": "code",
   "execution_count": 53,
   "id": "f84eebb9",
   "metadata": {},
   "outputs": [
    {
     "data": {
      "text/plain": [
       "15"
      ]
     },
     "execution_count": 53,
     "metadata": {},
     "output_type": "execute_result"
    }
   ],
   "source": [
    "15"
   ]
  },
  {
   "cell_type": "code",
   "execution_count": 54,
   "id": "96b5d678",
   "metadata": {},
   "outputs": [
    {
     "data": {
      "text/plain": [
       "15"
      ]
     },
     "execution_count": 54,
     "metadata": {},
     "output_type": "execute_result"
    }
   ],
   "source": [
    "0b1111"
   ]
  },
  {
   "cell_type": "code",
   "execution_count": 55,
   "id": "078d2582",
   "metadata": {},
   "outputs": [
    {
     "data": {
      "text/plain": [
       "15"
      ]
     },
     "execution_count": 55,
     "metadata": {},
     "output_type": "execute_result"
    }
   ],
   "source": [
    "0B1111"
   ]
  },
  {
   "cell_type": "code",
   "execution_count": 56,
   "id": "b0e4726a",
   "metadata": {},
   "outputs": [
    {
     "data": {
      "text/plain": [
       "61"
      ]
     },
     "execution_count": 56,
     "metadata": {},
     "output_type": "execute_result"
    }
   ],
   "source": [
    "0o75"
   ]
  },
  {
   "cell_type": "code",
   "execution_count": 57,
   "id": "4f59ea55",
   "metadata": {},
   "outputs": [
    {
     "data": {
      "text/plain": [
       "61"
      ]
     },
     "execution_count": 57,
     "metadata": {},
     "output_type": "execute_result"
    }
   ],
   "source": [
    "0O75"
   ]
  },
  {
   "cell_type": "code",
   "execution_count": 58,
   "id": "1c4de9f9",
   "metadata": {},
   "outputs": [
    {
     "data": {
      "text/plain": [
       "35568"
      ]
     },
     "execution_count": 58,
     "metadata": {},
     "output_type": "execute_result"
    }
   ],
   "source": [
    "0x8af0"
   ]
  },
  {
   "cell_type": "code",
   "execution_count": 59,
   "id": "89c7c64f",
   "metadata": {},
   "outputs": [
    {
     "data": {
      "text/plain": [
       "35568"
      ]
     },
     "execution_count": 59,
     "metadata": {},
     "output_type": "execute_result"
    }
   ],
   "source": [
    "0X8af0"
   ]
  },
  {
   "cell_type": "code",
   "execution_count": 60,
   "id": "ede909ea",
   "metadata": {},
   "outputs": [
    {
     "data": {
      "text/plain": [
       "'0b1111'"
      ]
     },
     "execution_count": 60,
     "metadata": {},
     "output_type": "execute_result"
    }
   ],
   "source": [
    "bin(15)"
   ]
  },
  {
   "cell_type": "code",
   "execution_count": 61,
   "id": "43498ff5",
   "metadata": {},
   "outputs": [
    {
     "data": {
      "text/plain": [
       "'0o245'"
      ]
     },
     "execution_count": 61,
     "metadata": {},
     "output_type": "execute_result"
    }
   ],
   "source": [
    "oct(0xa5)"
   ]
  },
  {
   "cell_type": "code",
   "execution_count": 62,
   "id": "6f087128",
   "metadata": {},
   "outputs": [
    {
     "data": {
      "text/plain": [
       "'0o75'"
      ]
     },
     "execution_count": 62,
     "metadata": {},
     "output_type": "execute_result"
    }
   ],
   "source": [
    "oct(61)"
   ]
  },
  {
   "cell_type": "code",
   "execution_count": 63,
   "id": "9a4055da",
   "metadata": {},
   "outputs": [
    {
     "data": {
      "text/plain": [
       "'0x8af0'"
      ]
     },
     "execution_count": 63,
     "metadata": {},
     "output_type": "execute_result"
    }
   ],
   "source": [
    "hex(35568)"
   ]
  },
  {
   "cell_type": "code",
   "execution_count": 64,
   "id": "24438c3a",
   "metadata": {},
   "outputs": [
    {
     "data": {
      "text/plain": [
       "'0x101'"
      ]
     },
     "execution_count": 64,
     "metadata": {},
     "output_type": "execute_result"
    }
   ],
   "source": [
    "hex(257)"
   ]
  },
  {
   "cell_type": "code",
   "execution_count": 65,
   "id": "57bc5a55",
   "metadata": {},
   "outputs": [
    {
     "data": {
      "text/plain": [
       "257"
      ]
     },
     "execution_count": 65,
     "metadata": {},
     "output_type": "execute_result"
    }
   ],
   "source": [
    "0x101"
   ]
  },
  {
   "cell_type": "code",
   "execution_count": 66,
   "id": "9f66be6f",
   "metadata": {},
   "outputs": [
    {
     "data": {
      "text/plain": [
       "'0xaf'"
      ]
     },
     "execution_count": 66,
     "metadata": {},
     "output_type": "execute_result"
    }
   ],
   "source": [
    "hex(0o257)"
   ]
  },
  {
   "cell_type": "code",
   "execution_count": 67,
   "id": "659eeb12",
   "metadata": {},
   "outputs": [
    {
     "data": {
      "text/plain": [
       "'0x16'"
      ]
     },
     "execution_count": 67,
     "metadata": {},
     "output_type": "execute_result"
    }
   ],
   "source": [
    "hex(0b10110)"
   ]
  },
  {
   "cell_type": "code",
   "execution_count": 68,
   "id": "fa7f5e0d",
   "metadata": {},
   "outputs": [
    {
     "data": {
      "text/plain": [
       "'0b1111'"
      ]
     },
     "execution_count": 68,
     "metadata": {},
     "output_type": "execute_result"
    }
   ],
   "source": [
    "bin(15)"
   ]
  },
  {
   "cell_type": "code",
   "execution_count": 69,
   "id": "13d530a5",
   "metadata": {},
   "outputs": [
    {
     "data": {
      "text/plain": [
       "'0b1101'"
      ]
     },
     "execution_count": 69,
     "metadata": {},
     "output_type": "execute_result"
    }
   ],
   "source": [
    "bin(0o15)"
   ]
  },
  {
   "cell_type": "code",
   "execution_count": 70,
   "id": "bd312182",
   "metadata": {},
   "outputs": [
    {
     "data": {
      "text/plain": [
       "'0b10101'"
      ]
     },
     "execution_count": 70,
     "metadata": {},
     "output_type": "execute_result"
    }
   ],
   "source": [
    "bin(0x15)"
   ]
  },
  {
   "cell_type": "code",
   "execution_count": 71,
   "id": "4b1bac77",
   "metadata": {},
   "outputs": [
    {
     "data": {
      "text/plain": [
       "'0x1f4'"
      ]
     },
     "execution_count": 71,
     "metadata": {},
     "output_type": "execute_result"
    }
   ],
   "source": [
    "hex(500)"
   ]
  },
  {
   "cell_type": "code",
   "execution_count": 72,
   "id": "1f3736f8",
   "metadata": {},
   "outputs": [
    {
     "data": {
      "text/plain": [
       "'0xb'"
      ]
     },
     "execution_count": 72,
     "metadata": {},
     "output_type": "execute_result"
    }
   ],
   "source": [
    "hex(0b1011)"
   ]
  },
  {
   "cell_type": "code",
   "execution_count": 73,
   "id": "de16591e",
   "metadata": {},
   "outputs": [
    {
     "name": "stdout",
     "output_type": "stream",
     "text": [
      "enter a number:15\n"
     ]
    }
   ],
   "source": [
    "a = int(input('enter a number:'))"
   ]
  },
  {
   "cell_type": "code",
   "execution_count": 74,
   "id": "48f57b24",
   "metadata": {},
   "outputs": [
    {
     "data": {
      "text/plain": [
       "10"
      ]
     },
     "execution_count": 74,
     "metadata": {},
     "output_type": "execute_result"
    }
   ],
   "source": [
    "0xa"
   ]
  },
  {
   "cell_type": "code",
   "execution_count": 75,
   "id": "1001c06c",
   "metadata": {},
   "outputs": [
    {
     "data": {
      "text/plain": [
       "'0b1111'"
      ]
     },
     "execution_count": 75,
     "metadata": {},
     "output_type": "execute_result"
    }
   ],
   "source": [
    "bin(a)"
   ]
  },
  {
   "cell_type": "code",
   "execution_count": 76,
   "id": "0fdf6529",
   "metadata": {},
   "outputs": [
    {
     "name": "stdout",
     "output_type": "stream",
     "text": [
      "enter the number:15\n",
      "binary equivalent: 0b1111\n",
      "octal equivalent: 0o17\n",
      "hexadecimal equivalent: 0xf\n"
     ]
    }
   ],
   "source": [
    "b = int(input('enter the number:'))\n",
    "print('binary equivalent: '+bin(b))\n",
    "print('octal equivalent: '+oct(b))\n",
    "print('hexadecimal equivalent: '+hex(b))"
   ]
  },
  {
   "cell_type": "code",
   "execution_count": 78,
   "id": "86232631",
   "metadata": {},
   "outputs": [
    {
     "name": "stdout",
     "output_type": "stream",
     "text": [
      "20\n",
      "you can vote\n"
     ]
    }
   ],
   "source": [
    "x = int(input())\n",
    "if(x>18):\n",
    "    print('you can vote')"
   ]
  },
  {
   "cell_type": "code",
   "execution_count": 80,
   "id": "9bad4cab",
   "metadata": {},
   "outputs": [
    {
     "name": "stdout",
     "output_type": "stream",
     "text": [
      "enter your number: 23\n",
      "odd\n"
     ]
    }
   ],
   "source": [
    "a = int(input('enter your number: '))\n",
    "if(a%2==0):\n",
    "    print('the number is even')\n",
    "else:\n",
    "    print('odd')"
   ]
  },
  {
   "cell_type": "code",
   "execution_count": 81,
   "id": "3c2add9a",
   "metadata": {},
   "outputs": [
    {
     "name": "stdout",
     "output_type": "stream",
     "text": [
      "enter your age19\n",
      "you can vote\n"
     ]
    }
   ],
   "source": [
    "age = int(input('enter your age'))\n",
    "if(age>=18): print('you can vote')\n",
    "else: print('u can not vote')"
   ]
  },
  {
   "cell_type": "code",
   "execution_count": 82,
   "id": "db0c9c6c",
   "metadata": {},
   "outputs": [
    {
     "data": {
      "text/plain": [
       "15"
      ]
     },
     "execution_count": 82,
     "metadata": {},
     "output_type": "execute_result"
    }
   ],
   "source": [
    "a = 15\n",
    "a"
   ]
  },
  {
   "cell_type": "code",
   "execution_count": 83,
   "id": "7c246ee8",
   "metadata": {},
   "outputs": [],
   "source": [
    "if(a!=15): print('hellow')"
   ]
  },
  {
   "cell_type": "code",
   "execution_count": 90,
   "id": "ad712049",
   "metadata": {},
   "outputs": [
    {
     "name": "stdout",
     "output_type": "stream",
     "text": [
      "enter your marks: 24\n",
      "fail!!!\n"
     ]
    }
   ],
   "source": [
    "marks = int(input('enter your marks: '))\n",
    "if(marks>=75 and marks<=100):\n",
    "    print('Distinction')\n",
    "elif(marks>=60 and marks<75):\n",
    "    print('1st class')\n",
    "elif(marks>=50 and marks<60):\n",
    "    print('2nd class')\n",
    "elif(marks>=40 and marks<50):\n",
    "    print('3rd class')\n",
    "elif(marks>=0 and marks<40):\n",
    "    print('fail!!!')\n",
    "else:\n",
    "    print('enter valid marks')"
   ]
  },
  {
   "cell_type": "code",
   "execution_count": 92,
   "id": "e462c5fe",
   "metadata": {},
   "outputs": [
    {
     "name": "stdout",
     "output_type": "stream",
     "text": [
      "enter age: 20\n",
      "enter nationality: Indian\n"
     ]
    }
   ],
   "source": [
    "a = int(input('enter age: '))\n",
    "b = input('enter nationality: ')\n",
    "if(a<18 or b!='Indian'): print('you are not vote')"
   ]
  },
  {
   "cell_type": "code",
   "execution_count": 3,
   "id": "3780be6b",
   "metadata": {},
   "outputs": [
    {
     "name": "stdout",
     "output_type": "stream",
     "text": [
      "enter your nsti: Mumbai\n",
      "byeeeee!!!!\n"
     ]
    }
   ],
   "source": [
    "nsti = input('enter your nsti: ')\n",
    "if(nsti == 'Allahabad' or nsti == 'Dehradun' or nsti == 'Kanpur' or nsti == 'Patna'):\n",
    "    print('Welcome to the meeting')\n",
    "else:\n",
    "    print('byeeeee!!!!')"
   ]
  },
  {
   "cell_type": "code",
   "execution_count": 8,
   "id": "79ac7c64",
   "metadata": {},
   "outputs": [
    {
     "name": "stdout",
     "output_type": "stream",
     "text": [
      "<class 'bool'>\n",
      "<class 'str'>\n"
     ]
    }
   ],
   "source": [
    "a = True\n",
    "b = \"Nashit\"\n",
    "print(type(a))\n",
    "print(type(b))"
   ]
  },
  {
   "cell_type": "code",
   "execution_count": 9,
   "id": "a5be20b7",
   "metadata": {},
   "outputs": [
    {
     "data": {
      "text/plain": [
       "8.1"
      ]
     },
     "execution_count": 9,
     "metadata": {},
     "output_type": "execute_result"
    }
   ],
   "source": [
    "a = min(8.2, 8.1, 8.15)\n",
    "a"
   ]
  },
  {
   "cell_type": "code",
   "execution_count": 20,
   "id": "90b494d8",
   "metadata": {},
   "outputs": [
    {
     "data": {
      "text/plain": [
       "8.15"
      ]
     },
     "execution_count": 20,
     "metadata": {},
     "output_type": "execute_result"
    }
   ],
   "source": [
    "a = max(-8.2, 8.1, 8.15)\n",
    "a"
   ]
  },
  {
   "cell_type": "code",
   "execution_count": 29,
   "id": "c70d636f",
   "metadata": {},
   "outputs": [
    {
     "data": {
      "text/plain": [
       "9"
      ]
     },
     "execution_count": 29,
     "metadata": {},
     "output_type": "execute_result"
    }
   ],
   "source": [
    "import math\n",
    "a = abc.ceil(8.1)\n",
    "a"
   ]
  },
  {
   "cell_type": "code",
   "execution_count": 26,
   "id": "f3a65d95",
   "metadata": {},
   "outputs": [
    {
     "data": {
      "text/plain": [
       "8"
      ]
     },
     "execution_count": 26,
     "metadata": {},
     "output_type": "execute_result"
    }
   ],
   "source": [
    "b = math.floor(8.1)\n",
    "b"
   ]
  },
  {
   "cell_type": "markdown",
   "id": "17d5a4f2",
   "metadata": {},
   "source": [
    "math -> built-in module, mathematical functions"
   ]
  },
  {
   "cell_type": "code",
   "execution_count": 33,
   "id": "18184a8e",
   "metadata": {},
   "outputs": [
    {
     "data": {
      "text/plain": [
       "5"
      ]
     },
     "execution_count": 33,
     "metadata": {},
     "output_type": "execute_result"
    }
   ],
   "source": [
    "a = int(math.sqrt(25))\n",
    "a"
   ]
  },
  {
   "cell_type": "code",
   "execution_count": 37,
   "id": "4aea1b32",
   "metadata": {},
   "outputs": [
    {
     "data": {
      "text/plain": [
       "256"
      ]
     },
     "execution_count": 37,
     "metadata": {},
     "output_type": "execute_result"
    }
   ],
   "source": [
    "a = pow(4, 4)\n",
    "a"
   ]
  },
  {
   "cell_type": "code",
   "execution_count": 38,
   "id": "21801a2d",
   "metadata": {},
   "outputs": [
    {
     "data": {
      "text/plain": [
       "3.141592653589793"
      ]
     },
     "execution_count": 38,
     "metadata": {},
     "output_type": "execute_result"
    }
   ],
   "source": [
    "math.pi #22/7"
   ]
  },
  {
   "cell_type": "code",
   "execution_count": 39,
   "id": "7e383f1b",
   "metadata": {},
   "outputs": [
    {
     "data": {
      "text/plain": [
       "5.2"
      ]
     },
     "execution_count": 39,
     "metadata": {},
     "output_type": "execute_result"
    }
   ],
   "source": [
    "abs(-5.2)"
   ]
  },
  {
   "cell_type": "code",
   "execution_count": 40,
   "id": "4cbc29f7",
   "metadata": {},
   "outputs": [
    {
     "data": {
      "text/plain": [
       "nan"
      ]
     },
     "execution_count": 40,
     "metadata": {},
     "output_type": "execute_result"
    }
   ],
   "source": [
    "math.nan # not infinity(string)"
   ]
  },
  {
   "cell_type": "code",
   "execution_count": 42,
   "id": "2f29c2d3",
   "metadata": {},
   "outputs": [
    {
     "data": {
      "text/plain": [
       "362880"
      ]
     },
     "execution_count": 42,
     "metadata": {},
     "output_type": "execute_result"
    }
   ],
   "source": [
    "math.factorial(9) #9*8*7*6*5*4*3*2*1"
   ]
  },
  {
   "cell_type": "code",
   "execution_count": 43,
   "id": "398ab42b",
   "metadata": {},
   "outputs": [
    {
     "data": {
      "text/plain": [
       "6"
      ]
     },
     "execution_count": 43,
     "metadata": {},
     "output_type": "execute_result"
    }
   ],
   "source": [
    "math.factorial(3)"
   ]
  },
  {
   "cell_type": "code",
   "execution_count": 44,
   "id": "a192cc73",
   "metadata": {},
   "outputs": [
    {
     "data": {
      "text/plain": [
       "24"
      ]
     },
     "execution_count": 44,
     "metadata": {},
     "output_type": "execute_result"
    }
   ],
   "source": [
    "math.factorial(4)"
   ]
  },
  {
   "cell_type": "code",
   "execution_count": 45,
   "id": "d5d21f66",
   "metadata": {},
   "outputs": [
    {
     "data": {
      "text/plain": [
       "0.8939966636005579"
      ]
     },
     "execution_count": 45,
     "metadata": {},
     "output_type": "execute_result"
    }
   ],
   "source": [
    "math.sin(90)"
   ]
  },
  {
   "cell_type": "code",
   "execution_count": 46,
   "id": "7e80404c",
   "metadata": {},
   "outputs": [
    {
     "data": {
      "text/plain": [
       "-0.4480736161291701"
      ]
     },
     "execution_count": 46,
     "metadata": {},
     "output_type": "execute_result"
    }
   ],
   "source": [
    "math.cos(90)"
   ]
  },
  {
   "cell_type": "code",
   "execution_count": 47,
   "id": "f140a42a",
   "metadata": {},
   "outputs": [
    {
     "data": {
      "text/plain": [
       "-1.995200412208242"
      ]
     },
     "execution_count": 47,
     "metadata": {},
     "output_type": "execute_result"
    }
   ],
   "source": [
    "math.tan(90)"
   ]
  },
  {
   "cell_type": "code",
   "execution_count": 48,
   "id": "c4317b6d",
   "metadata": {},
   "outputs": [
    {
     "data": {
      "text/plain": [
       "5156.620156177409"
      ]
     },
     "execution_count": 48,
     "metadata": {},
     "output_type": "execute_result"
    }
   ],
   "source": [
    "math.degrees(90) #radians to degree"
   ]
  },
  {
   "cell_type": "code",
   "execution_count": 50,
   "id": "4d54334c",
   "metadata": {},
   "outputs": [
    {
     "data": {
      "text/plain": [
       "1.5707963267948966"
      ]
     },
     "execution_count": 50,
     "metadata": {},
     "output_type": "execute_result"
    }
   ],
   "source": [
    "math.radians(90) #degree to radians"
   ]
  },
  {
   "cell_type": "code",
   "execution_count": 53,
   "id": "766dcb96",
   "metadata": {},
   "outputs": [
    {
     "data": {
      "text/plain": [
       "1"
      ]
     },
     "execution_count": 53,
     "metadata": {},
     "output_type": "execute_result"
    }
   ],
   "source": [
    "int(math.sin(math.radians(90)))"
   ]
  },
  {
   "cell_type": "code",
   "execution_count": 54,
   "id": "2e4621ff",
   "metadata": {},
   "outputs": [
    {
     "data": {
      "text/plain": [
       "1.6094379124341003"
      ]
     },
     "execution_count": 54,
     "metadata": {},
     "output_type": "execute_result"
    }
   ],
   "source": [
    "math.log(5)"
   ]
  },
  {
   "cell_type": "code",
   "execution_count": 57,
   "id": "a7b3a5af",
   "metadata": {},
   "outputs": [
    {
     "data": {
      "text/plain": [
       "2.321928094887362"
      ]
     },
     "execution_count": 57,
     "metadata": {},
     "output_type": "execute_result"
    }
   ],
   "source": [
    "(math.log2(5))"
   ]
  },
  {
   "cell_type": "code",
   "execution_count": 58,
   "id": "fb4ebdef",
   "metadata": {},
   "outputs": [
    {
     "data": {
      "text/plain": [
       "2"
      ]
     },
     "execution_count": 58,
     "metadata": {},
     "output_type": "execute_result"
    }
   ],
   "source": [
    "math.trunc(math.log2(5))"
   ]
  },
  {
   "cell_type": "code",
   "execution_count": 59,
   "id": "8244575f",
   "metadata": {},
   "outputs": [
    {
     "data": {
      "text/plain": [
       "2"
      ]
     },
     "execution_count": 59,
     "metadata": {},
     "output_type": "execute_result"
    }
   ],
   "source": [
    "int(math.log2(5))"
   ]
  },
  {
   "cell_type": "code",
   "execution_count": 62,
   "id": "7a26090a",
   "metadata": {},
   "outputs": [
    {
     "data": {
      "text/plain": [
       "10"
      ]
     },
     "execution_count": 62,
     "metadata": {},
     "output_type": "execute_result"
    }
   ],
   "source": [
    "math.gcd(10,100)"
   ]
  },
  {
   "cell_type": "code",
   "execution_count": 63,
   "id": "44d89bd9",
   "metadata": {},
   "outputs": [
    {
     "data": {
      "text/plain": [
       "24"
      ]
     },
     "execution_count": 63,
     "metadata": {},
     "output_type": "execute_result"
    }
   ],
   "source": [
    "math.lcm(8,12)"
   ]
  },
  {
   "cell_type": "code",
   "execution_count": 65,
   "id": "3241aaab",
   "metadata": {},
   "outputs": [
    {
     "data": {
      "text/plain": [
       "10"
      ]
     },
     "execution_count": 65,
     "metadata": {},
     "output_type": "execute_result"
    }
   ],
   "source": [
    "math.gcd(10,100)"
   ]
  },
  {
   "cell_type": "code",
   "execution_count": 66,
   "id": "cddb336f",
   "metadata": {},
   "outputs": [
    {
     "data": {
      "text/plain": [
       "2.718281828459045"
      ]
     },
     "execution_count": 66,
     "metadata": {},
     "output_type": "execute_result"
    }
   ],
   "source": [
    "math.e"
   ]
  },
  {
   "cell_type": "code",
   "execution_count": 67,
   "id": "90fee0a0",
   "metadata": {},
   "outputs": [
    {
     "data": {
      "text/plain": [
       "3.141592653589793"
      ]
     },
     "execution_count": 67,
     "metadata": {},
     "output_type": "execute_result"
    }
   ],
   "source": [
    "math.pi"
   ]
  },
  {
   "cell_type": "code",
   "execution_count": 70,
   "id": "880782d6",
   "metadata": {},
   "outputs": [
    {
     "data": {
      "text/plain": [
       "6.283185307179586"
      ]
     },
     "execution_count": 70,
     "metadata": {},
     "output_type": "execute_result"
    }
   ],
   "source": [
    "math.tau"
   ]
  },
  {
   "cell_type": "code",
   "execution_count": 71,
   "id": "6656e025",
   "metadata": {},
   "outputs": [
    {
     "data": {
      "text/plain": [
       "inf"
      ]
     },
     "execution_count": 71,
     "metadata": {},
     "output_type": "execute_result"
    }
   ],
   "source": [
    "math.inf"
   ]
  },
  {
   "cell_type": "code",
   "execution_count": 81,
   "id": "33e5593c",
   "metadata": {},
   "outputs": [
    {
     "data": {
      "text/plain": [
       "False"
      ]
     },
     "execution_count": 81,
     "metadata": {},
     "output_type": "execute_result"
    }
   ],
   "source": [
    "math.isfinite(1.79e308)"
   ]
  },
  {
   "cell_type": "code",
   "execution_count": 83,
   "id": "ff72dbd6",
   "metadata": {},
   "outputs": [
    {
     "data": {
      "text/plain": [
       "False"
      ]
     },
     "execution_count": 83,
     "metadata": {},
     "output_type": "execute_result"
    }
   ],
   "source": [
    "math.isinf(1.8)"
   ]
  },
  {
   "cell_type": "code",
   "execution_count": 89,
   "id": "de9528ac",
   "metadata": {},
   "outputs": [
    {
     "data": {
      "text/plain": [
       "False"
      ]
     },
     "execution_count": 89,
     "metadata": {},
     "output_type": "execute_result"
    }
   ],
   "source": [
    "math.isnan(True)"
   ]
  },
  {
   "cell_type": "code",
   "execution_count": 93,
   "id": "9dc53780",
   "metadata": {},
   "outputs": [
    {
     "data": {
      "text/plain": [
       "7.13"
      ]
     },
     "execution_count": 93,
     "metadata": {},
     "output_type": "execute_result"
    }
   ],
   "source": [
    "round(7.1284848484,2)"
   ]
  },
  {
   "cell_type": "code",
   "execution_count": 96,
   "id": "9fa9568a",
   "metadata": {},
   "outputs": [
    {
     "data": {
      "text/plain": [
       "0.68656"
      ]
     },
     "execution_count": 96,
     "metadata": {},
     "output_type": "execute_result"
    }
   ],
   "source": [
    "round(math.log2(math.log(5)),5)"
   ]
  },
  {
   "cell_type": "markdown",
   "id": "ab6254f1",
   "metadata": {},
   "source": [
    "PEDMAS-> Parenthesis, Exponents, Division, Multiplication, Addition, Subtraction"
   ]
  },
  {
   "cell_type": "code",
   "execution_count": 116,
   "id": "aeb9d643",
   "metadata": {},
   "outputs": [
    {
     "data": {
      "text/plain": [
       "-80"
      ]
     },
     "execution_count": 116,
     "metadata": {},
     "output_type": "execute_result"
    }
   ],
   "source": [
    "import random\n",
    "random.randrange(-100,-10)\n",
    "#(lower range, upper range)"
   ]
  },
  {
   "cell_type": "code",
   "execution_count": 117,
   "id": "288a3426",
   "metadata": {},
   "outputs": [],
   "source": [
    "#String"
   ]
  },
  {
   "cell_type": "code",
   "execution_count": 122,
   "id": "b7517fc9",
   "metadata": {},
   "outputs": [
    {
     "name": "stdout",
     "output_type": "stream",
     "text": [
      "Hello \n",
      "\n",
      "\n",
      "Patna\n"
     ]
    }
   ],
   "source": [
    "print('Hello \\n\\n\\nPatna')"
   ]
  },
  {
   "cell_type": "code",
   "execution_count": 125,
   "id": "17cdf197",
   "metadata": {},
   "outputs": [
    {
     "name": "stdout",
     "output_type": "stream",
     "text": [
      "Hello \t\t\tPatna\n"
     ]
    }
   ],
   "source": [
    "print('Hello \\t\\t\\tPatna')"
   ]
  },
  {
   "cell_type": "code",
   "execution_count": 135,
   "id": "e58ad1b1",
   "metadata": {},
   "outputs": [
    {
     "data": {
      "text/plain": [
       "'A'"
      ]
     },
     "execution_count": 135,
     "metadata": {},
     "output_type": "execute_result"
    }
   ],
   "source": [
    "chr(65) #ascii equivalent to characters/ "
   ]
  },
  {
   "cell_type": "code",
   "execution_count": 137,
   "id": "84132ed3",
   "metadata": {},
   "outputs": [
    {
     "data": {
      "text/plain": [
       "'k'"
      ]
     },
     "execution_count": 137,
     "metadata": {},
     "output_type": "execute_result"
    }
   ],
   "source": [
    "chr(107)"
   ]
  },
  {
   "cell_type": "code",
   "execution_count": 138,
   "id": "246e078c",
   "metadata": {},
   "outputs": [
    {
     "data": {
      "text/plain": [
       "'!'"
      ]
     },
     "execution_count": 138,
     "metadata": {},
     "output_type": "execute_result"
    }
   ],
   "source": [
    "chr(33)"
   ]
  },
  {
   "cell_type": "code",
   "execution_count": 139,
   "id": "822f762f",
   "metadata": {},
   "outputs": [
    {
     "data": {
      "text/plain": [
       "'$'"
      ]
     },
     "execution_count": 139,
     "metadata": {},
     "output_type": "execute_result"
    }
   ],
   "source": [
    "chr(36)"
   ]
  },
  {
   "cell_type": "code",
   "execution_count": 142,
   "id": "7e10f6f5",
   "metadata": {},
   "outputs": [
    {
     "data": {
      "text/plain": [
       "65"
      ]
     },
     "execution_count": 142,
     "metadata": {},
     "output_type": "execute_result"
    }
   ],
   "source": [
    "ord('A') #character to ascii"
   ]
  },
  {
   "cell_type": "code",
   "execution_count": 143,
   "id": "a3a7a515",
   "metadata": {},
   "outputs": [
    {
     "data": {
      "text/plain": [
       "33"
      ]
     },
     "execution_count": 143,
     "metadata": {},
     "output_type": "execute_result"
    }
   ],
   "source": [
    "ord('!')"
   ]
  },
  {
   "cell_type": "code",
   "execution_count": 145,
   "id": "f09757c5",
   "metadata": {},
   "outputs": [
    {
     "data": {
      "text/plain": [
       "32"
      ]
     },
     "execution_count": 145,
     "metadata": {},
     "output_type": "execute_result"
    }
   ],
   "source": [
    "ord(' ')"
   ]
  },
  {
   "cell_type": "code",
   "execution_count": 147,
   "id": "6561cd6d",
   "metadata": {},
   "outputs": [
    {
     "data": {
      "text/plain": [
       "3.141592653589793"
      ]
     },
     "execution_count": 147,
     "metadata": {},
     "output_type": "execute_result"
    }
   ],
   "source": [
    "math.pi"
   ]
  },
  {
   "cell_type": "code",
   "execution_count": 2,
   "id": "81143074",
   "metadata": {},
   "outputs": [
    {
     "data": {
      "text/plain": [
       "10"
      ]
     },
     "execution_count": 2,
     "metadata": {},
     "output_type": "execute_result"
    }
   ],
   "source": [
    "a = 'Nashit!!!!'\n",
    "b = len(a)\n",
    "b"
   ]
  },
  {
   "cell_type": "code",
   "execution_count": 3,
   "id": "0a29683c",
   "metadata": {},
   "outputs": [
    {
     "name": "stdout",
     "output_type": "stream",
     "text": [
      "5\n"
     ]
    }
   ],
   "source": [
    "a = 'patna'\n",
    "print(len(a)) #length"
   ]
  },
  {
   "cell_type": "code",
   "execution_count": 4,
   "id": "83b27500",
   "metadata": {},
   "outputs": [
    {
     "name": "stdout",
     "output_type": "stream",
     "text": [
      "Patna\n"
     ]
    }
   ],
   "source": [
    "print(a.capitalize())"
   ]
  },
  {
   "cell_type": "code",
   "execution_count": 12,
   "id": "f6b5bd61",
   "metadata": {},
   "outputs": [
    {
     "name": "stdout",
     "output_type": "stream",
     "text": [
      "welcome to patna!! patna is beatuiful city. we love.\n"
     ]
    }
   ],
   "source": [
    "a = 'Welcome To Patna!! Patna is Beatuiful city. We love .'\n",
    "print(a.casefold())"
   ]
  },
  {
   "cell_type": "code",
   "execution_count": 9,
   "id": "fa9cd8e1",
   "metadata": {},
   "outputs": [
    {
     "name": "stdout",
     "output_type": "stream",
     "text": [
      "    Welcome To Patna!!   \n"
     ]
    }
   ],
   "source": [
    "print(a.center(25))"
   ]
  },
  {
   "cell_type": "code",
   "execution_count": 14,
   "id": "3a12c001",
   "metadata": {},
   "outputs": [
    {
     "name": "stdout",
     "output_type": "stream",
     "text": [
      "3\n"
     ]
    }
   ],
   "source": [
    "print(a.count('i'))"
   ]
  },
  {
   "cell_type": "code",
   "execution_count": 25,
   "id": "5c914249",
   "metadata": {},
   "outputs": [
    {
     "name": "stdout",
     "output_type": "stream",
     "text": [
      "b'Nashit'\n"
     ]
    }
   ],
   "source": [
    "a = 'Nashπit'\n",
    "print(a.encode(encoding='ascii', errors='ignore'))"
   ]
  },
  {
   "cell_type": "code",
   "execution_count": 34,
   "id": "1bfc2cbe",
   "metadata": {},
   "outputs": [
    {
     "name": "stdout",
     "output_type": "stream",
     "text": [
      "Nashit\n",
      "Nashit\n",
      "Nashit\n",
      "Nashit\n",
      "Nashit\n",
      "Nashit\n",
      "Nashit\n",
      "Nashit\n",
      "Nashit\n",
      "Nashit\n"
     ]
    }
   ],
   "source": [
    "a = 1\n",
    "while(a<=10):\n",
    "    a+=1\n",
    "    print('Nashit')\n",
    "    "
   ]
  },
  {
   "cell_type": "code",
   "execution_count": 45,
   "id": "dfa470b7",
   "metadata": {
    "scrolled": true
   },
   "outputs": [
    {
     "ename": "KeyboardInterrupt",
     "evalue": "Interrupted by user",
     "output_type": "error",
     "traceback": [
      "\u001b[1;31m---------------------------------------------------------------------------\u001b[0m",
      "\u001b[1;31mKeyboardInterrupt\u001b[0m                         Traceback (most recent call last)",
      "Cell \u001b[1;32mIn[45], line 2\u001b[0m\n\u001b[0;32m      1\u001b[0m a \u001b[38;5;241m=\u001b[39m \u001b[38;5;241m1\u001b[39m\n\u001b[1;32m----> 2\u001b[0m b \u001b[38;5;241m=\u001b[39m \u001b[38;5;28mint\u001b[39m(\u001b[38;5;28;43minput\u001b[39;49m\u001b[43m(\u001b[49m\u001b[38;5;124;43m'\u001b[39;49m\u001b[38;5;124;43menter a number\u001b[39;49m\u001b[38;5;124;43m'\u001b[39;49m\u001b[43m)\u001b[49m) \n\u001b[0;32m      3\u001b[0m \u001b[38;5;28;01mwhile\u001b[39;00m(a \u001b[38;5;241m<\u001b[39m\u001b[38;5;241m=\u001b[39m \u001b[38;5;241m10\u001b[39m):\n\u001b[0;32m      4\u001b[0m     \u001b[38;5;28mprint\u001b[39m(a\u001b[38;5;241m*\u001b[39mb)\n",
      "File \u001b[1;32m~\\AppData\\Local\\Programs\\Python\\Python310\\lib\\site-packages\\ipykernel\\kernelbase.py:1191\u001b[0m, in \u001b[0;36mKernel.raw_input\u001b[1;34m(self, prompt)\u001b[0m\n\u001b[0;32m   1189\u001b[0m     msg \u001b[38;5;241m=\u001b[39m \u001b[38;5;124m\"\u001b[39m\u001b[38;5;124mraw_input was called, but this frontend does not support input requests.\u001b[39m\u001b[38;5;124m\"\u001b[39m\n\u001b[0;32m   1190\u001b[0m     \u001b[38;5;28;01mraise\u001b[39;00m StdinNotImplementedError(msg)\n\u001b[1;32m-> 1191\u001b[0m \u001b[38;5;28;01mreturn\u001b[39;00m \u001b[38;5;28;43mself\u001b[39;49m\u001b[38;5;241;43m.\u001b[39;49m\u001b[43m_input_request\u001b[49m\u001b[43m(\u001b[49m\n\u001b[0;32m   1192\u001b[0m \u001b[43m    \u001b[49m\u001b[38;5;28;43mstr\u001b[39;49m\u001b[43m(\u001b[49m\u001b[43mprompt\u001b[49m\u001b[43m)\u001b[49m\u001b[43m,\u001b[49m\n\u001b[0;32m   1193\u001b[0m \u001b[43m    \u001b[49m\u001b[38;5;28;43mself\u001b[39;49m\u001b[38;5;241;43m.\u001b[39;49m\u001b[43m_parent_ident\u001b[49m\u001b[43m[\u001b[49m\u001b[38;5;124;43m\"\u001b[39;49m\u001b[38;5;124;43mshell\u001b[39;49m\u001b[38;5;124;43m\"\u001b[39;49m\u001b[43m]\u001b[49m\u001b[43m,\u001b[49m\n\u001b[0;32m   1194\u001b[0m \u001b[43m    \u001b[49m\u001b[38;5;28;43mself\u001b[39;49m\u001b[38;5;241;43m.\u001b[39;49m\u001b[43mget_parent\u001b[49m\u001b[43m(\u001b[49m\u001b[38;5;124;43m\"\u001b[39;49m\u001b[38;5;124;43mshell\u001b[39;49m\u001b[38;5;124;43m\"\u001b[39;49m\u001b[43m)\u001b[49m\u001b[43m,\u001b[49m\n\u001b[0;32m   1195\u001b[0m \u001b[43m    \u001b[49m\u001b[43mpassword\u001b[49m\u001b[38;5;241;43m=\u001b[39;49m\u001b[38;5;28;43;01mFalse\u001b[39;49;00m\u001b[43m,\u001b[49m\n\u001b[0;32m   1196\u001b[0m \u001b[43m\u001b[49m\u001b[43m)\u001b[49m\n",
      "File \u001b[1;32m~\\AppData\\Local\\Programs\\Python\\Python310\\lib\\site-packages\\ipykernel\\kernelbase.py:1234\u001b[0m, in \u001b[0;36mKernel._input_request\u001b[1;34m(self, prompt, ident, parent, password)\u001b[0m\n\u001b[0;32m   1231\u001b[0m \u001b[38;5;28;01mexcept\u001b[39;00m \u001b[38;5;167;01mKeyboardInterrupt\u001b[39;00m:\n\u001b[0;32m   1232\u001b[0m     \u001b[38;5;66;03m# re-raise KeyboardInterrupt, to truncate traceback\u001b[39;00m\n\u001b[0;32m   1233\u001b[0m     msg \u001b[38;5;241m=\u001b[39m \u001b[38;5;124m\"\u001b[39m\u001b[38;5;124mInterrupted by user\u001b[39m\u001b[38;5;124m\"\u001b[39m\n\u001b[1;32m-> 1234\u001b[0m     \u001b[38;5;28;01mraise\u001b[39;00m \u001b[38;5;167;01mKeyboardInterrupt\u001b[39;00m(msg) \u001b[38;5;28;01mfrom\u001b[39;00m \u001b[38;5;28;01mNone\u001b[39;00m\n\u001b[0;32m   1235\u001b[0m \u001b[38;5;28;01mexcept\u001b[39;00m \u001b[38;5;167;01mException\u001b[39;00m:\n\u001b[0;32m   1236\u001b[0m     \u001b[38;5;28mself\u001b[39m\u001b[38;5;241m.\u001b[39mlog\u001b[38;5;241m.\u001b[39mwarning(\u001b[38;5;124m\"\u001b[39m\u001b[38;5;124mInvalid Message:\u001b[39m\u001b[38;5;124m\"\u001b[39m, exc_info\u001b[38;5;241m=\u001b[39m\u001b[38;5;28;01mTrue\u001b[39;00m)\n",
      "\u001b[1;31mKeyboardInterrupt\u001b[0m: Interrupted by user"
     ]
    }
   ],
   "source": [
    "a = 1\n",
    "b = int(input('enter a number')) \n",
    "while(a <= 10):\n",
    "    print(a*b)\n",
    "    a+=1"
   ]
  },
  {
   "cell_type": "code",
   "execution_count": 51,
   "id": "1e975da1",
   "metadata": {},
   "outputs": [
    {
     "name": "stdout",
     "output_type": "stream",
     "text": [
      "5\n",
      "10\n",
      "20\n",
      "25\n",
      "30\n",
      "35\n",
      "40\n",
      "45\n",
      "50\n",
      "55\n"
     ]
    }
   ],
   "source": [
    "a = 0\n",
    "while(a <= 50):\n",
    "    a+=5\n",
    "    if(a == 15):continue\n",
    "    print(a)"
   ]
  },
  {
   "cell_type": "code",
   "execution_count": 57,
   "id": "a49a9e07",
   "metadata": {},
   "outputs": [
    {
     "name": "stdout",
     "output_type": "stream",
     "text": [
      "enter5\n",
      "5\n",
      "10\n",
      "15\n",
      "20\n",
      "25\n",
      "30\n",
      "35\n",
      "40\n",
      "45\n",
      "50\n"
     ]
    }
   ],
   "source": [
    "x = int(input('enter'))\n",
    "for a in range (1, 11):\n",
    "    print(x*a)\n"
   ]
  },
  {
   "cell_type": "markdown",
   "id": "409c627a",
   "metadata": {},
   "source": [
    "for(a=0; a<=10; a++){statement}"
   ]
  },
  {
   "cell_type": "code",
   "execution_count": 59,
   "id": "03ccd6a5",
   "metadata": {},
   "outputs": [
    {
     "name": "stdout",
     "output_type": "stream",
     "text": [
      "w\n",
      "e\n",
      "l\n",
      "c\n",
      "o\n",
      "m\n",
      "e\n",
      " \n",
      "t\n",
      "o\n",
      " \n",
      "p\n",
      "a\n",
      "t\n",
      "n\n",
      "a\n"
     ]
    }
   ],
   "source": [
    "for a in 'welcome to patna':print(a)"
   ]
  },
  {
   "cell_type": "code",
   "execution_count": 4,
   "id": "5a1d1c18",
   "metadata": {},
   "outputs": [
    {
     "name": "stdout",
     "output_type": "stream",
     "text": [
      "Thank you\n",
      "Thank you\n",
      "Thank you\n",
      "Thank you\n",
      "Thank you\n",
      "Thank you\n",
      "Thank you\n",
      "Thank you\n",
      "Thank you\n",
      "Thank you\n"
     ]
    }
   ],
   "source": [
    "for a in range(1, 11):print('Thank you')"
   ]
  },
  {
   "cell_type": "code",
   "execution_count": 5,
   "id": "d6e6b29f",
   "metadata": {},
   "outputs": [
    {
     "name": "stdout",
     "output_type": "stream",
     "text": [
      "M\n",
      "u\n",
      "k\n",
      "e\n",
      "s\n",
      "h\n"
     ]
    }
   ],
   "source": [
    "for a in 'Mukesh':print(a)"
   ]
  },
  {
   "cell_type": "code",
   "execution_count": 6,
   "id": "cb35976c",
   "metadata": {},
   "outputs": [
    {
     "name": "stdout",
     "output_type": "stream",
     "text": [
      "1\n",
      "Nashit\n",
      "Patna\n",
      "Html\n",
      "JS\n",
      "5\n"
     ]
    }
   ],
   "source": [
    "a = [1, 'Nashit', 'Patna', 'Html', 'JS', 5]\n",
    "for b in a:print(b)"
   ]
  },
  {
   "cell_type": "code",
   "execution_count": 7,
   "id": "09be9c37",
   "metadata": {},
   "outputs": [
    {
     "name": "stdout",
     "output_type": "stream",
     "text": [
      "HTML\n",
      "5.2\n",
      "JS\n",
      "9\n",
      "Patna\n"
     ]
    }
   ],
   "source": [
    "a = ('HTML', 5.2, 'JS', 9, 'Patna')\n",
    "for i in a:print(i)"
   ]
  },
  {
   "cell_type": "code",
   "execution_count": 9,
   "id": "21461dbd",
   "metadata": {},
   "outputs": [
    {
     "name": "stdout",
     "output_type": "stream",
     "text": [
      "Nashit\n",
      "2\n",
      "5\n",
      "7\n",
      "8\n"
     ]
    }
   ],
   "source": [
    "a = {2, 8, 'Nashit', 5, 7, 8}\n",
    "for i in a: print(i)\n",
    "    #set are unordered\n",
    "    #unique"
   ]
  },
  {
   "cell_type": "code",
   "execution_count": 16,
   "id": "6d588d85",
   "metadata": {},
   "outputs": [
    {
     "data": {
      "text/plain": [
       "list"
      ]
     },
     "execution_count": 16,
     "metadata": {},
     "output_type": "execute_result"
    }
   ],
   "source": [
    "a = [5, 'abc', True, 6, 'Nashit', False, 5.2] #list\n",
    "len(a)\n",
    "type(a)"
   ]
  },
  {
   "cell_type": "code",
   "execution_count": 18,
   "id": "cd9749f8",
   "metadata": {},
   "outputs": [
    {
     "name": "stdout",
     "output_type": "stream",
     "text": [
      "['5', 'Nashit', True, 8.2]\n",
      "<class 'list'>\n"
     ]
    }
   ],
   "source": [
    "#list constructor : list()\n",
    "#list()\n",
    "a = list(('5', 'Nashit', True, 8.2))\n",
    "print(a)\n",
    "print(type(a))"
   ]
  },
  {
   "cell_type": "code",
   "execution_count": 23,
   "id": "74e00e81",
   "metadata": {},
   "outputs": [
    {
     "data": {
      "text/plain": [
       "True"
      ]
     },
     "execution_count": 23,
     "metadata": {},
     "output_type": "execute_result"
    }
   ],
   "source": [
    "a[2]"
   ]
  },
  {
   "cell_type": "code",
   "execution_count": 26,
   "id": "287cd59f",
   "metadata": {},
   "outputs": [
    {
     "data": {
      "text/plain": [
       "'Nashit'"
      ]
     },
     "execution_count": 26,
     "metadata": {},
     "output_type": "execute_result"
    }
   ],
   "source": [
    "a[-3]"
   ]
  },
  {
   "cell_type": "code",
   "execution_count": 30,
   "id": "01c1c29e",
   "metadata": {},
   "outputs": [
    {
     "data": {
      "text/plain": [
       "list"
      ]
     },
     "execution_count": 30,
     "metadata": {},
     "output_type": "execute_result"
    }
   ],
   "source": [
    "b = list()\n",
    "type(b)\n"
   ]
  },
  {
   "cell_type": "code",
   "execution_count": 32,
   "id": "a24e2e3a",
   "metadata": {},
   "outputs": [
    {
     "data": {
      "text/plain": [
       "['5', 8, 9]"
      ]
     },
     "execution_count": 32,
     "metadata": {},
     "output_type": "execute_result"
    }
   ],
   "source": [
    "c = list(('5', 8, 9))\n",
    "c"
   ]
  },
  {
   "cell_type": "code",
   "execution_count": 33,
   "id": "437bf1dd",
   "metadata": {},
   "outputs": [],
   "source": [
    "c[0] = 'Nashit'\n",
    "c[1] = 'Hello'"
   ]
  },
  {
   "cell_type": "code",
   "execution_count": 34,
   "id": "44e403a4",
   "metadata": {},
   "outputs": [
    {
     "data": {
      "text/plain": [
       "['Nashit', 'Hello', 9]"
      ]
     },
     "execution_count": 34,
     "metadata": {},
     "output_type": "execute_result"
    }
   ],
   "source": [
    "c"
   ]
  },
  {
   "cell_type": "code",
   "execution_count": 37,
   "id": "f79e51a9",
   "metadata": {},
   "outputs": [
    {
     "data": {
      "text/plain": [
       "['Nashit', 'Hello', 'Allahabad']"
      ]
     },
     "execution_count": 37,
     "metadata": {},
     "output_type": "execute_result"
    }
   ],
   "source": [
    "c[2]= 'Allahabad'\n",
    "c"
   ]
  },
  {
   "cell_type": "code",
   "execution_count": 38,
   "id": "ef28b27a",
   "metadata": {},
   "outputs": [],
   "source": [
    "c.append('Mukesh')"
   ]
  },
  {
   "cell_type": "code",
   "execution_count": 39,
   "id": "3367d6d4",
   "metadata": {},
   "outputs": [
    {
     "data": {
      "text/plain": [
       "['Nashit', 'Hello', 'Allahabad', 'Mukesh']"
      ]
     },
     "execution_count": 39,
     "metadata": {},
     "output_type": "execute_result"
    }
   ],
   "source": [
    "c"
   ]
  },
  {
   "cell_type": "code",
   "execution_count": 40,
   "id": "921c94a0",
   "metadata": {},
   "outputs": [
    {
     "data": {
      "text/plain": [
       "['Nashit', 'Hello', 'Allahabad', 'Mukesh', True]"
      ]
     },
     "execution_count": 40,
     "metadata": {},
     "output_type": "execute_result"
    }
   ],
   "source": [
    "c.append(True)\n",
    "c"
   ]
  },
  {
   "cell_type": "code",
   "execution_count": 41,
   "id": "22d6c342",
   "metadata": {},
   "outputs": [
    {
     "data": {
      "text/plain": [
       "['Nashit', 'Pratibha', 'Hello', 'Allahabad', 'Mukesh', True]"
      ]
     },
     "execution_count": 41,
     "metadata": {},
     "output_type": "execute_result"
    }
   ],
   "source": [
    "c.insert(1, 'Pratibha')\n",
    "c"
   ]
  },
  {
   "cell_type": "code",
   "execution_count": 42,
   "id": "244433b7",
   "metadata": {},
   "outputs": [
    {
     "data": {
      "text/plain": [
       "['Ranit', 'Nashit', 'Pratibha', 'Hello', 'Allahabad', 'Mukesh', True]"
      ]
     },
     "execution_count": 42,
     "metadata": {},
     "output_type": "execute_result"
    }
   ],
   "source": [
    "c.insert(0, 'Ranit')\n",
    "c"
   ]
  },
  {
   "cell_type": "code",
   "execution_count": 47,
   "id": "2d6dfbf9",
   "metadata": {},
   "outputs": [
    {
     "data": {
      "text/plain": [
       "['Ranit', 'Nashit', 'Pratibha', 'Hello', 'Allahabad', 'Mukesh', True]"
      ]
     },
     "execution_count": 47,
     "metadata": {},
     "output_type": "execute_result"
    }
   ],
   "source": [
    "c"
   ]
  },
  {
   "cell_type": "code",
   "execution_count": 53,
   "id": "f061dbf8",
   "metadata": {},
   "outputs": [
    {
     "data": {
      "text/plain": [
       "['Ranit',\n",
       " 'Nashit',\n",
       " 'Pratibha',\n",
       " 'Hello',\n",
       " 'Allahabad',\n",
       " 'Mukesh',\n",
       " True,\n",
       " 5,\n",
       " 8,\n",
       " 9,\n",
       " 5,\n",
       " 8,\n",
       " 9]"
      ]
     },
     "execution_count": 53,
     "metadata": {},
     "output_type": "execute_result"
    }
   ],
   "source": [
    "d = [5, 8, 9]\n",
    "c.extend(d)\n",
    "c"
   ]
  },
  {
   "cell_type": "code",
   "execution_count": 57,
   "id": "328a2d07",
   "metadata": {},
   "outputs": [
    {
     "data": {
      "text/plain": [
       "[5, 8, 9, 'hello', 5, 'hello', 5]"
      ]
     },
     "execution_count": 57,
     "metadata": {},
     "output_type": "execute_result"
    }
   ],
   "source": [
    "e = {'hello', 5}\n",
    "d.extend(e)\n",
    "d"
   ]
  },
  {
   "cell_type": "code",
   "execution_count": 58,
   "id": "64133b01",
   "metadata": {},
   "outputs": [
    {
     "data": {
      "text/plain": [
       "['Ranit',\n",
       " 'Nashit',\n",
       " 'Pratibha',\n",
       " 'Hello',\n",
       " 'Allahabad',\n",
       " 'Mukesh',\n",
       " True,\n",
       " 5,\n",
       " 8,\n",
       " 9,\n",
       " 5,\n",
       " 8,\n",
       " 9]"
      ]
     },
     "execution_count": 58,
     "metadata": {},
     "output_type": "execute_result"
    }
   ],
   "source": [
    "c"
   ]
  },
  {
   "cell_type": "code",
   "execution_count": 101,
   "id": "6fb94826",
   "metadata": {},
   "outputs": [
    {
     "data": {
      "text/plain": [
       "[5, 'Nashit', 8.2, 7, 'Hrllo']"
      ]
     },
     "execution_count": 101,
     "metadata": {},
     "output_type": "execute_result"
    }
   ],
   "source": [
    "a = [5, 'Nashit', 8.2, 7, 'Hrllo']\n",
    "a"
   ]
  },
  {
   "cell_type": "code",
   "execution_count": 61,
   "id": "f8b191e0",
   "metadata": {},
   "outputs": [],
   "source": [
    "a.remove('Hrllo')"
   ]
  },
  {
   "cell_type": "code",
   "execution_count": 62,
   "id": "3880c854",
   "metadata": {},
   "outputs": [
    {
     "data": {
      "text/plain": [
       "[5, 'Nashit', 8.2, 7]"
      ]
     },
     "execution_count": 62,
     "metadata": {},
     "output_type": "execute_result"
    }
   ],
   "source": [
    "a"
   ]
  },
  {
   "cell_type": "code",
   "execution_count": 63,
   "id": "edcf175e",
   "metadata": {},
   "outputs": [
    {
     "data": {
      "text/plain": [
       "[5, 'Nashit', 7]"
      ]
     },
     "execution_count": 63,
     "metadata": {},
     "output_type": "execute_result"
    }
   ],
   "source": [
    "a.remove(8.2)\n",
    "a"
   ]
  },
  {
   "cell_type": "code",
   "execution_count": 65,
   "id": "fded292a",
   "metadata": {},
   "outputs": [
    {
     "data": {
      "text/plain": [
       "[5, 'Nashit', 8.2, 7, 'Hrllo']"
      ]
     },
     "execution_count": 65,
     "metadata": {},
     "output_type": "execute_result"
    }
   ],
   "source": [
    "a"
   ]
  },
  {
   "cell_type": "code",
   "execution_count": 66,
   "id": "b7d8b325",
   "metadata": {},
   "outputs": [
    {
     "data": {
      "text/plain": [
       "'Nashit'"
      ]
     },
     "execution_count": 66,
     "metadata": {},
     "output_type": "execute_result"
    }
   ],
   "source": [
    "a.pop(1)"
   ]
  },
  {
   "cell_type": "code",
   "execution_count": 67,
   "id": "bf7c2f8d",
   "metadata": {},
   "outputs": [
    {
     "data": {
      "text/plain": [
       "[5, 8.2, 7, 'Hrllo']"
      ]
     },
     "execution_count": 67,
     "metadata": {},
     "output_type": "execute_result"
    }
   ],
   "source": [
    "a"
   ]
  },
  {
   "cell_type": "code",
   "execution_count": 73,
   "id": "bba86a2a",
   "metadata": {},
   "outputs": [
    {
     "data": {
      "text/plain": [
       "[5, 'Nashit', 8.2, 7, 'Hrllo']"
      ]
     },
     "execution_count": 73,
     "metadata": {},
     "output_type": "execute_result"
    }
   ],
   "source": [
    "a"
   ]
  },
  {
   "cell_type": "code",
   "execution_count": 74,
   "id": "7003bf83",
   "metadata": {},
   "outputs": [
    {
     "data": {
      "text/plain": [
       "'Hrllo'"
      ]
     },
     "execution_count": 74,
     "metadata": {},
     "output_type": "execute_result"
    }
   ],
   "source": [
    "a.pop(4)"
   ]
  },
  {
   "cell_type": "code",
   "execution_count": 77,
   "id": "4c9e9792",
   "metadata": {},
   "outputs": [
    {
     "data": {
      "text/plain": [
       "[5, 'Nashit', 8.2]"
      ]
     },
     "execution_count": 77,
     "metadata": {},
     "output_type": "execute_result"
    }
   ],
   "source": [
    "a"
   ]
  },
  {
   "cell_type": "code",
   "execution_count": 76,
   "id": "26e4f137",
   "metadata": {},
   "outputs": [
    {
     "data": {
      "text/plain": [
       "7"
      ]
     },
     "execution_count": 76,
     "metadata": {},
     "output_type": "execute_result"
    }
   ],
   "source": [
    "a.pop(-1)"
   ]
  },
  {
   "cell_type": "code",
   "execution_count": 80,
   "id": "2e609ffa",
   "metadata": {},
   "outputs": [
    {
     "data": {
      "text/plain": [
       "[5, 'Nashit', 8.2]"
      ]
     },
     "execution_count": 80,
     "metadata": {},
     "output_type": "execute_result"
    }
   ],
   "source": [
    "a"
   ]
  },
  {
   "cell_type": "code",
   "execution_count": 81,
   "id": "5a2513c3",
   "metadata": {},
   "outputs": [
    {
     "data": {
      "text/plain": [
       "8.2"
      ]
     },
     "execution_count": 81,
     "metadata": {},
     "output_type": "execute_result"
    }
   ],
   "source": [
    "a.pop(-1)"
   ]
  },
  {
   "cell_type": "code",
   "execution_count": 82,
   "id": "0a831afa",
   "metadata": {},
   "outputs": [
    {
     "data": {
      "text/plain": [
       "[5, 'Nashit']"
      ]
     },
     "execution_count": 82,
     "metadata": {},
     "output_type": "execute_result"
    }
   ],
   "source": [
    "a"
   ]
  },
  {
   "cell_type": "code",
   "execution_count": 84,
   "id": "4bbb614a",
   "metadata": {},
   "outputs": [
    {
     "data": {
      "text/plain": [
       "[5, 'Nashit', 8.2, 7, 'Hrllo']"
      ]
     },
     "execution_count": 84,
     "metadata": {},
     "output_type": "execute_result"
    }
   ],
   "source": [
    "a"
   ]
  },
  {
   "cell_type": "code",
   "execution_count": 85,
   "id": "145c2a29",
   "metadata": {},
   "outputs": [
    {
     "data": {
      "text/plain": [
       "[5, 'Nashit', 8.2, 7]"
      ]
     },
     "execution_count": 85,
     "metadata": {},
     "output_type": "execute_result"
    }
   ],
   "source": [
    "a.pop()\n",
    "a"
   ]
  },
  {
   "cell_type": "code",
   "execution_count": 87,
   "id": "103e9f32",
   "metadata": {},
   "outputs": [
    {
     "data": {
      "text/plain": [
       "[5, 'Nashit', 8.2, 7, 'Hrllo']"
      ]
     },
     "execution_count": 87,
     "metadata": {},
     "output_type": "execute_result"
    }
   ],
   "source": [
    "a"
   ]
  },
  {
   "cell_type": "code",
   "execution_count": 89,
   "id": "19857c9f",
   "metadata": {},
   "outputs": [
    {
     "data": {
      "text/plain": [
       "['Ranit',\n",
       " 'Nashit',\n",
       " 'Pratibha',\n",
       " 'Hello',\n",
       " 'Allahabad',\n",
       " 'Mukesh',\n",
       " True,\n",
       " 5,\n",
       " 8,\n",
       " 9,\n",
       " 5,\n",
       " 8,\n",
       " 9]"
      ]
     },
     "execution_count": 89,
     "metadata": {},
     "output_type": "execute_result"
    }
   ],
   "source": [
    "c"
   ]
  },
  {
   "cell_type": "code",
   "execution_count": 90,
   "id": "52358c9d",
   "metadata": {},
   "outputs": [
    {
     "data": {
      "text/plain": [
       "[]"
      ]
     },
     "execution_count": 90,
     "metadata": {},
     "output_type": "execute_result"
    }
   ],
   "source": [
    "c.clear()\n",
    "c"
   ]
  },
  {
   "cell_type": "code",
   "execution_count": 91,
   "id": "6aa20695",
   "metadata": {},
   "outputs": [
    {
     "name": "stdout",
     "output_type": "stream",
     "text": [
      "[5, 'Nashit', 8.2, 7, 'Hrllo']\n"
     ]
    }
   ],
   "source": [
    "print(a)\n",
    "a.clear()"
   ]
  },
  {
   "cell_type": "code",
   "execution_count": 92,
   "id": "bd725c00",
   "metadata": {},
   "outputs": [
    {
     "name": "stdout",
     "output_type": "stream",
     "text": [
      "[]\n"
     ]
    }
   ],
   "source": [
    "print(a)"
   ]
  },
  {
   "cell_type": "code",
   "execution_count": 93,
   "id": "7de569e1",
   "metadata": {},
   "outputs": [
    {
     "data": {
      "text/plain": [
       "0"
      ]
     },
     "execution_count": 93,
     "metadata": {},
     "output_type": "execute_result"
    }
   ],
   "source": [
    "len(a)"
   ]
  },
  {
   "cell_type": "code",
   "execution_count": 95,
   "id": "ce0c8ccf",
   "metadata": {},
   "outputs": [
    {
     "data": {
      "text/plain": [
       "[5, 'Nashit', 8.2, 7, 'Hrllo']"
      ]
     },
     "execution_count": 95,
     "metadata": {},
     "output_type": "execute_result"
    }
   ],
   "source": [
    "a"
   ]
  },
  {
   "cell_type": "code",
   "execution_count": 96,
   "id": "29b4104b",
   "metadata": {},
   "outputs": [
    {
     "data": {
      "text/plain": [
       "5"
      ]
     },
     "execution_count": 96,
     "metadata": {},
     "output_type": "execute_result"
    }
   ],
   "source": [
    "len(a)"
   ]
  },
  {
   "cell_type": "code",
   "execution_count": 97,
   "id": "c3047209",
   "metadata": {},
   "outputs": [
    {
     "data": {
      "text/plain": [
       "[5, 'Nashit', 8.2, 7, 'Hrllo']"
      ]
     },
     "execution_count": 97,
     "metadata": {},
     "output_type": "execute_result"
    }
   ],
   "source": [
    "a"
   ]
  },
  {
   "cell_type": "code",
   "execution_count": 98,
   "id": "a06aedf5",
   "metadata": {},
   "outputs": [],
   "source": [
    "del a"
   ]
  },
  {
   "cell_type": "code",
   "execution_count": 102,
   "id": "77daee91",
   "metadata": {},
   "outputs": [
    {
     "data": {
      "text/plain": [
       "[5, 'Nashit', 8.2, 7, 'Hrllo']"
      ]
     },
     "execution_count": 102,
     "metadata": {},
     "output_type": "execute_result"
    }
   ],
   "source": [
    "a"
   ]
  },
  {
   "cell_type": "code",
   "execution_count": 103,
   "id": "d2ccc06c",
   "metadata": {},
   "outputs": [],
   "source": [
    "del a"
   ]
  },
  {
   "cell_type": "code",
   "execution_count": 104,
   "id": "df46bfb6",
   "metadata": {},
   "outputs": [
    {
     "ename": "NameError",
     "evalue": "name 'a' is not defined",
     "output_type": "error",
     "traceback": [
      "\u001b[1;31m---------------------------------------------------------------------------\u001b[0m",
      "\u001b[1;31mNameError\u001b[0m                                 Traceback (most recent call last)",
      "Cell \u001b[1;32mIn[104], line 1\u001b[0m\n\u001b[1;32m----> 1\u001b[0m \u001b[43ma\u001b[49m\n",
      "\u001b[1;31mNameError\u001b[0m: name 'a' is not defined"
     ]
    }
   ],
   "source": [
    "a"
   ]
  },
  {
   "cell_type": "code",
   "execution_count": 105,
   "id": "588feb03",
   "metadata": {},
   "outputs": [
    {
     "data": {
      "text/plain": [
       "[5, 'Nashit', 8.2, 7, 'Hrllo']"
      ]
     },
     "execution_count": 105,
     "metadata": {},
     "output_type": "execute_result"
    }
   ],
   "source": [
    "a = [5, 'Nashit', 8.2, 7, 'Hrllo']\n",
    "a"
   ]
  },
  {
   "cell_type": "code",
   "execution_count": 106,
   "id": "e8e5de07",
   "metadata": {},
   "outputs": [],
   "source": [
    "b = a"
   ]
  },
  {
   "cell_type": "code",
   "execution_count": 107,
   "id": "49d3ff19",
   "metadata": {},
   "outputs": [
    {
     "data": {
      "text/plain": [
       "[5, 'Nashit', 8.2, 7, 'Hrllo']"
      ]
     },
     "execution_count": 107,
     "metadata": {},
     "output_type": "execute_result"
    }
   ],
   "source": [
    "b"
   ]
  },
  {
   "cell_type": "code",
   "execution_count": 108,
   "id": "6e74f64f",
   "metadata": {},
   "outputs": [
    {
     "data": {
      "text/plain": [
       "[]"
      ]
     },
     "execution_count": 108,
     "metadata": {},
     "output_type": "execute_result"
    }
   ],
   "source": [
    "c"
   ]
  },
  {
   "cell_type": "code",
   "execution_count": 109,
   "id": "53c52fb6",
   "metadata": {},
   "outputs": [
    {
     "ename": "NameError",
     "evalue": "name 'x' is not defined",
     "output_type": "error",
     "traceback": [
      "\u001b[1;31m---------------------------------------------------------------------------\u001b[0m",
      "\u001b[1;31mNameError\u001b[0m                                 Traceback (most recent call last)",
      "Cell \u001b[1;32mIn[109], line 1\u001b[0m\n\u001b[1;32m----> 1\u001b[0m \u001b[43mx\u001b[49m\n",
      "\u001b[1;31mNameError\u001b[0m: name 'x' is not defined"
     ]
    }
   ],
   "source": [
    "x"
   ]
  },
  {
   "cell_type": "code",
   "execution_count": 110,
   "id": "3a6f7232",
   "metadata": {},
   "outputs": [],
   "source": [
    "x = a"
   ]
  },
  {
   "cell_type": "code",
   "execution_count": 111,
   "id": "9ba4fb41",
   "metadata": {},
   "outputs": [
    {
     "data": {
      "text/plain": [
       "[5, 'Nashit', 8.2, 7, 'Hrllo']"
      ]
     },
     "execution_count": 111,
     "metadata": {},
     "output_type": "execute_result"
    }
   ],
   "source": [
    "x"
   ]
  },
  {
   "cell_type": "code",
   "execution_count": 112,
   "id": "6262681a",
   "metadata": {},
   "outputs": [
    {
     "ename": "NameError",
     "evalue": "name 'y' is not defined",
     "output_type": "error",
     "traceback": [
      "\u001b[1;31m---------------------------------------------------------------------------\u001b[0m",
      "\u001b[1;31mNameError\u001b[0m                                 Traceback (most recent call last)",
      "Cell \u001b[1;32mIn[112], line 1\u001b[0m\n\u001b[1;32m----> 1\u001b[0m \u001b[43my\u001b[49m\n",
      "\u001b[1;31mNameError\u001b[0m: name 'y' is not defined"
     ]
    }
   ],
   "source": [
    "y"
   ]
  },
  {
   "cell_type": "code",
   "execution_count": 113,
   "id": "ad42b8d3",
   "metadata": {},
   "outputs": [
    {
     "data": {
      "text/plain": [
       "[5, 'Nashit', 8.2, 7, 'Hrllo']"
      ]
     },
     "execution_count": 113,
     "metadata": {},
     "output_type": "execute_result"
    }
   ],
   "source": [
    "y = a.copy()\n",
    "y"
   ]
  },
  {
   "cell_type": "code",
   "execution_count": 115,
   "id": "08ae3f31",
   "metadata": {},
   "outputs": [],
   "source": [
    "del a\n",
    "del b\n",
    "del c\n",
    "del x\n",
    "del y"
   ]
  },
  {
   "cell_type": "code",
   "execution_count": 116,
   "id": "db259e3b",
   "metadata": {},
   "outputs": [
    {
     "data": {
      "text/plain": [
       "[5, 'hanuman', 'Allahabad', True, 8.5]"
      ]
     },
     "execution_count": 116,
     "metadata": {},
     "output_type": "execute_result"
    }
   ],
   "source": [
    "a = [5, 'hanuman', 'Allahabad', True, 8.5]\n",
    "a"
   ]
  },
  {
   "cell_type": "code",
   "execution_count": 118,
   "id": "64c80151",
   "metadata": {},
   "outputs": [],
   "source": [
    "b = a"
   ]
  },
  {
   "cell_type": "code",
   "execution_count": 119,
   "id": "12511692",
   "metadata": {},
   "outputs": [
    {
     "data": {
      "text/plain": [
       "[5, 'hanuman', 'Allahabad', True, 8.5]"
      ]
     },
     "execution_count": 119,
     "metadata": {},
     "output_type": "execute_result"
    }
   ],
   "source": [
    "b"
   ]
  },
  {
   "cell_type": "code",
   "execution_count": 121,
   "id": "2ed9c3b4",
   "metadata": {},
   "outputs": [],
   "source": [
    "c = a.copy()"
   ]
  },
  {
   "cell_type": "code",
   "execution_count": 122,
   "id": "5bbaa1c3",
   "metadata": {},
   "outputs": [
    {
     "data": {
      "text/plain": [
       "[5, 'hanuman', 'Allahabad', True, 8.5]"
      ]
     },
     "execution_count": 122,
     "metadata": {},
     "output_type": "execute_result"
    }
   ],
   "source": [
    "c"
   ]
  },
  {
   "cell_type": "code",
   "execution_count": 124,
   "id": "ede97471",
   "metadata": {},
   "outputs": [
    {
     "name": "stdout",
     "output_type": "stream",
     "text": [
      "['Kanput', 'Dehradun', 5, 'hanuman', 'Allahabad', True, 8.5]\n"
     ]
    }
   ],
   "source": [
    "x = ['Kanput', 'Dehradun']\n",
    "print(x+a)"
   ]
  },
  {
   "cell_type": "code",
   "execution_count": 126,
   "id": "6ca5439c",
   "metadata": {},
   "outputs": [
    {
     "data": {
      "text/plain": [
       "[5, 'hanuman', 'Allahabad', True, 8.5, 5, 'hanuman', 'Allahabad', True, 8.5]"
      ]
     },
     "execution_count": 126,
     "metadata": {},
     "output_type": "execute_result"
    }
   ],
   "source": [
    "a*2"
   ]
  },
  {
   "cell_type": "code",
   "execution_count": 127,
   "id": "bd68ad0d",
   "metadata": {},
   "outputs": [
    {
     "data": {
      "text/plain": [
       "[5, 'hanuman', 'Allahabad', True, 8.5, 5, 'hanuman', 'Allahabad', True, 8.5]"
      ]
     },
     "execution_count": 127,
     "metadata": {},
     "output_type": "execute_result"
    }
   ],
   "source": [
    "a+a"
   ]
  },
  {
   "cell_type": "code",
   "execution_count": null,
   "id": "99df707e",
   "metadata": {},
   "outputs": [],
   "source": []
  }
 ],
 "metadata": {
  "kernelspec": {
   "display_name": "Python 3 (ipykernel)",
   "language": "python",
   "name": "python3"
  },
  "language_info": {
   "codemirror_mode": {
    "name": "ipython",
    "version": 3
   },
   "file_extension": ".py",
   "mimetype": "text/x-python",
   "name": "python",
   "nbconvert_exporter": "python",
   "pygments_lexer": "ipython3",
   "version": "3.10.11"
  }
 },
 "nbformat": 4,
 "nbformat_minor": 5
}
