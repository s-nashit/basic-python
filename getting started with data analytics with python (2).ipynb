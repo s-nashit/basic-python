{
 "cells": [
  {
   "cell_type": "code",
   "execution_count": 3,
   "id": "2c3feee7-08f6-4f3d-b38b-2eac48a54737",
   "metadata": {
    "scrolled": true
   },
   "outputs": [
    {
     "name": "stdout",
     "output_type": "stream",
     "text": [
      "  Students  Marks  Stipend\n",
      "0        A     48     2900\n",
      "1        B     32     2000\n",
      "2        C     46     3000\n",
      "3        D     38     2600\n",
      "4        E     37     2400\n",
      "5        F     45     2700\n",
      "6        G     39     2100\n",
      "7        H     41     2500\n",
      "8        I     40     2600\n",
      "9        J     37     2700\n"
     ]
    }
   ],
   "source": [
    "#need two dependencies (pandas & openpyxl to read excel files)\n",
    "# only one dependency for csv (pandas)\n",
    "# to download use cammand 'pip install pandas' & 'pip install openpyxl' from your termianl or command prompt\n",
    "# import the dependencies\n",
    "import pandas as pd\n",
    "import openpyxl\n",
    "\n",
    "#to read the file, keep the file in the same loaction, where you have your data(excel/csv)file\n",
    "a = pd.read_excel('random.xlsx')\n",
    "\n",
    "# to check the file stored with pandas, which is in the form of a dataframe\n",
    "# this will print the first 5 & last 5 rows by default. you might add a few rows in the excel (data sheet) to check that out\n",
    "\n",
    "print(a)\n"
   ]
  },
  {
   "cell_type": "code",
   "execution_count": 4,
   "id": "52f091b3-7ea1-4093-88af-26fb14a65541",
   "metadata": {},
   "outputs": [
    {
     "name": "stdout",
     "output_type": "stream",
     "text": [
      "<class 'pandas.core.frame.DataFrame'>\n",
      "RangeIndex: 10 entries, 0 to 9\n",
      "Data columns (total 3 columns):\n",
      " #   Column    Non-Null Count  Dtype \n",
      "---  ------    --------------  ----- \n",
      " 0   Students  10 non-null     object\n",
      " 1   Marks     10 non-null     int64 \n",
      " 2   Stipend   10 non-null     int64 \n",
      "dtypes: int64(2), object(1)\n",
      "memory usage: 372.0+ bytes\n"
     ]
    }
   ],
   "source": [
    "#this gives the details/information of the datafile, the datatype,the content, unclean(missing) data\n",
    "a.info()"
   ]
  },
  {
   "cell_type": "code",
   "execution_count": 5,
   "id": "43a532b5-2083-4230-b8c0-c6bd41443e2b",
   "metadata": {},
   "outputs": [
    {
     "data": {
      "text/html": [
       "<div>\n",
       "<style scoped>\n",
       "    .dataframe tbody tr th:only-of-type {\n",
       "        vertical-align: middle;\n",
       "    }\n",
       "\n",
       "    .dataframe tbody tr th {\n",
       "        vertical-align: top;\n",
       "    }\n",
       "\n",
       "    .dataframe thead th {\n",
       "        text-align: right;\n",
       "    }\n",
       "</style>\n",
       "<table border=\"1\" class=\"dataframe\">\n",
       "  <thead>\n",
       "    <tr style=\"text-align: right;\">\n",
       "      <th></th>\n",
       "      <th>Students</th>\n",
       "      <th>Marks</th>\n",
       "      <th>Stipend</th>\n",
       "    </tr>\n",
       "  </thead>\n",
       "  <tbody>\n",
       "    <tr>\n",
       "      <th>0</th>\n",
       "      <td>A</td>\n",
       "      <td>48</td>\n",
       "      <td>2900</td>\n",
       "    </tr>\n",
       "    <tr>\n",
       "      <th>1</th>\n",
       "      <td>B</td>\n",
       "      <td>32</td>\n",
       "      <td>2000</td>\n",
       "    </tr>\n",
       "    <tr>\n",
       "      <th>2</th>\n",
       "      <td>C</td>\n",
       "      <td>46</td>\n",
       "      <td>3000</td>\n",
       "    </tr>\n",
       "    <tr>\n",
       "      <th>3</th>\n",
       "      <td>D</td>\n",
       "      <td>38</td>\n",
       "      <td>2600</td>\n",
       "    </tr>\n",
       "    <tr>\n",
       "      <th>4</th>\n",
       "      <td>E</td>\n",
       "      <td>37</td>\n",
       "      <td>2400</td>\n",
       "    </tr>\n",
       "  </tbody>\n",
       "</table>\n",
       "</div>"
      ],
      "text/plain": [
       "  Students  Marks  Stipend\n",
       "0        A     48     2900\n",
       "1        B     32     2000\n",
       "2        C     46     3000\n",
       "3        D     38     2600\n",
       "4        E     37     2400"
      ]
     },
     "execution_count": 5,
     "metadata": {},
     "output_type": "execute_result"
    }
   ],
   "source": [
    "#to print the first five rows of the dataframe use head, if you wish to print a defined number of rows, you might give the arguement with the head method\n",
    "a.head()"
   ]
  },
  {
   "cell_type": "code",
   "execution_count": 6,
   "id": "7e656275-64c3-4dd7-8d7e-1387a50196fc",
   "metadata": {},
   "outputs": [
    {
     "data": {
      "text/html": [
       "<div>\n",
       "<style scoped>\n",
       "    .dataframe tbody tr th:only-of-type {\n",
       "        vertical-align: middle;\n",
       "    }\n",
       "\n",
       "    .dataframe tbody tr th {\n",
       "        vertical-align: top;\n",
       "    }\n",
       "\n",
       "    .dataframe thead th {\n",
       "        text-align: right;\n",
       "    }\n",
       "</style>\n",
       "<table border=\"1\" class=\"dataframe\">\n",
       "  <thead>\n",
       "    <tr style=\"text-align: right;\">\n",
       "      <th></th>\n",
       "      <th>Students</th>\n",
       "      <th>Marks</th>\n",
       "      <th>Stipend</th>\n",
       "    </tr>\n",
       "  </thead>\n",
       "  <tbody>\n",
       "    <tr>\n",
       "      <th>5</th>\n",
       "      <td>F</td>\n",
       "      <td>45</td>\n",
       "      <td>2700</td>\n",
       "    </tr>\n",
       "    <tr>\n",
       "      <th>6</th>\n",
       "      <td>G</td>\n",
       "      <td>39</td>\n",
       "      <td>2100</td>\n",
       "    </tr>\n",
       "    <tr>\n",
       "      <th>7</th>\n",
       "      <td>H</td>\n",
       "      <td>41</td>\n",
       "      <td>2500</td>\n",
       "    </tr>\n",
       "    <tr>\n",
       "      <th>8</th>\n",
       "      <td>I</td>\n",
       "      <td>40</td>\n",
       "      <td>2600</td>\n",
       "    </tr>\n",
       "    <tr>\n",
       "      <th>9</th>\n",
       "      <td>J</td>\n",
       "      <td>37</td>\n",
       "      <td>2700</td>\n",
       "    </tr>\n",
       "  </tbody>\n",
       "</table>\n",
       "</div>"
      ],
      "text/plain": [
       "  Students  Marks  Stipend\n",
       "5        F     45     2700\n",
       "6        G     39     2100\n",
       "7        H     41     2500\n",
       "8        I     40     2600\n",
       "9        J     37     2700"
      ]
     },
     "execution_count": 6,
     "metadata": {},
     "output_type": "execute_result"
    }
   ],
   "source": [
    "#print the last 5 rows\n",
    "#by default, you will find an additional field of index\n",
    "a.tail()"
   ]
  },
  {
   "cell_type": "code",
   "execution_count": 7,
   "id": "468ffd8e-6eab-46cb-a0ef-ba04ba90497d",
   "metadata": {},
   "outputs": [
    {
     "data": {
      "text/html": [
       "<div>\n",
       "<style scoped>\n",
       "    .dataframe tbody tr th:only-of-type {\n",
       "        vertical-align: middle;\n",
       "    }\n",
       "\n",
       "    .dataframe tbody tr th {\n",
       "        vertical-align: top;\n",
       "    }\n",
       "\n",
       "    .dataframe thead th {\n",
       "        text-align: right;\n",
       "    }\n",
       "</style>\n",
       "<table border=\"1\" class=\"dataframe\">\n",
       "  <thead>\n",
       "    <tr style=\"text-align: right;\">\n",
       "      <th></th>\n",
       "      <th>Students</th>\n",
       "      <th>Marks</th>\n",
       "      <th>Stipend</th>\n",
       "    </tr>\n",
       "  </thead>\n",
       "  <tbody>\n",
       "    <tr>\n",
       "      <th>0</th>\n",
       "      <td>A</td>\n",
       "      <td>48</td>\n",
       "      <td>2900</td>\n",
       "    </tr>\n",
       "    <tr>\n",
       "      <th>1</th>\n",
       "      <td>B</td>\n",
       "      <td>32</td>\n",
       "      <td>2000</td>\n",
       "    </tr>\n",
       "  </tbody>\n",
       "</table>\n",
       "</div>"
      ],
      "text/plain": [
       "  Students  Marks  Stipend\n",
       "0        A     48     2900\n",
       "1        B     32     2000"
      ]
     },
     "execution_count": 7,
     "metadata": {},
     "output_type": "execute_result"
    }
   ],
   "source": [
    "#you might pass in arguements like this, for a defined number of rows for head & tail\n",
    "a.head(2)"
   ]
  },
  {
   "cell_type": "code",
   "execution_count": 8,
   "id": "ee8ed356-c1c8-4ae4-b313-604bab36da87",
   "metadata": {},
   "outputs": [
    {
     "data": {
      "text/html": [
       "<div>\n",
       "<style scoped>\n",
       "    .dataframe tbody tr th:only-of-type {\n",
       "        vertical-align: middle;\n",
       "    }\n",
       "\n",
       "    .dataframe tbody tr th {\n",
       "        vertical-align: top;\n",
       "    }\n",
       "\n",
       "    .dataframe thead th {\n",
       "        text-align: right;\n",
       "    }\n",
       "</style>\n",
       "<table border=\"1\" class=\"dataframe\">\n",
       "  <thead>\n",
       "    <tr style=\"text-align: right;\">\n",
       "      <th></th>\n",
       "      <th>Marks</th>\n",
       "      <th>Stipend</th>\n",
       "    </tr>\n",
       "  </thead>\n",
       "  <tbody>\n",
       "    <tr>\n",
       "      <th>count</th>\n",
       "      <td>10.000000</td>\n",
       "      <td>10.00000</td>\n",
       "    </tr>\n",
       "    <tr>\n",
       "      <th>mean</th>\n",
       "      <td>40.300000</td>\n",
       "      <td>2550.00000</td>\n",
       "    </tr>\n",
       "    <tr>\n",
       "      <th>std</th>\n",
       "      <td>4.854551</td>\n",
       "      <td>317.10496</td>\n",
       "    </tr>\n",
       "    <tr>\n",
       "      <th>min</th>\n",
       "      <td>32.000000</td>\n",
       "      <td>2000.00000</td>\n",
       "    </tr>\n",
       "    <tr>\n",
       "      <th>25%</th>\n",
       "      <td>37.250000</td>\n",
       "      <td>2425.00000</td>\n",
       "    </tr>\n",
       "    <tr>\n",
       "      <th>50%</th>\n",
       "      <td>39.500000</td>\n",
       "      <td>2600.00000</td>\n",
       "    </tr>\n",
       "    <tr>\n",
       "      <th>75%</th>\n",
       "      <td>44.000000</td>\n",
       "      <td>2700.00000</td>\n",
       "    </tr>\n",
       "    <tr>\n",
       "      <th>max</th>\n",
       "      <td>48.000000</td>\n",
       "      <td>3000.00000</td>\n",
       "    </tr>\n",
       "  </tbody>\n",
       "</table>\n",
       "</div>"
      ],
      "text/plain": [
       "           Marks     Stipend\n",
       "count  10.000000    10.00000\n",
       "mean   40.300000  2550.00000\n",
       "std     4.854551   317.10496\n",
       "min    32.000000  2000.00000\n",
       "25%    37.250000  2425.00000\n",
       "50%    39.500000  2600.00000\n",
       "75%    44.000000  2700.00000\n",
       "max    48.000000  3000.00000"
      ]
     },
     "execution_count": 8,
     "metadata": {},
     "output_type": "execute_result"
    }
   ],
   "source": [
    "# to get the statistical details\n",
    "#the statistical data would be created for ordinal(quantative) data & not for qualitative data(name etc)\n",
    "# the stastistical details are : count, mean, standard deviation, & the IQR ( Interquartile range that is the start of the data - min\n",
    "# folllowed by 25% of the central tendency, then the central tendency thats 50% of the range, followed by 75% and the max)\n",
    "# IQR divides the data into four parts (min or 0%, 25%, 50%, 75%, max or 100%)\n",
    "#these statistical count have strong say in the statistical/descriptive analytics\n",
    "a.describe()"
   ]
  },
  {
   "cell_type": "markdown",
   "id": "0e818312-065f-44df-945f-13b1ee43a8c0",
   "metadata": {},
   "source": [
    "Add-on from here"
   ]
  },
  {
   "cell_type": "code",
   "execution_count": 16,
   "id": "e6a4d1eb-08f6-4564-85e1-a0b4d436b06e",
   "metadata": {},
   "outputs": [],
   "source": [
    "#ACreating some functions like classification into different groups like pass, distinction etc\n",
    "def fun(num):\n",
    "  \n",
    "    if num<35:\n",
    "        return \"Pass\"\n",
    "  \n",
    "    elif num>= 35 and num<45:\n",
    "        return \"Good\"\n",
    "  \n",
    "    else:\n",
    "        return \"Congratulations!\""
   ]
  },
  {
   "cell_type": "code",
   "execution_count": 17,
   "id": "9f48f10e-7bb4-4d2a-beaa-11074123975d",
   "metadata": {},
   "outputs": [
    {
     "data": {
      "text/plain": [
       "0    A\n",
       "1    B\n",
       "2    C\n",
       "3    D\n",
       "4    E\n",
       "5    F\n",
       "6    G\n",
       "7    H\n",
       "8    I\n",
       "9    J\n",
       "Name: Students, dtype: object"
      ]
     },
     "execution_count": 17,
     "metadata": {},
     "output_type": "execute_result"
    }
   ],
   "source": [
    "#Targetting individual fields\n",
    "a['Students']"
   ]
  },
  {
   "cell_type": "code",
   "execution_count": 18,
   "id": "ae2e21d2-d430-4ff4-bd49-d1dcb63e04fa",
   "metadata": {},
   "outputs": [
    {
     "data": {
      "text/plain": [
       "0    48\n",
       "1    32\n",
       "2    46\n",
       "3    38\n",
       "4    37\n",
       "5    45\n",
       "6    39\n",
       "7    41\n",
       "8    40\n",
       "9    37\n",
       "Name: Marks, dtype: int64"
      ]
     },
     "execution_count": 18,
     "metadata": {},
     "output_type": "execute_result"
    }
   ],
   "source": [
    "a['Marks']"
   ]
  },
  {
   "cell_type": "code",
   "execution_count": 19,
   "id": "b92ca78d-79d9-498c-acd9-7508b53f8004",
   "metadata": {},
   "outputs": [],
   "source": [
    "# storing the processed function in a new variable called \"new\"\n",
    "new = a['Marks'].apply(fun)"
   ]
  },
  {
   "cell_type": "code",
   "execution_count": 20,
   "id": "319f0066-2385-4a4b-97b4-8356ea33a5a4",
   "metadata": {},
   "outputs": [
    {
     "data": {
      "text/plain": [
       "0    Congratulations!\n",
       "1                Pass\n",
       "2    Congratulations!\n",
       "3                Good\n",
       "4                Good\n",
       "5    Congratulations!\n",
       "6                Good\n",
       "7                Good\n",
       "8                Good\n",
       "9                Good\n",
       "Name: Marks, dtype: object"
      ]
     },
     "execution_count": 20,
     "metadata": {},
     "output_type": "execute_result"
    }
   ],
   "source": [
    "new"
   ]
  },
  {
   "cell_type": "code",
   "execution_count": 27,
   "id": "18105acf-d3e7-47c4-9ccf-a8727802663a",
   "metadata": {},
   "outputs": [
    {
     "data": {
      "text/plain": [
       "'Good'"
      ]
     },
     "execution_count": 27,
     "metadata": {},
     "output_type": "execute_result"
    }
   ],
   "source": [
    "# you can also target rows using the default indexes created by pandas like, the 3rd row here\n",
    "new[3]"
   ]
  },
  {
   "cell_type": "code",
   "execution_count": 29,
   "id": "c9b53704-6b48-4bc8-a7ea-949280f68c10",
   "metadata": {},
   "outputs": [
    {
     "data": {
      "image/png": "[encoded data removed]",
      "text/plain": [
       "<Figure size 640x480 with 1 Axes>"
      ]
     },
     "metadata": {},
     "output_type": "display_data"
    }
   ],
   "source": [
    "# an important phase of analytics is visualization, lets go for a simple plot, using a library called matplotlib\n",
    "# install matplotlib using the command \"\"pip install matplotlib\"\"\n",
    "# let's use pyplot a module of matplotlib, that provides us with Matlab like interface and we use it for plotting, mostly 2-D plots\n",
    "import matplotlib.pyplot as plt\n",
    "x= a['Students']\n",
    "y = a['Marks']\n",
    "plt.plot(x,y)\n",
    "plt.show()"
   ]
  },
  {
   "cell_type": "code",
   "execution_count": 1,
   "id": "9b05134c-ef16-4fb5-9940-866e0d507a53",
   "metadata": {},
   "outputs": [],
   "source": [
    "# we studied 3 libraries\n",
    "# 1- Pandas used for reading external files (csv, excel etc)\n",
    "# 2 - Openpyxl, used for reading excel files, if we had csv files, we won't have used this library\n",
    "# 3 - Matplotlib, used for plotting"
   ]
  },
  {
   "cell_type": "code",
   "execution_count": 7,
   "id": "fdc51150-fdde-4102-babd-ff821b14cf91",
   "metadata": {},
   "outputs": [],
   "source": [
    "import pandas as pd\n",
    "df = pd.DataFrame.from_dict({\n",
    "    'Name': ['Jane', 'Nik', 'Kate', 'Melissa'],\n",
    "    'Age': [10, 35, 34, 23]\n",
    "}).set_index('Name')\n",
    "\n",
    "df = df.reset_index(drop=True)"
   ]
  },
  {
   "cell_type": "code",
   "execution_count": 3,
   "id": "7da45390-1eb4-4e0d-bb2e-f6b8f89b4379",
   "metadata": {},
   "outputs": [
    {
     "data": {
      "text/html": [
       "<div>\n",
       "<style scoped>\n",
       "    .dataframe tbody tr th:only-of-type {\n",
       "        vertical-align: middle;\n",
       "    }\n",
       "\n",
       "    .dataframe tbody tr th {\n",
       "        vertical-align: top;\n",
       "    }\n",
       "\n",
       "    .dataframe thead th {\n",
       "        text-align: right;\n",
       "    }\n",
       "</style>\n",
       "<table border=\"1\" class=\"dataframe\">\n",
       "  <thead>\n",
       "    <tr style=\"text-align: right;\">\n",
       "      <th></th>\n",
       "      <th>Age</th>\n",
       "    </tr>\n",
       "  </thead>\n",
       "  <tbody>\n",
       "    <tr>\n",
       "      <th>0</th>\n",
       "      <td>10</td>\n",
       "    </tr>\n",
       "    <tr>\n",
       "      <th>1</th>\n",
       "      <td>35</td>\n",
       "    </tr>\n",
       "    <tr>\n",
       "      <th>2</th>\n",
       "      <td>34</td>\n",
       "    </tr>\n",
       "    <tr>\n",
       "      <th>3</th>\n",
       "      <td>23</td>\n",
       "    </tr>\n",
       "  </tbody>\n",
       "</table>\n",
       "</div>"
      ],
      "text/plain": [
       "   Age\n",
       "0   10\n",
       "1   35\n",
       "2   34\n",
       "3   23"
      ]
     },
     "execution_count": 3,
     "metadata": {},
     "output_type": "execute_result"
    }
   ],
   "source": []
  },
  {
   "cell_type": "code",
   "execution_count": 8,
   "id": "78599e9c-6433-4a50-907c-2a98681f60b2",
   "metadata": {},
   "outputs": [
    {
     "name": "stdout",
     "output_type": "stream",
     "text": [
      "         Age  Height  Weight\n",
      "Name                        \n",
      "Jane      10     130      80\n",
      "Nik       35     178     200\n",
      "Kate      34     155     220\n",
      "Melissa   23     133     150\n"
     ]
    }
   ],
   "source": [
    "import pandas as pd\n",
    "\n",
    "df = pd.DataFrame.from_dict({\n",
    "    'Name': ['Jane', 'Nik', 'Kate', 'Melissa'],\n",
    "    'Age': [10, 35, 34, 23],\n",
    "    'Height': [130, 178, 155, 133],\n",
    "    'Weight': [80, 200, 220, 150]\n",
    "}).set_index('Name')\n",
    "\n",
    "print(df)"
   ]
  },
  {
   "cell_type": "code",
   "execution_count": 12,
   "id": "8be3e0f4-f0b2-487d-902c-5ba6fa24a269",
   "metadata": {},
   "outputs": [],
   "source": [
    "x = df.index.drop"
   ]
  },
  {
   "cell_type": "code",
   "execution_count": 13,
   "id": "83bca3ae-ee58-467a-baf9-6ea6e43dcb49",
   "metadata": {},
   "outputs": [
    {
     "data": {
      "text/plain": [
       "<bound method Index.drop of Index(['Jane', 'Nik', 'Kate', 'Melissa'], dtype='object', name='Name')>"
      ]
     },
     "execution_count": 13,
     "metadata": {},
     "output_type": "execute_result"
    }
   ],
   "source": [
    "x"
   ]
  },
  {
   "cell_type": "code",
   "execution_count": 14,
   "id": "ac9e90f5-7ba5-4325-b110-44dff8b05d8f",
   "metadata": {},
   "outputs": [
    {
     "data": {
      "text/html": [
       "<div>\n",
       "<style scoped>\n",
       "    .dataframe tbody tr th:only-of-type {\n",
       "        vertical-align: middle;\n",
       "    }\n",
       "\n",
       "    .dataframe tbody tr th {\n",
       "        vertical-align: top;\n",
       "    }\n",
       "\n",
       "    .dataframe thead th {\n",
       "        text-align: right;\n",
       "    }\n",
       "</style>\n",
       "<table border=\"1\" class=\"dataframe\">\n",
       "  <thead>\n",
       "    <tr style=\"text-align: right;\">\n",
       "      <th></th>\n",
       "      <th>Age</th>\n",
       "      <th>Height</th>\n",
       "      <th>Weight</th>\n",
       "    </tr>\n",
       "    <tr>\n",
       "      <th>Name</th>\n",
       "      <th></th>\n",
       "      <th></th>\n",
       "      <th></th>\n",
       "    </tr>\n",
       "  </thead>\n",
       "  <tbody>\n",
       "    <tr>\n",
       "      <th>Jane</th>\n",
       "      <td>10</td>\n",
       "      <td>130</td>\n",
       "      <td>80</td>\n",
       "    </tr>\n",
       "    <tr>\n",
       "      <th>Nik</th>\n",
       "      <td>35</td>\n",
       "      <td>178</td>\n",
       "      <td>200</td>\n",
       "    </tr>\n",
       "    <tr>\n",
       "      <th>Kate</th>\n",
       "      <td>34</td>\n",
       "      <td>155</td>\n",
       "      <td>220</td>\n",
       "    </tr>\n",
       "    <tr>\n",
       "      <th>Melissa</th>\n",
       "      <td>23</td>\n",
       "      <td>133</td>\n",
       "      <td>150</td>\n",
       "    </tr>\n",
       "  </tbody>\n",
       "</table>\n",
       "</div>"
      ],
      "text/plain": [
       "         Age  Height  Weight\n",
       "Name                        \n",
       "Jane      10     130      80\n",
       "Nik       35     178     200\n",
       "Kate      34     155     220\n",
       "Melissa   23     133     150"
      ]
     },
     "execution_count": 14,
     "metadata": {},
     "output_type": "execute_result"
    }
   ],
   "source": [
    "df"
   ]
  },
  {
   "cell_type": "code",
   "execution_count": null,
   "id": "133dbdb4-446d-4412-a137-53b9b6c68fa1",
   "metadata": {},
   "outputs": [],
   "source": []
  }
 ],
 "metadata": {
  "kernelspec": {
   "display_name": "Python 3 (ipykernel)",
   "language": "python",
   "name": "python3"
  },
  "language_info": {
   "codemirror_mode": {
    "name": "ipython",
    "version": 3
   },
   "file_extension": ".py",
   "mimetype": "text/x-python",
   "name": "python",
   "nbconvert_exporter": "python",
   "pygments_lexer": "ipython3",
   "version": "3.11.5"
  }
 },
 "nbformat": 4,
 "nbformat_minor": 5
}
