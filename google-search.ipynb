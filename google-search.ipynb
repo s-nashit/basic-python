{
 "cells": [
  {
   "cell_type": "code",
   "execution_count": 1,
   "id": "517e1242-12e7-4d0f-b07a-b3d608f32bfd",
   "metadata": {},
   "outputs": [
    {
     "data": {
      "text/plain": [
       "<generator object search at 0x00000151ED071840>"
      ]
     },
     "execution_count": 1,
     "metadata": {},
     "output_type": "execute_result"
    }
   ],
   "source": [
    "from googlesearch import search\n",
    "search(\"Nashit\", advanced=True)"
   ]
  },
  {
   "cell_type": "code",
   "execution_count": 2,
   "id": "aada7ac1-d227-4bbb-bf0e-37fe4f160b32",
   "metadata": {},
   "outputs": [
    {
     "data": {
      "text/plain": [
       "<generator object search at 0x00000151ED071B40>"
      ]
     },
     "execution_count": 2,
     "metadata": {},
     "output_type": "execute_result"
    }
   ],
   "source": [
    "search(\"Nashit\")"
   ]
  },
  {
   "cell_type": "code",
   "execution_count": 5,
   "id": "342c5409-3d65-4971-9a38-8dc0125ea011",
   "metadata": {},
   "outputs": [
    {
     "name": "stdout",
     "output_type": "stream",
     "text": [
      "<generator object search at 0x00000151ED071FC0>\n"
     ]
    }
   ],
   "source": [
    "print(search(\"Nashit\", num_results=100))"
   ]
  },
  {
   "cell_type": "code",
   "execution_count": null,
   "id": "7632ee98-43e3-4830-b3e8-dd0278b57826",
   "metadata": {},
   "outputs": [],
   "source": []
  }
 ],
 "metadata": {
  "kernelspec": {
   "display_name": "Python 3 (ipykernel)",
   "language": "python",
   "name": "python3"
  },
  "language_info": {
   "codemirror_mode": {
    "name": "ipython",
    "version": 3
   },
   "file_extension": ".py",
   "mimetype": "text/x-python",
   "name": "python",
   "nbconvert_exporter": "python",
   "pygments_lexer": "ipython3",
   "version": "3.11.5"
  }
 },
 "nbformat": 4,
 "nbformat_minor": 5
}
