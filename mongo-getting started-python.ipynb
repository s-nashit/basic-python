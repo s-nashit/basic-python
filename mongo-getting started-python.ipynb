{
 "cells": [
  {
   "cell_type": "code",
   "execution_count": 6,
   "id": "9dc05332",
   "metadata": {},
   "outputs": [],
   "source": [
    "from pymongo import MongoClient\n",
    "client = MongoClient('localhost', 27017)"
   ]
  },
  {
   "cell_type": "code",
   "execution_count": 3,
   "id": "82c26b37",
   "metadata": {},
   "outputs": [],
   "source": [
    "mydb = client.adit"
   ]
  },
  {
   "cell_type": "code",
   "execution_count": 4,
   "id": "76430efa",
   "metadata": {},
   "outputs": [],
   "source": [
    "mycollection = mydb.allahabad"
   ]
  },
  {
   "cell_type": "code",
   "execution_count": 5,
   "id": "ee6bc8f0",
   "metadata": {},
   "outputs": [
    {
     "name": "stdout",
     "output_type": "stream",
     "text": [
      "{'_id': ObjectId('6458bd3e5bbe144f03653c46'), 'name': 'Anjali', 'phone': 56452, 'laptop': False, 'hostel': None}\n",
      "{'_id': ObjectId('6458bd945bbe144f03653c47'), 'name': 'Ambika', 'phone': 56452, 'laptop': False, 'hostel': None}\n",
      "{'_id': ObjectId('6458be1c5bbe144f03653c48'), 'name': 'Ashish', 'phone': 56452, 'laptop': False, 'hostel': None, 'bike': True}\n"
     ]
    }
   ],
   "source": [
    "rea = mycollection.find()\n",
    "for dat in rea:\n",
    "    print(dat)"
   ]
  },
  {
   "cell_type": "code",
   "execution_count": null,
   "id": "e85690fc",
   "metadata": {
    "scrolled": true
   },
   "outputs": [],
   "source": []
  },
  {
   "cell_type": "code",
   "execution_count": 9,
   "id": "5a516b1a",
   "metadata": {},
   "outputs": [
    {
     "data": {
      "text/plain": [
       "()"
      ]
     },
     "execution_count": 9,
     "metadata": {},
     "output_type": "execute_result"
    }
   ],
   "source": [
    "a = ('Mukesh', 'Ranjit', 'Damodar', 'Smriti', 'Amit', 'Tannu', 'Ashutosh')\n",
    "a[::2]"
   ]
  },
  {
   "cell_type": "code",
   "execution_count": null,
   "id": "c95faf39",
   "metadata": {},
   "outputs": [],
   "source": []
  }
 ],
 "metadata": {
  "kernelspec": {
   "display_name": "Python 3 (ipykernel)",
   "language": "python",
   "name": "python3"
  },
  "language_info": {
   "codemirror_mode": {
    "name": "ipython",
    "version": 3
   },
   "file_extension": ".py",
   "mimetype": "text/x-python",
   "name": "python",
   "nbconvert_exporter": "python",
   "pygments_lexer": "ipython3",
   "version": "3.10.11"
  }
 },
 "nbformat": 4,
 "nbformat_minor": 5
}
