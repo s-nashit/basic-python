{
 "cells": [
  {
   "cell_type": "code",
   "execution_count": 8,
   "id": "0b6bf564",
   "metadata": {},
   "outputs": [
    {
     "name": "stdout",
     "output_type": "stream",
     "text": [
      "    Apple  Samsung  Nokia  Vivo    Oppo     Mi  Sony\n",
      "0    2358     8732   3123   8068   7263  19466  2408\n",
      "1    3627     8058   3550  10310  10447  20664  2390\n",
      "2    2295     5913   4401   8891   8140  11837  1666\n",
      "3    4562     9620   4729  14279   5835  20566  2141\n",
      "4    2452    10710   4970  16961  10633  21048  1255\n",
      "5    2459     8670   3531  14032  11483  19791  1188\n",
      "6    2935     5024   3004  17975  10631  20971  1119\n",
      "7    3861    11458   4813  10223   7723  17926  2223\n",
      "8    3350     5083   4523  16774   6174  13869  2135\n",
      "9    3065    11973   4305  12210   8544  22666  1315\n",
      "10   3529     9251   3396  17384  10383  12589  1141\n",
      "11   3478     9294   4993   8795  11032  10020  2210\n",
      "12   5994     9783   4999  10570   6221  20905  1524\n",
      "13   3733     6566   4399  16970   8263  17635  2008\n",
      "14   4472    11017   4692  17755   8604  18201  2397\n",
      "15   4724     7591   4548   8533   8999  19476  1654\n",
      "16   2160    11412   3060  10093  11895  15487  2289\n",
      "17   3679    10708   3161  16402   7784  11751  1404\n",
      "18   3176     5375   3324  11214   9709  15899  1988\n",
      "19   3175     7524   4788  13125   9669  16844  1992\n",
      "20   5730     9129   3381   9174   7850  12733  1188\n",
      "21   4543     8809   4341  13649   9091  24442  2371\n",
      "22   2511     6937   3593  16234   8833  13809  1117\n",
      "23   5186     9945   4757  10319   7589  12709  2134\n",
      "24   2278    10017   3818  10822   7918  17226  1570\n"
     ]
    }
   ],
   "source": [
    "import pandas as xyz\n",
    "a = xyz.read_csv('Sales.csv')\n",
    "print(a)"
   ]
  },
  {
   "cell_type": "code",
   "execution_count": 4,
   "id": "b9b4a74f",
   "metadata": {},
   "outputs": [
    {
     "name": "stdout",
     "output_type": "stream",
     "text": [
      "   Apple  Samsung  Nokia  Vivo    Oppo     Mi  Sony\n",
      "0   2358     8732   3123   8068   7263  19466  2408\n",
      "1   3627     8058   3550  10310  10447  20664  2390\n",
      "2   2295     5913   4401   8891   8140  11837  1666\n",
      "3   4562     9620   4729  14279   5835  20566  2141\n",
      "4   2452    10710   4970  16961  10633  21048  1255\n"
     ]
    }
   ],
   "source": [
    "print(a.head())"
   ]
  },
  {
   "cell_type": "code",
   "execution_count": 5,
   "id": "50da14ae",
   "metadata": {
    "scrolled": true
   },
   "outputs": [
    {
     "name": "stdout",
     "output_type": "stream",
     "text": [
      "   Apple  Samsung  Nokia  Vivo   Oppo     Mi  Sony\n",
      "0   2358     8732   3123   8068  7263  19466  2408\n"
     ]
    }
   ],
   "source": [
    "print(a.head(1))"
   ]
  },
  {
   "cell_type": "code",
   "execution_count": 6,
   "id": "9da1d074",
   "metadata": {},
   "outputs": [
    {
     "name": "stdout",
     "output_type": "stream",
     "text": [
      "Empty DataFrame\n",
      "Columns: [Apple, Samsung, Nokia, Vivo , Oppo, Mi, Sony]\n",
      "Index: []\n"
     ]
    }
   ],
   "source": [
    "print(a.head(0))"
   ]
  },
  {
   "cell_type": "code",
   "execution_count": 7,
   "id": "96995d6c",
   "metadata": {},
   "outputs": [
    {
     "name": "stdout",
     "output_type": "stream",
     "text": [
      "   Apple  Samsung  Nokia  Vivo    Oppo     Mi  Sony\n",
      "0   2358     8732   3123   8068   7263  19466  2408\n",
      "1   3627     8058   3550  10310  10447  20664  2390\n",
      "2   2295     5913   4401   8891   8140  11837  1666\n",
      "3   4562     9620   4729  14279   5835  20566  2141\n",
      "4   2452    10710   4970  16961  10633  21048  1255\n",
      "5   2459     8670   3531  14032  11483  19791  1188\n"
     ]
    }
   ],
   "source": [
    "print(a.head(6))"
   ]
  },
  {
   "cell_type": "code",
   "execution_count": 9,
   "id": "3f5f3ea3",
   "metadata": {},
   "outputs": [
    {
     "name": "stdout",
     "output_type": "stream",
     "text": [
      "    Apple  Samsung  Nokia  Vivo   Oppo     Mi  Sony\n",
      "20   5730     9129   3381   9174  7850  12733  1188\n",
      "21   4543     8809   4341  13649  9091  24442  2371\n",
      "22   2511     6937   3593  16234  8833  13809  1117\n",
      "23   5186     9945   4757  10319  7589  12709  2134\n",
      "24   2278    10017   3818  10822  7918  17226  1570\n"
     ]
    }
   ],
   "source": [
    "print(a.tail())"
   ]
  },
  {
   "cell_type": "code",
   "execution_count": 10,
   "id": "11d09c3e",
   "metadata": {},
   "outputs": [
    {
     "name": "stdout",
     "output_type": "stream",
     "text": [
      "Empty DataFrame\n",
      "Columns: [Apple, Samsung, Nokia, Vivo , Oppo, Mi, Sony]\n",
      "Index: []\n"
     ]
    }
   ],
   "source": [
    "print(a.tail(0))"
   ]
  },
  {
   "cell_type": "code",
   "execution_count": 11,
   "id": "3c7e151d",
   "metadata": {},
   "outputs": [
    {
     "name": "stdout",
     "output_type": "stream",
     "text": [
      "    Apple  Samsung  Nokia  Vivo   Oppo     Mi  Sony\n",
      "24   2278    10017   3818  10822  7918  17226  1570\n"
     ]
    }
   ],
   "source": [
    "print(a.tail(1))"
   ]
  },
  {
   "cell_type": "code",
   "execution_count": 12,
   "id": "6d12e09b",
   "metadata": {},
   "outputs": [
    {
     "name": "stdout",
     "output_type": "stream",
     "text": [
      "    Apple  Samsung  Nokia  Vivo    Oppo     Mi  Sony\n",
      "0    2358     8732   3123   8068   7263  19466  2408\n",
      "1    3627     8058   3550  10310  10447  20664  2390\n",
      "2    2295     5913   4401   8891   8140  11837  1666\n",
      "3    4562     9620   4729  14279   5835  20566  2141\n",
      "4    2452    10710   4970  16961  10633  21048  1255\n",
      "5    2459     8670   3531  14032  11483  19791  1188\n",
      "6    2935     5024   3004  17975  10631  20971  1119\n",
      "7    3861    11458   4813  10223   7723  17926  2223\n",
      "8    3350     5083   4523  16774   6174  13869  2135\n",
      "9    3065    11973   4305  12210   8544  22666  1315\n",
      "10   3529     9251   3396  17384  10383  12589  1141\n",
      "11   3478     9294   4993   8795  11032  10020  2210\n",
      "12   5994     9783   4999  10570   6221  20905  1524\n",
      "13   3733     6566   4399  16970   8263  17635  2008\n",
      "14   4472    11017   4692  17755   8604  18201  2397\n",
      "15   4724     7591   4548   8533   8999  19476  1654\n",
      "16   2160    11412   3060  10093  11895  15487  2289\n",
      "17   3679    10708   3161  16402   7784  11751  1404\n",
      "18   3176     5375   3324  11214   9709  15899  1988\n",
      "19   3175     7524   4788  13125   9669  16844  1992\n",
      "20   5730     9129   3381   9174   7850  12733  1188\n",
      "21   4543     8809   4341  13649   9091  24442  2371\n",
      "22   2511     6937   3593  16234   8833  13809  1117\n",
      "23   5186     9945   4757  10319   7589  12709  2134\n",
      "24   2278    10017   3818  10822   7918  17226  1570\n"
     ]
    }
   ],
   "source": [
    "print(a.tail(25))"
   ]
  },
  {
   "cell_type": "code",
   "execution_count": 13,
   "id": "0f5d584b",
   "metadata": {},
   "outputs": [
    {
     "name": "stdout",
     "output_type": "stream",
     "text": [
      "<class 'pandas.core.frame.DataFrame'>\n",
      "RangeIndex: 25 entries, 0 to 24\n",
      "Data columns (total 7 columns):\n",
      " #   Column   Non-Null Count  Dtype\n",
      "---  ------   --------------  -----\n",
      " 0   Apple    25 non-null     int64\n",
      " 1   Samsung  25 non-null     int64\n",
      " 2   Nokia    25 non-null     int64\n",
      " 3   Vivo     25 non-null     int64\n",
      " 4   Oppo     25 non-null     int64\n",
      " 5   Mi       25 non-null     int64\n",
      " 6   Sony     25 non-null     int64\n",
      "dtypes: int64(7)\n",
      "memory usage: 1.5 KB\n",
      "None\n"
     ]
    }
   ],
   "source": [
    "print(a.info())"
   ]
  },
  {
   "cell_type": "code",
   "execution_count": 14,
   "id": "8ac65a43",
   "metadata": {},
   "outputs": [
    {
     "name": "stdout",
     "output_type": "stream",
     "text": [
      "<class 'pandas.core.frame.DataFrame'>\n",
      "RangeIndex: 25 entries, 0 to 24\n",
      "Data columns (total 7 columns):\n",
      " #   Column   Non-Null Count  Dtype\n",
      "---  ------   --------------  -----\n",
      " 0   Apple    25 non-null     int64\n",
      " 1   Samsung  25 non-null     int64\n",
      " 2   Nokia    25 non-null     int64\n",
      " 3   Vivo     25 non-null     int64\n",
      " 4   Oppo     25 non-null     int64\n",
      " 5   Mi       25 non-null     int64\n",
      " 6   Sony     25 non-null     int64\n",
      "dtypes: int64(7)\n",
      "memory usage: 1.5 KB\n",
      "None\n"
     ]
    }
   ],
   "source": [
    "print(a.info())"
   ]
  },
  {
   "cell_type": "code",
   "execution_count": null,
   "id": "5d0f3520",
   "metadata": {},
   "outputs": [],
   "source": []
  }
 ],
 "metadata": {
  "kernelspec": {
   "display_name": "Python 3",
   "language": "python",
   "name": "python3"
  },
  "language_info": {
   "codemirror_mode": {
    "name": "ipython",
    "version": 3
   },
   "file_extension": ".py",
   "mimetype": "text/x-python",
   "name": "python",
   "nbconvert_exporter": "python",
   "pygments_lexer": "ipython3",
   "version": "3.8.8"
  }
 },
 "nbformat": 4,
 "nbformat_minor": 5
}
