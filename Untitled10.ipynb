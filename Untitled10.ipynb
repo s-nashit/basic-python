{
 "cells": [
  {
   "cell_type": "code",
   "execution_count": 6,
   "id": "19aac680",
   "metadata": {},
   "outputs": [],
   "source": [
    "def adit():\n",
    "    print(\"This is NSTI, Allahabad!\")"
   ]
  },
  {
   "cell_type": "code",
   "execution_count": 2,
   "id": "11147e0e",
   "metadata": {},
   "outputs": [
    {
     "data": {
      "text/plain": [
       "24"
      ]
     },
     "execution_count": 2,
     "metadata": {},
     "output_type": "execute_result"
    }
   ],
   "source": [
    "8*3"
   ]
  },
  {
   "cell_type": "code",
   "execution_count": 3,
   "id": "9ea60e9b",
   "metadata": {},
   "outputs": [
    {
     "data": {
      "text/plain": [
       "5"
      ]
     },
     "execution_count": 3,
     "metadata": {},
     "output_type": "execute_result"
    }
   ],
   "source": [
    "7-2"
   ]
  },
  {
   "cell_type": "code",
   "execution_count": 4,
   "id": "26e3a391",
   "metadata": {},
   "outputs": [
    {
     "data": {
      "text/plain": [
       "3.5"
      ]
     },
     "execution_count": 4,
     "metadata": {},
     "output_type": "execute_result"
    }
   ],
   "source": [
    "7/2"
   ]
  },
  {
   "cell_type": "code",
   "execution_count": 7,
   "id": "f6defbc2",
   "metadata": {},
   "outputs": [
    {
     "name": "stdout",
     "output_type": "stream",
     "text": [
      "This is NSTI, Allahabad!\n"
     ]
    }
   ],
   "source": [
    "adit()"
   ]
  },
  {
   "cell_type": "code",
   "execution_count": 11,
   "id": "1afe7a64",
   "metadata": {},
   "outputs": [
    {
     "name": "stdout",
     "output_type": "stream",
     "text": [
      "Bindoo, NSTI\n"
     ]
    }
   ],
   "source": [
    "def aditr(name):\n",
    "    print(name + \", NSTI\")\n",
    "\n",
    "aditr(\"Bindoo\")"
   ]
  },
  {
   "cell_type": "code",
   "execution_count": 13,
   "id": "05a197d9",
   "metadata": {},
   "outputs": [
    {
     "name": "stdout",
     "output_type": "stream",
     "text": [
      "Paridhi, NSTI\n",
      "Jyoti, NSTI\n",
      "Pallavi, NSTI\n",
      "Suman, NSTI\n",
      "Rakhi, NSTI\n",
      "Radha, NSTI\n",
      "Reenu, NSTI\n"
     ]
    }
   ],
   "source": [
    "aditr(\"Paridhi\")\n",
    "aditr(\"Jyoti\")\n",
    "aditr(\"Pallavi\")\n",
    "aditr(\"Suman\")\n",
    "aditr(\"Rakhi\")\n",
    "aditr(\"Radha\")\n",
    "aditr(\"Reenu\")"
   ]
  },
  {
   "cell_type": "code",
   "execution_count": 18,
   "id": "cd498fc5",
   "metadata": {},
   "outputs": [
    {
     "name": "stdout",
     "output_type": "stream",
     "text": [
      "The capital of UP is: Mumbai\n"
     ]
    }
   ],
   "source": [
    "def capital(*option):\n",
    "    print(\"The capital of UP is: \" + option[2])\n",
    "    \n",
    "capital(\"Delhi\", \"Kolkata\", \"Mumbai\", \"Lucknow\", \"Bhubaneshwar\")\n"
   ]
  },
  {
   "cell_type": "code",
   "execution_count": 19,
   "id": "c1ad9879",
   "metadata": {},
   "outputs": [
    {
     "name": "stdout",
     "output_type": "stream",
     "text": [
      "This is NSTI, Allahabad!\n"
     ]
    }
   ],
   "source": [
    "adit()"
   ]
  },
  {
   "cell_type": "code",
   "execution_count": null,
   "id": "cb6c6ece",
   "metadata": {},
   "outputs": [],
   "source": []
  }
 ],
 "metadata": {
  "kernelspec": {
   "display_name": "Python 3 (ipykernel)",
   "language": "python",
   "name": "python3"
  },
  "language_info": {
   "codemirror_mode": {
    "name": "ipython",
    "version": 3
   },
   "file_extension": ".py",
   "mimetype": "text/x-python",
   "name": "python",
   "nbconvert_exporter": "python",
   "pygments_lexer": "ipython3",
   "version": "3.9.5"
  }
 },
 "nbformat": 4,
 "nbformat_minor": 5
}
