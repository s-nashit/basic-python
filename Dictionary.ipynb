{
 "cells": [
  {
   "cell_type": "code",
   "execution_count": 15,
   "id": "7261d4c4",
   "metadata": {},
   "outputs": [
    {
     "name": "stdout",
     "output_type": "stream",
     "text": [
      "{True: 'Nashit', 2: 'Abhishek', 3: 'Avinash', 4: 'Bharti'}\n",
      "The absentees are:  Nashit , Avinash\n"
     ]
    }
   ],
   "source": [
    "a = {True:\"Nashit\", 2:\"Abhishek\", 3:\"Avinash\", 4:\"Bharti\"}\n",
    "print(a)\n",
    "type(a)\n",
    "print(\"The absentees are: \", a[1], \",\", a[3])"
   ]
  },
  {
   "cell_type": "code",
   "execution_count": 2,
   "id": "cfa1a456",
   "metadata": {},
   "outputs": [
    {
     "name": "stdout",
     "output_type": "stream",
     "text": [
      "dict_keys([1, 2, 3, 4])\n",
      "dict_values(['Nashit', 'Abhishek', 'Avinash', 'Bharti'])\n"
     ]
    }
   ],
   "source": [
    "print(a.keys())\n",
    "print(a.values())"
   ]
  },
  {
   "cell_type": "code",
   "execution_count": 4,
   "id": "a160359f",
   "metadata": {},
   "outputs": [
    {
     "name": "stdout",
     "output_type": "stream",
     "text": [
      "{'English': 87, 'Maths': 66, 'Science': 56, 'Computers': 85}\n",
      "<class 'dict'>\n",
      "dict_keys(['English', 'Maths', 'Science', 'Computers'])\n",
      "dict_values([87, 66, 56, 85])\n"
     ]
    }
   ],
   "source": [
    "a = {\"English\":87, \"Maths\":66, \"Science\": 56, \"Computers\": 85}\n",
    "print(a)\n",
    "print(type(a))\n",
    "print(a.keys())\n",
    "print(a.values())"
   ]
  },
  {
   "cell_type": "code",
   "execution_count": 6,
   "id": "202858f0",
   "metadata": {},
   "outputs": [
    {
     "name": "stdout",
     "output_type": "stream",
     "text": [
      "{'English': 65, 'Maths': 66, 'Science': 65}\n"
     ]
    }
   ],
   "source": [
    "a = {\"English\":87, \"Maths\":66, \"Science\": 65, \"English\":65}\n",
    "print(a)"
   ]
  },
  {
   "cell_type": "code",
   "execution_count": 8,
   "id": "bc0a4696",
   "metadata": {},
   "outputs": [
    {
     "name": "stdout",
     "output_type": "stream",
     "text": [
      "My marks in Maths :  66\n"
     ]
    }
   ],
   "source": [
    "print(\"My marks in Maths : \", a[\"Maths\"] )"
   ]
  },
  {
   "cell_type": "code",
   "execution_count": null,
   "id": "aefe5190",
   "metadata": {},
   "outputs": [],
   "source": []
  }
 ],
 "metadata": {
  "kernelspec": {
   "display_name": "Python 3",
   "language": "python",
   "name": "python3"
  },
  "language_info": {
   "codemirror_mode": {
    "name": "ipython",
    "version": 3
   },
   "file_extension": ".py",
   "mimetype": "text/x-python",
   "name": "python",
   "nbconvert_exporter": "python",
   "pygments_lexer": "ipython3",
   "version": "3.8.8"
  }
 },
 "nbformat": 4,
 "nbformat_minor": 5
}
