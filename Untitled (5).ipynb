{
 "cells": [
  {
   "cell_type": "code",
   "execution_count": 11,
   "id": "692ba003-65af-4800-87c5-903746f84275",
   "metadata": {},
   "outputs": [
    {
     "name": "stdin",
     "output_type": "stream",
     "text": [
      "Enter the Name of Any City >>  Patna\n"
     ]
    },
    {
     "name": "stdout",
     "output_type": "stream",
     "text": [
      "Searching...... \n",
      "\n"
     ]
    },
    {
     "ename": "IndexError",
     "evalue": "list index out of range",
     "output_type": "error",
     "traceback": [
      "\u001b[1;31m---------------------------------------------------------------------------\u001b[0m",
      "\u001b[1;31mIndexError\u001b[0m                                Traceback (most recent call last)",
      "Cell \u001b[1;32mIn[11], line 23\u001b[0m\n\u001b[0;32m     20\u001b[0m     \u001b[38;5;28mprint\u001b[39m(weather\u001b[38;5;241m+\u001b[39m\u001b[38;5;124m\"\u001b[39m\u001b[38;5;124m°C\u001b[39m\u001b[38;5;124m\"\u001b[39m)\n\u001b[0;32m     22\u001b[0m city\u001b[38;5;241m=\u001b[39mcity\u001b[38;5;241m+\u001b[39m\u001b[38;5;124m\"\u001b[39m\u001b[38;5;124m weather\u001b[39m\u001b[38;5;124m\"\u001b[39m\n\u001b[1;32m---> 23\u001b[0m \u001b[43mweather\u001b[49m\u001b[43m \u001b[49m\u001b[43m(\u001b[49m\u001b[43mcity\u001b[49m\u001b[43m)\u001b[49m\n",
      "Cell \u001b[1;32mIn[11], line 13\u001b[0m, in \u001b[0;36mweather\u001b[1;34m(city)\u001b[0m\n\u001b[0;32m     11\u001b[0m \u001b[38;5;28mprint\u001b[39m(\u001b[38;5;124m\"\u001b[39m\u001b[38;5;124mSearching...... \u001b[39m\u001b[38;5;130;01m\\n\u001b[39;00m\u001b[38;5;124m\"\u001b[39m)\n\u001b[0;32m     12\u001b[0m soup \u001b[38;5;241m=\u001b[39m BeautifulSoup(res\u001b[38;5;241m.\u001b[39mtext,\u001b[38;5;124m'\u001b[39m\u001b[38;5;124mhtml.parser\u001b[39m\u001b[38;5;124m'\u001b[39m)\n\u001b[1;32m---> 13\u001b[0m location \u001b[38;5;241m=\u001b[39m \u001b[43msoup\u001b[49m\u001b[38;5;241;43m.\u001b[39;49m\u001b[43mselect\u001b[49m\u001b[43m(\u001b[49m\u001b[38;5;124;43m'\u001b[39;49m\u001b[38;5;124;43m#wob_loc\u001b[39;49m\u001b[38;5;124;43m'\u001b[39;49m\u001b[43m)\u001b[49m\u001b[43m[\u001b[49m\u001b[38;5;241;43m0\u001b[39;49m\u001b[43m]\u001b[49m\u001b[38;5;241m.\u001b[39mgetText()\u001b[38;5;241m.\u001b[39mstrip()\n\u001b[0;32m     14\u001b[0m time \u001b[38;5;241m=\u001b[39m soup\u001b[38;5;241m.\u001b[39mselect(\u001b[38;5;124m'\u001b[39m\u001b[38;5;124m#wob_dts\u001b[39m\u001b[38;5;124m'\u001b[39m)[\u001b[38;5;241m0\u001b[39m]\u001b[38;5;241m.\u001b[39mgetText()\u001b[38;5;241m.\u001b[39mstrip()\n\u001b[0;32m     15\u001b[0m info \u001b[38;5;241m=\u001b[39m soup\u001b[38;5;241m.\u001b[39mselect(\u001b[38;5;124m'\u001b[39m\u001b[38;5;124m#wob_dc\u001b[39m\u001b[38;5;124m'\u001b[39m)[\u001b[38;5;241m0\u001b[39m]\u001b[38;5;241m.\u001b[39mgetText()\u001b[38;5;241m.\u001b[39mstrip()\n",
      "\u001b[1;31mIndexError\u001b[0m: list index out of range"
     ]
    }
   ],
   "source": [
    "from bs4 import BeautifulSoup\n",
    "import requests\n",
    "headers = {'User-Agent': 'Mozilla/5.0 (Windows NT 10.0; Win64; x64)\\\n",
    "ApplelWebKit/537.36 (KHTML, like Gecko) \\\n",
    "Chrome/58.0.3029.110 Safari/537.3'}\n",
    "city=input(\"Enter the Name of Any City >> \")\n",
    "def weather(city):\n",
    "    city=city.replace(\" \",\"+\")\n",
    "    res = requests.get(f'https://www.google.com/search?q={city}\\&oq={city}&aqs=chrome.0.3513912j014j46j69i60.6128j1j7&sourceid=\\\n",
    "chrome&ie=UTF-8',headers=headers)\n",
    "    print(\"Searching...... \\n\")\n",
    "    soup = BeautifulSoup(res.text,'html.parser')\n",
    "    location = soup.select('#wob_loc')[0].getText().strip()\n",
    "    time = soup.select('#wob_dts')[0].getText().strip()\n",
    "    info = soup.select('#wob_dc')[0].getText().strip()\n",
    "    weather = soup.select('#wob_tm')[0].getText().strip()\n",
    "    print(location)\n",
    "    print(time)\n",
    "    print(info)\n",
    "    print(weather+\"°C\")\n",
    "\n",
    "city=city+\" weather\"\n",
    "weather (city)"
   ]
  },
  {
   "cell_type": "code",
   "execution_count": 10,
   "id": "1ac1c980-1c93-48f3-be46-dc7bc421d69c",
   "metadata": {},
   "outputs": [
    {
     "name": "stdin",
     "output_type": "stream",
     "text": [
      "enter the amount:  100\n",
      "enter your currency:  inr\n",
      "enter the destination currency:  usd\n"
     ]
    },
    {
     "name": "stdout",
     "output_type": "stream",
     "text": [
      "100 INR is 1.206872837108479 USD\n"
     ]
    }
   ],
   "source": [
    "from forex_python.converter import CurrencyRates\n",
    "c = CurrencyRates()\n",
    "amount = int(input('enter the amount: '))\n",
    "currency = input('enter your currency: ').upper()\n",
    "new_currency = input('enter the destination currency: ').upper()\n",
    "print(amount, currency , \"is\", c.convert(currency , new_currency, amount), new_currency)\n",
    "#result = c.convert(currency , new_currency, amount)\n",
    "#print(result)"
   ]
  },
  {
   "cell_type": "code",
   "execution_count": 17,
   "id": "12ee2a91-414d-4428-9f39-851de8ed15fc",
   "metadata": {},
   "outputs": [
    {
     "ename": "SyntaxError",
     "evalue": "'return' outside function (522800331.py, line 51)",
     "output_type": "error",
     "traceback": [
      "\u001b[1;36m  Cell \u001b[1;32mIn[17], line 51\u001b[1;36m\u001b[0m\n\u001b[1;33m    return result\u001b[0m\n\u001b[1;37m    ^\u001b[0m\n\u001b[1;31mSyntaxError\u001b[0m\u001b[1;31m:\u001b[0m 'return' outside function\n"
     ]
    }
   ],
   "source": [
    "from bs4 import BeautifulSoup as bs\n",
    "import requests\n",
    "\n",
    "USER_AGENT = \"Mozilla/5.0 (Windows NT 10.0; Win64; x64) AppleWebKit/537.36 (KHTML, like Gecko) Chrome/94.0.4606.81 Safari/537.36\"\n",
    "# US english\n",
    "LANGUAGE = \"en-US,en;q=0.5\"\n",
    "\n",
    "def get_weather_data(url):\n",
    "    session = requests.Session()\n",
    "    session.headers['User-Agent'] = USER_AGENT\n",
    "    session.headers['Accept-Language'] = LANGUAGE\n",
    "    session.headers['Content-Language'] = LANGUAGE\n",
    "    html = session.get(url)\n",
    "        # create a new soup\n",
    "    \n",
    "    soup = bs(html.text, \"html.parser\")\n",
    "    \n",
    "    result = {}\n",
    "        # extract region\n",
    "    result['region'] = soup.find(\"div\", attrs={\"id\": \"wob_loc\"}).text\n",
    "        # extract temperature now\n",
    "    result['temp_now'] = soup.find(\"span\", attrs={\"id\": \"wob_tm\"}).text\n",
    "        # get the day and hour now\n",
    "    result['dayhour'] = soup.find(\"div\", attrs={\"id\": \"wob_dts\"}).text\n",
    "        # get the actual weather\n",
    "    result['weather_now'] = soup.find(\"span\", attrs={\"id\": \"wob_dc\"}).text\n",
    "    \n",
    "     # get the precipitation\n",
    "    result['precipitation'] = soup.find(\"span\", attrs={\"id\": \"wob_pp\"}).text\n",
    "        # get the % of humidity\n",
    "    result['humidity'] = soup.find(\"span\", attrs={\"id\": \"wob_hm\"}).text\n",
    "        # extract the wind\n",
    "    result['wind'] = soup.find(\"span\", attrs={\"id\": \"wob_ws\"}).text\n",
    "\n",
    "    # get next few days' weather\n",
    "    next_days = []\n",
    "    days = soup.find(\"div\", attrs={\"id\": \"wob_dp\"})\n",
    "for day in days.findAll(\"div\", attrs={\"class\": \"wob_df\"}):\n",
    "        # extract the name of the day\n",
    "    day_name = day.findAll(\"div\")[0].attrs['aria-label']\n",
    "        # get weather status for that day\n",
    "    weather = day.find(\"img\").attrs[\"alt\"]\n",
    "    temp = day.findAll(\"span\", {\"class\": \"wob_t\"})\n",
    "        # maximum temparature in Celsius, use temp[1].text if you want fahrenheit\n",
    "    max_temp = temp[0].text\n",
    "        # minimum temparature in Celsius, use temp[3].text if you want fahrenheit\n",
    "    min_temp = temp[2].text\n",
    "    next_days.append({\"name\": day_name, \"weather\": weather, \"max_temp\": max_temp, \"min_temp\": min_temp})\n",
    "    # append to result\n",
    "    result['next_days'] = next_days\n",
    "    return result\n",
    "\n",
    "if __name__ == \"__main__\":\n",
    "    URL = \"https://www.google.com/search?lr=lang_en&ie=UTF-8&q=weather\"\n",
    "    import argparse\n",
    "    parser = argparse.ArgumentParser(description=\"Quick Script for Extracting Weather data using Google Weather\")\n",
    "    parser.add_argument(\"region\", nargs=\"?\", help=\"\"\"Region to get weather for, must be available region.\n",
    "                                        Default is your current location determined by your IP Address\"\"\", default=\"\")\n",
    "    # parse arguments\n",
    "    args = parser.parse_args()\n",
    "    region = args.region\n",
    "    URL += region\n",
    "    # get data\n",
    "    data = get_weather_data(URL)\n",
    "\n",
    "    # print data\n",
    "    print(\"Weather for:\", data[\"region\"])\n",
    "    print(\"Now:\", data[\"dayhour\"])\n",
    "    print(f\"Temperature now: {data['temp_now']}°C\")\n",
    "    print(\"Description:\", data['weather_now'])\n",
    "    print(\"Precipitation:\", data[\"precipitation\"])\n",
    "    print(\"Humidity:\", data[\"humidity\"])\n",
    "    print(\"Wind:\", data[\"wind\"])\n",
    "    print(\"Next days:\")\n",
    "for dayweather in data[\"next_days\"]:\n",
    "    print(\"=\"*40, dayweather[\"name\"], \"=\"*40)\n",
    "    print(\"Description:\", dayweather[\"weather\"])\n",
    "    print(f\"Max temperature: {dayweather['max_temp']}°C\")\n",
    "    print(f\"Min temperature: {dayweather['min_temp']}°C\")"
   ]
  },
  {
   "cell_type": "code",
   "execution_count": 19,
   "id": "d2e6b044-5956-459a-882a-eca9c45eadde",
   "metadata": {},
   "outputs": [
    {
     "name": "stdout",
     "output_type": "stream",
     "text": [
      "Sun   Partly Cloudy        34\n",
      "Mon   Mostly Sunny         34\n",
      "Tue   Mostly Sunny         33\n",
      "Wed   Sunny                33\n",
      "Thu   Sunny                33\n",
      "Fri   Sunny                32\n",
      "Sat   Sunny                32\n",
      "Sun   Sunny                32\n"
     ]
    }
   ],
   "source": [
    "import requests\n",
    "from bs4 import BeautifulSoup\n",
    "\n",
    "\n",
    "params = {'q':'weather in Patna', 'hl': 'en'}\n",
    "headers = {'User-Agent': 'Mozilla/5.0 (X11; Ubuntu; Linux x86_64; rv:108.0) Gecko/20100101 Firefox/108.0'}\n",
    "cookies = {'CONSENT':\"YES+cb.20220419-08-p0.cs+FX+111\"}\n",
    "\n",
    "url = 'https://www.google.com/search'\n",
    "\n",
    "\n",
    "soup = BeautifulSoup(requests.get(url, params=params, headers=headers, cookies=cookies).content, 'html.parser')\n",
    "\n",
    "for t in soup.select('#wob_dp [aria-label]'):\n",
    "    how = t.find_next('img')['alt']\n",
    "    temp = t.find_next('span').get_text(strip=True)\n",
    "    print('{:<5} {:<20} {}'.format(t.text, how, temp))"
   ]
  },
  {
   "cell_type": "code",
   "execution_count": 20,
   "id": "26b52820-1f84-4501-ad9f-8e2a40ab9131",
   "metadata": {},
   "outputs": [
    {
     "data": {
      "text/plain": [
       "<span class=\"BNeawe tAd8D AP7Wnd\">New York, NY, USA</span>"
      ]
     },
     "execution_count": 20,
     "metadata": {},
     "output_type": "execute_result"
    }
   ],
   "source": [
    "import requests\n",
    "from bs4 import BeautifulSoup\n",
    "\n",
    "def get_html_content(city):\n",
    "    USER_AGENT = \"Mozilla/5.0 (X11; Linux x86_64) AppleWebKit/537.36 (KHTML, like Gecko) Chrome/44.0.2403.157 Safari/537.36\"\n",
    "    LANGUAGE = \"en-US,en;q=0.5\"\n",
    "    session = requests.Session()\n",
    "    session.headers['User-Agent'] = USER_AGENT\n",
    "    session.headers['Accept-Language'] = LANGUAGE\n",
    "    session.headers['Content-Language'] = LANGUAGE\n",
    "    city.replace(\" \", \"+\")\n",
    "    html_content = session.get(f\"https://www.google.com/search?q=weather+in+{city}\", cookies={'CONSENT':'YES+'}).text\n",
    "    return html_content\n",
    "\n",
    "html_content = get_html_content('New York City, New York, USA')\n",
    "soup = BeautifulSoup(html_content)\n",
    "\n",
    "soup.select_one('div>span>span')"
   ]
  },
  {
   "cell_type": "code",
   "execution_count": 24,
   "id": "4d905ce7-a984-4eac-88d3-e8c33cd5d989",
   "metadata": {},
   "outputs": [
    {
     "name": "stdout",
     "output_type": "stream",
     "text": [
      "enter the city name\n"
     ]
    },
    {
     "name": "stdin",
     "output_type": "stream",
     "text": [
      " Pune\n"
     ]
    },
    {
     "name": "stdout",
     "output_type": "stream",
     "text": [
      "Searching in google......\n",
      "\n"
     ]
    },
    {
     "ename": "IndexError",
     "evalue": "list index out of range",
     "output_type": "error",
     "traceback": [
      "\u001b[1;31m---------------------------------------------------------------------------\u001b[0m",
      "\u001b[1;31mIndexError\u001b[0m                                Traceback (most recent call last)",
      "Cell \u001b[1;32mIn[24], line 22\u001b[0m\n\u001b[0;32m     20\u001b[0m city\u001b[38;5;241m=\u001b[39m\u001b[38;5;28minput\u001b[39m()\n\u001b[0;32m     21\u001b[0m city\u001b[38;5;241m=\u001b[39mcity\u001b[38;5;241m+\u001b[39m\u001b[38;5;124m\"\u001b[39m\u001b[38;5;124m weather\u001b[39m\u001b[38;5;124m\"\u001b[39m\n\u001b[1;32m---> 22\u001b[0m \u001b[43mweather\u001b[49m\u001b[43m(\u001b[49m\u001b[43mcity\u001b[49m\u001b[43m)\u001b[49m\n",
      "Cell \u001b[1;32mIn[24], line 10\u001b[0m, in \u001b[0;36mweather\u001b[1;34m(city)\u001b[0m\n\u001b[0;32m      8\u001b[0m \u001b[38;5;28mprint\u001b[39m(\u001b[38;5;124m\"\u001b[39m\u001b[38;5;124mSearching in google......\u001b[39m\u001b[38;5;130;01m\\n\u001b[39;00m\u001b[38;5;124m\"\u001b[39m)\n\u001b[0;32m      9\u001b[0m soup \u001b[38;5;241m=\u001b[39m BeautifulSoup(res\u001b[38;5;241m.\u001b[39mtext,\u001b[38;5;124m'\u001b[39m\u001b[38;5;124mhtml.parser\u001b[39m\u001b[38;5;124m'\u001b[39m)   \n\u001b[1;32m---> 10\u001b[0m location \u001b[38;5;241m=\u001b[39m \u001b[43msoup\u001b[49m\u001b[38;5;241;43m.\u001b[39;49m\u001b[43mselect\u001b[49m\u001b[43m(\u001b[49m\u001b[38;5;124;43m'\u001b[39;49m\u001b[38;5;124;43m#wob_loc\u001b[39;49m\u001b[38;5;124;43m'\u001b[39;49m\u001b[43m)\u001b[49m\u001b[43m[\u001b[49m\u001b[38;5;241;43m0\u001b[39;49m\u001b[43m]\u001b[49m\u001b[38;5;241m.\u001b[39mgetText()\u001b[38;5;241m.\u001b[39mstrip()  \n\u001b[0;32m     11\u001b[0m time \u001b[38;5;241m=\u001b[39m soup\u001b[38;5;241m.\u001b[39mselect(\u001b[38;5;124m'\u001b[39m\u001b[38;5;124m#wob_dts\u001b[39m\u001b[38;5;124m'\u001b[39m)[\u001b[38;5;241m0\u001b[39m]\u001b[38;5;241m.\u001b[39mgetText()\u001b[38;5;241m.\u001b[39mstrip()       \n\u001b[0;32m     12\u001b[0m info \u001b[38;5;241m=\u001b[39m soup\u001b[38;5;241m.\u001b[39mselect(\u001b[38;5;124m'\u001b[39m\u001b[38;5;124m#wob_dc\u001b[39m\u001b[38;5;124m'\u001b[39m)[\u001b[38;5;241m0\u001b[39m]\u001b[38;5;241m.\u001b[39mgetText()\u001b[38;5;241m.\u001b[39mstrip() \n",
      "\u001b[1;31mIndexError\u001b[0m: list index out of range"
     ]
    }
   ],
   "source": [
    "from bs4 import BeautifulSoup\n",
    "import requests\n",
    "headers = {'User-Agent': 'Mozilla/5.0 (Windows NT 10.0; Win64; x64) AppleWebKit/537.36 (KHTML, like Gecko) Chrome/58.0.3029.110 Safari/537.3'}\n",
    "\n",
    "def weather(city):\n",
    "    city=city.replace(\" \",\"+\")\n",
    "    res = requests.get(f'https://www.google.com/search?q={city}&oq={city}&aqs=chrome.0.35i39l2j0l4j46j69i60.6128j1j7&sourceid=chrome&ie=UTF-8',headers=headers)\n",
    "    print(\"Searching in google......\\n\")\n",
    "    soup = BeautifulSoup(res.text,'html.parser')   \n",
    "    location = soup.select('#wob_loc')[0].getText().strip()  \n",
    "    time = soup.select('#wob_dts')[0].getText().strip()       \n",
    "    info = soup.select('#wob_dc')[0].getText().strip() \n",
    "    weather = soup.select('#wob_tm')[0].getText().strip()\n",
    "    print(location)\n",
    "    print(time)\n",
    "    print(info)\n",
    "    print(weather+\"°C\") \n",
    "\n",
    "print(\"enter the city name\")\n",
    "city=input()\n",
    "city=city+\" weather\"\n",
    "weather(city)"
   ]
  },
  {
   "cell_type": "code",
   "execution_count": 22,
   "id": "6df79673-51c2-4c8a-a9b4-49acb558d103",
   "metadata": {},
   "outputs": [],
   "source": [
    "import sys\n",
    "from tkinter import*\n",
    "import time\n",
    "\n",
    "def times():\n",
    "\n",
    "    current_time = time.strftime(\"%H:%M:%S\")\n",
    "    clock.config(text=current_time)\n",
    "    clock.after(200, times)\n",
    "\n",
    "\n",
    "root = Tk()\n",
    "root.geometry(\"500x250\")\n",
    "clock = Label(root, font=(\"times\", 50, \"bold\"), bg=\"red\")\n",
    "clock.grid(row=2, column=2, pady=25, padx=50)\n",
    "times()\n",
    "\n",
    "digi = Label(root, text=\"Digital Clock\", font=\"times 24 bold\")\n",
    "digi.grid(row=0, column=2)\n",
    "\n",
    "nota = Label(root, text=\"hours minutes seconds\", font=\"times 15 bold\")\n",
    "nota.grid(row=3, column=2)\n",
    "\n",
    "root.mainloop()"
   ]
  },
  {
   "cell_type": "code",
   "execution_count": 3,
   "id": "2159ad8c-7b0e-49bf-acf2-fbe0ab0c2f74",
   "metadata": {},
   "outputs": [],
   "source": [
    "from gtts import gTTS\n",
    "\n",
    "# Open the text file and read its contents\n",
    "with open(\"new.txt\", \"r\") as f:\n",
    "    text = f.read()\n",
    "\n",
    "# Create a gTTS object with the text and the language\n",
    "tts = gTTS(text=text, lang=\"hi\")\n",
    "\n",
    "# Save the audio file as mp3\n",
    "tts.save(\"audio1.mp3\")"
   ]
  },
  {
   "cell_type": "code",
   "execution_count": 4,
   "id": "12640c41-4679-469a-9e71-6bbb89f9aafa",
   "metadata": {},
   "outputs": [],
   "source": [
    "from gtts import gTTS\n",
    "tts = gTTS('मेरा नाम नशित है', lang='hi')\n",
    "tts.save('hello.mp3')"
   ]
  },
  {
   "cell_type": "code",
   "execution_count": null,
   "id": "6f0a6567-e73e-4de1-a419-8736ce9fa7d1",
   "metadata": {},
   "outputs": [],
   "source": []
  }
 ],
 "metadata": {
  "kernelspec": {
   "display_name": "Python 3 (ipykernel)",
   "language": "python",
   "name": "python3"
  },
  "language_info": {
   "codemirror_mode": {
    "name": "ipython",
    "version": 3
   },
   "file_extension": ".py",
   "mimetype": "text/x-python",
   "name": "python",
   "nbconvert_exporter": "python",
   "pygments_lexer": "ipython3",
   "version": "3.11.5"
  }
 },
 "nbformat": 4,
 "nbformat_minor": 5
}
