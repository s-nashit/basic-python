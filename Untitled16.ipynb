{
 "cells": [
  {
   "cell_type": "code",
   "execution_count": 5,
   "id": "871546e6",
   "metadata": {},
   "outputs": [
    {
     "name": "stdout",
     "output_type": "stream",
     "text": [
      "                                                    ITR\n",
      "ITR1  {'CreationInfo': {'SWVersionNo': 'R1', 'SWCrea...\n"
     ]
    }
   ],
   "source": [
    "import pandas as pd\n",
    "b = pd.read_json('Nashit.json')\n",
    "print(b)"
   ]
  },
  {
   "cell_type": "code",
   "execution_count": 3,
   "id": "9b80161f",
   "metadata": {},
   "outputs": [
    {
     "name": "stdout",
     "output_type": "stream",
     "text": [
      "                                                                                                                                                                                                                                                                                                                                                                                                                                                                                                                                                                                                                                                                                                                                                                                                                                                                                                                                                                                                                                                                                                                                                                                                                                                                                                                                                                                                                                                                                                                                                                                                                                                                                                                                                                                                                                                                                                                                                                                                                                                                                                                                                                                                                                                                                                                                                                                                                                                                                                                                                                                                                                                                                                                                                                                                                                                                                                                                                                                                                                                                                                                                                                                                                                                                                                                                                                                                                                                                                                                                                                                                                                                                                                                                                                                                                                                                                                                                                                                                                                                                                                                                                                                                                                                                                                                                                                                                                                                                                                                                                                                                                                                                                                                                                                                                                                                                                                                                                                                                                                                                                                                                                                                                                                                                                                                                                                                                                                                                                                                                                                                                                                                                                                                 ITR\n",
      "ITR1  {'CreationInfo': {'SWVersionNo': 'R1', 'SWCreatedBy': 'SW10012122', 'JSONCreatedBy': 'SW92202122', 'JSONCreationDate': '2021-07-05', 'Digest': '7IoLDceNdzyp72VNE+jFyVk66QqKTbSRwTGLCcNfI8U=', 'IntermediaryCity': 'PATNA'}, 'Form_ITR1': {'FormName': 'ITR-1', 'Description': 'For Indls having Income from Salary, Pension, family pension and Interest', 'AssessmentYear': '2021', 'SchemaVer': 'Ver1.1', 'FormVer': 'Ver1.1'}, 'PersonalInfo': {'AssesseeName': {'FirstName': 'NASHIT', 'SurNameOrOrgName': 'HUMAM'}, 'Address': {'ResidenceNo': 'Naogole Kothi', 'RoadOrStreet': 'Moghalpura', 'LocalityOrArea': 'Moghalpura', 'CityOrTownOrDistrict': 'PATNA', 'StateCode': '5', 'CountryCode': '91', 'PinCode': 800008, 'CountryCodeMobile': 91, 'MobileNo': 8797514075, 'EmailAddress': 's_nashit@hotmail.com'}, 'PAN': 'ADKPH2117C', 'DOB': '1984-03-08', 'EmployerCategory': 'OTH', 'AadhaarCardNo': '764360622541'}, 'FilingStatus': {'ReturnFileSec': 11, 'NewTaxRegime': 'N', 'SeventhProvisio139': 'N', 'DepAmtAggAmtExcd1CrPrYrFlg': 'N', 'IncrExpAggAmt2LkTrvFrgnCntryFlg': 'N', 'IncrExpAggAmt1LkElctrctyPrYrFlg': 'N'}, 'ITR1_IncomeDeductions': {'AllwncExemptUs10': {'TotalAllwncExemptUs10': 0}, 'OthersInc': {'OthersIncDtlsOthSrc': [{'OthSrcNatureDesc': 'SAV', 'OthSrcOthNatOfInc': '0', 'OthSrcOthAmount': 6683}, {'OthSrcNatureDesc': 'TAX', 'OthSrcOthNatOfInc': '0', 'OthSrcOthAmount': 540}, {'OthSrcNatureDesc': 'OTH', 'OthSrcOthNatOfInc': 'Interest from FD', 'OthSrcOthAmount': 158}]}, 'UsrDeductUndChapVIA': {'Section80C': 0, 'Section80CCC': 0, 'Section80CCDEmployeeOrSE': 0, 'Section80CCD1B': 0, 'Section80CCDEmployer': 0, 'Section80D': 0, 'Section80DD': 0, 'Section80DDB': 0, 'Section80E': 0, 'Section80EE': 0, 'Section80GG': 0, 'Section80GGA': 0, 'Section80GGC': 0, 'Section80U': 0, 'Section80TTA': 0, 'Section80TTB': 0, 'TotalChapVIADeductions': 0, 'Section80G': 0}, 'DeductUndChapVIA': {'Section80C': 0, 'Section80CCC': 0, 'Section80CCDEmployeeOrSE': 0, 'Section80CCD1B': 0, 'Section80CCDEmployer': 0, 'Section80D': 0, 'Section80DD': 0, 'Section80DDB': 0, 'Section80E': 0, 'Section80EE': 0, 'Section80EEA': 0, 'Section80EEB': 0, 'Section80G': 0, 'Section80GG': 0, 'Section80GGA': 0, 'Section80GGC': 0, 'Section80U': 0, 'Section80TTA': 0, 'Section80TTB': 0, 'TotalChapVIADeductions': 0}, 'ExemptIncAgriOthUs10': {'ExemptIncAgriOthUs10Total': 0}, 'GrossSalary': 408500, 'Salary': 408500, 'NetSalary': 408500, 'DeductionUs16': 50000, 'DeductionUs16ia': 50000, 'EntertainmentAlw16ii': 0, 'IncomeFromSal': 358500, 'TypeOfHP': 'L', 'GrossRentReceived': 160958, 'TaxPaidlocalAuth': 727, 'AnnualValue': 160231, 'StandardDeduction': 48069, 'TotalIncomeOfHP': 112162, 'IncomeOthSrc': 7381, 'DeductionUs57iia': 0, 'GrossTotIncome': 478043, 'TotalIncome': 478040}, 'Schedule80GGA': {'TotalDonationsUs80GGA': 0, 'TotalDonationAmtCash80GGA': 0, 'TotalDonationAmtOtherMode80GGA': 0, 'TotalEligibleDonationAmt80GGA': 0}, 'ITR1_TaxComputation': {'IntrstPay': {'IntrstPayUs234A': 0, 'IntrstPayUs234B': 0, 'IntrstPayUs234C': 0, 'LateFilingFee234F': 0}, 'TotalTaxPayable': 11402, 'Rebate87A': 11402, 'TaxPayableOnRebate': 0, 'EducationCess': 0, 'GrossTaxLiability': 0, 'Section89': 0, 'NetTaxLiability': 0, 'TotalIntrstPay': 0, 'TotTaxPlusIntrstPay': 0}, 'TaxPaid': {'TaxesPaid': {'AdvanceTax': 0, 'TDS': 32338, 'TCS': 0, 'SelfAssessmentTax': 0, 'TotalTaxesPaid': 32338}, 'BalTaxPayable': 0}, 'Refund': {'BankAccountDtls': {'AddtnlBankDetails': [{'IFSCCode': 'IOBA0001659', 'BankName': 'INDIAN OVERSEAS BANK', 'BankAccountNo': '165901000004000', 'UseForRefund': 'false'}, {'IFSCCode': 'BARB0GULZAR', 'BankName': 'BANK OF BARODA', 'BankAccountNo': '24600100013499', 'UseForRefund': 'true'}]}, 'RefundDue': 32340}, 'Schedule80G': {'Don100Percent': {'TotDon100PercentCash': 0, 'TotDon100PercentOtherMode': 0, 'TotDon100Percent': 0, 'TotEligibleDon100Percent': 0}, 'Don50PercentNoApprReqd': {'TotDon50PercentNoApprReqdCash': 0, 'TotDon50PercentNoApprReqdOtherMode': 0, 'TotDon50PercentNoApprReqd': 0, 'TotEligibleDon50Percent': 0}, 'Don100PercentApprReqd': {'TotDon100PercentApprReqdCash': 0, 'TotDon100PercentApprReqdOtherMode': 0, 'TotDon100PercentApprReqd': 0, 'TotEligibleDon100PercentApprReqd': 0}, 'Don50PercentApprReqd': {'TotDon50PercentApprReqdCash': 0, 'TotDon50PercentApprReqdOtherMode': 0, 'TotDon50PercentApprReqd': 0, 'TotEligibleDon50PercentApprReqd': 0}, 'TotalDonationsUs80GCash': 0, 'TotalDonationsUs80GOtherMode': 0, 'TotalDonationsUs80G': 0, 'TotalEligibleDonationsUs80G': 0}, 'Schedule80D': {'Sec80DSelfFamSrCtznHealth': {'SeniorCitizenFlag': 'S', 'SelfAndFamily': 0, 'SelfAndFamilySeniorCitizen': 0, 'ParentsSeniorCitizenFlag': 'P', 'Parents': 0, 'ParentsSeniorCitizen': 0, 'EligibleAmountOfDedn': 0}}, 'TDSonSalaries': {'TDSonSalary': [{'EmployerOrDeductorOrCollectDetl': {'TAN': 'RTKE02460D', 'EmployerOrDeductorOrCollecterName': 'EDUNET FOUNDATION'}, 'IncChrgSal': 408500, 'TotalTDSSal': 32338}], 'TotalTDSonSalaries': 32338}, 'TDSonOthThanSals': {'TDSonOthThanSal': [{'EmployerOrDeductorOrCollectDetl': {'TAN': 'RTKE02460D', 'EmployerOrDeductorOrCollecterName': 'EDUNET FOUNDATION'}, 'AmtForTaxDeduct': 32338, 'DeductedYr': '2020', 'TotTDSOnAmtPaid': 32338, 'ClaimOutOfTotTDSOnAmtPaid': 0}], 'TotalTDSonOthThanSals': 0}, 'ScheduleTDS3Dtls': {'TotalTDS3Details': 0}, 'ScheduleTCS': {'TotalSchTCS': 0}, 'TaxPayments': {'TotalTaxPayments': 0}, 'Verification': {'Declaration': {'AssesseeVerName': 'NASHIT HUMAM', 'FatherName': 'Late Mazahir Hussain', 'AssesseeVerPAN': 'ADKPH2117C'}, 'Capacity': 'S'}}\n"
     ]
    }
   ],
   "source": [
    "import pandas as pd\n",
    "a = pd.read_json('Nashit.json')\n",
    "print(a.to_string())"
   ]
  },
  {
   "cell_type": "code",
   "execution_count": 11,
   "id": "3eb4ee9d",
   "metadata": {},
   "outputs": [],
   "source": [
    "import json\n",
    "  \n",
    "# Opening JSON file\n",
    "f = open('Nashit.json')\n",
    "  \n",
    "# returns JSON object as \n",
    "# a dictionary\n",
    "data = json.load(f)\n",
    "  \n",
    "\n",
    "\n",
    "  \n",
    "# Closing file\n",
    "f.close()"
   ]
  },
  {
   "cell_type": "code",
   "execution_count": null,
   "id": "9abebd1d",
   "metadata": {},
   "outputs": [],
   "source": []
  }
 ],
 "metadata": {
  "kernelspec": {
   "display_name": "Python 3",
   "language": "python",
   "name": "python3"
  },
  "language_info": {
   "codemirror_mode": {
    "name": "ipython",
    "version": 3
   },
   "file_extension": ".py",
   "mimetype": "text/x-python",
   "name": "python",
   "nbconvert_exporter": "python",
   "pygments_lexer": "ipython3",
   "version": "3.8.8"
  }
 },
 "nbformat": 4,
 "nbformat_minor": 5
}
