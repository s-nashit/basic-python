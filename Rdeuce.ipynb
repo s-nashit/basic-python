{
 "cells": [
  {
   "cell_type": "code",
   "execution_count": 3,
   "id": "9eb0a5d0",
   "metadata": {},
   "outputs": [
    {
     "name": "stdout",
     "output_type": "stream",
     "text": [
      "5\n"
     ]
    }
   ],
   "source": [
    "#from functools import reduce\n",
    "#a = [2, 3, 4, 5, 6]\n",
    "#sum =reduce(lambda b,c:b if b>c else c, a)\n"
   ]
  },
  {
   "cell_type": "code",
   "execution_count": 12,
   "id": "2b12d706",
   "metadata": {},
   "outputs": [
    {
     "name": "stdout",
     "output_type": "stream",
     "text": [
      "21\n"
     ]
    }
   ],
   "source": [
    "import functools\n",
    "a = [1, 2, 5, 6, 7]\n",
    "sum = functools.reduce(lambda b,c: b+c, a)\n",
    "print(sum)"
   ]
  },
  {
   "cell_type": "code",
   "execution_count": 7,
   "id": "9db600cf",
   "metadata": {},
   "outputs": [
    {
     "name": "stdout",
     "output_type": "stream",
     "text": [
      "7\n"
     ]
    }
   ],
   "source": [
    "from functools import reduce\n",
    "a = [1, 2, 5, 6, 7]\n",
    "print(reduce(lambda b,c: b if b>c else c, a))"
   ]
  },
  {
   "cell_type": "code",
   "execution_count": 8,
   "id": "227e8a86",
   "metadata": {},
   "outputs": [
    {
     "name": "stdout",
     "output_type": "stream",
     "text": [
      "17\n"
     ]
    }
   ],
   "source": [
    "from functools import reduce\n",
    "a = [5, 2, 15, 8, 17]\n",
    "print(reduce(lambda b,c: b if b>c else c, a))"
   ]
  },
  {
   "cell_type": "code",
   "execution_count": 9,
   "id": "0fd3a1f6",
   "metadata": {},
   "outputs": [
    {
     "name": "stdout",
     "output_type": "stream",
     "text": [
      "2\n"
     ]
    }
   ],
   "source": [
    "from functools import reduce\n",
    "a = [5, 2, 15, 8, 17]\n",
    "print(reduce(lambda b,c: b if b<c else c, a))"
   ]
  },
  {
   "cell_type": "code",
   "execution_count": 13,
   "id": "e1b92527",
   "metadata": {},
   "outputs": [
    {
     "name": "stdout",
     "output_type": "stream",
     "text": [
      "20400\n"
     ]
    }
   ],
   "source": [
    "a = [5, 2, 15, 8, 17]\n",
    "print(reduce(lambda x,y:x*y, a))"
   ]
  },
  {
   "cell_type": "code",
   "execution_count": 16,
   "id": "dcb4d8cf",
   "metadata": {},
   "outputs": [
    {
     "name": "stdout",
     "output_type": "stream",
     "text": [
      "[5, 7, 22, 30, 47]\n"
     ]
    }
   ],
   "source": [
    "import itertools\n",
    "a = [5, 2, 15, 8, 17]\n",
    "print(list(itertools.accumulate(a, lambda x,y:x+y)))\n"
   ]
  },
  {
   "cell_type": "code",
   "execution_count": null,
   "id": "d9fccf00",
   "metadata": {},
   "outputs": [],
   "source": []
  }
 ],
 "metadata": {
  "kernelspec": {
   "display_name": "Python 3 (ipykernel)",
   "language": "python",
   "name": "python3"
  },
  "language_info": {
   "codemirror_mode": {
    "name": "ipython",
    "version": 3
   },
   "file_extension": ".py",
   "mimetype": "text/x-python",
   "name": "python",
   "nbconvert_exporter": "python",
   "pygments_lexer": "ipython3",
   "version": "3.10.11"
  }
 },
 "nbformat": 4,
 "nbformat_minor": 5
}
