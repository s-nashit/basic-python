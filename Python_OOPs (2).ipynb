{
 "cells": [
  {
   "cell_type": "code",
   "execution_count": 24,
   "id": "b7b063f7",
   "metadata": {},
   "outputs": [],
   "source": [
    "class Patna:\n",
    "    def __init__(self, name, age, salary):\n",
    "        self.name = name\n",
    "        self.age = age\n",
    "        self.salary = salary\n",
    "        \n",
    "    def increment(self): #method\n",
    "        self.salary = int(self.salary * 0.14 + self.salary)\n",
    "        \n",
    "    def second(self):\n",
    "        return '{} {}'.format(self.name, self.age)\n",
    "                \n",
    "  #inheritence  "
   ]
  },
  {
   "cell_type": "code",
   "execution_count": 25,
   "id": "1bd8e1fe",
   "metadata": {},
   "outputs": [],
   "source": [
    "class Allahabad:\n",
    "    def __init__(self, name, age, salary):\n",
    "        self.name = name\n",
    "        self.age = age\n",
    "        self.salary = salary\n",
    "        \n",
    "    def increment(self): #method\n",
    "        self.salary = int(self.salary * 0.14 + self.salary)"
   ]
  },
  {
   "cell_type": "code",
   "execution_count": 26,
   "id": "341b1fdf",
   "metadata": {},
   "outputs": [],
   "source": [
    "a1 = Patna('Mukesh', 18, 40000)"
   ]
  },
  {
   "cell_type": "code",
   "execution_count": 27,
   "id": "6ec7d383",
   "metadata": {},
   "outputs": [],
   "source": [
    "a2 = Patna('Damodar', 18, 38000)"
   ]
  },
  {
   "cell_type": "code",
   "execution_count": 28,
   "id": "cbe184d2",
   "metadata": {},
   "outputs": [],
   "source": [
    "a3 = Patna('Smriti', 18, 41000)"
   ]
  },
  {
   "cell_type": "code",
   "execution_count": 29,
   "id": "664289e7",
   "metadata": {},
   "outputs": [],
   "source": [
    "b1 = Allahabad('Anjali', 18, 41000)\n",
    "b2 = Allahabad('Sakshi', 18, 41000)\n",
    "b3 = Allahabad('Manorama', 18, 41000)"
   ]
  },
  {
   "cell_type": "code",
   "execution_count": 30,
   "id": "19eadca8",
   "metadata": {},
   "outputs": [
    {
     "data": {
      "text/plain": [
       "'Mukesh'"
      ]
     },
     "execution_count": 30,
     "metadata": {},
     "output_type": "execute_result"
    }
   ],
   "source": [
    "a1.name"
   ]
  },
  {
   "cell_type": "code",
   "execution_count": 11,
   "id": "ccf8c747",
   "metadata": {},
   "outputs": [
    {
     "data": {
      "text/plain": [
       "40000"
      ]
     },
     "execution_count": 11,
     "metadata": {},
     "output_type": "execute_result"
    }
   ],
   "source": [
    "a1.salary"
   ]
  },
  {
   "cell_type": "code",
   "execution_count": 12,
   "id": "92c69c0b",
   "metadata": {},
   "outputs": [],
   "source": [
    "a1.increment()"
   ]
  },
  {
   "cell_type": "code",
   "execution_count": 13,
   "id": "3b8ed5cc",
   "metadata": {},
   "outputs": [
    {
     "data": {
      "text/plain": [
       "45600"
      ]
     },
     "execution_count": 13,
     "metadata": {},
     "output_type": "execute_result"
    }
   ],
   "source": [
    "a1.salary"
   ]
  },
  {
   "cell_type": "code",
   "execution_count": 23,
   "id": "f51d3e84",
   "metadata": {},
   "outputs": [
    {
     "name": "stdout",
     "output_type": "stream",
     "text": [
      "Mukesh\n",
      "Sakshi\n",
      "Smriti\n",
      "Damodar\n"
     ]
    }
   ],
   "source": [
    "for x in (a1, b2, a3, a2):print(x.name)"
   ]
  },
  {
   "cell_type": "code",
   "execution_count": 31,
   "id": "92be08f3",
   "metadata": {},
   "outputs": [
    {
     "data": {
      "text/plain": [
       "'Mukesh 18'"
      ]
     },
     "execution_count": 31,
     "metadata": {},
     "output_type": "execute_result"
    }
   ],
   "source": [
    "a1.second()"
   ]
  },
  {
   "cell_type": "code",
   "execution_count": null,
   "id": "da56054f",
   "metadata": {},
   "outputs": [],
   "source": []
  }
 ],
 "metadata": {
  "kernelspec": {
   "display_name": "Python 3 (ipykernel)",
   "language": "python",
   "name": "python3"
  },
  "language_info": {
   "codemirror_mode": {
    "name": "ipython",
    "version": 3
   },
   "file_extension": ".py",
   "mimetype": "text/x-python",
   "name": "python",
   "nbconvert_exporter": "python",
   "pygments_lexer": "ipython3",
   "version": "3.10.11"
  }
 },
 "nbformat": 4,
 "nbformat_minor": 5
}
