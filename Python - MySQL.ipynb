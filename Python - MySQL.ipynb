{
 "cells": [
  {
   "cell_type": "code",
   "execution_count": 6,
   "id": "66b44ff7",
   "metadata": {},
   "outputs": [
    {
     "name": "stdout",
     "output_type": "stream",
     "text": [
      "<mysql.connector.connection_cext.CMySQLConnection object at 0x000002E04DDA7F10>\n"
     ]
    }
   ],
   "source": [
    "import mysql.connector\n",
    "\n",
    "mydatabase = mysql.connector.connect(host='localhost', user = 'root', password = 'nashit')\n",
    "print(mydatabase)"
   ]
  },
  {
   "cell_type": "code",
   "execution_count": 7,
   "id": "25f2c758",
   "metadata": {},
   "outputs": [
    {
     "name": "stdout",
     "output_type": "stream",
     "text": [
      "database created succefully!\n"
     ]
    }
   ],
   "source": [
    "import mysql.connector as ms\n",
    "\n",
    "conn = ms.connect(host='localhost', user = 'root', password = 'nashit')\n",
    "\n",
    "mydbs = conn.cursor()\n",
    "mydbs.execute('create database ranjit')\n",
    "print('database created succefully!')"
   ]
  },
  {
   "cell_type": "code",
   "execution_count": 9,
   "id": "209e15c7",
   "metadata": {},
   "outputs": [
    {
     "ename": "InternalError",
     "evalue": "Unread result found",
     "output_type": "error",
     "traceback": [
      "\u001b[1;31m---------------------------------------------------------------------------\u001b[0m",
      "\u001b[1;31mInternalError\u001b[0m                             Traceback (most recent call last)",
      "Cell \u001b[1;32mIn[9], line 1\u001b[0m\n\u001b[1;32m----> 1\u001b[0m \u001b[43mmydbs\u001b[49m\u001b[38;5;241;43m.\u001b[39;49m\u001b[43mexecute\u001b[49m\u001b[43m(\u001b[49m\u001b[38;5;124;43m'\u001b[39;49m\u001b[38;5;124;43mshow databases\u001b[39;49m\u001b[38;5;124;43m'\u001b[39;49m\u001b[43m)\u001b[49m\n\u001b[0;32m      2\u001b[0m \u001b[38;5;28;01mfor\u001b[39;00m x \u001b[38;5;129;01min\u001b[39;00m mydbs:\u001b[38;5;28mprint\u001b[39m(x)\n",
      "File \u001b[1;32m~\\AppData\\Local\\Programs\\Python\\Python310\\lib\\site-packages\\mysql\\connector\\cursor_cext.py:303\u001b[0m, in \u001b[0;36mCMySQLCursor.execute\u001b[1;34m(self, operation, params, multi)\u001b[0m\n\u001b[0;32m    301\u001b[0m \u001b[38;5;28;01mexcept\u001b[39;00m (ProgrammingError, \u001b[38;5;167;01mReferenceError\u001b[39;00m) \u001b[38;5;28;01mas\u001b[39;00m err:\n\u001b[0;32m    302\u001b[0m     \u001b[38;5;28;01mraise\u001b[39;00m ProgrammingError(\u001b[38;5;124m\"\u001b[39m\u001b[38;5;124mCursor is not connected\u001b[39m\u001b[38;5;124m\"\u001b[39m, \u001b[38;5;241m2055\u001b[39m) \u001b[38;5;28;01mfrom\u001b[39;00m \u001b[38;5;21;01merr\u001b[39;00m\n\u001b[1;32m--> 303\u001b[0m \u001b[38;5;28;43mself\u001b[39;49m\u001b[38;5;241;43m.\u001b[39;49m\u001b[43m_cnx\u001b[49m\u001b[38;5;241;43m.\u001b[39;49m\u001b[43mhandle_unread_result\u001b[49m\u001b[43m(\u001b[49m\u001b[43m)\u001b[49m\n\u001b[0;32m    305\u001b[0m stmt \u001b[38;5;241m=\u001b[39m \u001b[38;5;124m\"\u001b[39m\u001b[38;5;124m\"\u001b[39m\n\u001b[0;32m    306\u001b[0m \u001b[38;5;28mself\u001b[39m\u001b[38;5;241m.\u001b[39mreset()\n",
      "File \u001b[1;32m~\\AppData\\Local\\Programs\\Python\\Python310\\lib\\site-packages\\mysql\\connector\\connection_cext.py:932\u001b[0m, in \u001b[0;36mCMySQLConnection.handle_unread_result\u001b[1;34m(self, prepared)\u001b[0m\n\u001b[0;32m    930\u001b[0m     \u001b[38;5;28mself\u001b[39m\u001b[38;5;241m.\u001b[39mconsume_results()\n\u001b[0;32m    931\u001b[0m \u001b[38;5;28;01melif\u001b[39;00m unread_result:\n\u001b[1;32m--> 932\u001b[0m     \u001b[38;5;28;01mraise\u001b[39;00m InternalError(\u001b[38;5;124m\"\u001b[39m\u001b[38;5;124mUnread result found\u001b[39m\u001b[38;5;124m\"\u001b[39m)\n",
      "\u001b[1;31mInternalError\u001b[0m: Unread result found"
     ]
    }
   ],
   "source": [
    "mydbs.execute('show databases')\n",
    "for x in mydbs:print(x)"
   ]
  },
  {
   "cell_type": "code",
   "execution_count": 11,
   "id": "e0fe7361",
   "metadata": {},
   "outputs": [
    {
     "name": "stdout",
     "output_type": "stream",
     "text": [
      "('allahabad',)\n",
      "('damodar',)\n",
      "('information_schema',)\n",
      "('mukesh',)\n",
      "('mydatabase',)\n",
      "('mysql',)\n",
      "('nashit',)\n",
      "('patna',)\n",
      "('performance_schema',)\n",
      "('ranjit',)\n",
      "('sys',)\n"
     ]
    }
   ],
   "source": [
    "import mysql.connector as ms\n",
    "\n",
    "conn = ms.connect(host='localhost', user = 'root', password = 'nashit')\n",
    "\n",
    "mydbs = conn.cursor()\n",
    "mydbs.execute('show databases')\n",
    "\n",
    "for x in mydbs:print(x)"
   ]
  },
  {
   "cell_type": "code",
   "execution_count": 1,
   "id": "cfbae2d0",
   "metadata": {},
   "outputs": [],
   "source": [
    "import mysql.connector as ms\n",
    "\n",
    "conn = ms.connect(host='localhost', user = 'root', password = 'nashit', database='ranjit')\n",
    "mydbs = conn.cursor()\n",
    "mydbs.execute('show tables')\n",
    "\n",
    "for x in mydbs:print(x)"
   ]
  },
  {
   "cell_type": "code",
   "execution_count": 2,
   "id": "c0dfff03",
   "metadata": {},
   "outputs": [
    {
     "name": "stdout",
     "output_type": "stream",
     "text": [
      "table created successfully\n"
     ]
    }
   ],
   "source": [
    "import mysql.connector as ms\n",
    "\n",
    "conn = ms.connect(host='localhost', user = 'root', password = 'nashit', database='ranjit')\n",
    "mydbs = conn.cursor()\n",
    "\n",
    "mydbs.execute('create table students(roll int auto_increment primary key, name varchar(40), phone varchar(40))')\n",
    "print('table created successfully')"
   ]
  },
  {
   "cell_type": "code",
   "execution_count": 3,
   "id": "451d40b2",
   "metadata": {},
   "outputs": [],
   "source": [
    "import mysql.connector as ms\n",
    "\n",
    "conn = ms.connect(host='localhost', user = 'root', password = 'nashit', database='ranjit')\n",
    "mydbs = conn.cursor()\n",
    "\n",
    "mydbs.execute('alter table students add column email varchar(40)')"
   ]
  },
  {
   "cell_type": "code",
   "execution_count": 4,
   "id": "fea946de",
   "metadata": {},
   "outputs": [
    {
     "name": "stdout",
     "output_type": "stream",
     "text": [
      "table updated successfully\n"
     ]
    }
   ],
   "source": [
    "import mysql.connector as ms\n",
    "\n",
    "conn = ms.connect(host='localhost', user = 'root', password = 'nashit', database='ranjit')\n",
    "mydbs = conn.cursor()\n",
    "\n",
    "mydbs.execute('alter table students add column adhar varchar(12)')\n",
    "print('table updated successfully')"
   ]
  },
  {
   "cell_type": "code",
   "execution_count": 5,
   "id": "c7e8bb71",
   "metadata": {},
   "outputs": [
    {
     "name": "stdout",
     "output_type": "stream",
     "text": [
      "table created successfully\n"
     ]
    }
   ],
   "source": [
    "import mysql.connector as ms\n",
    "\n",
    "conn = ms.connect(host='localhost', user = 'root', password = 'nashit', database='ranjit')\n",
    "mydbs = conn.cursor()\n",
    "mydbs.execute('create table nsti(name varchar(40), age int, email varchar(40))')\n",
    "print('table created successfully')"
   ]
  },
  {
   "cell_type": "code",
   "execution_count": 10,
   "id": "996caede",
   "metadata": {},
   "outputs": [
    {
     "name": "stdout",
     "output_type": "stream",
     "text": [
      "data inserted successfully\n"
     ]
    }
   ],
   "source": [
    "import mysql.connector as ms\n",
    "\n",
    "conn = ms.connect(host='localhost', user = 'root', password = 'nashit', database='ranjit')\n",
    "mydbs = conn.cursor()\n",
    "a = 'insert into nsti(name, age, email) values(%s, %s, %s)'\n",
    "b = ('Nashit', 25, 'nashit@hotmail.com')\n",
    "mydbs.execute(a, b)\n",
    "conn.commit()\n",
    "\n",
    "print('data inserted successfully')"
   ]
  },
  {
   "cell_type": "code",
   "execution_count": 14,
   "id": "825acfe2",
   "metadata": {},
   "outputs": [
    {
     "name": "stdout",
     "output_type": "stream",
     "text": [
      "data inserted successfully\n"
     ]
    }
   ],
   "source": [
    "c = ('Mukesh', 18, 'mukesh@gmail.com'),('Damodar', 22, 'damodar@gmail.com'),('Ranjit', 20, 'ranjit@gmail.com')\n",
    "mydbs.executemany(a, c)\n",
    "\n",
    "conn.commit()\n",
    "print('data inserted successfully')"
   ]
  },
  {
   "cell_type": "code",
   "execution_count": 26,
   "id": "f0d643e1",
   "metadata": {},
   "outputs": [
    {
     "name": "stdout",
     "output_type": "stream",
     "text": [
      "enter your nameabcd\n",
      "enter age20\n",
      "enter your emailabc@vsc\n",
      "inserted successfully\n",
      "1 -> Enter more data \n",
      " 2 -> Exit \n",
      " Enter your Choice2\n"
     ]
    }
   ],
   "source": [
    "import mysql.connector as ms\n",
    "\n",
    "conn = ms.connect(host='localhost', user = 'root', password = 'nashit', database='ranjit')\n",
    "mydbs = conn.cursor()\n",
    "\n",
    "while True:\n",
    "    e = input('enter your name')\n",
    "    f = int(input('enter age'))\n",
    "    g = input('enter your email')\n",
    "\n",
    "    query =\"insert into nsti values('{}',{},'{}')\".format(e, f, g)\n",
    "    mydbs.execute(query)\n",
    "    conn.commit()\n",
    "    \n",
    "    print('inserted successfully')\n",
    "    \n",
    "    x = int(input('1 -> Enter more data \\n 2 -> Exit \\n Enter your Choice'))\n",
    "    if x == 2:\n",
    "        break"
   ]
  },
  {
   "cell_type": "code",
   "execution_count": 1,
   "id": "cc6ba7cc",
   "metadata": {},
   "outputs": [
    {
     "name": "stdout",
     "output_type": "stream",
     "text": [
      "data inserted successfully\n"
     ]
    }
   ],
   "source": [
    "import mysql.connector as ms\n",
    "\n",
    "conn = ms.connect(host='localhost', user = 'root', password = 'nashit', database='ranjit')\n",
    "mydbs = conn.cursor()\n",
    "a = \"insert into nsti(name, age, email) values('Sanjay', 20, 'sanjay@gmail.com')\"\n",
    "#b = ('Nashit', 25, 'nashit@hotmail.com')\n",
    "mydbs.execute(a)\n",
    "conn.commit()\n",
    "\n",
    "print('data inserted successfully')"
   ]
  },
  {
   "cell_type": "code",
   "execution_count": 2,
   "id": "a891b09e",
   "metadata": {},
   "outputs": [
    {
     "name": "stdout",
     "output_type": "stream",
     "text": [
      "data inserted successfully\n"
     ]
    }
   ],
   "source": [
    "import mysql.connector as ms\n",
    "\n",
    "conn = ms.connect(host='localhost', user = 'root', password = 'nashit', database='ranjit')\n",
    "mydbs = conn.cursor()\n",
    "#a = \"insert into nsti(name, age, email) values('Sanjay', 20, 'sanjay@gmail.com')\"\n",
    "#b = ('Nashit', 25, 'nashit@hotmail.com')\n",
    "mydbs.execute(\"insert into nsti(name, age, email) values('Shivam', 20, 'shivam@gmail.com')\")\n",
    "conn.commit()\n",
    "\n",
    "print('data inserted successfully')"
   ]
  },
  {
   "cell_type": "code",
   "execution_count": 5,
   "id": "0fa64386",
   "metadata": {},
   "outputs": [
    {
     "name": "stdout",
     "output_type": "stream",
     "text": [
      "enter your name: ambika\n",
      "enter your age: 19\n",
      "enter your email : ambika@abc.com\n",
      "data inserted successfully\n",
      "1 -> Enter More \n",
      "2-> Exit\n",
      "Enter your preference1\n",
      "enter your name: mukesh\n",
      "enter your age: 26\n",
      "enter your email : mukesh@abc.com\n",
      "data inserted successfully\n",
      "1 -> Enter More \n",
      "2-> Exit\n",
      "Enter your preference2\n"
     ]
    }
   ],
   "source": [
    "import mysql.connector as abc\n",
    "\n",
    "conn = abc.connect(host='localhost', user = 'root', password='nashit', database = 'ranjit')\n",
    "cur = conn.cursor()\n",
    "\n",
    "while True:\n",
    "    a = input('enter your name: ')\n",
    "    b = int(input('enter your age: '))\n",
    "    c = input('enter your email : ')\n",
    "\n",
    "    query = \"insert into nsti values('{}', {}, '{}')\".format(a, b, c)\n",
    "\n",
    "    cur.execute(query)\n",
    "    conn.commit()\n",
    "    print('data inserted successfully')\n",
    "    \n",
    "    d = int(input('1 -> Enter More \\n2-> Exit\\nEnter your preference'))\n",
    "    if d == 2:break"
   ]
  },
  {
   "cell_type": "code",
   "execution_count": 6,
   "id": "f5d78ccf",
   "metadata": {},
   "outputs": [
    {
     "name": "stdout",
     "output_type": "stream",
     "text": [
      "enter your name: shmshad\n",
      "enter your age: 19\n",
      "enter your email : sham@g\n",
      "data inserted successfully\n"
     ]
    }
   ],
   "source": [
    "import mysql.connector as abc\n",
    "\n",
    "conn = abc.connect(host='localhost', user = 'root', password='nashit', database = 'ranjit')\n",
    "cur = conn.cursor()\n",
    "\n",
    "\n",
    "a = input('enter your name: ')\n",
    "b = int(input('enter your age: '))\n",
    "c = input('enter your email : ')\n",
    "query = \"insert into nsti values('{}', {}, '{}')\".format(a, b, c)\n",
    "\n",
    "cur.execute(query)\n",
    "conn.commit()\n",
    "print('data inserted successfully')"
   ]
  },
  {
   "cell_type": "code",
   "execution_count": 9,
   "id": "58842273",
   "metadata": {},
   "outputs": [
    {
     "name": "stdout",
     "output_type": "stream",
     "text": [
      "enter your name: a\n",
      "enter your age: 52\n",
      "enter your email : lk\n",
      "data inserted successfully\n",
      "1-> more entries\n",
      "2-> exit\n",
      "Enter your choice: 1\n",
      "enter your name: i\n",
      "enter your age: 3\n",
      "enter your email : ihvb\n",
      "data inserted successfully\n",
      "1-> more entries\n",
      "2-> exit\n",
      "Enter your choice: 2\n"
     ]
    }
   ],
   "source": [
    "import mysql.connector as abc\n",
    "\n",
    "conn = abc.connect(host='localhost', user = 'root', password='nashit', database = 'ranjit')\n",
    "cur = conn.cursor()\n",
    "\n",
    "while True:\n",
    "    a = input('enter your name: ')\n",
    "    b = int(input('enter your age: '))\n",
    "    c = input('enter your email : ')\n",
    "\n",
    "    query = \"insert into nsti values('{}', {}, '{}')\".format(a, b, c)\n",
    "\n",
    "    cur.execute(query)\n",
    "    conn.commit()\n",
    "    print('data inserted successfully')\n",
    "    \n",
    "    d = int(input('1-> more entries\\n2-> exit\\nEnter your choice: '))\n",
    "    if d == 2:break"
   ]
  },
  {
   "cell_type": "code",
   "execution_count": 10,
   "id": "6c2a66b9",
   "metadata": {},
   "outputs": [
    {
     "name": "stdout",
     "output_type": "stream",
     "text": [
      "inserted\n"
     ]
    }
   ],
   "source": [
    "#static data\n",
    "\n",
    "import mysql.connector as abc\n",
    "\n",
    "conn = abc.connect(host='localhost', user = 'root', password='nashit', database = 'ranjit')\n",
    "cur = conn.cursor()\n",
    "\n",
    "cur.execute(\"insert into nsti values('damodar', 25, 'dam@g.com')\")\n",
    "conn.commit()\n",
    "print('inserted')"
   ]
  },
  {
   "cell_type": "code",
   "execution_count": 16,
   "id": "468dfe8c",
   "metadata": {},
   "outputs": [
    {
     "name": "stdout",
     "output_type": "stream",
     "text": [
      "inserted\n"
     ]
    }
   ],
   "source": [
    "#dynamic data\n",
    "import mysql.connector as abc\n",
    "\n",
    "conn = abc.connect(host='localhost', user = 'root', password='nashit', database = 'ranjit')\n",
    "cur = conn.cursor()\n",
    "dataset = [('nashit', '25', 'nas@g.com'), ('mukesh', 23, 'm@a.com'), ('gvg', 23, 'yfcrf')]\n",
    "cur.executemany(\"insert into nsti values(%s,%s,%s)\", dataset)\n",
    "conn.commit()\n",
    "print('inserted')"
   ]
  },
  {
   "cell_type": "code",
   "execution_count": 22,
   "id": "58786e6a",
   "metadata": {},
   "outputs": [],
   "source": [
    "query = 'select * from nsti'\n",
    "cur.execute(query)\n",
    "data = cur.fetchall()\n",
    "for x in data:print(x)"
   ]
  },
  {
   "cell_type": "code",
   "execution_count": 20,
   "id": "d8d881bd",
   "metadata": {},
   "outputs": [
    {
     "name": "stdout",
     "output_type": "stream",
     "text": [
      "('mukesh', 23, 'm@a.com')\n",
      "('mukesh', 23, 'm@a.com')\n",
      "('mukesh', 23, 'm@a.com')\n"
     ]
    }
   ],
   "source": [
    "query = \"select * from nsti where name='mukesh' \"\n",
    "cur.execute(query)\n",
    "data = cur.fetchall()\n",
    "for x in data:print(x)"
   ]
  },
  {
   "cell_type": "code",
   "execution_count": null,
   "id": "7352cfee",
   "metadata": {},
   "outputs": [],
   "source": [
    "#query = 'truncate table nsti'\n",
    "import mysql.connector as abc\n",
    "\n",
    "conn = abc.connect(host='localhost', user = 'root', password='nashit', database = 'ranjit')\n",
    "cur = conn.cursor()\n",
    "\n",
    "cur.execute('truncate table nsti')\n",
    "\n",
    "print('truncated')"
   ]
  },
  {
   "cell_type": "code",
   "execution_count": 1,
   "id": "65dba4e8",
   "metadata": {},
   "outputs": [],
   "source": [
    "import mysql.connector as abc\n",
    "\n",
    "conn = abc.connect(host='localhost', user = 'root', password='nashit', database = 'ranjit')\n",
    "cur = conn.cursor()"
   ]
  },
  {
   "cell_type": "code",
   "execution_count": 2,
   "id": "afef198c",
   "metadata": {},
   "outputs": [
    {
     "name": "stdout",
     "output_type": "stream",
     "text": [
      "inserted\n"
     ]
    }
   ],
   "source": [
    "cur.execute(\"insert into nsti values('damodar', 25, 'dam@g.com')\")\n",
    "print('inserted')"
   ]
  },
  {
   "cell_type": "code",
   "execution_count": 3,
   "id": "e2cce937",
   "metadata": {},
   "outputs": [
    {
     "name": "stdout",
     "output_type": "stream",
     "text": [
      "('damodar', 25, 'dam@g.com')\n"
     ]
    }
   ],
   "source": [
    "query = 'select * from nsti'\n",
    "cur.execute(query)\n",
    "data = cur.fetchall()\n",
    "for x in data:print(x)"
   ]
  },
  {
   "cell_type": "code",
   "execution_count": null,
   "id": "b45802c6",
   "metadata": {},
   "outputs": [],
   "source": []
  }
 ],
 "metadata": {
  "kernelspec": {
   "display_name": "Python 3 (ipykernel)",
   "language": "python",
   "name": "python3"
  },
  "language_info": {
   "codemirror_mode": {
    "name": "ipython",
    "version": 3
   },
   "file_extension": ".py",
   "mimetype": "text/x-python",
   "name": "python",
   "nbconvert_exporter": "python",
   "pygments_lexer": "ipython3",
   "version": "3.10.11"
  }
 },
 "nbformat": 4,
 "nbformat_minor": 5
}
