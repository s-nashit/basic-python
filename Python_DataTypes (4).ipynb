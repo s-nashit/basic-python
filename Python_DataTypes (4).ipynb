{
 "cells": [
  {
   "cell_type": "markdown",
   "id": "94fa6718",
   "metadata": {},
   "source": [
    "# Python Programming"
   ]
  },
  {
   "cell_type": "code",
   "execution_count": 4,
   "id": "221226c9",
   "metadata": {},
   "outputs": [
    {
     "name": "stdout",
     "output_type": "stream",
     "text": [
      "this\n"
     ]
    }
   ],
   "source": [
    "print('this')"
   ]
  },
  {
   "cell_type": "markdown",
   "id": "e4616d1e",
   "metadata": {},
   "source": [
    "Data Types in Python"
   ]
  },
  {
   "cell_type": "code",
   "execution_count": 5,
   "id": "15308238",
   "metadata": {},
   "outputs": [
    {
     "data": {
      "text/plain": [
       "int"
      ]
     },
     "execution_count": 5,
     "metadata": {},
     "output_type": "execute_result"
    }
   ],
   "source": [
    "type(1)"
   ]
  },
  {
   "cell_type": "code",
   "execution_count": 6,
   "id": "9515519d",
   "metadata": {},
   "outputs": [
    {
     "name": "stdout",
     "output_type": "stream",
     "text": [
      "<class 'int'>\n"
     ]
    }
   ],
   "source": [
    "print(type(10))"
   ]
  },
  {
   "cell_type": "code",
   "execution_count": 8,
   "id": "9d4b67d5",
   "metadata": {},
   "outputs": [
    {
     "name": "stdout",
     "output_type": "stream",
     "text": [
      "<class 'int'>\n"
     ]
    }
   ],
   "source": [
    "print(type(-367))"
   ]
  },
  {
   "cell_type": "code",
   "execution_count": 12,
   "id": "f679db83",
   "metadata": {},
   "outputs": [
    {
     "name": "stdout",
     "output_type": "stream",
     "text": [
      "<class 'float'>\n"
     ]
    }
   ],
   "source": [
    "print(type(0.2))"
   ]
  },
  {
   "cell_type": "code",
   "execution_count": 16,
   "id": "b8988c8f",
   "metadata": {},
   "outputs": [
    {
     "name": "stdout",
     "output_type": "stream",
     "text": [
      "<class 'complex'>\n"
     ]
    }
   ],
   "source": [
    "print(type(2+1j))"
   ]
  },
  {
   "cell_type": "markdown",
   "id": "7e2b5f18",
   "metadata": {},
   "source": [
    "j=√(-1); j^2 = -1; (-1)^2 = -1*-1 = 1"
   ]
  },
  {
   "cell_type": "code",
   "execution_count": 17,
   "id": "9461d8fe",
   "metadata": {},
   "outputs": [
    {
     "data": {
      "text/plain": [
       "bool"
      ]
     },
     "execution_count": 17,
     "metadata": {},
     "output_type": "execute_result"
    }
   ],
   "source": [
    "type(True)"
   ]
  },
  {
   "cell_type": "code",
   "execution_count": 21,
   "id": "75cb3708",
   "metadata": {},
   "outputs": [
    {
     "data": {
      "text/plain": [
       "bool"
      ]
     },
     "execution_count": 21,
     "metadata": {},
     "output_type": "execute_result"
    }
   ],
   "source": [
    "type(False)"
   ]
  },
  {
   "cell_type": "code",
   "execution_count": 24,
   "id": "dd044f21",
   "metadata": {},
   "outputs": [
    {
     "data": {
      "text/plain": [
       "str"
      ]
     },
     "execution_count": 24,
     "metadata": {},
     "output_type": "execute_result"
    }
   ],
   "source": [
    "type('P')"
   ]
  },
  {
   "cell_type": "code",
   "execution_count": 30,
   "id": "33ab66c1",
   "metadata": {},
   "outputs": [
    {
     "name": "stdout",
     "output_type": "stream",
     "text": [
      "'Nashit'\n"
     ]
    }
   ],
   "source": [
    "print(\"'Nashit'\")"
   ]
  },
  {
   "cell_type": "code",
   "execution_count": 31,
   "id": "761b41ca",
   "metadata": {},
   "outputs": [
    {
     "name": "stdout",
     "output_type": "stream",
     "text": [
      "Ambika\n"
     ]
    }
   ],
   "source": [
    "print('Ambika')"
   ]
  },
  {
   "cell_type": "code",
   "execution_count": 32,
   "id": "483bb8a9",
   "metadata": {},
   "outputs": [
    {
     "name": "stdout",
     "output_type": "stream",
     "text": [
      "Ambika\n"
     ]
    }
   ],
   "source": [
    "print(\"Ambika\")"
   ]
  },
  {
   "cell_type": "code",
   "execution_count": 34,
   "id": "7da6e402",
   "metadata": {},
   "outputs": [
    {
     "name": "stdout",
     "output_type": "stream",
     "text": [
      "Ambika\n"
     ]
    }
   ],
   "source": [
    "print('''Ambika''') #\"'....'\""
   ]
  },
  {
   "cell_type": "code",
   "execution_count": 35,
   "id": "cff23991",
   "metadata": {},
   "outputs": [
    {
     "name": "stdout",
     "output_type": "stream",
     "text": [
      "'Ambika'\n"
     ]
    }
   ],
   "source": [
    "print(\"'Ambika'\")"
   ]
  },
  {
   "cell_type": "code",
   "execution_count": 36,
   "id": "31794685",
   "metadata": {},
   "outputs": [
    {
     "name": "stdout",
     "output_type": "stream",
     "text": [
      "Ambika\n"
     ]
    }
   ],
   "source": [
    "print(\"\"\"Ambika\"\"\") # '...'   or \"....\""
   ]
  },
  {
   "cell_type": "code",
   "execution_count": 42,
   "id": "bc824b6e",
   "metadata": {},
   "outputs": [
    {
     "name": "stdout",
     "output_type": "stream",
     "text": [
      "45\n",
      "True\n"
     ]
    }
   ],
   "source": [
    "print(5*9)\n",
    "print(True)"
   ]
  },
  {
   "cell_type": "code",
   "execution_count": null,
   "id": "29eafda6",
   "metadata": {},
   "outputs": [],
   "source": []
  }
 ],
 "metadata": {
  "kernelspec": {
   "display_name": "Python 3 (ipykernel)",
   "language": "python",
   "name": "python3"
  },
  "language_info": {
   "codemirror_mode": {
    "name": "ipython",
    "version": 3
   },
   "file_extension": ".py",
   "mimetype": "text/x-python",
   "name": "python",
   "nbconvert_exporter": "python",
   "pygments_lexer": "ipython3",
   "version": "3.10.11"
  }
 },
 "nbformat": 4,
 "nbformat_minor": 5
}
