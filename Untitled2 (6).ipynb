{
 "cells": [
  {
   "cell_type": "code",
   "execution_count": 2,
   "id": "16b39767",
   "metadata": {},
   "outputs": [
    {
     "name": "stdout",
     "output_type": "stream",
     "text": [
      "This is Patna Nashit\n"
     ]
    }
   ],
   "source": [
    "from mukesh import welcome\n",
    "welcome('Nashit')"
   ]
  },
  {
   "cell_type": "code",
   "execution_count": 4,
   "id": "33abad7f",
   "metadata": {},
   "outputs": [
    {
     "ename": "NameError",
     "evalue": "name 'mukesh' is not defined",
     "output_type": "error",
     "traceback": [
      "\u001b[1;31m---------------------------------------------------------------------------\u001b[0m",
      "\u001b[1;31mNameError\u001b[0m                                 Traceback (most recent call last)",
      "Cell \u001b[1;32mIn[4], line 1\u001b[0m\n\u001b[1;32m----> 1\u001b[0m \u001b[43mmukesh\u001b[49m\u001b[38;5;241m.\u001b[39msum(\u001b[38;5;241m5\u001b[39m,\u001b[38;5;241m8\u001b[39m)\n",
      "\u001b[1;31mNameError\u001b[0m: name 'mukesh' is not defined"
     ]
    }
   ],
   "source": [
    "mukesh.sum(5,8)"
   ]
  },
  {
   "cell_type": "code",
   "execution_count": 5,
   "id": "e7bd44fe",
   "metadata": {},
   "outputs": [
    {
     "name": "stdout",
     "output_type": "stream",
     "text": [
      "14\n"
     ]
    }
   ],
   "source": [
    "from mukesh import *\n",
    "sum(8,6)"
   ]
  },
  {
   "cell_type": "code",
   "execution_count": 13,
   "id": "2c168c07",
   "metadata": {},
   "outputs": [
    {
     "name": "stdout",
     "output_type": "stream",
     "text": [
      "Thiiiisss is Paatanaa.\n",
      "from Calicut import Mukesh.\n"
     ]
    }
   ],
   "source": [
    "a = open('patna.txt', 'r')\n",
    "print(a.read())"
   ]
  },
  {
   "cell_type": "code",
   "execution_count": 14,
   "id": "8e4f29b0",
   "metadata": {},
   "outputs": [
    {
     "name": "stdout",
     "output_type": "stream",
     "text": [
      "def hello(a):\n",
      "\tprint('Welcome to Patna '+a)\n",
      "\n",
      "def welcome(b):\n",
      "\tprint('This is Patna '+b)\n",
      "\n",
      "def sum(c, d):\n",
      "\tprint(c+d)\n"
     ]
    }
   ],
   "source": [
    "b = open('mukesh.py', 'r')\n",
    "print(b.read())"
   ]
  },
  {
   "cell_type": "code",
   "execution_count": 15,
   "id": "e5689339",
   "metadata": {},
   "outputs": [
    {
     "name": "stdout",
     "output_type": "stream",
     "text": [
      "{\n",
      " \"cells\": [\n",
      "  {\n",
      "   \"cell_type\": \"code\",\n",
      "   \"execution_count\": 1,\n",
      "   \"id\": \"2651de6c\",\n",
      "   \"metadata\": {},\n",
      "   \"outputs\": [],\n",
      "   \"source\": [\n",
      "    \"a = 'Hello\\\\tWorld'\"\n",
      "   ]\n",
      "  },\n",
      "  {\n",
      "   \"cell_type\": \"markdown\",\n",
      "   \"id\": \"f88fca67\",\n",
      "   \"metadata\": {},\n",
      "   \"source\": [\n",
      "    \"nashit\"\n",
      "   ]\n",
      "  },\n",
      "  {\n",
      "   \"cell_type\": \"code\",\n",
      "   \"execution_count\": 2,\n",
      "   \"id\": \"2b0d609f\",\n",
      "   \"metadata\": {},\n",
      "   \"outputs\": [\n",
      "    {\n",
      "     \"name\": \"stdout\",\n",
      "     \"output_type\": \"stream\",\n",
      "     \"text\": [\n",
      "      \"Hello\\tWorld\\n\"\n",
      "     ]\n",
      "    }\n",
      "   ],\n",
      "   \"source\": [\n",
      "    \"print(a)\"\n",
      "   ]\n",
      "  },\n",
      "  {\n",
      "   \"cell_type\": \"code\",\n",
      "   \"execution_count\": 23,\n",
      "   \"id\": \"359a24a8\",\n",
      "   \"metadata\": {},\n",
      "   \"outputs\": [\n",
      "    {\n",
      "     \"name\": \"stdout\",\n",
      "     \"output_type\": \"stream\",\n",
      "     \"text\": [\n",
      "      \"Hello World\\n\"\n",
      "     ]\n",
      "    }\n",
      "   ],\n",
      "   \"source\": [\n",
      "    \"print(\\\"\\\"\\\"Hello World\\\"\\\"\\\")\\n\"\n",
      "   ]\n",
      "  },\n",
      "  {\n",
      "   \"cell_type\": \"code\",\n",
      "   \"execution_count\": 14,\n",
      "   \"id\": \"a1d6a408\",\n",
      "   \"metadata\": {},\n",
      "   \"outputs\": [\n",
      "    {\n",
      "     \"data\": {\n",
      "      \"text/plain\": [\n",
      "       \"'Hello \\\\n World'\"\n",
      "      ]\n",
      "     },\n",
      "     \"execution_count\": 14,\n",
      "     \"metadata\": {},\n",
      "     \"output_type\": \"execute_result\"\n",
      "    }\n",
      "   ],\n",
      "   \"source\": [\n",
      "    \"a\"\n",
      "   ]\n",
      "  },\n",
      "  {\n",
      "   \"cell_type\": \"code\",\n",
      "   \"execution_count\": 24,\n",
      "   \"id\": \"59b8de09\",\n",
      "   \"metadata\": {},\n",
      "   \"outputs\": [\n",
      "    {\n",
      "     \"name\": \"stdout\",\n",
      "     \"output_type\": \"stream\",\n",
      "     \"text\": [\n",
      "      \"enter8\\n\"\n",
      "     ]\n",
      "    },\n",
      "    {\n",
      "     \"data\": {\n",
      "      \"text/plain\": [\n",
      "       \"'8'\"\n",
      "      ]\n",
      "     },\n",
      "     \"execution_count\": 24,\n",
      "     \"metadata\": {},\n",
      "     \"output_type\": \"execute_result\"\n",
      "    }\n",
      "   ],\n",
      "   \"source\": [\n",
      "    \"input('enter')\"\n",
      "   ]\n",
      "  },\n",
      "  {\n",
      "   \"cell_type\": \"code\",\n",
      "   \"execution_count\": 25,\n",
      "   \"id\": \"a8781aac\",\n",
      "   \"metadata\": {},\n",
      "   \"outputs\": [],\n",
      "   \"source\": [\n",
      "    \"#str, int, float, complex, list, tuple, dict, set, bool\"\n",
      "   ]\n",
      "  },\n",
      "  {\n",
      "   \"cell_type\": \"code\",\n",
      "   \"execution_count\": 36,\n",
      "   \"id\": \"53c6f829\",\n",
      "   \"metadata\": {},\n",
      "   \"outputs\": [],\n",
      "   \"source\": [\n",
      "    \"a = {1:'Nashit', 2:'Mukesh', 3:'Damodar'}\"\n",
      "   ]\n",
      "  },\n",
      "  {\n",
      "   \"cell_type\": \"code\",\n",
      "   \"execution_count\": 37,\n",
      "   \"id\": \"d60b7008\",\n",
      "   \"metadata\": {},\n",
      "   \"outputs\": [\n",
      "    {\n",
      "     \"data\": {\n",
      "      \"text/plain\": [\n",
      "       \"'Nashit Humam'\"\n",
      "      ]\n",
      "     },\n",
      "     \"execution_count\": 37,\n",
      "     \"metadata\": {},\n",
      "     \"output_type\": \"execute_result\"\n",
      "    }\n",
      "   ],\n",
      "   \"source\": [\n",
      "    \"a = 'Nashit Humam'\\n\",\n",
      "    \"a\"\n",
      "   ]\n",
      "  },\n",
      "  {\n",
      "   \"cell_type\": \"code\",\n",
      "   \"execution_count\": 41,\n",
      "   \"id\": \"e17c0e5b\",\n",
      "   \"metadata\": {},\n",
      "   \"outputs\": [\n",
      "    {\n",
      "     \"data\": {\n",
      "      \"text/plain\": [\n",
      "       \"'Nash'\"\n",
      "      ]\n",
      "     },\n",
      "     \"execution_count\": 41,\n",
      "     \"metadata\": {},\n",
      "     \"output_type\": \"execute_result\"\n",
      "    }\n",
      "   ],\n",
      "   \"source\": [\n",
      "    \"a[0:4]\"\n",
      "   ]\n",
      "  },\n",
      "  {\n",
      "   \"cell_type\": \"code\",\n",
      "   \"execution_count\": 42,\n",
      "   \"id\": \"f4fb5a84\",\n",
      "   \"metadata\": {},\n",
      "   \"outputs\": [\n",
      "    {\n",
      "     \"name\": \"stdout\",\n",
      "     \"output_type\": \"stream\",\n",
      "     \"text\": [\n",
      "      \"N\\n\",\n",
      "      \"a\\n\",\n",
      "      \"s\\n\",\n",
      "      \"h\\n\",\n",
      "      \"i\\n\",\n",
      "      \"t\\n\",\n",
      "      \" \\n\",\n",
      "      \"H\\n\",\n",
      "      \"u\\n\",\n",
      "      \"m\\n\",\n",
      "      \"a\\n\",\n",
      "      \"m\\n\"\n",
      "     ]\n",
      "    }\n",
      "   ],\n",
      "   \"source\": [\n",
      "    \"for i in a:print(i)\"\n",
      "   ]\n",
      "  },\n",
      "  {\n",
      "   \"cell_type\": \"code\",\n",
      "   \"execution_count\": 46,\n",
      "   \"id\": \"c28637ae\",\n",
      "   \"metadata\": {},\n",
      "   \"outputs\": [\n",
      "    {\n",
      "     \"data\": {\n",
      "      \"text/plain\": [\n",
      "       \"14\"\n",
      "      ]\n",
      "     },\n",
      "     \"execution_count\": 46,\n",
      "     \"metadata\": {},\n",
      "     \"output_type\": \"execute_result\"\n",
      "    }\n",
      "   ],\n",
      "   \"source\": [\n",
      "    \"len('This is Nashit')\"\n",
      "   ]\n",
      "  },\n",
      "  {\n",
      "   \"cell_type\": \"code\",\n",
      "   \"execution_count\": 51,\n",
      "   \"id\": \"020951c2\",\n",
      "   \"metadata\": {},\n",
      "   \"outputs\": [\n",
      "    {\n",
      "     \"name\": \"stdout\",\n",
      "     \"output_type\": \"stream\",\n",
      "     \"text\": [\n",
      "      \"False\\n\"\n",
      "     ]\n",
      "    }\n",
      "   ],\n",
      "   \"source\": [\n",
      "    \"#check substring \\n\",\n",
      "    \"b='This is Nashit'\\n\",\n",
      "    \"print('is' not in b)\"\n",
      "   ]\n",
      "  },\n",
      "  {\n",
      "   \"cell_type\": \"code\",\n",
      "   \"execution_count\": 56,\n",
      "   \"id\": \"4fa1fdb4\",\n",
      "   \"metadata\": {},\n",
      "   \"outputs\": [\n",
      "    {\n",
      "     \"data\": {\n",
      "      \"text/plain\": [\n",
      "       \"'ashi'\"\n",
      "      ]\n",
      "     },\n",
      "     \"execution_count\": 56,\n",
      "     \"metadata\": {},\n",
      "     \"output_type\": \"execute_result\"\n",
      "    }\n",
      "   ],\n",
      "   \"source\": [\n",
      "    \"b[-5:-1]\"\n",
      "   ]\n",
      "  },\n",
      "  {\n",
      "   \"cell_type\": \"code\",\n",
      "   \"execution_count\": 57,\n",
      "   \"id\": \"d972f84e\",\n",
      "   \"metadata\": {},\n",
      "   \"outputs\": [\n",
      "    {\n",
      "     \"data\": {\n",
      "      \"text/plain\": [\n",
      "       \"'THIS IS NASHIT'\"\n",
      "      ]\n",
      "     },\n",
      "     \"execution_count\": 57,\n",
      "     \"metadata\": {},\n",
      "     \"output_type\": \"execute_result\"\n",
      "    }\n",
      "   ],\n",
      "   \"source\": [\n",
      "    \"b.upper()\"\n",
      "   ]\n",
      "  },\n",
      "  {\n",
      "   \"cell_type\": \"code\",\n",
      "   \"execution_count\": 58,\n",
      "   \"id\": \"de5d31de\",\n",
      "   \"metadata\": {},\n",
      "   \"outputs\": [\n",
      "    {\n",
      "     \"data\": {\n",
      "      \"text/plain\": [\n",
      "       \"'this is nashit'\"\n",
      "      ]\n",
      "     },\n",
      "     \"execution_count\": 58,\n",
      "     \"metadata\": {},\n",
      "     \"output_type\": \"execute_result\"\n",
      "    }\n",
      "   ],\n",
      "   \"source\": [\n",
      "    \"b.lower()\"\n",
      "   ]\n",
      "  },\n",
      "  {\n",
      "   \"cell_type\": \"code\",\n",
      "   \"execution_count\": 67,\n",
      "   \"id\": \"646079f9\",\n",
      "   \"metadata\": {},\n",
      "   \"outputs\": [\n",
      "    {\n",
      "     \"data\": {\n",
      "      \"text/plain\": [\n",
      "       \"'this is nasshit'\"\n",
      "      ]\n",
      "     },\n",
      "     \"execution_count\": 67,\n",
      "     \"metadata\": {},\n",
      "     \"output_type\": \"execute_result\"\n",
      "    }\n",
      "   ],\n",
      "   \"source\": [\n",
      "    \"b = 'this is nasshit'\\n\",\n",
      "    \"b\"\n",
      "   ]\n",
      "  },\n",
      "  {\n",
      "   \"cell_type\": \"code\",\n",
      "   \"execution_count\": 68,\n",
      "   \"id\": \"a0dd15ca\",\n",
      "   \"metadata\": {},\n",
      "   \"outputs\": [\n",
      "    {\n",
      "     \"data\": {\n",
      "      \"text/plain\": [\n",
      "       \"'this is nasshit'\"\n",
      "      ]\n",
      "     },\n",
      "     \"execution_count\": 68,\n",
      "     \"metadata\": {},\n",
      "     \"output_type\": \"execute_result\"\n",
      "    }\n",
      "   ],\n",
      "   \"source\": [\n",
      "    \"b.strip()\"\n",
      "   ]\n",
      "  },\n",
      "  {\n",
      "   \"cell_type\": \"raw\",\n",
      "   \"id\": \"bded814d\",\n",
      "   \"metadata\": {},\n",
      "   \"source\": [\n",
      "    \"b = 'This is Nashit'\\n\",\n",
      "    \"print(b.replace('t', '8'))\"\n",
      "   ]\n",
      "  },\n",
      "  {\n",
      "   \"cell_type\": \"code\",\n",
      "   \"execution_count\": 2,\n",
      "   \"id\": \"afc175bd\",\n",
      "   \"metadata\": {},\n",
      "   \"outputs\": [\n",
      "    {\n",
      "     \"ename\": \"NameError\",\n",
      "     \"evalue\": \"name 'e' is not defined\",\n",
      "     \"output_type\": \"error\",\n",
      "     \"traceback\": [\n",
      "      \"\\u001b[1;31m---------------------------------------------------------------------------\\u001b[0m\",\n",
      "      \"\\u001b[1;31mNameError\\u001b[0m                                 Traceback (most recent call last)\",\n",
      "      \"Cell \\u001b[1;32mIn[2], line 1\\u001b[0m\\n\\u001b[1;32m----> 1\\u001b[0m \\u001b[38;5;28mprint\\u001b[39m(\\u001b[43me\\u001b[49m)\\n\",\n",
      "      \"\\u001b[1;31mNameError\\u001b[0m: name 'e' is not defined\"\n",
      "     ]\n",
      "    }\n",
      "   ],\n",
      "   \"source\": [\n",
      "    \"print(e)\"\n",
      "   ]\n",
      "  },\n",
      "  {\n",
      "   \"cell_type\": \"code\",\n",
      "   \"execution_count\": null,\n",
      "   \"id\": \"4ed3ed80\",\n",
      "   \"metadata\": {},\n",
      "   \"outputs\": [],\n",
      "   \"source\": []\n",
      "  }\n",
      " ],\n",
      " \"metadata\": {\n",
      "  \"kernelspec\": {\n",
      "   \"display_name\": \"Python 3 (ipykernel)\",\n",
      "   \"language\": \"python\",\n",
      "   \"name\": \"python3\"\n",
      "  },\n",
      "  \"language_info\": {\n",
      "   \"codemirror_mode\": {\n",
      "    \"name\": \"ipython\",\n",
      "    \"version\": 3\n",
      "   },\n",
      "   \"file_extension\": \".py\",\n",
      "   \"mimetype\": \"text/x-python\",\n",
      "   \"name\": \"python\",\n",
      "   \"nbconvert_exporter\": \"python\",\n",
      "   \"pygments_lexer\": \"ipython3\",\n",
      "   \"version\": \"3.10.11\"\n",
      "  }\n",
      " },\n",
      " \"nbformat\": 4,\n",
      " \"nbformat_minor\": 5\n",
      "}\n",
      "\n"
     ]
    }
   ],
   "source": [
    "c = open('revision.ipynb', 'r')\n",
    "print(c.read())"
   ]
  },
  {
   "cell_type": "code",
   "execution_count": 16,
   "id": "18d953b3",
   "metadata": {},
   "outputs": [
    {
     "name": "stdout",
     "output_type": "stream",
     "text": [
      "\n"
     ]
    }
   ],
   "source": [
    "print(a.read())"
   ]
  },
  {
   "cell_type": "code",
   "execution_count": 24,
   "id": "e7758251",
   "metadata": {},
   "outputs": [
    {
     "name": "stdout",
     "output_type": "stream",
     "text": [
      "Thiiiisss is Paatanaa.\n",
      "\n",
      "from Calicut import Mukesh.\n"
     ]
    }
   ],
   "source": [
    "a = open('patna.txt', 'r')\n",
    "print(a.readline())\n",
    "print(a.readline())"
   ]
  },
  {
   "cell_type": "code",
   "execution_count": 25,
   "id": "cc133e86",
   "metadata": {},
   "outputs": [],
   "source": [
    "a.close()"
   ]
  },
  {
   "cell_type": "code",
   "execution_count": 26,
   "id": "d1e70c81",
   "metadata": {},
   "outputs": [],
   "source": [
    "b.close()"
   ]
  },
  {
   "cell_type": "code",
   "execution_count": 27,
   "id": "738c5194",
   "metadata": {},
   "outputs": [],
   "source": [
    "c.close()"
   ]
  },
  {
   "cell_type": "code",
   "execution_count": 28,
   "id": "3998c07c",
   "metadata": {},
   "outputs": [],
   "source": [
    "d = open('kanpur.docx', 'w')\n",
    "d.write('welocme to kanpur.')\n",
    "d.close()"
   ]
  },
  {
   "cell_type": "code",
   "execution_count": 29,
   "id": "5626a262",
   "metadata": {},
   "outputs": [
    {
     "name": "stdout",
     "output_type": "stream",
     "text": [
      "\n"
     ]
    }
   ],
   "source": [
    "e = open('kanpur.docx', 'w+')\n",
    "print(e.read())"
   ]
  },
  {
   "cell_type": "code",
   "execution_count": 30,
   "id": "8ab43903",
   "metadata": {},
   "outputs": [
    {
     "data": {
      "text/plain": [
       "<_io.TextIOWrapper name='kanpur.pptx' mode='w+' encoding='cp1252'>"
      ]
     },
     "execution_count": 30,
     "metadata": {},
     "output_type": "execute_result"
    }
   ],
   "source": [
    "open('kanpur.pptx', 'w+')"
   ]
  },
  {
   "cell_type": "code",
   "execution_count": 31,
   "id": "9960dd8a",
   "metadata": {},
   "outputs": [
    {
     "data": {
      "text/plain": [
       "<_io.TextIOWrapper name='kanpur.py' mode='w+' encoding='cp1252'>"
      ]
     },
     "execution_count": 31,
     "metadata": {},
     "output_type": "execute_result"
    }
   ],
   "source": [
    "open('kanpur.py', 'w+')"
   ]
  },
  {
   "cell_type": "code",
   "execution_count": null,
   "id": "d6237d28",
   "metadata": {},
   "outputs": [],
   "source": []
  }
 ],
 "metadata": {
  "kernelspec": {
   "display_name": "Python 3 (ipykernel)",
   "language": "python",
   "name": "python3"
  },
  "language_info": {
   "codemirror_mode": {
    "name": "ipython",
    "version": 3
   },
   "file_extension": ".py",
   "mimetype": "text/x-python",
   "name": "python",
   "nbconvert_exporter": "python",
   "pygments_lexer": "ipython3",
   "version": "3.10.11"
  }
 },
 "nbformat": 4,
 "nbformat_minor": 5
}
