{
 "cells": [
  {
   "cell_type": "code",
   "execution_count": 4,
   "id": "e4d35bf1",
   "metadata": {},
   "outputs": [
    {
     "name": "stdout",
     "output_type": "stream",
     "text": [
      "Th/ts /ts Nash/tt\n"
     ]
    }
   ],
   "source": [
    "b = 'This is Nashit'\n",
    "print(b.replace('i', '/t'))"
   ]
  },
  {
   "cell_type": "code",
   "execution_count": 5,
   "id": "fc8ab897",
   "metadata": {},
   "outputs": [
    {
     "data": {
      "text/plain": [
       "'Mukesh is 20'"
      ]
     },
     "execution_count": 5,
     "metadata": {},
     "output_type": "execute_result"
    }
   ],
   "source": [
    "a = 20\n",
    "b = 'Mukesh is {}'.format(a)\n",
    "b"
   ]
  },
  {
   "cell_type": "code",
   "execution_count": 6,
   "id": "57dfa577",
   "metadata": {},
   "outputs": [
    {
     "data": {
      "text/plain": [
       "'Mukesh is 19'"
      ]
     },
     "execution_count": 6,
     "metadata": {},
     "output_type": "execute_result"
    }
   ],
   "source": [
    "'Mukesh is {}'.format(19)"
   ]
  },
  {
   "cell_type": "code",
   "execution_count": 7,
   "id": "d53b8d51",
   "metadata": {},
   "outputs": [
    {
     "name": "stdout",
     "output_type": "stream",
     "text": [
      "enter age80\n"
     ]
    },
    {
     "data": {
      "text/plain": [
       "'Muklesh is 80'"
      ]
     },
     "execution_count": 7,
     "metadata": {},
     "output_type": "execute_result"
    }
   ],
   "source": [
    "a = input('enter age')\n",
    "'Muklesh is {}'.format(a)"
   ]
  },
  {
   "cell_type": "code",
   "execution_count": 8,
   "id": "2e08d2e8",
   "metadata": {},
   "outputs": [
    {
     "data": {
      "text/plain": [
       "'Mukesh is 19. Damodar is 20. Shrey is 20. Ranjit is 21'"
      ]
     },
     "execution_count": 8,
     "metadata": {},
     "output_type": "execute_result"
    }
   ],
   "source": [
    "'Mukesh is {}. Damodar is {}. Shrey is {}. Ranjit is {}'.format(19, 20, 20, 21)"
   ]
  },
  {
   "cell_type": "code",
   "execution_count": 10,
   "id": "cfe75574",
   "metadata": {},
   "outputs": [
    {
     "name": "stdout",
     "output_type": "stream",
     "text": [
      "N̲a̲s̲h̲i̲t̲ \n"
     ]
    }
   ],
   "source": [
    "a = 'Nashit '\n",
    "print('\\u0332'.join(a))"
   ]
  },
  {
   "cell_type": "code",
   "execution_count": 18,
   "id": "401ceae7",
   "metadata": {},
   "outputs": [
    {
     "name": "stdout",
     "output_type": "stream",
     "text": [
      "i\bs mukesh\n"
     ]
    }
   ],
   "source": [
    "#Escape\n",
    "print('i\\bs mukesh')"
   ]
  },
  {
   "cell_type": "code",
   "execution_count": 21,
   "id": "4f564788",
   "metadata": {},
   "outputs": [
    {
     "name": "stdout",
     "output_type": "stream",
     "text": [
      "hello mukesh\n"
     ]
    }
   ],
   "source": [
    "print('hello','mukesh')"
   ]
  },
  {
   "cell_type": "code",
   "execution_count": 29,
   "id": "ee8739b3",
   "metadata": {},
   "outputs": [
    {
     "name": "stdout",
     "output_type": "stream",
     "text": [
      "hello\n",
      "hello\n",
      "hello\n",
      "hello\n",
      "hello\n",
      "\n"
     ]
    }
   ],
   "source": [
    "print('hello\\n'*5)"
   ]
  },
  {
   "cell_type": "code",
   "execution_count": 27,
   "id": "cc8102ac",
   "metadata": {},
   "outputs": [
    {
     "data": {
      "text/plain": [
       "'hello\\n wo\\t rld'"
      ]
     },
     "execution_count": 27,
     "metadata": {},
     "output_type": "execute_result"
    }
   ],
   "source": [
    "\n",
    "a = ('hello\\n wo\\t rld')\n",
    "a"
   ]
  },
  {
   "cell_type": "code",
   "execution_count": 38,
   "id": "975d258d",
   "metadata": {},
   "outputs": [
    {
     "name": "stdout",
     "output_type": "stream",
     "text": [
      "he\\tllo\\n nas\\thit\n"
     ]
    }
   ],
   "source": [
    "print(R'he\\tllo\\n nas\\thit')\n"
   ]
  },
  {
   "cell_type": "code",
   "execution_count": 50,
   "id": "8544c5ab",
   "metadata": {},
   "outputs": [
    {
     "name": "stdout",
     "output_type": "stream",
     "text": [
      "my age is 19\n",
      "my name is nashit\n"
     ]
    }
   ],
   "source": [
    "#placeholders\n",
    "#standards (i -int, s-str)\n",
    "print('my age is %i' %(19))\n",
    "print('my name is %s' %('nashit'))"
   ]
  },
  {
   "cell_type": "code",
   "execution_count": 51,
   "id": "806f12cc",
   "metadata": {},
   "outputs": [
    {
     "name": "stdout",
     "output_type": "stream",
     "text": [
      "my name is Nashit, my age is 25, i belong to Patna\n"
     ]
    }
   ],
   "source": [
    "print('my name is %s, my age is %i, i belong to %s' %('Nashit', 25, 'Patna'))"
   ]
  },
  {
   "cell_type": "code",
   "execution_count": 52,
   "id": "bf330c60",
   "metadata": {},
   "outputs": [
    {
     "name": "stdout",
     "output_type": "stream",
     "text": [
      "enter nameMukesh\n",
      "enter age18\n",
      "enter cityPatna\n",
      "my name is Mukesh, my age is 18, i belong to Patna\n"
     ]
    }
   ],
   "source": [
    "a = input('enter name')\n",
    "b = int(input('enter age'))\n",
    "c = input('enter city')\n",
    "\n",
    "print('my name is %s, my age is %i, i belong to %s' %(a,b,c))"
   ]
  },
  {
   "cell_type": "code",
   "execution_count": 59,
   "id": "352b41da",
   "metadata": {
    "scrolled": true
   },
   "outputs": [
    {
     "name": "stdout",
     "output_type": "stream",
     "text": [
      "my name is nashit\n"
     ]
    }
   ],
   "source": [
    "#F-strings\n",
    "a = 'nashit'\n",
    "print(f'my name is {a}')"
   ]
  },
  {
   "cell_type": "code",
   "execution_count": 3,
   "id": "3cf753e8",
   "metadata": {},
   "outputs": [
    {
     "name": "stdout",
     "output_type": "stream",
     "text": [
      "this is nashit \\ hello\n"
     ]
    }
   ],
   "source": [
    "print('this is nashit \\\\ hello')"
   ]
  },
  {
   "cell_type": "code",
   "execution_count": 8,
   "id": "46fd5fdc",
   "metadata": {},
   "outputs": [
    {
     "name": "stdout",
     "output_type": "stream",
     "text": [
      "it\"s nashit\n"
     ]
    }
   ],
   "source": [
    "print(\"it\\\"s nashit\")"
   ]
  },
  {
   "cell_type": "code",
   "execution_count": 9,
   "id": "e231d2e6",
   "metadata": {},
   "outputs": [
    {
     "name": "stdout",
     "output_type": "stream",
     "text": [
      "\u0007\n"
     ]
    }
   ],
   "source": [
    "print('\\a')"
   ]
  },
  {
   "cell_type": "code",
   "execution_count": 11,
   "id": "77040bec",
   "metadata": {},
   "outputs": [
    {
     "name": "stdout",
     "output_type": "stream",
     "text": [
      "nashitt\b\n"
     ]
    }
   ],
   "source": [
    "print('nashitt\\b')"
   ]
  },
  {
   "cell_type": "code",
   "execution_count": 16,
   "id": "3818c359",
   "metadata": {},
   "outputs": [
    {
     "name": "stdout",
     "output_type": "stream",
     "text": [
      "hello \f",
      " nashit\n"
     ]
    }
   ],
   "source": [
    "print('hello \\f nashit')"
   ]
  },
  {
   "cell_type": "code",
   "execution_count": 22,
   "id": "324cad71",
   "metadata": {},
   "outputs": [
    {
     "name": "stdout",
     "output_type": "stream",
     "text": [
      "hello \r",
      " nashit\r",
      "    mukesh\n"
     ]
    }
   ],
   "source": [
    "print('hello \\r nashit\\r    mukesh')"
   ]
  },
  {
   "cell_type": "code",
   "execution_count": 24,
   "id": "f7341f2b",
   "metadata": {},
   "outputs": [
    {
     "name": "stdout",
     "output_type": "stream",
     "text": [
      "nashit\u000b",
      "mukesh\n"
     ]
    }
   ],
   "source": [
    "print('nashit\\vmukesh')"
   ]
  },
  {
   "cell_type": "code",
   "execution_count": 27,
   "id": "1e91c286",
   "metadata": {},
   "outputs": [
    {
     "name": "stdout",
     "output_type": "stream",
     "text": [
      "H\n"
     ]
    }
   ],
   "source": [
    "print('\\110')"
   ]
  },
  {
   "cell_type": "code",
   "execution_count": 28,
   "id": "57b4fccd",
   "metadata": {},
   "outputs": [
    {
     "name": "stdout",
     "output_type": "stream",
     "text": [
      "M\n"
     ]
    }
   ],
   "source": [
    "print('\\115')"
   ]
  },
  {
   "cell_type": "code",
   "execution_count": 29,
   "id": "3c46a9ff",
   "metadata": {},
   "outputs": [
    {
     "name": "stdout",
     "output_type": "stream",
     "text": [
      "~\n"
     ]
    }
   ],
   "source": [
    "print('\\x7e')"
   ]
  },
  {
   "cell_type": "code",
   "execution_count": 30,
   "id": "924420ff",
   "metadata": {},
   "outputs": [
    {
     "name": "stdout",
     "output_type": "stream",
     "text": [
      "y\n"
     ]
    }
   ],
   "source": [
    "print('\\x79')"
   ]
  },
  {
   "cell_type": "code",
   "execution_count": 44,
   "id": "0e040fc6",
   "metadata": {},
   "outputs": [],
   "source": [
    "a ='mUkesH  Is my name.'\n",
    "b = a.casefold()"
   ]
  },
  {
   "cell_type": "code",
   "execution_count": 45,
   "id": "7b859de9",
   "metadata": {},
   "outputs": [
    {
     "data": {
      "text/plain": [
       "3"
      ]
     },
     "execution_count": 45,
     "metadata": {},
     "output_type": "execute_result"
    }
   ],
   "source": [
    "a.count('m')"
   ]
  },
  {
   "cell_type": "code",
   "execution_count": 47,
   "id": "482fba59",
   "metadata": {},
   "outputs": [
    {
     "data": {
      "text/plain": [
       "'mukesh  is my name.'"
      ]
     },
     "execution_count": 47,
     "metadata": {},
     "output_type": "execute_result"
    }
   ],
   "source": [
    "b"
   ]
  },
  {
   "cell_type": "code",
   "execution_count": 49,
   "id": "58ef4376",
   "metadata": {},
   "outputs": [
    {
     "data": {
      "text/plain": [
       "0"
      ]
     },
     "execution_count": 49,
     "metadata": {},
     "output_type": "execute_result"
    }
   ],
   "source": [
    "b.index('m')"
   ]
  },
  {
   "cell_type": "code",
   "execution_count": 51,
   "id": "fe4d7e2a",
   "metadata": {},
   "outputs": [
    {
     "name": "stdout",
     "output_type": "stream",
     "text": [
      "<re.Match object; span=(8, 10), match='is'>\n"
     ]
    }
   ],
   "source": [
    "import re\n",
    "a = 'my name is mukesh'\n",
    "print(re.search('is', a))"
   ]
  },
  {
   "cell_type": "code",
   "execution_count": 54,
   "id": "77d30a26",
   "metadata": {},
   "outputs": [],
   "source": [
    "a = ('In a significant move, Union Home Minister Amit Shah will on Monday present the Registration of Births and Deaths  Bill, 2023 in the Lok Sabha. The bill seeks to amend the existing Registration of Births and Deaths Act, 1969, aiming to garner the Houses attention and secure its passage.The Registration of Births and Deaths Act was introduced in 1969 and is a straightforward legislation designed to facilitate the registration of births and deaths across the nation.')"
   ]
  },
  {
   "cell_type": "code",
   "execution_count": 58,
   "id": "9e5a7d59",
   "metadata": {},
   "outputs": [
    {
     "data": {
      "text/plain": [
       "[]"
      ]
     },
     "execution_count": 58,
     "metadata": {},
     "output_type": "execute_result"
    }
   ],
   "source": [
    "import re\n",
    "re.findall('Mukesh',a)"
   ]
  },
  {
   "cell_type": "code",
   "execution_count": 60,
   "id": "e534f0e0",
   "metadata": {},
   "outputs": [
    {
     "data": {
      "text/plain": [
       "<re.Match object; span=(26, 28), match='on'>"
      ]
     },
     "execution_count": 60,
     "metadata": {},
     "output_type": "execute_result"
    }
   ],
   "source": [
    "re.search('on', a)"
   ]
  },
  {
   "cell_type": "code",
   "execution_count": 61,
   "id": "629d3eae",
   "metadata": {},
   "outputs": [
    {
     "data": {
      "text/plain": [
       "['In a significant move',\n",
       " ' Union Home Minister Amit Shah will on Monday present the Registration of Births and Deaths  Bill',\n",
       " ' 2023 in the Lok Sabha. The bill seeks to amend the existing Registration of Births and Deaths Act',\n",
       " ' 1969',\n",
       " ' aiming to garner the Houses attention and secure its passage.The Registration of Births and Deaths Act was introduced in 1969 and is a straightforward legislation designed to facilitate the registration of births and deaths across the nation.']"
      ]
     },
     "execution_count": 61,
     "metadata": {},
     "output_type": "execute_result"
    }
   ],
   "source": [
    "re.split(',', a)"
   ]
  },
  {
   "cell_type": "code",
   "execution_count": 75,
   "id": "83dd5a73",
   "metadata": {},
   "outputs": [],
   "source": [
    "b = 'The ; Registration ; of Births; and Deaths; Act $ was introduced, in 1969; and, is a straightforw.'"
   ]
  },
  {
   "cell_type": "code",
   "execution_count": 76,
   "id": "3f3b630e",
   "metadata": {},
   "outputs": [
    {
     "data": {
      "text/plain": [
       "['The ',\n",
       " ' Registration ',\n",
       " ' of Births',\n",
       " ' and Deaths',\n",
       " ' Act $ was introduced, in 1969',\n",
       " ' and, is a straightforw.']"
      ]
     },
     "execution_count": 76,
     "metadata": {},
     "output_type": "execute_result"
    }
   ],
   "source": [
    "re.split(';', b)"
   ]
  },
  {
   "cell_type": "code",
   "execution_count": 84,
   "id": "c96d0232",
   "metadata": {},
   "outputs": [
    {
     "data": {
      "text/plain": [
       "8"
      ]
     },
     "execution_count": 84,
     "metadata": {},
     "output_type": "execute_result"
    }
   ],
   "source": [
    "#Multidimensional List\n",
    "c = [[8, 9, 5, 4], [1,5, 8, 7]]\n",
    "c[1][2]"
   ]
  },
  {
   "cell_type": "code",
   "execution_count": 79,
   "id": "c724e720",
   "metadata": {},
   "outputs": [
    {
     "data": {
      "text/plain": [
       "9"
      ]
     },
     "execution_count": 79,
     "metadata": {},
     "output_type": "execute_result"
    }
   ],
   "source": [
    "d = [8, 9, 5, 4]\n",
    "d[1]"
   ]
  },
  {
   "cell_type": "code",
   "execution_count": 89,
   "id": "07077015",
   "metadata": {},
   "outputs": [],
   "source": [
    "e = [[[1,5, 3], [2, 5, 4]], [[2, 8, 6], [7, 84, 12]], [[45, 56, 12], [59, 23]] ]"
   ]
  },
  {
   "cell_type": "code",
   "execution_count": 90,
   "id": "9f0b3d75",
   "metadata": {},
   "outputs": [
    {
     "data": {
      "text/plain": [
       "[1, 5, 3]"
      ]
     },
     "execution_count": 90,
     "metadata": {},
     "output_type": "execute_result"
    }
   ],
   "source": [
    "e[0][0]"
   ]
  },
  {
   "cell_type": "code",
   "execution_count": 93,
   "id": "4279e15c",
   "metadata": {},
   "outputs": [
    {
     "data": {
      "text/plain": [
       "84"
      ]
     },
     "execution_count": 93,
     "metadata": {},
     "output_type": "execute_result"
    }
   ],
   "source": [
    "e[1][1][1]"
   ]
  },
  {
   "cell_type": "code",
   "execution_count": 1,
   "id": "4f136f48",
   "metadata": {},
   "outputs": [
    {
     "name": "stdout",
     "output_type": "stream",
     "text": [
      "{'key1': 'value1', 'key2': 'value2'}\n"
     ]
    }
   ],
   "source": [
    "a = {'key1':'value1', 'key2':'value2'}\n",
    "print(a)"
   ]
  },
  {
   "cell_type": "code",
   "execution_count": 2,
   "id": "3431f1f8",
   "metadata": {},
   "outputs": [
    {
     "name": "stdout",
     "output_type": "stream",
     "text": [
      "{1: 'Mukesh', 2: 'Ranjit', 3: 'Tannu'}\n"
     ]
    }
   ],
   "source": [
    "a = {1:'Mukesh', 2:'Ranjit', 3:'Tannu'}\n",
    "print(a)"
   ]
  },
  {
   "cell_type": "code",
   "execution_count": 10,
   "id": "1966b22b",
   "metadata": {},
   "outputs": [
    {
     "name": "stdout",
     "output_type": "stream",
     "text": [
      "{'Laptop': 0, 'Samrtphone': True, 'Bike': True, 'Pen': 5}\n"
     ]
    }
   ],
   "source": [
    "a = {'Laptop': False, 'Samrtphone': True, 'Laptop': 1, 'Bike': True, 'Pen':5, 'Laptop':0}\n",
    "print(a)"
   ]
  },
  {
   "cell_type": "code",
   "execution_count": 11,
   "id": "03b24166",
   "metadata": {},
   "outputs": [
    {
     "data": {
      "text/plain": [
       "5"
      ]
     },
     "execution_count": 11,
     "metadata": {},
     "output_type": "execute_result"
    }
   ],
   "source": [
    "a['Pen']"
   ]
  },
  {
   "cell_type": "code",
   "execution_count": 12,
   "id": "2dafb424",
   "metadata": {},
   "outputs": [
    {
     "data": {
      "text/plain": [
       "4"
      ]
     },
     "execution_count": 12,
     "metadata": {},
     "output_type": "execute_result"
    }
   ],
   "source": [
    "len(a)"
   ]
  },
  {
   "cell_type": "code",
   "execution_count": 13,
   "id": "ac10c9a5",
   "metadata": {},
   "outputs": [],
   "source": [
    "a = {'Allahabad':[50, 76, 16], 'Kanpur':[72, 26, 18], 'Dehradun':[45, 56, 22], 'Patna':12}"
   ]
  },
  {
   "cell_type": "code",
   "execution_count": 14,
   "id": "e9b1158b",
   "metadata": {},
   "outputs": [
    {
     "name": "stdout",
     "output_type": "stream",
     "text": [
      "{'Allahabad': [50, 76, 16], 'Kanpur': [72, 26, 18], 'Dehradun': [45, 56, 22], 'Patna': 12}\n"
     ]
    }
   ],
   "source": [
    "print(a)"
   ]
  },
  {
   "cell_type": "code",
   "execution_count": 17,
   "id": "81d6c87a",
   "metadata": {},
   "outputs": [
    {
     "data": {
      "text/plain": [
       "50"
      ]
     },
     "execution_count": 17,
     "metadata": {},
     "output_type": "execute_result"
    }
   ],
   "source": [
    "a['Allahabad'][0]"
   ]
  },
  {
   "cell_type": "code",
   "execution_count": 18,
   "id": "e2ebac6c",
   "metadata": {},
   "outputs": [],
   "source": [
    "a = {'Allahabad':{'CITS':20, 'ADIT':18, 'CTS':52}}"
   ]
  },
  {
   "cell_type": "code",
   "execution_count": 20,
   "id": "096b7ea9",
   "metadata": {},
   "outputs": [
    {
     "data": {
      "text/plain": [
       "18"
      ]
     },
     "execution_count": 20,
     "metadata": {},
     "output_type": "execute_result"
    }
   ],
   "source": [
    "a['Allahabad']['ADIT']"
   ]
  },
  {
   "cell_type": "code",
   "execution_count": 26,
   "id": "02233efc",
   "metadata": {},
   "outputs": [],
   "source": [
    "#Constructors\n",
    "a = dict()"
   ]
  },
  {
   "cell_type": "code",
   "execution_count": 27,
   "id": "ee1a9795",
   "metadata": {},
   "outputs": [
    {
     "data": {
      "text/plain": [
       "{}"
      ]
     },
     "execution_count": 27,
     "metadata": {},
     "output_type": "execute_result"
    }
   ],
   "source": [
    "a"
   ]
  },
  {
   "cell_type": "code",
   "execution_count": 28,
   "id": "f9106480",
   "metadata": {},
   "outputs": [
    {
     "name": "stdout",
     "output_type": "stream",
     "text": [
      "<class 'dict'>\n"
     ]
    }
   ],
   "source": [
    "print(type(a))"
   ]
  },
  {
   "cell_type": "code",
   "execution_count": 29,
   "id": "1c1d1c53",
   "metadata": {},
   "outputs": [
    {
     "data": {
      "text/plain": [
       "0"
      ]
     },
     "execution_count": 29,
     "metadata": {},
     "output_type": "execute_result"
    }
   ],
   "source": [
    "len(a)"
   ]
  },
  {
   "cell_type": "code",
   "execution_count": 42,
   "id": "d91315d7",
   "metadata": {},
   "outputs": [],
   "source": [
    "a = dict(name = 'Mukesh', age = 18, location = 'Patna', laptop = True, smartphone = 2)"
   ]
  },
  {
   "cell_type": "code",
   "execution_count": 31,
   "id": "b727ad27",
   "metadata": {},
   "outputs": [
    {
     "name": "stdout",
     "output_type": "stream",
     "text": [
      "{'name': 'Mukesh', 'age': 18, 'location': 'Patna', 'laptop': True, 'smartphone': 2}\n"
     ]
    }
   ],
   "source": [
    "print(a)"
   ]
  },
  {
   "cell_type": "code",
   "execution_count": 32,
   "id": "0fbc130b",
   "metadata": {},
   "outputs": [
    {
     "ename": "SyntaxError",
     "evalue": "expression cannot contain assignment, perhaps you meant \"==\"? (1651513877.py, line 1)",
     "output_type": "error",
     "traceback": [
      "\u001b[1;36m  Cell \u001b[1;32mIn[32], line 1\u001b[1;36m\u001b[0m\n\u001b[1;33m    a = dict('name' = 'Mukesh', 'age' = 18, 'location' = 'Patna', 'laptop' = True, 'smartphone' = 2)\u001b[0m\n\u001b[1;37m             ^\u001b[0m\n\u001b[1;31mSyntaxError\u001b[0m\u001b[1;31m:\u001b[0m expression cannot contain assignment, perhaps you meant \"==\"?\n"
     ]
    }
   ],
   "source": [
    "a = dict('name' = 'Mukesh', 'age' = 18, 'location' = 'Patna', 'laptop' = True, 'smartphone' = 2)"
   ]
  },
  {
   "cell_type": "code",
   "execution_count": 34,
   "id": "b1bbdb2e",
   "metadata": {},
   "outputs": [
    {
     "data": {
      "text/plain": [
       "{'key1': 'value1', 'key2': 'value2'}"
      ]
     },
     "execution_count": 34,
     "metadata": {},
     "output_type": "execute_result"
    }
   ],
   "source": [
    "b = dict(key1='value1', key2='value2')\n",
    "b"
   ]
  },
  {
   "cell_type": "code",
   "execution_count": 35,
   "id": "428de295",
   "metadata": {},
   "outputs": [
    {
     "data": {
      "text/plain": [
       "{'name': 'Mukesh',\n",
       " 'age': 18,\n",
       " 'location': 'Patna',\n",
       " 'laptop': True,\n",
       " 'smartphone': 2}"
      ]
     },
     "execution_count": 35,
     "metadata": {},
     "output_type": "execute_result"
    }
   ],
   "source": [
    "a"
   ]
  },
  {
   "cell_type": "code",
   "execution_count": 36,
   "id": "7fb61445",
   "metadata": {},
   "outputs": [
    {
     "data": {
      "text/plain": [
       "18"
      ]
     },
     "execution_count": 36,
     "metadata": {},
     "output_type": "execute_result"
    }
   ],
   "source": [
    "a['age']"
   ]
  },
  {
   "cell_type": "code",
   "execution_count": 37,
   "id": "248e89bd",
   "metadata": {},
   "outputs": [],
   "source": [
    "a['age']=25"
   ]
  },
  {
   "cell_type": "code",
   "execution_count": 43,
   "id": "a10bb74f",
   "metadata": {},
   "outputs": [
    {
     "data": {
      "text/plain": [
       "{'name': 'Mukesh',\n",
       " 'age': 18,\n",
       " 'location': 'Patna',\n",
       " 'laptop': True,\n",
       " 'smartphone': 2}"
      ]
     },
     "execution_count": 43,
     "metadata": {},
     "output_type": "execute_result"
    }
   ],
   "source": [
    "a"
   ]
  },
  {
   "cell_type": "code",
   "execution_count": 44,
   "id": "3380b395",
   "metadata": {},
   "outputs": [],
   "source": [
    "a.update({'location':'Honolulu'})"
   ]
  },
  {
   "cell_type": "code",
   "execution_count": 46,
   "id": "43323c98",
   "metadata": {},
   "outputs": [
    {
     "data": {
      "text/plain": [
       "{'name': 'Mukesh',\n",
       " 'age': 18,\n",
       " 'location': 'Honolulu',\n",
       " 'laptop': True,\n",
       " 'smartphone': 2}"
      ]
     },
     "execution_count": 46,
     "metadata": {},
     "output_type": "execute_result"
    }
   ],
   "source": [
    "a"
   ]
  },
  {
   "cell_type": "code",
   "execution_count": 47,
   "id": "012dfa51",
   "metadata": {},
   "outputs": [
    {
     "data": {
      "text/plain": [
       "{'name': 'Mukesh',\n",
       " 'age': 18,\n",
       " 'location': 'Honolulu',\n",
       " 'laptop': True,\n",
       " 'smartphone': 'Samsung'}"
      ]
     },
     "execution_count": 47,
     "metadata": {},
     "output_type": "execute_result"
    }
   ],
   "source": [
    "a['smartphone'] = 'Samsung'\n",
    "a"
   ]
  },
  {
   "cell_type": "code",
   "execution_count": 48,
   "id": "810153dc",
   "metadata": {},
   "outputs": [],
   "source": [
    "a['bike']= 'Bajaj Pulsar 150cc'"
   ]
  },
  {
   "cell_type": "code",
   "execution_count": 49,
   "id": "c98317aa",
   "metadata": {},
   "outputs": [
    {
     "data": {
      "text/plain": [
       "{'name': 'Mukesh',\n",
       " 'age': 18,\n",
       " 'location': 'Honolulu',\n",
       " 'laptop': True,\n",
       " 'smartphone': 'Samsung',\n",
       " 'bike': 'Bajaj Pulsar 150cc'}"
      ]
     },
     "execution_count": 49,
     "metadata": {},
     "output_type": "execute_result"
    }
   ],
   "source": [
    "a"
   ]
  },
  {
   "cell_type": "code",
   "execution_count": 50,
   "id": "6b673ac4",
   "metadata": {},
   "outputs": [],
   "source": [
    "a.update({'car':'Jaguar'})"
   ]
  },
  {
   "cell_type": "code",
   "execution_count": 51,
   "id": "21c934c0",
   "metadata": {},
   "outputs": [
    {
     "data": {
      "text/plain": [
       "{'name': 'Mukesh',\n",
       " 'age': 18,\n",
       " 'location': 'Honolulu',\n",
       " 'laptop': True,\n",
       " 'smartphone': 'Samsung',\n",
       " 'bike': 'Bajaj Pulsar 150cc',\n",
       " 'car': 'Jaguar'}"
      ]
     },
     "execution_count": 51,
     "metadata": {},
     "output_type": "execute_result"
    }
   ],
   "source": [
    "a"
   ]
  },
  {
   "cell_type": "code",
   "execution_count": 52,
   "id": "4ab13039",
   "metadata": {},
   "outputs": [
    {
     "data": {
      "text/plain": [
       "{'name': 'Mukesh',\n",
       " 'age': 18,\n",
       " 'location': 'Honolulu',\n",
       " 'laptop': True,\n",
       " 'smartphone': 'Samsung',\n",
       " 'bike': 'Bajaj Pulsar 150cc',\n",
       " 'car': 'Jaguar'}"
      ]
     },
     "execution_count": 52,
     "metadata": {},
     "output_type": "execute_result"
    }
   ],
   "source": [
    "a"
   ]
  },
  {
   "cell_type": "code",
   "execution_count": 53,
   "id": "2f78df50",
   "metadata": {},
   "outputs": [
    {
     "data": {
      "text/plain": [
       "True"
      ]
     },
     "execution_count": 53,
     "metadata": {},
     "output_type": "execute_result"
    }
   ],
   "source": [
    "a.pop('laptop')"
   ]
  },
  {
   "cell_type": "code",
   "execution_count": 54,
   "id": "46b2c71c",
   "metadata": {},
   "outputs": [
    {
     "data": {
      "text/plain": [
       "{'name': 'Mukesh',\n",
       " 'age': 18,\n",
       " 'location': 'Honolulu',\n",
       " 'smartphone': 'Samsung',\n",
       " 'bike': 'Bajaj Pulsar 150cc',\n",
       " 'car': 'Jaguar'}"
      ]
     },
     "execution_count": 54,
     "metadata": {},
     "output_type": "execute_result"
    }
   ],
   "source": [
    "a"
   ]
  },
  {
   "cell_type": "code",
   "execution_count": 55,
   "id": "7b97dd91",
   "metadata": {},
   "outputs": [
    {
     "data": {
      "text/plain": [
       "'Bajaj Pulsar 150cc'"
      ]
     },
     "execution_count": 55,
     "metadata": {},
     "output_type": "execute_result"
    }
   ],
   "source": [
    "a.pop('bike')"
   ]
  },
  {
   "cell_type": "code",
   "execution_count": 56,
   "id": "313fa839",
   "metadata": {},
   "outputs": [
    {
     "data": {
      "text/plain": [
       "{'name': 'Mukesh',\n",
       " 'age': 18,\n",
       " 'location': 'Honolulu',\n",
       " 'smartphone': 'Samsung',\n",
       " 'car': 'Jaguar'}"
      ]
     },
     "execution_count": 56,
     "metadata": {},
     "output_type": "execute_result"
    }
   ],
   "source": [
    "a"
   ]
  },
  {
   "cell_type": "code",
   "execution_count": 57,
   "id": "f60db0b4",
   "metadata": {},
   "outputs": [
    {
     "data": {
      "text/plain": [
       "'Jaguar'"
      ]
     },
     "execution_count": 57,
     "metadata": {},
     "output_type": "execute_result"
    }
   ],
   "source": [
    "a.pop('car')"
   ]
  },
  {
   "cell_type": "code",
   "execution_count": 58,
   "id": "33d09735",
   "metadata": {},
   "outputs": [
    {
     "data": {
      "text/plain": [
       "{'name': 'Mukesh', 'age': 18, 'location': 'Honolulu', 'smartphone': 'Samsung'}"
      ]
     },
     "execution_count": 58,
     "metadata": {},
     "output_type": "execute_result"
    }
   ],
   "source": [
    "a"
   ]
  },
  {
   "cell_type": "code",
   "execution_count": 72,
   "id": "1cd48406",
   "metadata": {},
   "outputs": [],
   "source": [
    "a = {'name': 'Mukesh',\n",
    " 'age': 18,\n",
    " 'location': 'Honolulu',\n",
    " 'laptop': True,\n",
    " 'smartphone': 'Samsung',\n",
    " 'bike': 'Bajaj Pulsar 150cc',\n",
    " 'car': 'Jaguar'}"
   ]
  },
  {
   "cell_type": "code",
   "execution_count": 73,
   "id": "ac2f0e3d",
   "metadata": {},
   "outputs": [
    {
     "data": {
      "text/plain": [
       "{'name': 'Mukesh',\n",
       " 'age': 18,\n",
       " 'location': 'Honolulu',\n",
       " 'laptop': True,\n",
       " 'smartphone': 'Samsung',\n",
       " 'bike': 'Bajaj Pulsar 150cc',\n",
       " 'car': 'Jaguar'}"
      ]
     },
     "execution_count": 73,
     "metadata": {},
     "output_type": "execute_result"
    }
   ],
   "source": [
    "a"
   ]
  },
  {
   "cell_type": "code",
   "execution_count": 70,
   "id": "d316be81",
   "metadata": {},
   "outputs": [
    {
     "data": {
      "text/plain": [
       "('bike', 'Bajaj Pulsar 150cc')"
      ]
     },
     "execution_count": 70,
     "metadata": {},
     "output_type": "execute_result"
    }
   ],
   "source": [
    "a.popitem()"
   ]
  },
  {
   "cell_type": "code",
   "execution_count": 71,
   "id": "eed831eb",
   "metadata": {},
   "outputs": [
    {
     "data": {
      "text/plain": [
       "{'name': 'Mukesh',\n",
       " 'age': 18,\n",
       " 'location': 'Honolulu',\n",
       " 'laptop': True,\n",
       " 'smartphone': 'Samsung'}"
      ]
     },
     "execution_count": 71,
     "metadata": {},
     "output_type": "execute_result"
    }
   ],
   "source": [
    "a"
   ]
  },
  {
   "cell_type": "code",
   "execution_count": 74,
   "id": "f6f315b8",
   "metadata": {},
   "outputs": [
    {
     "name": "stdout",
     "output_type": "stream",
     "text": [
      "name\n",
      "age\n",
      "location\n",
      "laptop\n",
      "smartphone\n",
      "bike\n",
      "car\n"
     ]
    }
   ],
   "source": [
    "for i in a:print(i)"
   ]
  },
  {
   "cell_type": "code",
   "execution_count": 75,
   "id": "4534533c",
   "metadata": {},
   "outputs": [
    {
     "name": "stdout",
     "output_type": "stream",
     "text": [
      "Mukesh\n",
      "18\n",
      "Honolulu\n",
      "True\n",
      "Samsung\n",
      "Bajaj Pulsar 150cc\n",
      "Jaguar\n"
     ]
    }
   ],
   "source": [
    "for i in a.values():print(i)"
   ]
  },
  {
   "cell_type": "code",
   "execution_count": 78,
   "id": "1a4e41cf",
   "metadata": {},
   "outputs": [
    {
     "name": "stdout",
     "output_type": "stream",
     "text": [
      "('name', 'Mukesh')\n",
      "('age', 18)\n",
      "('location', 'Honolulu')\n",
      "('laptop', True)\n",
      "('smartphone', 'Samsung')\n",
      "('bike', 'Bajaj Pulsar 150cc')\n",
      "('car', 'Jaguar')\n"
     ]
    }
   ],
   "source": [
    "for i in a.items():print(i)"
   ]
  },
  {
   "cell_type": "code",
   "execution_count": 76,
   "id": "91de1ff3",
   "metadata": {},
   "outputs": [
    {
     "data": {
      "text/plain": [
       "dict_values(['Mukesh', 18, 'Honolulu', True, 'Samsung', 'Bajaj Pulsar 150cc', 'Jaguar'])"
      ]
     },
     "execution_count": 76,
     "metadata": {},
     "output_type": "execute_result"
    }
   ],
   "source": [
    "a.values()"
   ]
  },
  {
   "cell_type": "code",
   "execution_count": 77,
   "id": "d0fe1910",
   "metadata": {},
   "outputs": [
    {
     "data": {
      "text/plain": [
       "dict_keys(['name', 'age', 'location', 'laptop', 'smartphone', 'bike', 'car'])"
      ]
     },
     "execution_count": 77,
     "metadata": {},
     "output_type": "execute_result"
    }
   ],
   "source": [
    "a.keys()"
   ]
  },
  {
   "cell_type": "code",
   "execution_count": 79,
   "id": "5d2313ed",
   "metadata": {},
   "outputs": [
    {
     "data": {
      "text/plain": [
       "{'name': 'Mukesh',\n",
       " 'age': 18,\n",
       " 'location': 'Honolulu',\n",
       " 'laptop': True,\n",
       " 'smartphone': 'Samsung',\n",
       " 'bike': 'Bajaj Pulsar 150cc',\n",
       " 'car': 'Jaguar'}"
      ]
     },
     "execution_count": 79,
     "metadata": {},
     "output_type": "execute_result"
    }
   ],
   "source": [
    "a"
   ]
  },
  {
   "cell_type": "code",
   "execution_count": 80,
   "id": "be345721",
   "metadata": {},
   "outputs": [],
   "source": [
    "b = a"
   ]
  },
  {
   "cell_type": "code",
   "execution_count": 81,
   "id": "039007c2",
   "metadata": {},
   "outputs": [
    {
     "data": {
      "text/plain": [
       "{'name': 'Mukesh',\n",
       " 'age': 18,\n",
       " 'location': 'Honolulu',\n",
       " 'laptop': True,\n",
       " 'smartphone': 'Samsung',\n",
       " 'bike': 'Bajaj Pulsar 150cc',\n",
       " 'car': 'Jaguar'}"
      ]
     },
     "execution_count": 81,
     "metadata": {},
     "output_type": "execute_result"
    }
   ],
   "source": [
    "b"
   ]
  },
  {
   "cell_type": "code",
   "execution_count": 83,
   "id": "8252b165",
   "metadata": {},
   "outputs": [],
   "source": [
    "c = a.copy()"
   ]
  },
  {
   "cell_type": "code",
   "execution_count": 84,
   "id": "c069d226",
   "metadata": {},
   "outputs": [
    {
     "data": {
      "text/plain": [
       "{'name': 'Mukesh',\n",
       " 'age': 18,\n",
       " 'location': 'Honolulu',\n",
       " 'laptop': True,\n",
       " 'smartphone': 'Samsung',\n",
       " 'bike': 'Bajaj Pulsar 150cc',\n",
       " 'car': 'Jaguar'}"
      ]
     },
     "execution_count": 84,
     "metadata": {},
     "output_type": "execute_result"
    }
   ],
   "source": [
    "c"
   ]
  },
  {
   "cell_type": "code",
   "execution_count": 85,
   "id": "4a763705",
   "metadata": {},
   "outputs": [],
   "source": [
    "c.clear()"
   ]
  },
  {
   "cell_type": "code",
   "execution_count": 86,
   "id": "88af5858",
   "metadata": {},
   "outputs": [
    {
     "data": {
      "text/plain": [
       "{}"
      ]
     },
     "execution_count": 86,
     "metadata": {},
     "output_type": "execute_result"
    }
   ],
   "source": [
    "c"
   ]
  },
  {
   "cell_type": "code",
   "execution_count": 87,
   "id": "b63123d5",
   "metadata": {},
   "outputs": [
    {
     "data": {
      "text/plain": [
       "0"
      ]
     },
     "execution_count": 87,
     "metadata": {},
     "output_type": "execute_result"
    }
   ],
   "source": [
    "len(c)"
   ]
  },
  {
   "cell_type": "code",
   "execution_count": 88,
   "id": "14a1fa98",
   "metadata": {},
   "outputs": [
    {
     "data": {
      "text/plain": [
       "dict"
      ]
     },
     "execution_count": 88,
     "metadata": {},
     "output_type": "execute_result"
    }
   ],
   "source": [
    "type(c)"
   ]
  },
  {
   "cell_type": "code",
   "execution_count": 89,
   "id": "421a08b0",
   "metadata": {},
   "outputs": [
    {
     "data": {
      "text/plain": [
       "{'name': 'Mukesh',\n",
       " 'age': 18,\n",
       " 'location': 'Honolulu',\n",
       " 'laptop': True,\n",
       " 'smartphone': 'Samsung',\n",
       " 'bike': 'Bajaj Pulsar 150cc',\n",
       " 'car': 'Jaguar'}"
      ]
     },
     "execution_count": 89,
     "metadata": {},
     "output_type": "execute_result"
    }
   ],
   "source": [
    "b"
   ]
  },
  {
   "cell_type": "code",
   "execution_count": 90,
   "id": "d3988eba",
   "metadata": {},
   "outputs": [],
   "source": [
    "del b"
   ]
  },
  {
   "cell_type": "code",
   "execution_count": 91,
   "id": "a13badae",
   "metadata": {},
   "outputs": [
    {
     "ename": "NameError",
     "evalue": "name 'b' is not defined",
     "output_type": "error",
     "traceback": [
      "\u001b[1;31m---------------------------------------------------------------------------\u001b[0m",
      "\u001b[1;31mNameError\u001b[0m                                 Traceback (most recent call last)",
      "Cell \u001b[1;32mIn[91], line 1\u001b[0m\n\u001b[1;32m----> 1\u001b[0m \u001b[43mb\u001b[49m\n",
      "\u001b[1;31mNameError\u001b[0m: name 'b' is not defined"
     ]
    }
   ],
   "source": [
    "b"
   ]
  },
  {
   "cell_type": "code",
   "execution_count": 93,
   "id": "c69b5713",
   "metadata": {},
   "outputs": [
    {
     "name": "stdout",
     "output_type": "stream",
     "text": [
      "Hello\n"
     ]
    }
   ],
   "source": [
    "def a():print('Hello')\n",
    "    \n",
    "a()"
   ]
  },
  {
   "cell_type": "code",
   "execution_count": 97,
   "id": "c2e83d5b",
   "metadata": {},
   "outputs": [],
   "source": [
    "def sum(x,y):\n",
    "    print(x+y)\n",
    "    print(x-y)\n",
    "    print(x*y)\n",
    "    print(x/y)\n",
    "    "
   ]
  },
  {
   "cell_type": "code",
   "execution_count": 98,
   "id": "69893f91",
   "metadata": {},
   "outputs": [
    {
     "name": "stdout",
     "output_type": "stream",
     "text": [
      "12\n",
      "-2\n",
      "35\n",
      "0.7142857142857143\n"
     ]
    }
   ],
   "source": [
    "sum(5, 7)"
   ]
  },
  {
   "cell_type": "code",
   "execution_count": 100,
   "id": "4eac5597",
   "metadata": {},
   "outputs": [],
   "source": [
    "cal = lambda a:a*a\n"
   ]
  },
  {
   "cell_type": "code",
   "execution_count": 101,
   "id": "068e6765",
   "metadata": {},
   "outputs": [
    {
     "data": {
      "text/plain": [
       "25"
      ]
     },
     "execution_count": 101,
     "metadata": {},
     "output_type": "execute_result"
    }
   ],
   "source": [
    "cal(5)"
   ]
  },
  {
   "cell_type": "code",
   "execution_count": 102,
   "id": "20a0f4a7",
   "metadata": {},
   "outputs": [],
   "source": [
    "cal = lambda a,b,c:a+b+c"
   ]
  },
  {
   "cell_type": "code",
   "execution_count": 104,
   "id": "e265ff5b",
   "metadata": {},
   "outputs": [
    {
     "data": {
      "text/plain": [
       "10"
      ]
     },
     "execution_count": 104,
     "metadata": {},
     "output_type": "execute_result"
    }
   ],
   "source": [
    "cal(5,2, 3)"
   ]
  },
  {
   "cell_type": "code",
   "execution_count": 105,
   "id": "b3414272",
   "metadata": {},
   "outputs": [],
   "source": [
    "def sum(a):\n",
    "    return lambda b : a+b"
   ]
  },
  {
   "cell_type": "code",
   "execution_count": 107,
   "id": "9a88e5f2",
   "metadata": {},
   "outputs": [
    {
     "name": "stdout",
     "output_type": "stream",
     "text": [
      "<function sum.<locals>.<lambda> at 0x000001BD14A28B80>\n"
     ]
    }
   ],
   "source": [
    "print(sum(5))"
   ]
  },
  {
   "cell_type": "code",
   "execution_count": 108,
   "id": "717bfc9f",
   "metadata": {},
   "outputs": [],
   "source": [
    "c = sum(5)"
   ]
  },
  {
   "cell_type": "code",
   "execution_count": 109,
   "id": "099e69b8",
   "metadata": {},
   "outputs": [
    {
     "data": {
      "text/plain": [
       "10"
      ]
     },
     "execution_count": 109,
     "metadata": {},
     "output_type": "execute_result"
    }
   ],
   "source": [
    "c(5)"
   ]
  },
  {
   "cell_type": "code",
   "execution_count": 110,
   "id": "b6d0d50d",
   "metadata": {},
   "outputs": [
    {
     "data": {
      "text/plain": [
       "5190"
      ]
     },
     "execution_count": 110,
     "metadata": {},
     "output_type": "execute_result"
    }
   ],
   "source": [
    "c(5185)"
   ]
  },
  {
   "cell_type": "code",
   "execution_count": 111,
   "id": "b265a257",
   "metadata": {},
   "outputs": [
    {
     "data": {
      "text/plain": [
       "15"
      ]
     },
     "execution_count": 111,
     "metadata": {},
     "output_type": "execute_result"
    }
   ],
   "source": [
    "c(10)"
   ]
  },
  {
   "cell_type": "code",
   "execution_count": 112,
   "id": "d437b1f0",
   "metadata": {},
   "outputs": [
    {
     "data": {
      "text/plain": [
       "20"
      ]
     },
     "execution_count": 112,
     "metadata": {},
     "output_type": "execute_result"
    }
   ],
   "source": [
    "c(15)"
   ]
  },
  {
   "cell_type": "code",
   "execution_count": 113,
   "id": "4d88e8ee",
   "metadata": {},
   "outputs": [],
   "source": [
    "def sum(a):\n",
    "    return lambda b : a+b\n",
    "\n",
    "c = sum(5)\n",
    "d = sum(10)\n",
    "e = sum(15)"
   ]
  },
  {
   "cell_type": "code",
   "execution_count": 115,
   "id": "4a08e0f0",
   "metadata": {},
   "outputs": [
    {
     "data": {
      "text/plain": [
       "120"
      ]
     },
     "execution_count": 115,
     "metadata": {},
     "output_type": "execute_result"
    }
   ],
   "source": [
    "c(115)"
   ]
  },
  {
   "cell_type": "code",
   "execution_count": 116,
   "id": "6255c0e2",
   "metadata": {},
   "outputs": [
    {
     "data": {
      "text/plain": [
       "125"
      ]
     },
     "execution_count": 116,
     "metadata": {},
     "output_type": "execute_result"
    }
   ],
   "source": [
    "d(115)"
   ]
  },
  {
   "cell_type": "code",
   "execution_count": 117,
   "id": "b41d6dc8",
   "metadata": {},
   "outputs": [
    {
     "data": {
      "text/plain": [
       "130"
      ]
     },
     "execution_count": 117,
     "metadata": {},
     "output_type": "execute_result"
    }
   ],
   "source": [
    "e(115)"
   ]
  },
  {
   "cell_type": "code",
   "execution_count": 120,
   "id": "ffa9355d",
   "metadata": {},
   "outputs": [
    {
     "name": "stdout",
     "output_type": "stream",
     "text": [
      "3.141592653589793\n"
     ]
    }
   ],
   "source": [
    "import math\n",
    "print(math.pi)"
   ]
  },
  {
   "cell_type": "code",
   "execution_count": 127,
   "id": "d40035d4",
   "metadata": {},
   "outputs": [
    {
     "data": {
      "image/png": "[encoded data removed]",
      "text/plain": [
       "<Figure size 640x480 with 1 Axes>"
      ]
     },
     "metadata": {},
     "output_type": "display_data"
    }
   ],
   "source": [
    "import matplotlib.pyplot as a\n",
    "import numpy as np\n",
    "x = [0, 2, 5, 7, 8, 9]\n",
    "y = [12, 18, 17, 25, 19, 20]\n",
    "a.plot(x,y)\n",
    "a.show()"
   ]
  },
  {
   "cell_type": "code",
   "execution_count": 124,
   "id": "5b578c02",
   "metadata": {
    "scrolled": true
   },
   "outputs": [
    {
     "data": {
      "image/png": "[encoded data removed]",
      "text/plain": [
       "<Figure size 640x480 with 1 Axes>"
      ]
     },
     "metadata": {},
     "output_type": "display_data"
    }
   ],
   "source": [
    "import matplotlib.pyplot\n",
    "x = [0, 2, 5, 7, 8, 9]\n",
    "y = [12, 18, 17, 25, 19, 20]\n",
    "matplotlib.pyplot.plot(x,y)\n",
    "matplotlib.pyplot.show()"
   ]
  },
  {
   "cell_type": "code",
   "execution_count": 128,
   "id": "9c80faf0",
   "metadata": {},
   "outputs": [],
   "source": [
    "import mukesh"
   ]
  },
  {
   "cell_type": "code",
   "execution_count": 130,
   "id": "9a9be1ca",
   "metadata": {},
   "outputs": [
    {
     "name": "stdout",
     "output_type": "stream",
     "text": [
      "Welcome to Patna Nashit\n"
     ]
    }
   ],
   "source": [
    "mukesh.hello('Nashit')"
   ]
  },
  {
   "cell_type": "code",
   "execution_count": null,
   "id": "6b1ba1b4",
   "metadata": {},
   "outputs": [],
   "source": []
  }
 ],
 "metadata": {
  "kernelspec": {
   "display_name": "Python 3 (ipykernel)",
   "language": "python",
   "name": "python3"
  },
  "language_info": {
   "codemirror_mode": {
    "name": "ipython",
    "version": 3
   },
   "file_extension": ".py",
   "mimetype": "text/x-python",
   "name": "python",
   "nbconvert_exporter": "python",
   "pygments_lexer": "ipython3",
   "version": "3.10.11"
  }
 },
 "nbformat": 4,
 "nbformat_minor": 5
}
