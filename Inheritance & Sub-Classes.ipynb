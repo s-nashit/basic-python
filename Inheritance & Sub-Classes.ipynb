{
 "cells": [
  {
   "cell_type": "code",
   "execution_count": 15,
   "id": "6543cfd5",
   "metadata": {},
   "outputs": [],
   "source": [
    "#parent class\n",
    "class ADIT:\n",
    "    def __init__(self, name, age, phone, location):\n",
    "        self.name = name\n",
    "        self.age = age\n",
    "        self.phone = phone\n",
    "        self.location = location\n",
    "        self.email = name+'.'+location+'@gmail.com'\n",
    "        self.stipend= 3000\n",
    "    def increment(self):\n",
    "        self.stipend = self.stipend*0.15+self.stipend\n",
    "        self.incre = self.stipend*0.15"
   ]
  },
  {
   "cell_type": "code",
   "execution_count": 16,
   "id": "9a9a79ab",
   "metadata": {},
   "outputs": [],
   "source": [
    "#sub classes/child classes \n",
    "class Web(ADIT):\n",
    "    pass"
   ]
  },
  {
   "cell_type": "code",
   "execution_count": 17,
   "id": "2c973991",
   "metadata": {},
   "outputs": [],
   "source": [
    "class Network(ADIT):\n",
    "    pass"
   ]
  },
  {
   "cell_type": "code",
   "execution_count": 18,
   "id": "8aed0fb5",
   "metadata": {},
   "outputs": [],
   "source": [
    "class Cloud(ADIT):\n",
    "    pass"
   ]
  },
  {
   "cell_type": "code",
   "execution_count": 19,
   "id": "52b9919a",
   "metadata": {},
   "outputs": [],
   "source": [
    "Anjali = Cloud('Anjali', 19, 9876543210, 'Allahabad')\n",
    "Manisha = Web('Manisha', 19, 8796543210, 'Dehradun')\n",
    "Smriti = Network('Smiriti', 19, 7894561230, 'Patna')"
   ]
  },
  {
   "cell_type": "code",
   "execution_count": 20,
   "id": "1b69248e",
   "metadata": {},
   "outputs": [],
   "source": [
    "Smriti.increment()"
   ]
  },
  {
   "cell_type": "code",
   "execution_count": 21,
   "id": "7837f474",
   "metadata": {},
   "outputs": [
    {
     "data": {
      "text/plain": [
       "3450.0"
      ]
     },
     "execution_count": 21,
     "metadata": {},
     "output_type": "execute_result"
    }
   ],
   "source": [
    "Smriti.stipend"
   ]
  },
  {
   "cell_type": "code",
   "execution_count": 22,
   "id": "99a9da84",
   "metadata": {},
   "outputs": [
    {
     "data": {
      "text/plain": [
       "'Smiriti.Patna@gmail.com'"
      ]
     },
     "execution_count": 22,
     "metadata": {},
     "output_type": "execute_result"
    }
   ],
   "source": [
    "Smriti.email"
   ]
  },
  {
   "cell_type": "code",
   "execution_count": 23,
   "id": "83218aac",
   "metadata": {},
   "outputs": [
    {
     "data": {
      "text/plain": [
       "'Hello World'"
      ]
     },
     "execution_count": 23,
     "metadata": {},
     "output_type": "execute_result"
    }
   ],
   "source": [
    "'Hello World'"
   ]
  },
  {
   "cell_type": "code",
   "execution_count": 24,
   "id": "015f04ee",
   "metadata": {},
   "outputs": [
    {
     "data": {
      "text/plain": [
       "517.5"
      ]
     },
     "execution_count": 24,
     "metadata": {},
     "output_type": "execute_result"
    }
   ],
   "source": [
    "Smriti.incre"
   ]
  },
  {
   "cell_type": "code",
   "execution_count": 25,
   "id": "e6f3366d",
   "metadata": {},
   "outputs": [
    {
     "data": {
      "text/plain": [
       "10"
      ]
     },
     "execution_count": 25,
     "metadata": {},
     "output_type": "execute_result"
    }
   ],
   "source": [
    "5*2"
   ]
  },
  {
   "cell_type": "code",
   "execution_count": 26,
   "id": "973f6bda",
   "metadata": {},
   "outputs": [
    {
     "name": "stdout",
     "output_type": "stream",
     "text": [
      "hello\n"
     ]
    }
   ],
   "source": [
    "print('hello')"
   ]
  },
  {
   "cell_type": "code",
   "execution_count": null,
   "id": "44d7723f",
   "metadata": {},
   "outputs": [],
   "source": [
    "a = "
   ]
  }
 ],
 "metadata": {
  "kernelspec": {
   "display_name": "Python 3 (ipykernel)",
   "language": "python",
   "name": "python3"
  },
  "language_info": {
   "codemirror_mode": {
    "name": "ipython",
    "version": 3
   },
   "file_extension": ".py",
   "mimetype": "text/x-python",
   "name": "python",
   "nbconvert_exporter": "python",
   "pygments_lexer": "ipython3",
   "version": "3.10.11"
  }
 },
 "nbformat": 4,
 "nbformat_minor": 5
}
