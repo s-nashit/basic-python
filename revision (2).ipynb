{
 "cells": [
  {
   "cell_type": "code",
   "execution_count": 1,
   "id": "2651de6c",
   "metadata": {},
   "outputs": [],
   "source": [
    "a = 'Hello\\tWorld'"
   ]
  },
  {
   "cell_type": "markdown",
   "id": "f88fca67",
   "metadata": {},
   "source": [
    "nashit"
   ]
  },
  {
   "cell_type": "code",
   "execution_count": 2,
   "id": "2b0d609f",
   "metadata": {},
   "outputs": [
    {
     "name": "stdout",
     "output_type": "stream",
     "text": [
      "Hello\tWorld\n"
     ]
    }
   ],
   "source": [
    "print(a)"
   ]
  },
  {
   "cell_type": "code",
   "execution_count": 23,
   "id": "359a24a8",
   "metadata": {},
   "outputs": [
    {
     "name": "stdout",
     "output_type": "stream",
     "text": [
      "Hello World\n"
     ]
    }
   ],
   "source": [
    "print(\"\"\"Hello World\"\"\")\n"
   ]
  },
  {
   "cell_type": "code",
   "execution_count": 14,
   "id": "a1d6a408",
   "metadata": {},
   "outputs": [
    {
     "data": {
      "text/plain": [
       "'Hello \\n World'"
      ]
     },
     "execution_count": 14,
     "metadata": {},
     "output_type": "execute_result"
    }
   ],
   "source": [
    "a"
   ]
  },
  {
   "cell_type": "code",
   "execution_count": 24,
   "id": "59b8de09",
   "metadata": {},
   "outputs": [
    {
     "name": "stdout",
     "output_type": "stream",
     "text": [
      "enter8\n"
     ]
    },
    {
     "data": {
      "text/plain": [
       "'8'"
      ]
     },
     "execution_count": 24,
     "metadata": {},
     "output_type": "execute_result"
    }
   ],
   "source": [
    "input('enter')"
   ]
  },
  {
   "cell_type": "code",
   "execution_count": 25,
   "id": "a8781aac",
   "metadata": {},
   "outputs": [],
   "source": [
    "#str, int, float, complex, list, tuple, dict, set, bool"
   ]
  },
  {
   "cell_type": "code",
   "execution_count": 36,
   "id": "53c6f829",
   "metadata": {},
   "outputs": [],
   "source": [
    "a = {1:'Nashit', 2:'Mukesh', 3:'Damodar'}"
   ]
  },
  {
   "cell_type": "code",
   "execution_count": 37,
   "id": "d60b7008",
   "metadata": {},
   "outputs": [
    {
     "data": {
      "text/plain": [
       "'Nashit Humam'"
      ]
     },
     "execution_count": 37,
     "metadata": {},
     "output_type": "execute_result"
    }
   ],
   "source": [
    "a = 'Nashit Humam'\n",
    "a"
   ]
  },
  {
   "cell_type": "code",
   "execution_count": 41,
   "id": "e17c0e5b",
   "metadata": {},
   "outputs": [
    {
     "data": {
      "text/plain": [
       "'Nash'"
      ]
     },
     "execution_count": 41,
     "metadata": {},
     "output_type": "execute_result"
    }
   ],
   "source": [
    "a[0:4]"
   ]
  },
  {
   "cell_type": "code",
   "execution_count": 42,
   "id": "f4fb5a84",
   "metadata": {},
   "outputs": [
    {
     "name": "stdout",
     "output_type": "stream",
     "text": [
      "N\n",
      "a\n",
      "s\n",
      "h\n",
      "i\n",
      "t\n",
      " \n",
      "H\n",
      "u\n",
      "m\n",
      "a\n",
      "m\n"
     ]
    }
   ],
   "source": [
    "for i in a:print(i)"
   ]
  },
  {
   "cell_type": "code",
   "execution_count": 46,
   "id": "c28637ae",
   "metadata": {},
   "outputs": [
    {
     "data": {
      "text/plain": [
       "14"
      ]
     },
     "execution_count": 46,
     "metadata": {},
     "output_type": "execute_result"
    }
   ],
   "source": [
    "len('This is Nashit')"
   ]
  },
  {
   "cell_type": "code",
   "execution_count": 51,
   "id": "020951c2",
   "metadata": {},
   "outputs": [
    {
     "name": "stdout",
     "output_type": "stream",
     "text": [
      "False\n"
     ]
    }
   ],
   "source": [
    "#check substring \n",
    "b='This is Nashit'\n",
    "print('is' not in b)"
   ]
  },
  {
   "cell_type": "code",
   "execution_count": 56,
   "id": "4fa1fdb4",
   "metadata": {},
   "outputs": [
    {
     "data": {
      "text/plain": [
       "'ashi'"
      ]
     },
     "execution_count": 56,
     "metadata": {},
     "output_type": "execute_result"
    }
   ],
   "source": [
    "b[-5:-1]"
   ]
  },
  {
   "cell_type": "code",
   "execution_count": 57,
   "id": "d972f84e",
   "metadata": {},
   "outputs": [
    {
     "data": {
      "text/plain": [
       "'THIS IS NASHIT'"
      ]
     },
     "execution_count": 57,
     "metadata": {},
     "output_type": "execute_result"
    }
   ],
   "source": [
    "b.upper()"
   ]
  },
  {
   "cell_type": "code",
   "execution_count": 58,
   "id": "de5d31de",
   "metadata": {},
   "outputs": [
    {
     "data": {
      "text/plain": [
       "'this is nashit'"
      ]
     },
     "execution_count": 58,
     "metadata": {},
     "output_type": "execute_result"
    }
   ],
   "source": [
    "b.lower()"
   ]
  },
  {
   "cell_type": "code",
   "execution_count": 67,
   "id": "646079f9",
   "metadata": {},
   "outputs": [
    {
     "data": {
      "text/plain": [
       "'this is nasshit'"
      ]
     },
     "execution_count": 67,
     "metadata": {},
     "output_type": "execute_result"
    }
   ],
   "source": [
    "b = 'this is nasshit'\n",
    "b"
   ]
  },
  {
   "cell_type": "code",
   "execution_count": 68,
   "id": "a0dd15ca",
   "metadata": {},
   "outputs": [
    {
     "data": {
      "text/plain": [
       "'this is nasshit'"
      ]
     },
     "execution_count": 68,
     "metadata": {},
     "output_type": "execute_result"
    }
   ],
   "source": [
    "b.strip()"
   ]
  },
  {
   "cell_type": "raw",
   "id": "bded814d",
   "metadata": {},
   "source": [
    "b = 'This is Nashit'\n",
    "print(b.replace('t', '8'))"
   ]
  },
  {
   "cell_type": "code",
   "execution_count": 2,
   "id": "afc175bd",
   "metadata": {},
   "outputs": [
    {
     "ename": "NameError",
     "evalue": "name 'e' is not defined",
     "output_type": "error",
     "traceback": [
      "\u001b[1;31m---------------------------------------------------------------------------\u001b[0m",
      "\u001b[1;31mNameError\u001b[0m                                 Traceback (most recent call last)",
      "Cell \u001b[1;32mIn[2], line 1\u001b[0m\n\u001b[1;32m----> 1\u001b[0m \u001b[38;5;28mprint\u001b[39m(\u001b[43me\u001b[49m)\n",
      "\u001b[1;31mNameError\u001b[0m: name 'e' is not defined"
     ]
    }
   ],
   "source": [
    "print(e)"
   ]
  },
  {
   "cell_type": "code",
   "execution_count": null,
   "id": "4ed3ed80",
   "metadata": {},
   "outputs": [],
   "source": []
  }
 ],
 "metadata": {
  "kernelspec": {
   "display_name": "Python 3 (ipykernel)",
   "language": "python",
   "name": "python3"
  },
  "language_info": {
   "codemirror_mode": {
    "name": "ipython",
    "version": 3
   },
   "file_extension": ".py",
   "mimetype": "text/x-python",
   "name": "python",
   "nbconvert_exporter": "python",
   "pygments_lexer": "ipython3",
   "version": "3.10.11"
  }
 },
 "nbformat": 4,
 "nbformat_minor": 5
}
