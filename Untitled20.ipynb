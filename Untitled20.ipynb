{
 "cells": [
  {
   "cell_type": "code",
   "execution_count": 2,
   "id": "e55736fa",
   "metadata": {},
   "outputs": [
    {
     "name": "stdout",
     "output_type": "stream",
     "text": [
      "     Apple  Samsung   Nokia    Vivo      Oppo       Mi    Sony\n",
      "0   2358.0   8732.0  3123.0   8068.0   7263.0  19466.0  2408.0\n",
      "1   3627.0   8058.0  3550.0  10310.0  10447.0  20664.0  2390.0\n",
      "2   2295.0   5913.0  4401.0   8891.0   8140.0  11837.0  1666.0\n",
      "3      NaN      NaN     NaN      NaN      NaN      NaN     NaN\n",
      "4   2452.0  10710.0  4970.0  16961.0  10633.0  21048.0  1255.0\n",
      "5   2459.0   8670.0  3531.0  14032.0  11483.0  19791.0  1188.0\n",
      "6   2935.0   5024.0  3004.0  17975.0  10631.0  20971.0  1119.0\n",
      "7   3861.0  11458.0  4813.0  10223.0   7723.0  17926.0  2223.0\n",
      "8   3350.0   5083.0  4523.0  16774.0   6174.0  13869.0  2135.0\n",
      "9      NaN      NaN     NaN      NaN      NaN      NaN     NaN\n",
      "10  3529.0   9251.0  3396.0  17384.0  10383.0  12589.0  1141.0\n",
      "11  3478.0   9294.0  4993.0   8795.0  11032.0  10020.0  2210.0\n",
      "12  5994.0   9783.0  4999.0  10570.0   6221.0  20905.0  1524.0\n",
      "13  3733.0   6566.0  4399.0  16970.0   8263.0  17635.0  2008.0\n",
      "14  4472.0  11017.0  4692.0  17755.0   8604.0  18201.0  2397.0\n",
      "15  4724.0   7591.0  4548.0   8533.0   8999.0  19476.0  1654.0\n",
      "16  2160.0  11412.0  3060.0  10093.0  11895.0  15487.0  2289.0\n",
      "17  3679.0  10708.0  3161.0  16402.0   7784.0  11751.0  1404.0\n",
      "18  3176.0   5375.0  3324.0  11214.0   9709.0  15899.0  1988.0\n",
      "19  3175.0   7524.0  4788.0  13125.0   9669.0  16844.0  1992.0\n",
      "20  5730.0   9129.0  3381.0   9174.0   7850.0  12733.0  1188.0\n",
      "21  4543.0   8809.0  4341.0  13649.0   9091.0  24442.0  2371.0\n",
      "22  2511.0   6937.0  3593.0  16234.0   8833.0  13809.0  1117.0\n",
      "23  5186.0   9945.0  4757.0  10319.0   7589.0  12709.0  2134.0\n",
      "24  2278.0  10017.0  3818.0  10822.0   7918.0  17226.0  1570.0\n"
     ]
    }
   ],
   "source": [
    "import pandas as xyz\n",
    "a = xyz.read_csv('Sales.csv')\n",
    "print(a)"
   ]
  },
  {
   "cell_type": "code",
   "execution_count": 3,
   "id": "4e442b82",
   "metadata": {},
   "outputs": [
    {
     "name": "stdout",
     "output_type": "stream",
     "text": [
      "<class 'pandas.core.frame.DataFrame'>\n",
      "RangeIndex: 25 entries, 0 to 24\n",
      "Data columns (total 7 columns):\n",
      " #   Column   Non-Null Count  Dtype  \n",
      "---  ------   --------------  -----  \n",
      " 0   Apple    23 non-null     float64\n",
      " 1   Samsung  23 non-null     float64\n",
      " 2   Nokia    23 non-null     float64\n",
      " 3   Vivo     23 non-null     float64\n",
      " 4   Oppo     23 non-null     float64\n",
      " 5   Mi       23 non-null     float64\n",
      " 6   Sony     23 non-null     float64\n",
      "dtypes: float64(7)\n",
      "memory usage: 1.5 KB\n",
      "None\n"
     ]
    }
   ],
   "source": [
    "print(a.info())"
   ]
  },
  {
   "cell_type": "code",
   "execution_count": null,
   "id": "8a8920be",
   "metadata": {},
   "outputs": [],
   "source": []
  }
 ],
 "metadata": {
  "kernelspec": {
   "display_name": "Python 3",
   "language": "python",
   "name": "python3"
  },
  "language_info": {
   "codemirror_mode": {
    "name": "ipython",
    "version": 3
   },
   "file_extension": ".py",
   "mimetype": "text/x-python",
   "name": "python",
   "nbconvert_exporter": "python",
   "pygments_lexer": "ipython3",
   "version": "3.8.8"
  }
 },
 "nbformat": 4,
 "nbformat_minor": 5
}
