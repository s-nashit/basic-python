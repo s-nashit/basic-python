{
 "cells": [
  {
   "cell_type": "markdown",
   "id": "f220f713",
   "metadata": {},
   "source": [
    "mongodb://localhost:27017"
   ]
  },
  {
   "cell_type": "code",
   "execution_count": null,
   "id": "5140c061",
   "metadata": {},
   "outputs": [],
   "source": [
    "import pymongo"
   ]
  },
  {
   "cell_type": "code",
   "execution_count": null,
   "id": "a5ed0d65",
   "metadata": {},
   "outputs": [],
   "source": [
    "conn = pymongo.MongoClient()"
   ]
  },
  {
   "cell_type": "code",
   "execution_count": null,
   "id": "45de84e9",
   "metadata": {},
   "outputs": [],
   "source": [
    "db = conn['nashit']"
   ]
  },
  {
   "cell_type": "code",
   "execution_count": null,
   "id": "dfc005b2",
   "metadata": {},
   "outputs": [],
   "source": [
    "print(conn.list_database_names())"
   ]
  },
  {
   "cell_type": "code",
   "execution_count": null,
   "id": "76d508a1",
   "metadata": {},
   "outputs": [],
   "source": [
    "a = conn.list_database_names()\n",
    "for i in a:print(i)"
   ]
  },
  {
   "cell_type": "code",
   "execution_count": null,
   "id": "f99f4bbb",
   "metadata": {},
   "outputs": [],
   "source": [
    "coll = db['students']"
   ]
  },
  {
   "cell_type": "code",
   "execution_count": null,
   "id": "8c6f0f28",
   "metadata": {},
   "outputs": [],
   "source": [
    "print(db.list_collection_names())"
   ]
  },
  {
   "cell_type": "code",
   "execution_count": null,
   "id": "df4f4151",
   "metadata": {},
   "outputs": [],
   "source": [
    "a =conn['adit']"
   ]
  },
  {
   "cell_type": "code",
   "execution_count": null,
   "id": "3ed2b045",
   "metadata": {},
   "outputs": [],
   "source": [
    "b = a.list_collection_names()\n",
    "for i in b:print(i)"
   ]
  },
  {
   "cell_type": "markdown",
   "id": "68231977",
   "metadata": {},
   "source": [
    "database -> db\n",
    "collection -> coll\n",
    "connection -> conn"
   ]
  },
  {
   "cell_type": "code",
   "execution_count": null,
   "id": "dc0d7bbc",
   "metadata": {},
   "outputs": [],
   "source": [
    "a = conn.list_database_names()\n",
    "if 'nashit' in a:print('created successfully!')\n",
    "else:print('unable to create')"
   ]
  },
  {
   "cell_type": "code",
   "execution_count": null,
   "id": "a56fbe71",
   "metadata": {},
   "outputs": [],
   "source": [
    "b = db.list_collection_names()\n",
    "if 'students' in b:print('ok')\n",
    "else:print('unable to find')"
   ]
  },
  {
   "cell_type": "code",
   "execution_count": null,
   "id": "d8df061e",
   "metadata": {},
   "outputs": [],
   "source": [
    "c = {'name':'Mukesh', 'age':18, 'laptop':True}\n",
    "coll.insert_one(c)\n",
    "print('inserted successfully')"
   ]
  },
  {
   "cell_type": "code",
   "execution_count": null,
   "id": "1f405b24",
   "metadata": {},
   "outputs": [],
   "source": [
    "a = conn.list_database_names()\n",
    "if 'nashit' in a:print('created successfully!')\n",
    "else:print('unable to create')"
   ]
  },
  {
   "cell_type": "code",
   "execution_count": null,
   "id": "1f954315",
   "metadata": {},
   "outputs": [],
   "source": [
    "b = db.list_collection_names()\n",
    "if 'students' in b:print('ok')\n",
    "else:print('unable to find')"
   ]
  },
  {
   "cell_type": "code",
   "execution_count": null,
   "id": "55b4f8d5",
   "metadata": {},
   "outputs": [],
   "source": [
    "e = [\n",
    "    {'name':'Aditya', 'age': 19},\n",
    "    {'name':'Annapurna', 'age':19},\n",
    "    {'name': 'Anjali', 'age':19}\n",
    "    ]\n",
    "coll.insert_many(e)"
   ]
  },
  {
   "cell_type": "code",
   "execution_count": null,
   "id": "06ae6a5d",
   "metadata": {},
   "outputs": [],
   "source": [
    "f = {'_id':1, 'name':'Damodar', 'age':20}\n",
    "coll.insert_one(f)"
   ]
  },
  {
   "cell_type": "code",
   "execution_count": null,
   "id": "c52d1dcb",
   "metadata": {},
   "outputs": [],
   "source": [
    "g = {'_id':'AD01FY23', 'name':'Peter', 'age':200}\n",
    "coll.insert_one(g)"
   ]
  },
  {
   "cell_type": "code",
   "execution_count": null,
   "id": "1cca58cc",
   "metadata": {},
   "outputs": [],
   "source": [
    "coll.find_one()"
   ]
  },
  {
   "cell_type": "code",
   "execution_count": null,
   "id": "6dd6fbb3",
   "metadata": {},
   "outputs": [],
   "source": [
    "h = coll.find()\n",
    "print(h)"
   ]
  },
  {
   "cell_type": "code",
   "execution_count": null,
   "id": "c665b7b0",
   "metadata": {},
   "outputs": [],
   "source": [
    "coll.find()"
   ]
  },
  {
   "cell_type": "code",
   "execution_count": null,
   "id": "b0279884",
   "metadata": {},
   "outputs": [],
   "source": [
    "for i in coll.find():print(i)"
   ]
  },
  {
   "cell_type": "code",
   "execution_count": null,
   "id": "c9bbde1e",
   "metadata": {},
   "outputs": [],
   "source": [
    "for i in coll.find({'age':19}):print(i)"
   ]
  },
  {
   "cell_type": "code",
   "execution_count": null,
   "id": "3301c47a",
   "metadata": {},
   "outputs": [],
   "source": [
    "j = {'age':{'$gt':19}}\n",
    "for i in coll.find(j):print(i)"
   ]
  },
  {
   "cell_type": "code",
   "execution_count": null,
   "id": "cc9d198b",
   "metadata": {},
   "outputs": [],
   "source": [
    "for i in coll.find().sort('age'):print(i)"
   ]
  },
  {
   "cell_type": "code",
   "execution_count": null,
   "id": "9d27e90d",
   "metadata": {},
   "outputs": [],
   "source": [
    "for i in coll.find().sort('name', -1):print(i)"
   ]
  },
  {
   "cell_type": "code",
   "execution_count": null,
   "id": "c0e26a22",
   "metadata": {},
   "outputs": [],
   "source": [
    "coll.delete_one({'age':200})"
   ]
  },
  {
   "cell_type": "markdown",
   "id": "814a9b09",
   "metadata": {},
   "source": [
    "OOP - > similar data/values; methods, multiple times"
   ]
  },
  {
   "cell_type": "code",
   "execution_count": 1,
   "id": "25874b56",
   "metadata": {},
   "outputs": [
    {
     "name": "stdout",
     "output_type": "stream",
     "text": [
      "5\n"
     ]
    },
    {
     "data": {
      "text/plain": [
       "<__main__.varia at 0x244e2977790>"
      ]
     },
     "execution_count": 1,
     "metadata": {},
     "output_type": "execute_result"
    }
   ],
   "source": [
    "class varia:\n",
    "    print(5)\n",
    "\n",
    "a = varia()\n",
    "a"
   ]
  },
  {
   "cell_type": "code",
   "execution_count": 2,
   "id": "818b57a2",
   "metadata": {},
   "outputs": [
    {
     "name": "stdout",
     "output_type": "stream",
     "text": [
      "Welcome\n"
     ]
    },
    {
     "data": {
      "text/plain": [
       "<__main__.wel at 0x244e2977280>"
      ]
     },
     "execution_count": 2,
     "metadata": {},
     "output_type": "execute_result"
    }
   ],
   "source": [
    "class wel:\n",
    "    print('Welcome')\n",
    "a = wel()\n",
    "a"
   ]
  },
  {
   "cell_type": "code",
   "execution_count": 3,
   "id": "30a9533e",
   "metadata": {},
   "outputs": [
    {
     "name": "stdout",
     "output_type": "stream",
     "text": [
      "welcome Nashit\n"
     ]
    }
   ],
   "source": [
    "class wel:\n",
    "    def __init__(self, name):\n",
    "        print('welcome '+name)\n",
    "\n",
    "a = wel('Nashit')\n"
   ]
  },
  {
   "cell_type": "code",
   "execution_count": 4,
   "id": "68cdee96",
   "metadata": {},
   "outputs": [
    {
     "name": "stdout",
     "output_type": "stream",
     "text": [
      "13\n",
      "-3\n",
      "40\n",
      "0.625\n",
      "390625\n"
     ]
    }
   ],
   "source": [
    "class suma:\n",
    "    def __init__(self, a, b):\n",
    "        print(a+b)\n",
    "        print(a-b)\n",
    "        print(a*b)\n",
    "        print(a/b)\n",
    "        print(a**b)\n",
    "\n",
    "obj = suma(5, 8)"
   ]
  },
  {
   "cell_type": "code",
   "execution_count": 5,
   "id": "238b2888",
   "metadata": {},
   "outputs": [],
   "source": [
    "#Empty Class\n",
    "\n",
    "class Students:\n",
    "    pass\n",
    "\n",
    "#Object\n",
    "st1 =Students()\n",
    "st2 = Students()\n",
    "st3 = Students()"
   ]
  },
  {
   "cell_type": "code",
   "execution_count": 6,
   "id": "702abab1",
   "metadata": {},
   "outputs": [
    {
     "name": "stdout",
     "output_type": "stream",
     "text": [
      "<__main__.Students object at 0x00000244E2977250>\n"
     ]
    }
   ],
   "source": [
    "print(st1)"
   ]
  },
  {
   "cell_type": "code",
   "execution_count": 7,
   "id": "dd088596",
   "metadata": {},
   "outputs": [
    {
     "name": "stdout",
     "output_type": "stream",
     "text": [
      "<__main__.Students object at 0x00000244E2975990>\n"
     ]
    }
   ],
   "source": [
    "print(st2)"
   ]
  },
  {
   "cell_type": "code",
   "execution_count": 8,
   "id": "71f02240",
   "metadata": {},
   "outputs": [
    {
     "name": "stdout",
     "output_type": "stream",
     "text": [
      "<__main__.Students object at 0x00000244E2977250>\n"
     ]
    }
   ],
   "source": [
    "print(st1)"
   ]
  },
  {
   "cell_type": "code",
   "execution_count": 9,
   "id": "af9517ce",
   "metadata": {},
   "outputs": [],
   "source": [
    "#Attributes assignment\n",
    "st1.name = 'mukesh'\n",
    "st1.age = 19\n",
    "st1.email = 'mk@abc.com'"
   ]
  },
  {
   "cell_type": "code",
   "execution_count": 10,
   "id": "e63cdc24",
   "metadata": {},
   "outputs": [
    {
     "data": {
      "text/plain": [
       "19"
      ]
     },
     "execution_count": 10,
     "metadata": {},
     "output_type": "execute_result"
    }
   ],
   "source": [
    "st1.age"
   ]
  },
  {
   "cell_type": "code",
   "execution_count": 11,
   "id": "8c44a8d8",
   "metadata": {},
   "outputs": [
    {
     "ename": "AttributeError",
     "evalue": "'Students' object has no attribute 'age'",
     "output_type": "error",
     "traceback": [
      "\u001b[1;31m---------------------------------------------------------------------------\u001b[0m",
      "\u001b[1;31mAttributeError\u001b[0m                            Traceback (most recent call last)",
      "Cell \u001b[1;32mIn[11], line 1\u001b[0m\n\u001b[1;32m----> 1\u001b[0m \u001b[43mst2\u001b[49m\u001b[38;5;241;43m.\u001b[39;49m\u001b[43mage\u001b[49m\n",
      "\u001b[1;31mAttributeError\u001b[0m: 'Students' object has no attribute 'age'"
     ]
    }
   ],
   "source": [
    "st2.age"
   ]
  },
  {
   "cell_type": "code",
   "execution_count": 20,
   "id": "39f8e1b2",
   "metadata": {},
   "outputs": [
    {
     "name": "stdout",
     "output_type": "stream",
     "text": [
      "ashish@gmail.com\n"
     ]
    }
   ],
   "source": [
    "class Students:\n",
    "    def __init__(self, name, age, mail):\n",
    "        self.name=name\n",
    "        self.age = age\n",
    "        self.email = mail\n",
    "        \n",
    "st1 = Students('ashish', 19, 'ashish@gmail.com')\n",
    "print(st1.email)"
   ]
  },
  {
   "cell_type": "code",
   "execution_count": 21,
   "id": "68358541",
   "metadata": {},
   "outputs": [],
   "source": [
    "#objects are instances of classes\n",
    "#ranjitkajraitha@gmail.com"
   ]
  },
  {
   "cell_type": "code",
   "execution_count": 57,
   "id": "90c1d144",
   "metadata": {},
   "outputs": [],
   "source": [
    "class Students:\n",
    "    def __init__(self, first, last, age, city, stipend):\n",
    "        self.first =first\n",
    "        self.last = last\n",
    "        self.age=age\n",
    "        self.city=city\n",
    "        self.stipend = stipend\n",
    "        self.mail = first+city+'@gmail.com'\n",
    "        self.increment = 0.05*stipend+stipend\n",
    "    \n",
    "    def fullname(self):\n",
    "        return '{} {}'.format(self.first, self.last)\n",
    "    \n",
    "    def stip(self):\n",
    "        return 0.05*self.stipend\n",
    "\n",
    "st1 = Students('Ranjit', 'Kumar', 19, 'Kajraitha', 12000)\n",
    "st2 = Students('Shrey', 'Kumar', 20, 'Patna', 16000)\n"
   ]
  },
  {
   "cell_type": "code",
   "execution_count": 58,
   "id": "c9c22848",
   "metadata": {},
   "outputs": [
    {
     "data": {
      "text/plain": [
       "'RanjitKajraitha@gmail.com'"
      ]
     },
     "execution_count": 58,
     "metadata": {},
     "output_type": "execute_result"
    }
   ],
   "source": [
    "st1.mail"
   ]
  },
  {
   "cell_type": "code",
   "execution_count": 59,
   "id": "dfb5f9eb",
   "metadata": {},
   "outputs": [
    {
     "data": {
      "text/plain": [
       "'ShreyPatna@gmail.com'"
      ]
     },
     "execution_count": 59,
     "metadata": {},
     "output_type": "execute_result"
    }
   ],
   "source": [
    "st2.mail"
   ]
  },
  {
   "cell_type": "code",
   "execution_count": 60,
   "id": "f68df1f4",
   "metadata": {},
   "outputs": [
    {
     "data": {
      "text/plain": [
       "12600.0"
      ]
     },
     "execution_count": 60,
     "metadata": {},
     "output_type": "execute_result"
    }
   ],
   "source": [
    "st1.increment"
   ]
  },
  {
   "cell_type": "code",
   "execution_count": 61,
   "id": "a095c58c",
   "metadata": {},
   "outputs": [
    {
     "data": {
      "text/plain": [
       "'Ranjit Kumar'"
      ]
     },
     "execution_count": 61,
     "metadata": {},
     "output_type": "execute_result"
    }
   ],
   "source": [
    "Students.fullname(st1)"
   ]
  },
  {
   "cell_type": "code",
   "execution_count": 62,
   "id": "af966063",
   "metadata": {},
   "outputs": [
    {
     "data": {
      "text/plain": [
       "'Shrey Kumar'"
      ]
     },
     "execution_count": 62,
     "metadata": {},
     "output_type": "execute_result"
    }
   ],
   "source": [
    "Students.fullname(st2)"
   ]
  },
  {
   "cell_type": "code",
   "execution_count": 63,
   "id": "62637476",
   "metadata": {},
   "outputs": [
    {
     "data": {
      "text/plain": [
       "600.0"
      ]
     },
     "execution_count": 63,
     "metadata": {},
     "output_type": "execute_result"
    }
   ],
   "source": [
    "Students.stip(st1)"
   ]
  },
  {
   "cell_type": "code",
   "execution_count": 64,
   "id": "a05291f6",
   "metadata": {},
   "outputs": [
    {
     "data": {
      "text/plain": [
       "800.0"
      ]
     },
     "execution_count": 64,
     "metadata": {},
     "output_type": "execute_result"
    }
   ],
   "source": [
    "Students.stip(st2)"
   ]
  },
  {
   "cell_type": "code",
   "execution_count": 65,
   "id": "b072d3bd",
   "metadata": {},
   "outputs": [
    {
     "data": {
      "text/plain": [
       "'Shrey Kumar'"
      ]
     },
     "execution_count": 65,
     "metadata": {},
     "output_type": "execute_result"
    }
   ],
   "source": [
    "st2.fullname()"
   ]
  },
  {
   "cell_type": "code",
   "execution_count": 67,
   "id": "f2505b3c",
   "metadata": {},
   "outputs": [
    {
     "data": {
      "text/plain": [
       "600.0"
      ]
     },
     "execution_count": 67,
     "metadata": {},
     "output_type": "execute_result"
    }
   ],
   "source": [
    "st1.stip()"
   ]
  },
  {
   "cell_type": "code",
   "execution_count": 86,
   "id": "b4b60b46",
   "metadata": {},
   "outputs": [],
   "source": [
    "class NSTI:\n",
    "    def __init__(self, city):\n",
    "        self.city=city\n",
    "    def hello(self):\n",
    "        return 'welcome to {}'.format(self.city)\n",
    "    \n",
    "class CITS(NSTI):\n",
    "    def __init__(self, dept,city):\n",
    "        self.dept = dept\n",
    "        self.city=city\n",
    "    def wel(self):\n",
    "        return 'you are admitted to {}'.format(self.dept)\n",
    "    \n",
    "    "
   ]
  },
  {
   "cell_type": "code",
   "execution_count": 87,
   "id": "2f76ad5a",
   "metadata": {},
   "outputs": [
    {
     "data": {
      "text/plain": [
       "'welcome to Patna'"
      ]
     },
     "execution_count": 87,
     "metadata": {},
     "output_type": "execute_result"
    }
   ],
   "source": [
    "n1 = NSTI('Patna')\n",
    "n1.hello()"
   ]
  },
  {
   "cell_type": "code",
   "execution_count": 88,
   "id": "f148cc49",
   "metadata": {},
   "outputs": [],
   "source": [
    "c1 = CITS('COPA', 'Allahabad')"
   ]
  },
  {
   "cell_type": "code",
   "execution_count": 89,
   "id": "3968e421",
   "metadata": {},
   "outputs": [
    {
     "data": {
      "text/plain": [
       "'you are admitted to COPA'"
      ]
     },
     "execution_count": 89,
     "metadata": {},
     "output_type": "execute_result"
    }
   ],
   "source": [
    "c1.wel()"
   ]
  },
  {
   "cell_type": "code",
   "execution_count": 90,
   "id": "bba8f5f6",
   "metadata": {},
   "outputs": [
    {
     "data": {
      "text/plain": [
       "'welcome to Allahabad'"
      ]
     },
     "execution_count": 90,
     "metadata": {},
     "output_type": "execute_result"
    }
   ],
   "source": [
    "c1.hello()"
   ]
  },
  {
   "cell_type": "code",
   "execution_count": 100,
   "id": "79c7c800",
   "metadata": {},
   "outputs": [
    {
     "data": {
      "text/plain": [
       "set"
      ]
     },
     "execution_count": 100,
     "metadata": {},
     "output_type": "execute_result"
    }
   ],
   "source": [
    "type({8, 5})"
   ]
  },
  {
   "cell_type": "code",
   "execution_count": 110,
   "id": "9823a989",
   "metadata": {},
   "outputs": [],
   "source": [
    "class ADIT:\n",
    "    def subj(self):\n",
    "        print('[HTML, CSS, JS, PHP]')\n",
    "    def loc(self):\n",
    "        print('[ALD, KNP, DDN, PAT]')\n",
    "\n",
    "class COPA:\n",
    "    def subj(self):\n",
    "        print('[HTML, CSS, Network]')\n",
    "    def loc(self):\n",
    "        print('[MUM, HYD, NOI]')\n",
    "        \n",
    "        \n",
    "stu = ADIT()\n",
    "stu1 = COPA()"
   ]
  },
  {
   "cell_type": "code",
   "execution_count": 111,
   "id": "cac42835",
   "metadata": {},
   "outputs": [
    {
     "name": "stdout",
     "output_type": "stream",
     "text": [
      "[HTML, CSS, JS, PHP]\n",
      "[HTML, CSS, Network]\n"
     ]
    }
   ],
   "source": [
    "stu.subj()\n",
    "stu1.subj()"
   ]
  },
  {
   "cell_type": "code",
   "execution_count": null,
   "id": "0a680aa2",
   "metadata": {},
   "outputs": [],
   "source": []
  },
  {
   "cell_type": "code",
   "execution_count": null,
   "id": "1515a39a",
   "metadata": {},
   "outputs": [],
   "source": []
  }
 ],
 "metadata": {
  "kernelspec": {
   "display_name": "Python 3 (ipykernel)",
   "language": "python",
   "name": "python3"
  },
  "language_info": {
   "codemirror_mode": {
    "name": "ipython",
    "version": 3
   },
   "file_extension": ".py",
   "mimetype": "text/x-python",
   "name": "python",
   "nbconvert_exporter": "python",
   "pygments_lexer": "ipython3",
   "version": "3.10.11"
  }
 },
 "nbformat": 4,
 "nbformat_minor": 5
}
