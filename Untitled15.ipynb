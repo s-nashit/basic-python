{
 "cells": [
  {
   "cell_type": "code",
   "execution_count": 3,
   "id": "dc0933d0",
   "metadata": {},
   "outputs": [
    {
     "name": "stdout",
     "output_type": "stream",
     "text": [
      "Requirement already satisfied: pandas in c:\\users\\user\\anaconda3\\lib\\site-packages (1.2.4)\n",
      "Requirement already satisfied: python-dateutil>=2.7.3 in c:\\users\\user\\anaconda3\\lib\\site-packages (from pandas) (2.8.1)\n",
      "Requirement already satisfied: numpy>=1.16.5 in c:\\users\\user\\anaconda3\\lib\\site-packages (from pandas) (1.20.1)\n",
      "Requirement already satisfied: pytz>=2017.3 in c:\\users\\user\\anaconda3\\lib\\site-packages (from pandas) (2021.1)\n",
      "Requirement already satisfied: six>=1.5 in c:\\users\\user\\anaconda3\\lib\\site-packages (from python-dateutil>=2.7.3->pandas) (1.15.0)\n",
      "Note: you may need to restart the kernel to use updated packages.\n"
     ]
    }
   ],
   "source": [
    "pip install pandas"
   ]
  },
  {
   "cell_type": "code",
   "execution_count": 10,
   "id": "9d4b8d1a",
   "metadata": {},
   "outputs": [
    {
     "name": "stdout",
     "output_type": "stream",
     "text": [
      "      Name       Subjects  Marks  Month  Year\n",
      "0  Pallavi             AI     80      5  2021\n",
      "1  Paridhi  Data Analysis     85      7  2021\n",
      "2  Parvati     Full Stack     86      8  2021\n",
      "3    Radha   Data Science     84      4  2021\n"
     ]
    }
   ],
   "source": [
    "import pandas as pd\n",
    "a = {'Name': ['Pallavi', 'Paridhi', 'Parvati', 'Radha'], 'Subjects':['AI', 'Data Analysis', 'Full Stack', 'Data Science'], 'Marks': [80, 85, 86, 84], 'Month': [5, 7, 8, 4], 'Year': [2021, 2021, 2021, 2021]}\n",
    "\n",
    "b = pd.DataFrame(a)\n",
    "\n",
    "print(b)"
   ]
  },
  {
   "cell_type": "code",
   "execution_count": 7,
   "id": "a5ff36e2",
   "metadata": {},
   "outputs": [
    {
     "name": "stdout",
     "output_type": "stream",
     "text": [
      "      Name       Subjects  Marks\n",
      "0  Pallavi             AI     80\n",
      "1  Paridhi  Data Analysis     85\n",
      "2  Parvati     Full Stack     86\n",
      "3    Radha   Data Science     84\n"
     ]
    }
   ],
   "source": [
    "import pandas\n",
    "a = {'Name': ['Pallavi', 'Paridhi', 'Parvati', 'Radha'], 'Subjects':['AI', 'Data Analysis', 'Full Stack', 'Data Science'], 'Marks': [80, 85, 86, 84]}\n",
    "\n",
    "c = pandas.DataFrame(a)\n",
    "\n",
    "print(c)"
   ]
  },
  {
   "cell_type": "code",
   "execution_count": 26,
   "id": "f0063afe",
   "metadata": {},
   "outputs": [
    {
     "name": "stdout",
     "output_type": "stream",
     "text": [
      "Name           Parvati\n",
      "Subjects    Full Stack\n",
      "Marks               86\n",
      "Name: 2, dtype: object\n"
     ]
    }
   ],
   "source": [
    "import pandas\n",
    "a = {'Name': ['Pallavi', 'Paridhi', 'Parvati', 'Radha'], 'Subjects':['AI', 'Data Analysis', 'Full Stack', 'Data Science'], 'Marks': [80, 85, 86, 84]}\n",
    "\n",
    "b = pandas.DataFrame(a)\n",
    "\n",
    "\n",
    "print(b.loc[2])\n"
   ]
  },
  {
   "cell_type": "code",
   "execution_count": 15,
   "id": "22d68ca8",
   "metadata": {},
   "outputs": [
    {
     "name": "stdout",
     "output_type": "stream",
     "text": [
      "0    Pallavi\n",
      "1    Paridhi\n",
      "2    Parvati\n",
      "3      Radha\n",
      "dtype: object\n"
     ]
    }
   ],
   "source": [
    "import pandas\n",
    "a = ['Pallavi', 'Paridhi', 'Parvati', 'Radha']\n",
    "\n",
    "b = ['AI', 'Data Analysis', 'Full Stack', 'Data Science']\n",
    "\n",
    "\n",
    "print(pandas.Series(a))"
   ]
  },
  {
   "cell_type": "code",
   "execution_count": 14,
   "id": "f7e731bd",
   "metadata": {},
   "outputs": [
    {
     "name": "stdout",
     "output_type": "stream",
     "text": [
      "0    80\n",
      "1    85\n",
      "2    86\n",
      "3    84\n",
      "dtype: int64\n"
     ]
    }
   ],
   "source": [
    "import pandas as pd\n",
    "\n",
    "d = [80, 85, 86, 84]\n",
    "\n",
    "print(pd.Series(d)) "
   ]
  },
  {
   "cell_type": "code",
   "execution_count": 25,
   "id": "3b11ba6c",
   "metadata": {},
   "outputs": [
    {
     "name": "stdout",
     "output_type": "stream",
     "text": [
      "#    80\n",
      "%    85\n",
      "&    86\n",
      "@    84\n",
      "dtype: int64\n"
     ]
    }
   ],
   "source": [
    "import pandas as pd\n",
    "\n",
    "d = (80, 85, 86, 84)\n",
    "\n",
    "\n",
    "print(pd.Series(d, index= ['#', '%', '&', '@'])) "
   ]
  },
  {
   "cell_type": "code",
   "execution_count": 23,
   "id": "1432a142",
   "metadata": {},
   "outputs": [
    {
     "name": "stdout",
     "output_type": "stream",
     "text": [
      "Apple      4500\n",
      "MI         8900\n",
      "Samsung    6123\n",
      "Nokia      2304\n",
      "dtype: int64\n"
     ]
    }
   ],
   "source": [
    "import pandas as pd\n",
    "\n",
    "sales = {'Apple': 4500, 'MI': 8900, 'Samsung':6123, 'Nokia':2304}\n",
    "\n",
    "print(pd.Series(sales))    #positive / neg+pos  #LIST[], SET{}, TUPLE(), Dict{}"
   ]
  },
  {
   "cell_type": "code",
   "execution_count": 27,
   "id": "a55f55fb",
   "metadata": {},
   "outputs": [
    {
     "ename": "AttributeError",
     "evalue": "'dict' object has no attribute 'loc'",
     "output_type": "error",
     "traceback": [
      "\u001b[1;31m---------------------------------------------------------------------------\u001b[0m",
      "\u001b[1;31mAttributeError\u001b[0m                            Traceback (most recent call last)",
      "\u001b[1;32m<ipython-input-27-1c7381e348d2>\u001b[0m in \u001b[0;36m<module>\u001b[1;34m\u001b[0m\n\u001b[1;32m----> 1\u001b[1;33m \u001b[0mprint\u001b[0m\u001b[1;33m(\u001b[0m\u001b[0msales\u001b[0m\u001b[1;33m.\u001b[0m\u001b[0mloc\u001b[0m\u001b[1;33m[\u001b[0m\u001b[1;36m2\u001b[0m\u001b[1;33m]\u001b[0m\u001b[1;33m)\u001b[0m\u001b[1;33m\u001b[0m\u001b[1;33m\u001b[0m\u001b[0m\n\u001b[0m",
      "\u001b[1;31mAttributeError\u001b[0m: 'dict' object has no attribute 'loc'"
     ]
    }
   ],
   "source": []
  },
  {
   "cell_type": "code",
   "execution_count": 41,
   "id": "cc228414",
   "metadata": {},
   "outputs": [
    {
     "name": "stdout",
     "output_type": "stream",
     "text": [
      "      Name       Subjects  Marks  Month  Year\n",
      "3    Radha   Data Science     84      4  2021\n",
      "1  Paridhi  Data Analysis     85      7  2021\n"
     ]
    }
   ],
   "source": [
    "import pandas\n",
    "a = {'Name': ['Pallavi', 'Paridhi', 'Parvati', 'Radha'], 'Subjects':['AI', 'Data Analysis', 'Full Stack', 'Data Science'], 'Marks': [80, 85, 86, 84], 'Month': [5, 7, 8, 4], 'Year': [2021, 2021, 2021, 2021]}\n",
    "\n",
    "b = pandas.DataFrame(a)\n",
    "\n",
    "print(b.loc[[3,1]])"
   ]
  },
  {
   "cell_type": "code",
   "execution_count": 42,
   "id": "6c9d5ea6",
   "metadata": {},
   "outputs": [
    {
     "name": "stdout",
     "output_type": "stream",
     "text": [
      "  Name      Phone\n",
      "0  AAA   23232323\n",
      "1   BB      55555\n",
      "2   CC  554184521\n",
      "3   DD    5585615\n"
     ]
    }
   ],
   "source": [
    "import pandas as pd\n",
    "\n",
    "a = pd.read_csv('ABCD.csv')\n",
    "print(a)"
   ]
  },
  {
   "cell_type": "code",
   "execution_count": 43,
   "id": "fcbcad15",
   "metadata": {},
   "outputs": [
    {
     "name": "stdout",
     "output_type": "stream",
     "text": [
      "    Training No Training Dates  Actual Participants\n",
      "0    Training 1      Dec 12-13                   37\n",
      "1    Training 2      Dec 19-20                   43\n",
      "2    Training 3      Dec 26-27                   32\n",
      "3    Training 4      Jan 06-07                   12\n",
      "4    Training 5      Jan 09-10                   42\n",
      "5    Training 6      Jan 21-22                   31\n",
      "6    Training 7      jan 27-28                   23\n",
      "7    Training 8      Feb 06-07                   13\n",
      "8    Training 9      Feb 09-10                    9\n",
      "9   Training 10      Feb 12-13                   12\n",
      "10  Training 11      Feb 25-26                   10\n",
      "11  Training 12       Mar03-04                   22\n",
      "12  Training 13      Mar 12-13                   23\n"
     ]
    }
   ],
   "source": [
    "import pandas as pd\n",
    "\n",
    "a = pd.read_csv('Participants.csv')\n",
    "print(a)"
   ]
  },
  {
   "cell_type": "code",
   "execution_count": null,
   "id": "80e168bc",
   "metadata": {},
   "outputs": [],
   "source": []
  }
 ],
 "metadata": {
  "kernelspec": {
   "display_name": "Python 3",
   "language": "python",
   "name": "python3"
  },
  "language_info": {
   "codemirror_mode": {
    "name": "ipython",
    "version": 3
   },
   "file_extension": ".py",
   "mimetype": "text/x-python",
   "name": "python",
   "nbconvert_exporter": "python",
   "pygments_lexer": "ipython3",
   "version": "3.8.8"
  }
 },
 "nbformat": 4,
 "nbformat_minor": 5
}
