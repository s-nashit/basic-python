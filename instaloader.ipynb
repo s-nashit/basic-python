{
 "cells": [
  {
   "cell_type": "code",
   "execution_count": 1,
   "id": "e38bc107",
   "metadata": {},
   "outputs": [
    {
     "ename": "SystemExit",
     "evalue": "No Firefox cookies.sqlite file found. Use -c COOKIEFILE.",
     "output_type": "error",
     "traceback": [
      "An exception has occurred, use %tb to see the full traceback.\n",
      "\u001b[1;31mSystemExit\u001b[0m\u001b[1;31m:\u001b[0m No Firefox cookies.sqlite file found. Use -c COOKIEFILE.\n"
     ]
    },
    {
     "name": "stderr",
     "output_type": "stream",
     "text": [
      "C:\\Users\\s_nas\\AppData\\Local\\Programs\\Python\\Python311\\Lib\\site-packages\\IPython\\core\\interactiveshell.py:3513: UserWarning: To exit: use 'exit', 'quit', or Ctrl-D.\n",
      "  warn(\"To exit: use 'exit', 'quit', or Ctrl-D.\", stacklevel=1)\n"
     ]
    }
   ],
   "source": [
    "from argparse import ArgumentParser\n",
    "from glob import glob\n",
    "from os.path import expanduser\n",
    "from platform import system\n",
    "from sqlite3 import OperationalError, connect\n",
    "\n",
    "try:\n",
    "    from instaloader import ConnectionException, Instaloader\n",
    "except ModuleNotFoundError:\n",
    "    raise SystemExit(\"Instaloader not found.\\n  pip install [--user] instaloader\")\n",
    "\n",
    "\n",
    "def get_cookiefile():\n",
    "    default_cookiefile = {\n",
    "        \"Windows\": \"~/AppData/Roaming/Mozilla/Firefox/Profiles/*/cookies.sqlite\",\n",
    "        \"Darwin\": \"~/Library/Application Support/Firefox/Profiles/*/cookies.sqlite\",\n",
    "    }.get(system(), \"~/.mozilla/firefox/*/cookies.sqlite\")\n",
    "    cookiefiles = glob(expanduser(default_cookiefile))\n",
    "    if not cookiefiles:\n",
    "        raise SystemExit(\"No Firefox cookies.sqlite file found. Use -c COOKIEFILE.\")\n",
    "    return cookiefiles[0]\n",
    "\n",
    "\n",
    "def import_session(cookiefile, sessionfile):\n",
    "    print(\"Using cookies from {}.\".format(cookiefile))\n",
    "    conn = connect(f\"file:{cookiefile}?immutable=1\", uri=True)\n",
    "    try:\n",
    "        cookie_data = conn.execute(\n",
    "            \"SELECT name, value FROM moz_cookies WHERE baseDomain='instagram.com'\"\n",
    "        )\n",
    "    except OperationalError:\n",
    "        cookie_data = conn.execute(\n",
    "            \"SELECT name, value FROM moz_cookies WHERE host LIKE '%instagram.com'\"\n",
    "        )\n",
    "    instaloader = Instaloader(max_connection_attempts=1)\n",
    "    instaloader.context._session.cookies.update(cookie_data)\n",
    "    username = instaloader.test_login()\n",
    "    if not username:\n",
    "        raise SystemExit(\"Not logged in. Are you logged in successfully in Firefox?\")\n",
    "    print(\"Imported session cookie for {}.\".format(username))\n",
    "    instaloader.context.username = username\n",
    "    instaloader.save_session_to_file(sessionfile)\n",
    "\n",
    "\n",
    "if __name__ == \"__main__\":\n",
    "    p = ArgumentParser()\n",
    "    p.add_argument(\"-c\", \"--cookiefile\")\n",
    "    p.add_argument(\"-f\", \"--sessionfile\")\n",
    "    args = p.parse_args()\n",
    "    try:\n",
    "        import_session(args.cookiefile or get_cookiefile(), args.sessionfile)\n",
    "    except (ConnectionException, OperationalError) as e:\n",
    "        raise SystemExit(\"Cookie import failed: {}\".format(e))\n"
   ]
  },
  {
   "cell_type": "code",
   "execution_count": null,
   "id": "803f6747",
   "metadata": {},
   "outputs": [],
   "source": []
  }
 ],
 "metadata": {
  "kernelspec": {
   "display_name": "Python 3 (ipykernel)",
   "language": "python",
   "name": "python3"
  },
  "language_info": {
   "codemirror_mode": {
    "name": "ipython",
    "version": 3
   },
   "file_extension": ".py",
   "mimetype": "text/x-python",
   "name": "python",
   "nbconvert_exporter": "python",
   "pygments_lexer": "ipython3",
   "version": "3.11.2"
  }
 },
 "nbformat": 4,
 "nbformat_minor": 5
}
