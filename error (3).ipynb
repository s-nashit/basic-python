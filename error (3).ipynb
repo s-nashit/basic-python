{
 "cells": [
  {
   "cell_type": "code",
   "execution_count": 8,
   "id": "8016bfeb",
   "metadata": {},
   "outputs": [
    {
     "name": "stdout",
     "output_type": "stream",
     "text": [
      "name 'Print' is not defined\n"
     ]
    }
   ],
   "source": [
    "try:\n",
    "    #import tensor\n",
    "    #print(10/0)\n",
    "    #print(a)\n",
    "    #Print(5)\n",
    "except Exception as e:\n",
    "    print(e)"
   ]
  },
  {
   "cell_type": "code",
   "execution_count": 10,
   "id": "dba78113",
   "metadata": {},
   "outputs": [
    {
     "name": "stdout",
     "output_type": "stream",
     "text": [
      "Please enter your age b\n",
      "The input is not a valid number\n",
      "Please enter your age 20\n",
      "The entered input is a number and that is 20\n"
     ]
    }
   ],
   "source": [
    "validInt = False \n",
    "while not validInt:\n",
    "    age1 = input('Please enter your age ')\n",
    "    if age1.isdigit():\n",
    "        validInt = True \n",
    "    else: print('The input is not a valid number')\n",
    "        \n",
    "print('The entered input is a number and that is ' + str(age1))"
   ]
  },
  {
   "cell_type": "code",
   "execution_count": 16,
   "id": "26d1d53e",
   "metadata": {},
   "outputs": [
    {
     "data": {
      "text/plain": [
       "True"
      ]
     },
     "execution_count": 16,
     "metadata": {},
     "output_type": "execute_result"
    }
   ],
   "source": [
    "a = '5154'\n",
    "a.isdigit()"
   ]
  },
  {
   "cell_type": "code",
   "execution_count": 18,
   "id": "9c7305fd",
   "metadata": {},
   "outputs": [
    {
     "name": "stdout",
     "output_type": "stream",
     "text": [
      "entergcdf\n",
      "not a number\n"
     ]
    }
   ],
   "source": [
    "a = input('enter')\n",
    "if a.isdigit():\n",
    "    print('a valid number')\n",
    "else:\n",
    "    print('not a number')"
   ]
  },
  {
   "cell_type": "code",
   "execution_count": null,
   "id": "3eaf5958",
   "metadata": {},
   "outputs": [],
   "source": []
  }
 ],
 "metadata": {
  "kernelspec": {
   "display_name": "Python 3 (ipykernel)",
   "language": "python",
   "name": "python3"
  },
  "language_info": {
   "codemirror_mode": {
    "name": "ipython",
    "version": 3
   },
   "file_extension": ".py",
   "mimetype": "text/x-python",
   "name": "python",
   "nbconvert_exporter": "python",
   "pygments_lexer": "ipython3",
   "version": "3.10.11"
  }
 },
 "nbformat": 4,
 "nbformat_minor": 5
}
