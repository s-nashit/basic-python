{
 "cells": [
  {
   "cell_type": "code",
   "execution_count": 1,
   "id": "f2f28e9d-bf69-4f59-9276-81895dfff053",
   "metadata": {},
   "outputs": [
    {
     "name": "stdout",
     "output_type": "stream",
     "text": [
      "Note: you may need to restart the kernel to use updated packages.\n"
     ]
    },
    {
     "name": "stderr",
     "output_type": "stream",
     "text": [
      "ERROR: Could not find a version that satisfies the requirement smtplib (from versions: none)\n",
      "ERROR: No matching distribution found for smtplib\n"
     ]
    }
   ],
   "source": [
    "pip install smtplib"
   ]
  },
  {
   "cell_type": "code",
   "execution_count": 3,
   "id": "fabc6ab0-72dc-4dbb-be8a-c319828bc825",
   "metadata": {},
   "outputs": [],
   "source": [
    "import smtplib\n",
    "import random"
   ]
  },
  {
   "cell_type": "code",
   "execution_count": 24,
   "id": "2409a4e8-1af6-4957-ab1c-c75607be4d44",
   "metadata": {},
   "outputs": [
    {
     "name": "stdout",
     "output_type": "stream",
     "text": [
      "9404\n"
     ]
    }
   ],
   "source": [
    "otp = str(random.randrange(1000, 9999))\n",
    "print(otp)"
   ]
  },
  {
   "cell_type": "code",
   "execution_count": 29,
   "id": "d3408381-03e7-42a2-bbb4-ef26e5470766",
   "metadata": {},
   "outputs": [
    {
     "data": {
      "text/plain": [
       "(221,\n",
       " b'2.0.0 closing connection 21-20020aa79115000000b0068a2d78890csm5657861pfh.68 - gsmtp')"
      ]
     },
     "execution_count": 29,
     "metadata": {},
     "output_type": "execute_result"
    }
   ],
   "source": [
    "server = smtplib.SMTP('smtp.gmail.com', 587)\n",
    "server.starttls()\n",
    "server.login('nashit.jksb@gmail.com', 'utsutcaqhqlttqff')\n",
    "msg = 'Your otp is '+otp\n",
    "server.sendmail('nashit.jksb@gmail.com','s_nashit@hotmail.com', msg)\n",
    "server.quit()\n",
    "\n"
   ]
  },
  {
   "cell_type": "markdown",
   "id": "bfeeb27e-fca4-46ee-bd59-7b8d29e813da",
   "metadata": {},
   "source": [
    "host :  smtp.gmail.com\n",
    "port : 587\n",
    "tls : True\n",
    "username: nashit.jksb@gmail.com\n",
    "password : generate"
   ]
  },
  {
   "cell_type": "code",
   "execution_count": null,
   "id": "ff8f2f0a-0a82-4f2f-9adb-f1bc35055c6d",
   "metadata": {},
   "outputs": [],
   "source": []
  }
 ],
 "metadata": {
  "kernelspec": {
   "display_name": "Python 3 (ipykernel)",
   "language": "python",
   "name": "python3"
  },
  "language_info": {
   "codemirror_mode": {
    "name": "ipython",
    "version": 3
   },
   "file_extension": ".py",
   "mimetype": "text/x-python",
   "name": "python",
   "nbconvert_exporter": "python",
   "pygments_lexer": "ipython3",
   "version": "3.11.5"
  }
 },
 "nbformat": 4,
 "nbformat_minor": 5
}
