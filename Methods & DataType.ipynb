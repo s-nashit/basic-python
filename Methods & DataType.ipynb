{
 "cells": [
  {
   "cell_type": "markdown",
   "id": "a01d74b8",
   "metadata": {},
   "source": [
    "Tuple"
   ]
  },
  {
   "cell_type": "code",
   "execution_count": 5,
   "id": "9f627f19",
   "metadata": {},
   "outputs": [],
   "source": [
    "a = 8, 6, 5, True, 'nashit'"
   ]
  },
  {
   "cell_type": "code",
   "execution_count": 6,
   "id": "08138024",
   "metadata": {},
   "outputs": [
    {
     "data": {
      "text/plain": [
       "tuple"
      ]
     },
     "execution_count": 6,
     "metadata": {},
     "output_type": "execute_result"
    }
   ],
   "source": [
    "type(a)"
   ]
  },
  {
   "cell_type": "code",
   "execution_count": 7,
   "id": "78abf7fd",
   "metadata": {},
   "outputs": [
    {
     "data": {
      "text/plain": [
       "('Nashit', 8, 'i', True)"
      ]
     },
     "execution_count": 7,
     "metadata": {},
     "output_type": "execute_result"
    }
   ],
   "source": [
    "b = ('Nashit', 8, 'i', True)\n",
    "b"
   ]
  },
  {
   "cell_type": "code",
   "execution_count": 8,
   "id": "4bd01adc",
   "metadata": {},
   "outputs": [
    {
     "data": {
      "text/plain": [
       "4"
      ]
     },
     "execution_count": 8,
     "metadata": {},
     "output_type": "execute_result"
    }
   ],
   "source": [
    "len(b)"
   ]
  },
  {
   "cell_type": "code",
   "execution_count": 10,
   "id": "3d51f72f",
   "metadata": {},
   "outputs": [
    {
     "data": {
      "text/plain": [
       "tuple"
      ]
     },
     "execution_count": 10,
     "metadata": {},
     "output_type": "execute_result"
    }
   ],
   "source": [
    "#tuple constructor tuple()\n",
    "c = tuple()\n",
    "type(c)"
   ]
  },
  {
   "cell_type": "code",
   "execution_count": 13,
   "id": "1bf50b67",
   "metadata": {},
   "outputs": [
    {
     "data": {
      "text/plain": [
       "tuple"
      ]
     },
     "execution_count": 13,
     "metadata": {},
     "output_type": "execute_result"
    }
   ],
   "source": [
    "d = tuple((8, True, 'Mukesh'))\n",
    "type(d)"
   ]
  },
  {
   "cell_type": "code",
   "execution_count": 15,
   "id": "0666a1a4",
   "metadata": {},
   "outputs": [
    {
     "data": {
      "text/plain": [
       "tuple"
      ]
     },
     "execution_count": 15,
     "metadata": {},
     "output_type": "execute_result"
    }
   ],
   "source": [
    "e = 'Aditya', 'Anjali', 'Ankit', 'Annapurna', 'Aprajita'\n",
    "type(e)"
   ]
  },
  {
   "cell_type": "code",
   "execution_count": 20,
   "id": "cb562305",
   "metadata": {},
   "outputs": [
    {
     "data": {
      "text/plain": [
       "'Annapurna'"
      ]
     },
     "execution_count": 20,
     "metadata": {},
     "output_type": "execute_result"
    }
   ],
   "source": [
    "e[-2]"
   ]
  },
  {
   "cell_type": "code",
   "execution_count": 27,
   "id": "9ff6ee30",
   "metadata": {},
   "outputs": [
    {
     "data": {
      "text/plain": [
       "('Aditya', 'Anjali')"
      ]
     },
     "execution_count": 27,
     "metadata": {},
     "output_type": "execute_result"
    }
   ],
   "source": [
    "e[0:2] #start index inclusive/ end index is exclusive"
   ]
  },
  {
   "cell_type": "code",
   "execution_count": 28,
   "id": "bc83ae21",
   "metadata": {},
   "outputs": [
    {
     "data": {
      "text/plain": [
       "('Ankit', 'Annapurna')"
      ]
     },
     "execution_count": 28,
     "metadata": {},
     "output_type": "execute_result"
    }
   ],
   "source": [
    "e[-3:-1]"
   ]
  },
  {
   "cell_type": "code",
   "execution_count": 31,
   "id": "a7a74365",
   "metadata": {},
   "outputs": [
    {
     "data": {
      "text/plain": [
       "('Aditya', 'Anjali', 'Ankit', 'Annapurna', 'Aprajita')"
      ]
     },
     "execution_count": 31,
     "metadata": {},
     "output_type": "execute_result"
    }
   ],
   "source": [
    "e"
   ]
  },
  {
   "cell_type": "code",
   "execution_count": 30,
   "id": "d8324e8d",
   "metadata": {},
   "outputs": [
    {
     "data": {
      "text/plain": [
       "('Ankit', 'Annapurna', 'Aprajita')"
      ]
     },
     "execution_count": 30,
     "metadata": {},
     "output_type": "execute_result"
    }
   ],
   "source": [
    "e[2:]"
   ]
  },
  {
   "cell_type": "code",
   "execution_count": 32,
   "id": "f0465ea3",
   "metadata": {},
   "outputs": [
    {
     "data": {
      "text/plain": [
       "('Aditya', 'Anjali', 'Ankit')"
      ]
     },
     "execution_count": 32,
     "metadata": {},
     "output_type": "execute_result"
    }
   ],
   "source": [
    "e[:3]"
   ]
  },
  {
   "cell_type": "code",
   "execution_count": 33,
   "id": "07e785a3",
   "metadata": {},
   "outputs": [
    {
     "data": {
      "text/plain": [
       "('Aditya', 'Anjali', 'Ankit', 'Annapurna', 'Aprajita')"
      ]
     },
     "execution_count": 33,
     "metadata": {},
     "output_type": "execute_result"
    }
   ],
   "source": [
    "e"
   ]
  },
  {
   "cell_type": "code",
   "execution_count": 35,
   "id": "9c4e5a4f",
   "metadata": {},
   "outputs": [
    {
     "data": {
      "text/plain": [
       "['Aditya', 'Anjali', 'Ankit', 'Annapurna', 'Aprajita']"
      ]
     },
     "execution_count": 35,
     "metadata": {},
     "output_type": "execute_result"
    }
   ],
   "source": [
    "f = list(e)\n",
    "f"
   ]
  },
  {
   "cell_type": "code",
   "execution_count": 36,
   "id": "9d4995b2",
   "metadata": {},
   "outputs": [
    {
     "data": {
      "text/plain": [
       "[8, 'Anjali', 'Ankit', 'Annapurna', 'Aprajita']"
      ]
     },
     "execution_count": 36,
     "metadata": {},
     "output_type": "execute_result"
    }
   ],
   "source": [
    "f[0]=8\n",
    "f"
   ]
  },
  {
   "cell_type": "code",
   "execution_count": 38,
   "id": "75ffd71a",
   "metadata": {},
   "outputs": [
    {
     "data": {
      "text/plain": [
       "(8, 'Anjali', 'Ankit', 'Annapurna', 'Aprajita')"
      ]
     },
     "execution_count": 38,
     "metadata": {},
     "output_type": "execute_result"
    }
   ],
   "source": [
    "g = tuple(f)\n",
    "g\n",
    "#immutable"
   ]
  },
  {
   "cell_type": "code",
   "execution_count": 40,
   "id": "cc51850b",
   "metadata": {},
   "outputs": [],
   "source": [
    "f.append(2.2)"
   ]
  },
  {
   "cell_type": "code",
   "execution_count": 41,
   "id": "dbad3ffe",
   "metadata": {},
   "outputs": [
    {
     "data": {
      "text/plain": [
       "(8, 'Anjali', 'Ankit', 'Annapurna', 'Aprajita', 2.2)"
      ]
     },
     "execution_count": 41,
     "metadata": {},
     "output_type": "execute_result"
    }
   ],
   "source": [
    "g = tuple(f)\n",
    "g"
   ]
  },
  {
   "cell_type": "code",
   "execution_count": 42,
   "id": "3977daf8",
   "metadata": {},
   "outputs": [],
   "source": [
    "a = 5, 8, 6\n",
    "b = 'hello', 'u', 'x', 'c'"
   ]
  },
  {
   "cell_type": "code",
   "execution_count": 43,
   "id": "2ea20452",
   "metadata": {},
   "outputs": [
    {
     "data": {
      "text/plain": [
       "(5, 8, 6, 'hello', 'u', 'x', 'c')"
      ]
     },
     "execution_count": 43,
     "metadata": {},
     "output_type": "execute_result"
    }
   ],
   "source": [
    "a+b"
   ]
  },
  {
   "cell_type": "code",
   "execution_count": 44,
   "id": "7ed591e7",
   "metadata": {},
   "outputs": [
    {
     "data": {
      "text/plain": [
       "(5, 8, 6, 5, 8, 6, 5, 8, 6)"
      ]
     },
     "execution_count": 44,
     "metadata": {},
     "output_type": "execute_result"
    }
   ],
   "source": [
    "a*3"
   ]
  },
  {
   "cell_type": "code",
   "execution_count": 45,
   "id": "d86c7e6b",
   "metadata": {},
   "outputs": [
    {
     "data": {
      "text/plain": [
       "('hello', 'u', 'x', 'c', 'hello', 'u', 'x', 'c', 'hello', 'u', 'x', 'c')"
      ]
     },
     "execution_count": 45,
     "metadata": {},
     "output_type": "execute_result"
    }
   ],
   "source": [
    "b*3"
   ]
  },
  {
   "cell_type": "markdown",
   "id": "16023470",
   "metadata": {},
   "source": [
    "Set - unchangeable, add/delete"
   ]
  },
  {
   "cell_type": "code",
   "execution_count": 47,
   "id": "9752d338",
   "metadata": {},
   "outputs": [
    {
     "data": {
      "text/plain": [
       "{2, 4, 8, 'Mukesh', True}"
      ]
     },
     "execution_count": 47,
     "metadata": {},
     "output_type": "execute_result"
    }
   ],
   "source": [
    "a = {8, 4, 'Mukesh', True, 2, 8}\n",
    "a"
   ]
  },
  {
   "cell_type": "code",
   "execution_count": 50,
   "id": "24e17a82",
   "metadata": {},
   "outputs": [
    {
     "data": {
      "text/plain": [
       "set"
      ]
     },
     "execution_count": 50,
     "metadata": {},
     "output_type": "execute_result"
    }
   ],
   "source": [
    "type(a)"
   ]
  },
  {
   "cell_type": "code",
   "execution_count": 53,
   "id": "8a6917f6",
   "metadata": {},
   "outputs": [
    {
     "data": {
      "text/plain": [
       "set"
      ]
     },
     "execution_count": 53,
     "metadata": {},
     "output_type": "execute_result"
    }
   ],
   "source": [
    "b = set()\n",
    "type(b)"
   ]
  },
  {
   "cell_type": "code",
   "execution_count": 56,
   "id": "aa60de05",
   "metadata": {},
   "outputs": [
    {
     "name": "stdout",
     "output_type": "stream",
     "text": [
      "True\n",
      "2\n",
      "4\n",
      "8\n",
      "Mukesh\n"
     ]
    }
   ],
   "source": [
    "for i in a:print(i)"
   ]
  },
  {
   "cell_type": "code",
   "execution_count": 57,
   "id": "7352b800",
   "metadata": {},
   "outputs": [
    {
     "data": {
      "text/plain": [
       "{2, 4, '685484848.984584', 8, 'Mukesh', True}"
      ]
     },
     "execution_count": 57,
     "metadata": {},
     "output_type": "execute_result"
    }
   ],
   "source": [
    "a.add('685484848.984584')\n",
    "a"
   ]
  },
  {
   "cell_type": "code",
   "execution_count": 60,
   "id": "34dd97c0",
   "metadata": {},
   "outputs": [
    {
     "data": {
      "text/plain": [
       "{2, 4, '685484848.984584', 8, 'Damodar', 'Mukesh', 'Smriti', True}"
      ]
     },
     "execution_count": 60,
     "metadata": {},
     "output_type": "execute_result"
    }
   ],
   "source": [
    "b = {2, 'Damodar', 'Smriti'}\n",
    "a.update(b)\n",
    "a"
   ]
  },
  {
   "cell_type": "code",
   "execution_count": 62,
   "id": "7bd670d7",
   "metadata": {},
   "outputs": [
    {
     "data": {
      "text/plain": [
       "{2,\n",
       " 4,\n",
       " '685484848.984584',\n",
       " 8,\n",
       " 'Damodar',\n",
       " 'H',\n",
       " 'Mukesh',\n",
       " 'Smriti',\n",
       " True,\n",
       " 'e',\n",
       " 'l',\n",
       " 'o'}"
      ]
     },
     "execution_count": 62,
     "metadata": {},
     "output_type": "execute_result"
    }
   ],
   "source": [
    "c = 'H'\n",
    "a.update(c)\n",
    "a"
   ]
  },
  {
   "cell_type": "code",
   "execution_count": 65,
   "id": "620271ca",
   "metadata": {},
   "outputs": [
    {
     "data": {
      "text/plain": [
       "{8, True, 'mukesh'}"
      ]
     },
     "execution_count": 65,
     "metadata": {},
     "output_type": "execute_result"
    }
   ],
   "source": [
    "a ={8, True, 'mukesh'}\n",
    "\n",
    "\n",
    "a"
   ]
  },
  {
   "cell_type": "code",
   "execution_count": 66,
   "id": "9aea5589",
   "metadata": {},
   "outputs": [],
   "source": [
    "b = [5, 7, False]\n",
    "a.update(b)"
   ]
  },
  {
   "cell_type": "code",
   "execution_count": 67,
   "id": "52d78950",
   "metadata": {},
   "outputs": [
    {
     "data": {
      "text/plain": [
       "{5, 7, 8, False, True, 'mukesh'}"
      ]
     },
     "execution_count": 67,
     "metadata": {},
     "output_type": "execute_result"
    }
   ],
   "source": [
    "a"
   ]
  },
  {
   "cell_type": "code",
   "execution_count": 68,
   "id": "17e5fc80",
   "metadata": {},
   "outputs": [
    {
     "data": {
      "text/plain": [
       "{False, True, 5, 7, 8}"
      ]
     },
     "execution_count": 68,
     "metadata": {},
     "output_type": "execute_result"
    }
   ],
   "source": [
    "a.remove('mukesh')\n",
    "a"
   ]
  },
  {
   "cell_type": "code",
   "execution_count": 69,
   "id": "a59278d4",
   "metadata": {},
   "outputs": [
    {
     "data": {
      "text/plain": [
       "False"
      ]
     },
     "execution_count": 69,
     "metadata": {},
     "output_type": "execute_result"
    }
   ],
   "source": [
    "a.pop()"
   ]
  },
  {
   "cell_type": "code",
   "execution_count": 70,
   "id": "818cc5e1",
   "metadata": {},
   "outputs": [
    {
     "data": {
      "text/plain": [
       "{True, 5, 7, 8}"
      ]
     },
     "execution_count": 70,
     "metadata": {},
     "output_type": "execute_result"
    }
   ],
   "source": [
    "a"
   ]
  },
  {
   "cell_type": "code",
   "execution_count": 72,
   "id": "3eafcbd1",
   "metadata": {},
   "outputs": [],
   "source": [
    "a.clear()"
   ]
  },
  {
   "cell_type": "code",
   "execution_count": 73,
   "id": "764152ef",
   "metadata": {},
   "outputs": [
    {
     "data": {
      "text/plain": [
       "set()"
      ]
     },
     "execution_count": 73,
     "metadata": {},
     "output_type": "execute_result"
    }
   ],
   "source": [
    "a"
   ]
  },
  {
   "cell_type": "code",
   "execution_count": 74,
   "id": "f44e700e",
   "metadata": {},
   "outputs": [],
   "source": [
    "del a"
   ]
  },
  {
   "cell_type": "code",
   "execution_count": 75,
   "id": "5c7dccf3",
   "metadata": {},
   "outputs": [],
   "source": [
    "del b"
   ]
  },
  {
   "cell_type": "markdown",
   "id": "9a9aedfe",
   "metadata": {},
   "source": [
    "Union"
   ]
  },
  {
   "cell_type": "code",
   "execution_count": 76,
   "id": "9d648cd0",
   "metadata": {},
   "outputs": [
    {
     "name": "stdout",
     "output_type": "stream",
     "text": [
      "{2, 3, 5, 6, 7, 8, 9}\n"
     ]
    }
   ],
   "source": [
    "a = {2, 5, 7, 9}\n",
    "b = {3, 5, 6, 8}\n",
    "print( a | b)"
   ]
  },
  {
   "cell_type": "code",
   "execution_count": 77,
   "id": "eefeb81f",
   "metadata": {},
   "outputs": [
    {
     "data": {
      "text/plain": [
       "{2, 3, 5, 6, 7, 8, 9}"
      ]
     },
     "execution_count": 77,
     "metadata": {},
     "output_type": "execute_result"
    }
   ],
   "source": [
    "a.union(b)"
   ]
  },
  {
   "cell_type": "markdown",
   "id": "2ab46056",
   "metadata": {},
   "source": [
    "Set Intersection"
   ]
  },
  {
   "cell_type": "code",
   "execution_count": 79,
   "id": "cfd5fc23",
   "metadata": {},
   "outputs": [
    {
     "name": "stdout",
     "output_type": "stream",
     "text": [
      "{5}\n"
     ]
    }
   ],
   "source": [
    "print(a & b)"
   ]
  },
  {
   "cell_type": "code",
   "execution_count": 81,
   "id": "18a854c8",
   "metadata": {},
   "outputs": [
    {
     "data": {
      "text/plain": [
       "{5}"
      ]
     },
     "execution_count": 81,
     "metadata": {},
     "output_type": "execute_result"
    }
   ],
   "source": [
    "b.intersection(a)"
   ]
  },
  {
   "cell_type": "markdown",
   "id": "0a4c3d99",
   "metadata": {},
   "source": [
    "Set Difference"
   ]
  },
  {
   "cell_type": "code",
   "execution_count": null,
   "id": "89f7732d",
   "metadata": {},
   "outputs": [],
   "source": []
  }
 ],
 "metadata": {
  "kernelspec": {
   "display_name": "Python 3 (ipykernel)",
   "language": "python",
   "name": "python3"
  },
  "language_info": {
   "codemirror_mode": {
    "name": "ipython",
    "version": 3
   },
   "file_extension": ".py",
   "mimetype": "text/x-python",
   "name": "python",
   "nbconvert_exporter": "python",
   "pygments_lexer": "ipython3",
   "version": "3.10.11"
  }
 },
 "nbformat": 4,
 "nbformat_minor": 5
}
