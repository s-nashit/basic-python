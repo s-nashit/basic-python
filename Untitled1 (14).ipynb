{
 "cells": [
  {
   "cell_type": "code",
   "execution_count": 2,
   "id": "42d507c1",
   "metadata": {},
   "outputs": [
    {
     "name": "stdout",
     "output_type": "stream",
     "text": [
      "<class 'tuple'>\n"
     ]
    }
   ],
   "source": [
    "a = ('Delhi', 1, True)\n",
    "print(type(a))"
   ]
  },
  {
   "cell_type": "code",
   "execution_count": 3,
   "id": "3445bf14",
   "metadata": {},
   "outputs": [
    {
     "name": "stdout",
     "output_type": "stream",
     "text": [
      "(1, 8, 'Patna', 8, 'Delhi', 2)\n"
     ]
    }
   ],
   "source": [
    "a = (1, 8, 'Patna', 8, 'Delhi', 2)    #unordered, duplicate values allowed\n",
    "print(a)"
   ]
  },
  {
   "cell_type": "code",
   "execution_count": 22,
   "id": "28cf855f",
   "metadata": {},
   "outputs": [
    {
     "name": "stdout",
     "output_type": "stream",
     "text": [
      "(8, 'Delhi', 2)\n",
      "Delhi\n",
      "2\n",
      "(1, 8)\n"
     ]
    }
   ],
   "source": [
    "a = (1, 8, 'Patna', 8, 'Delhi', 2)\n",
    "print(a[3:])\n",
    "print(a[4])\n",
    "print(a[-1])\n",
    "print(a[0:2])"
   ]
  },
  {
   "cell_type": "code",
   "execution_count": 9,
   "id": "c8b57153",
   "metadata": {},
   "outputs": [
    {
     "name": "stdout",
     "output_type": "stream",
     "text": [
      "(1, 8, 'Patna', 8, 'Delhi', 2, 1, 8, 'Patna', 8, 'Delhi', 2, 1, 8, 'Patna', 8, 'Delhi', 2)\n",
      "(1, 8, 'Patna', 8, 'Delhi', 2, 1, 8, 'Patna', 8, 'Delhi', 2)\n"
     ]
    }
   ],
   "source": [
    "a = (1, 8, 'Patna', 8, 'Delhi', 2)\n",
    "print(a+a+a)\n",
    "print(a*2)"
   ]
  },
  {
   "cell_type": "code",
   "execution_count": 13,
   "id": "76db6f3c",
   "metadata": {},
   "outputs": [
    {
     "data": {
      "text/plain": [
       "dict"
      ]
     },
     "execution_count": 13,
     "metadata": {},
     "output_type": "execute_result"
    }
   ],
   "source": [
    "a = {1:\"Jyoti\", 2:\"Neha\", 3:\"Pallavi\"}\n",
    "type(a)"
   ]
  },
  {
   "cell_type": "code",
   "execution_count": 11,
   "id": "ac87dd3a",
   "metadata": {},
   "outputs": [
    {
     "data": {
      "text/plain": [
       "dict"
      ]
     },
     "execution_count": 11,
     "metadata": {},
     "output_type": "execute_result"
    }
   ],
   "source": [
    "a = {\"Country\":\"Capital\", \"India\":\"Delhi\", \"Sri Lanka\":\"Colombo\", \"UK\":\"London\", \"China\":\"Beijing\"}\n",
    "type(a)"
   ]
  },
  {
   "cell_type": "code",
   "execution_count": 12,
   "id": "be111841",
   "metadata": {},
   "outputs": [
    {
     "data": {
      "text/plain": [
       "dict"
      ]
     },
     "execution_count": 12,
     "metadata": {},
     "output_type": "execute_result"
    }
   ],
   "source": [
    "a = {\"Subject\":\"Marks\", \"English\":62, \"Maths\":65}\n",
    "type(a)"
   ]
  },
  {
   "cell_type": "code",
   "execution_count": 18,
   "id": "b59cf13b",
   "metadata": {},
   "outputs": [
    {
     "name": "stdout",
     "output_type": "stream",
     "text": [
      "dict_keys(['Country', 'India', 'Sri Lanka', 'UK', 'China'])\n",
      "dict_values(['Capital', 'Delhi', 'Colombo', 'London', 'Beijing'])\n",
      "{'Country': 'Capital', 'India': 'Delhi', 'Sri Lanka': 'Colombo', 'UK': 'London', 'China': 'Beijing'}\n",
      "Beijing\n"
     ]
    }
   ],
   "source": [
    "a = {\"Country\":\"Capital\", \"India\":\"Delhi\", \"Sri Lanka\":\"Colombo\", \"UK\":\"London\", \"China\":\"Beijing\"}\n",
    "print(a.keys())\n",
    "print(a.values())\n",
    "print(a)\n",
    "print(a[\"China\"])"
   ]
  },
  {
   "cell_type": "code",
   "execution_count": 23,
   "id": "f84cd807",
   "metadata": {},
   "outputs": [
    {
     "name": "stdout",
     "output_type": "stream",
     "text": [
      "2\n"
     ]
    }
   ],
   "source": [
    "a = (1, 8, 'Patna', 8, 'Delhi', 2)\n",
    "print(a[-1])"
   ]
  },
  {
   "cell_type": "code",
   "execution_count": 24,
   "id": "2d5654f1",
   "metadata": {},
   "outputs": [
    {
     "name": "stdout",
     "output_type": "stream",
     "text": [
      "Delhi\n"
     ]
    }
   ],
   "source": [
    "a = (1, 8, 'Patna', 8, 'Delhi', 2)\n",
    "print(a[-2])"
   ]
  },
  {
   "cell_type": "code",
   "execution_count": 25,
   "id": "3b5448fe",
   "metadata": {},
   "outputs": [
    {
     "name": "stdout",
     "output_type": "stream",
     "text": [
      "8\n"
     ]
    }
   ],
   "source": [
    "a = (1, 8, 'Patna', 8, 'Delhi', 2)\n",
    "print(a[-3])"
   ]
  },
  {
   "cell_type": "code",
   "execution_count": 27,
   "id": "d1337443",
   "metadata": {},
   "outputs": [
    {
     "data": {
      "text/plain": [
       "4"
      ]
     },
     "execution_count": 27,
     "metadata": {},
     "output_type": "execute_result"
    }
   ],
   "source": [
    "a = (1, 8, 'Patna', 8)\n",
    "len(a)"
   ]
  },
  {
   "cell_type": "code",
   "execution_count": 33,
   "id": "7c2c4b22",
   "metadata": {},
   "outputs": [
    {
     "name": "stdout",
     "output_type": "stream",
     "text": [
      "{8, 1, 'Patna', 2}\n"
     ]
    }
   ],
   "source": [
    "a = {1, 8, 'Patna', 8}\n",
    "a.add(2)\n",
    "print(a)"
   ]
  },
  {
   "cell_type": "code",
   "execution_count": 34,
   "id": "c016919a",
   "metadata": {},
   "outputs": [
    {
     "name": "stdout",
     "output_type": "stream",
     "text": [
      "{8, 1}\n"
     ]
    }
   ],
   "source": [
    "a = {1, 8, 'Patna', 8}\n",
    "a.remove('Patna')\n",
    "print(a)"
   ]
  },
  {
   "cell_type": "code",
   "execution_count": 3,
   "id": "a25cc961",
   "metadata": {},
   "outputs": [
    {
     "data": {
      "image/png": "[encoded data removed]",
      "text/plain": [
       "<Figure size 432x288 with 1 Axes>"
      ]
     },
     "metadata": {
      "needs_background": "light"
     },
     "output_type": "display_data"
    }
   ],
   "source": [
    "import matplotlib\n",
    "import matplotlib.pyplot as plt\n",
    "\n",
    "x = [2, 7, 4, 9]\n",
    "y = [1, 8, 6, 7]\n",
    "plt.plot(x, y)\n",
    "\n",
    "plt.show()"
   ]
  },
  {
   "cell_type": "code",
   "execution_count": 8,
   "id": "659e8342",
   "metadata": {},
   "outputs": [
    {
     "name": "stderr",
     "output_type": "stream",
     "text": [
      "No handles with labels found to put in legend.\n"
     ]
    },
    {
     "data": {
      "image/png": "[encoded data removed]",
      "text/plain": [
       "<Figure size 432x288 with 1 Axes>"
      ]
     },
     "metadata": {
      "needs_background": "light"
     },
     "output_type": "display_data"
    }
   ],
   "source": [
    "import matplotlib\n",
    "import matplotlib.pyplot as plt\n",
    "\n",
    "x = [2016, 2017, 2018, 2019]\n",
    "y = [1, 8, 6, 7]\n",
    "plt.bar(x, y)\n",
    "plt.legend()\n",
    "plt.show()"
   ]
  },
  {
   "cell_type": "code",
   "execution_count": 6,
   "id": "8a9c9f46",
   "metadata": {},
   "outputs": [
    {
     "name": "stderr",
     "output_type": "stream",
     "text": [
      "No handles with labels found to put in legend.\n"
     ]
    },
    {
     "data": {
      "image/png": "[encoded data removed]",
      "text/plain": [
       "<Figure size 432x288 with 1 Axes>"
      ]
     },
     "metadata": {
      "needs_background": "light"
     },
     "output_type": "display_data"
    }
   ],
   "source": [
    "import matplotlib\n",
    "import matplotlib.pyplot as plt\n",
    "\n",
    "x = [2, 7, 4, 9]\n",
    "y = [1, 8, 3, 6]\n",
    "plt.hist(y)\n",
    "plt.legend()\n",
    "plt.show()"
   ]
  },
  {
   "cell_type": "code",
   "execution_count": 5,
   "id": "2e4a99d3",
   "metadata": {},
   "outputs": [
    {
     "data": {
      "image/png": "[encoded data removed]",
      "text/plain": [
       "<Figure size 432x288 with 1 Axes>"
      ]
     },
     "metadata": {
      "needs_background": "light"
     },
     "output_type": "display_data"
    }
   ],
   "source": [
    "import matplotlib\n",
    "import matplotlib.pyplot as plt\n",
    "\n",
    "x = [2, 7, 4, 9]\n",
    "y = [1, 8, 3, 6]\n",
    "plt.scatter(x, y)    #2D Graph\n",
    "\n",
    "plt.show()"
   ]
  },
  {
   "cell_type": "code",
   "execution_count": null,
   "id": "f9679210",
   "metadata": {},
   "outputs": [],
   "source": []
  }
 ],
 "metadata": {
  "kernelspec": {
   "display_name": "Python 3 (ipykernel)",
   "language": "python",
   "name": "python3"
  },
  "language_info": {
   "codemirror_mode": {
    "name": "ipython",
    "version": 3
   },
   "file_extension": ".py",
   "mimetype": "text/x-python",
   "name": "python",
   "nbconvert_exporter": "python",
   "pygments_lexer": "ipython3",
   "version": "3.9.5"
  }
 },
 "nbformat": 4,
 "nbformat_minor": 5
}
