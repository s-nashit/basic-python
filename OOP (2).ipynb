{
 "cells": [
  {
   "cell_type": "code",
   "execution_count": 1,
   "id": "a78c9ee8",
   "metadata": {},
   "outputs": [],
   "source": [
    "#this is to create a new Class\n",
    "class Students:\n",
    "    pass"
   ]
  },
  {
   "cell_type": "code",
   "execution_count": 2,
   "id": "b6bd03e0",
   "metadata": {},
   "outputs": [],
   "source": [
    "#this is to create objects\n",
    "a = Students()\n",
    "b = Students()\n",
    "c = Students()"
   ]
  },
  {
   "cell_type": "code",
   "execution_count": 6,
   "id": "fb405e1d",
   "metadata": {},
   "outputs": [],
   "source": [
    "a.name = 'Hanuman'\n",
    "a.phone = 9876543210\n",
    "a.age = 19"
   ]
  },
  {
   "cell_type": "code",
   "execution_count": 7,
   "id": "3f4be989",
   "metadata": {},
   "outputs": [],
   "source": [
    "b.name = 'Mukesh'\n",
    "b.phone = 9876553210\n",
    "b.age = 18"
   ]
  },
  {
   "cell_type": "code",
   "execution_count": 8,
   "id": "6c888c37",
   "metadata": {},
   "outputs": [
    {
     "name": "stdout",
     "output_type": "stream",
     "text": [
      "19\n"
     ]
    }
   ],
   "source": [
    "print(a.age)"
   ]
  },
  {
   "cell_type": "code",
   "execution_count": 76,
   "id": "81259a89",
   "metadata": {},
   "outputs": [],
   "source": [
    "class ADIT:\n",
    "    \n",
    "    def __init__(self, name, age, location):\n",
    "        self.name = name\n",
    "        self.age = age\n",
    "        self.location = location\n",
    "        self.stipend = 3000\n",
    "        self.subject = ['HTML', 'css', 'php']\n",
    "        self.email = name+'.'+location+'@gmail.com'\n",
    "        self.tax = 0.1*3000\n",
    "        \n",
    "    def abc(self):   #Inhertience\n",
    "        return '{} {}'.format(self.name, self.age)\n",
    "    \n",
    "    def increment(self):\n",
    "        self.stipend = int(self.stipend *0.14 + self.stipend)"
   ]
  },
  {
   "cell_type": "code",
   "execution_count": 77,
   "id": "1ecc8638",
   "metadata": {},
   "outputs": [],
   "source": [
    "a1 = ADIT('AMbika', 18, 'Allahabad')\n",
    "a2 = ADIT('Anjali', 19, 'Allahabad')\n",
    "a3 = ADIT('Sakshi', 19, 'Allahabad')\n",
    "a4 = ADIT('Vinod', 19, 'Kanpur')\n",
    "a5 = ADIT('Sonali', 19, 'Kanpur')\n",
    "a6 = ADIT('Nirmal', 18, 'Dehradun')"
   ]
  },
  {
   "cell_type": "code",
   "execution_count": 78,
   "id": "94f3b6ed",
   "metadata": {},
   "outputs": [
    {
     "data": {
      "text/plain": [
       "'Sakshi 19'"
      ]
     },
     "execution_count": 78,
     "metadata": {},
     "output_type": "execute_result"
    }
   ],
   "source": [
    "ADIT.abc(a3)"
   ]
  },
  {
   "cell_type": "code",
   "execution_count": 79,
   "id": "ba95c5eb",
   "metadata": {},
   "outputs": [
    {
     "data": {
      "text/plain": [
       "3000"
      ]
     },
     "execution_count": 79,
     "metadata": {},
     "output_type": "execute_result"
    }
   ],
   "source": [
    "a1.stipend"
   ]
  },
  {
   "cell_type": "code",
   "execution_count": null,
   "id": "b76c7037",
   "metadata": {},
   "outputs": [],
   "source": []
  },
  {
   "cell_type": "code",
   "execution_count": 51,
   "id": "2470fdb0",
   "metadata": {},
   "outputs": [
    {
     "name": "stdout",
     "output_type": "stream",
     "text": [
      "AMbika AMbika.Allahabad@gmail.com 3000\n"
     ]
    }
   ],
   "source": [
    "print('{} {} {}'.format(a1.name, a1.email, a1.stipend))"
   ]
  },
  {
   "cell_type": "code",
   "execution_count": 26,
   "id": "b1f897c5",
   "metadata": {},
   "outputs": [
    {
     "data": {
      "text/plain": [
       "'Dehradun'"
      ]
     },
     "execution_count": 26,
     "metadata": {},
     "output_type": "execute_result"
    }
   ],
   "source": [
    "a6.location"
   ]
  },
  {
   "cell_type": "code",
   "execution_count": 27,
   "id": "5944ada1",
   "metadata": {},
   "outputs": [
    {
     "data": {
      "text/plain": [
       "19"
      ]
     },
     "execution_count": 27,
     "metadata": {},
     "output_type": "execute_result"
    }
   ],
   "source": [
    "a4.age"
   ]
  },
  {
   "cell_type": "code",
   "execution_count": 28,
   "id": "441bcce8",
   "metadata": {},
   "outputs": [
    {
     "data": {
      "text/plain": [
       "3000"
      ]
     },
     "execution_count": 28,
     "metadata": {},
     "output_type": "execute_result"
    }
   ],
   "source": [
    "a2.stipend"
   ]
  },
  {
   "cell_type": "code",
   "execution_count": 31,
   "id": "c507a2ab",
   "metadata": {},
   "outputs": [
    {
     "data": {
      "text/plain": [
       "'css'"
      ]
     },
     "execution_count": 31,
     "metadata": {},
     "output_type": "execute_result"
    }
   ],
   "source": [
    "a1.subject[1]"
   ]
  },
  {
   "cell_type": "code",
   "execution_count": 35,
   "id": "611a58b0",
   "metadata": {},
   "outputs": [
    {
     "data": {
      "text/plain": [
       "'AMbika.Allahabad@gmail.com'"
      ]
     },
     "execution_count": 35,
     "metadata": {},
     "output_type": "execute_result"
    }
   ],
   "source": [
    "a1.email"
   ]
  },
  {
   "cell_type": "code",
   "execution_count": 36,
   "id": "0f02defd",
   "metadata": {},
   "outputs": [
    {
     "data": {
      "text/plain": [
       "'Anjali.Allahabad@gmail.com'"
      ]
     },
     "execution_count": 36,
     "metadata": {},
     "output_type": "execute_result"
    }
   ],
   "source": [
    "a2.email"
   ]
  },
  {
   "cell_type": "code",
   "execution_count": 37,
   "id": "5a934352",
   "metadata": {},
   "outputs": [
    {
     "data": {
      "text/plain": [
       "'Sakshi.Allahabad@gmail.com'"
      ]
     },
     "execution_count": 37,
     "metadata": {},
     "output_type": "execute_result"
    }
   ],
   "source": [
    "a3.email"
   ]
  },
  {
   "cell_type": "code",
   "execution_count": 38,
   "id": "cf7d2e7e",
   "metadata": {},
   "outputs": [
    {
     "data": {
      "text/plain": [
       "'Vinod.Kanpur@gmail.com'"
      ]
     },
     "execution_count": 38,
     "metadata": {},
     "output_type": "execute_result"
    }
   ],
   "source": [
    "a4.email"
   ]
  },
  {
   "cell_type": "code",
   "execution_count": 93,
   "id": "7722abfa",
   "metadata": {},
   "outputs": [],
   "source": [
    "class Patna:\n",
    "    def __init__(self, name, Designation, Salary):\n",
    "        self.name = name\n",
    "        self.post = Designation\n",
    "        self.pay = Salary\n",
    "        self.tax = Salary * 0.12\n",
    "    def increment(self): #method\n",
    "        self.pay = int(self.pay*0.14 + self.pay)"
   ]
  },
  {
   "cell_type": "code",
   "execution_count": 94,
   "id": "f25de8a2",
   "metadata": {},
   "outputs": [],
   "source": [
    "p1 = Patna('Rahul', 'HR', 52360)\n",
    "p2 = Patna('Anil', 'Operatuions', 39852)"
   ]
  },
  {
   "cell_type": "code",
   "execution_count": 89,
   "id": "cb4092f8",
   "metadata": {},
   "outputs": [
    {
     "data": {
      "text/plain": [
       "4782.24"
      ]
     },
     "execution_count": 89,
     "metadata": {},
     "output_type": "execute_result"
    }
   ],
   "source": [
    "p2.tax"
   ]
  },
  {
   "cell_type": "code",
   "execution_count": 90,
   "id": "c587d290",
   "metadata": {},
   "outputs": [
    {
     "data": {
      "text/plain": [
       "39852"
      ]
     },
     "execution_count": 90,
     "metadata": {},
     "output_type": "execute_result"
    }
   ],
   "source": [
    "p2.pay"
   ]
  },
  {
   "cell_type": "code",
   "execution_count": 91,
   "id": "2283d14f",
   "metadata": {},
   "outputs": [],
   "source": [
    "p2.increment()"
   ]
  },
  {
   "cell_type": "code",
   "execution_count": 92,
   "id": "85b264d5",
   "metadata": {},
   "outputs": [
    {
     "data": {
      "text/plain": [
       "45431"
      ]
     },
     "execution_count": 92,
     "metadata": {},
     "output_type": "execute_result"
    }
   ],
   "source": [
    "p2.pay"
   ]
  },
  {
   "cell_type": "code",
   "execution_count": 96,
   "id": "f63c8f84",
   "metadata": {},
   "outputs": [
    {
     "name": "stdout",
     "output_type": "stream",
     "text": [
      "AMbika\n",
      "Anil\n"
     ]
    }
   ],
   "source": [
    "for x in (a1, p2):print(x.name)"
   ]
  },
  {
   "cell_type": "code",
   "execution_count": null,
   "id": "fb3d0a98",
   "metadata": {},
   "outputs": [],
   "source": []
  }
 ],
 "metadata": {
  "kernelspec": {
   "display_name": "Python 3 (ipykernel)",
   "language": "python",
   "name": "python3"
  },
  "language_info": {
   "codemirror_mode": {
    "name": "ipython",
    "version": 3
   },
   "file_extension": ".py",
   "mimetype": "text/x-python",
   "name": "python",
   "nbconvert_exporter": "python",
   "pygments_lexer": "ipython3",
   "version": "3.10.11"
  }
 },
 "nbformat": 4,
 "nbformat_minor": 5
}
