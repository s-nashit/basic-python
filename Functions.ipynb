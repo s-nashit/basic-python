{
 "cells": [
  {
   "cell_type": "code",
   "execution_count": 1,
   "id": "4e98d75a",
   "metadata": {},
   "outputs": [],
   "source": [
    "def my_function():              #function - block of code - reusable, particular action/function\n",
    "    print(\"Python is great!\")   # print(),"
   ]
  },
  {
   "cell_type": "code",
   "execution_count": 2,
   "id": "456e3053",
   "metadata": {},
   "outputs": [
    {
     "data": {
      "text/plain": [
       "18"
      ]
     },
     "execution_count": 2,
     "metadata": {},
     "output_type": "execute_result"
    }
   ],
   "source": [
    "9*2"
   ]
  },
  {
   "cell_type": "code",
   "execution_count": 3,
   "id": "80d4f577",
   "metadata": {},
   "outputs": [
    {
     "data": {
      "text/plain": [
       "8"
      ]
     },
     "execution_count": 3,
     "metadata": {},
     "output_type": "execute_result"
    }
   ],
   "source": [
    "5+3"
   ]
  },
  {
   "cell_type": "code",
   "execution_count": 4,
   "id": "043d0063",
   "metadata": {},
   "outputs": [
    {
     "name": "stdout",
     "output_type": "stream",
     "text": [
      "Python is great!\n"
     ]
    }
   ],
   "source": [
    "my_function()"
   ]
  },
  {
   "cell_type": "code",
   "execution_count": 5,
   "id": "1816437d",
   "metadata": {},
   "outputs": [
    {
     "name": "stdout",
     "output_type": "stream",
     "text": [
      "Prateek, Edunet\n",
      "Nashit, Edunet\n",
      "Shabaz, Edunet\n"
     ]
    }
   ],
   "source": [
    "def my_function(fn):\n",
    "    print(fn + \"Edunet\")\n",
    "    \n",
    "my_function(\"Prateek, \")\n",
    "my_function(\"Nashit, \")\n",
    "my_function(\"Shabaz, \")"
   ]
  },
  {
   "cell_type": "code",
   "execution_count": 6,
   "id": "ecd19ff2",
   "metadata": {},
   "outputs": [
    {
     "name": "stdout",
     "output_type": "stream",
     "text": [
      "Abhishek, Edunet\n"
     ]
    }
   ],
   "source": [
    "my_function(\"Abhishek, \")"
   ]
  },
  {
   "cell_type": "code",
   "execution_count": 8,
   "id": "db07833a",
   "metadata": {},
   "outputs": [
    {
     "name": "stdout",
     "output_type": "stream",
     "text": [
      "Abhishek Raman\n"
     ]
    }
   ],
   "source": [
    "def my_function(fn, ln):\n",
    "    print(fn+ \" \" + ln)\n",
    "    \n",
    "my_function(\"Abhishek\", \"Raman\")\n"
   ]
  },
  {
   "cell_type": "code",
   "execution_count": 9,
   "id": "90f8b4d1",
   "metadata": {},
   "outputs": [
    {
     "name": "stdout",
     "output_type": "stream",
     "text": [
      "Nashit Humam\n"
     ]
    }
   ],
   "source": [
    "my_function(\"Nashit\", \"Humam\")"
   ]
  },
  {
   "cell_type": "code",
   "execution_count": 11,
   "id": "df6683e9",
   "metadata": {},
   "outputs": [
    {
     "name": "stdout",
     "output_type": "stream",
     "text": [
      "The Prime Minister of India Narendra Modi\n"
     ]
    }
   ],
   "source": [
    "def my_function(*name):\n",
    "    print(\"The Prime Minister of India \" + name[2])\n",
    "    \n",
    "my_function(\"Pt Nehru\", \"Manmohan Singh\", \"Narendra Modi\", \"Rajiv Gandhi\")"
   ]
  },
  {
   "cell_type": "code",
   "execution_count": null,
   "id": "e65d7731",
   "metadata": {},
   "outputs": [],
   "source": []
  }
 ],
 "metadata": {
  "kernelspec": {
   "display_name": "Python 3",
   "language": "python",
   "name": "python3"
  },
  "language_info": {
   "codemirror_mode": {
    "name": "ipython",
    "version": 3
   },
   "file_extension": ".py",
   "mimetype": "text/x-python",
   "name": "python",
   "nbconvert_exporter": "python",
   "pygments_lexer": "ipython3",
   "version": "3.8.8"
  }
 },
 "nbformat": 4,
 "nbformat_minor": 5
}
